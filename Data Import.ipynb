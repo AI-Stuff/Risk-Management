{
 "cells": [
  {
   "cell_type": "code",
   "execution_count": 2,
   "metadata": {},
   "outputs": [],
   "source": [
    "#conda install pandas-datareader\n",
    "import pandas as pd\n",
    "pd.core.common.is_list_like = pd.api.types.is_list_like\n",
    "import datetime as dt\n",
    "from pandas_datareader.stooq import StooqDailyReader"
   ]
  },
  {
   "cell_type": "code",
   "execution_count": 40,
   "metadata": {},
   "outputs": [],
   "source": [
    "start_date = dt.date(2009, 1, 7)\n",
    "end_date = dt.date(2012, 1, 7)"
   ]
  },
  {
   "cell_type": "code",
   "execution_count": 19,
   "metadata": {},
   "outputs": [],
   "source": [
    "HSBC = StooqDailyReader(symbols='HSBA.UK', start=start_date, end=end_date).read()\n",
    "HSBC = HSBC.sort_index()\n",
    "HSBC[start_date:end_date]['Close'].to_csv('HSBC.csv', header=['Close'])"
   ]
  },
  {
   "cell_type": "code",
   "execution_count": 62,
   "metadata": {},
   "outputs": [],
   "source": [
    "tickers = ['HSBA.UK', 'BARC.UK', 'LLOY.UK', 'RBS.UK', 'BP.UK', 'RDSA.UK', 'RIO.UK', 'AAL.UK']"
   ]
  },
  {
   "cell_type": "code",
   "execution_count": 63,
   "metadata": {},
   "outputs": [],
   "source": [
    "for ticker in tickers:\n",
    "    df = StooqDailyReader(symbols=ticker, start=start_date, end=end_date).read()\n",
    "    df = df.sort_index()\n",
    "    df[start_date:end_date]['Close'].to_csv(ticker + '.csv', header=['Close'])"
   ]
  },
  {
   "cell_type": "code",
   "execution_count": null,
   "metadata": {},
   "outputs": [],
   "source": []
  }
 ],
 "metadata": {
  "kernelspec": {
   "display_name": "Python 3",
   "language": "python",
   "name": "python3"
  },
  "language_info": {
   "codemirror_mode": {
    "name": "ipython",
    "version": 3
   },
   "file_extension": ".py",
   "mimetype": "text/x-python",
   "name": "python",
   "nbconvert_exporter": "python",
   "pygments_lexer": "ipython3",
   "version": "3.6.5"
  }
 },
 "nbformat": 4,
 "nbformat_minor": 2
}
