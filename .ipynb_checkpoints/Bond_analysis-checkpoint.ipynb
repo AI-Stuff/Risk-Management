{
 "cells": [
  {
   "cell_type": "code",
   "execution_count": 171,
   "metadata": {
    "collapsed": true
   },
   "outputs": [],
   "source": [
    "import pandas as pd\n",
    "import numpy as np\n",
    "import matplotlib.pyplot as plt\n",
    "%matplotlib inline\n",
    "import datetime as dt\n",
    "import scipy\n",
    "import math\n",
    "\n",
    "plt.style.use('ggplot')\n",
    "plt.rcParams['figure.figsize'] = (15.0, 8.0)"
   ]
  },
  {
   "cell_type": "code",
   "execution_count": 44,
   "metadata": {},
   "outputs": [],
   "source": [
    "rates = pd.read_csv('rates_clean.csv', parse_dates=['Date'])"
   ]
  },
  {
   "cell_type": "code",
   "execution_count": 45,
   "metadata": {},
   "outputs": [
    {
     "data": {
      "text/html": [
       "<div>\n",
       "<style scoped>\n",
       "    .dataframe tbody tr th:only-of-type {\n",
       "        vertical-align: middle;\n",
       "    }\n",
       "\n",
       "    .dataframe tbody tr th {\n",
       "        vertical-align: top;\n",
       "    }\n",
       "\n",
       "    .dataframe thead th {\n",
       "        text-align: right;\n",
       "    }\n",
       "</style>\n",
       "<table border=\"1\" class=\"dataframe\">\n",
       "  <thead>\n",
       "    <tr style=\"text-align: right;\">\n",
       "      <th></th>\n",
       "      <th>Date</th>\n",
       "      <th>0.50</th>\n",
       "      <th>1.00</th>\n",
       "      <th>1.50</th>\n",
       "      <th>2.00</th>\n",
       "      <th>2.50</th>\n",
       "      <th>3.00</th>\n",
       "      <th>3.50</th>\n",
       "      <th>4.00</th>\n",
       "      <th>4.50</th>\n",
       "      <th>...</th>\n",
       "      <th>13.50</th>\n",
       "      <th>14.00</th>\n",
       "      <th>14.50</th>\n",
       "      <th>15.00</th>\n",
       "      <th>15.50</th>\n",
       "      <th>16.00</th>\n",
       "      <th>16.50</th>\n",
       "      <th>17.00</th>\n",
       "      <th>17.50</th>\n",
       "      <th>18.00</th>\n",
       "    </tr>\n",
       "  </thead>\n",
       "  <tbody>\n",
       "    <tr>\n",
       "      <th>0</th>\n",
       "      <td>2009-07-01</td>\n",
       "      <td>9.18</td>\n",
       "      <td>10.56</td>\n",
       "      <td>11.135</td>\n",
       "      <td>11.71</td>\n",
       "      <td>11.815</td>\n",
       "      <td>11.92</td>\n",
       "      <td>11.8825</td>\n",
       "      <td>11.845</td>\n",
       "      <td>11.8075</td>\n",
       "      <td>...</td>\n",
       "      <td>11.623</td>\n",
       "      <td>11.622</td>\n",
       "      <td>11.621</td>\n",
       "      <td>11.62</td>\n",
       "      <td>11.62</td>\n",
       "      <td>11.62</td>\n",
       "      <td>11.62</td>\n",
       "      <td>11.62</td>\n",
       "      <td>11.62</td>\n",
       "      <td>11.62</td>\n",
       "    </tr>\n",
       "    <tr>\n",
       "      <th>1</th>\n",
       "      <td>2009-07-02</td>\n",
       "      <td>8.93</td>\n",
       "      <td>10.29</td>\n",
       "      <td>10.920</td>\n",
       "      <td>11.55</td>\n",
       "      <td>11.730</td>\n",
       "      <td>11.91</td>\n",
       "      <td>11.9075</td>\n",
       "      <td>11.905</td>\n",
       "      <td>11.9025</td>\n",
       "      <td>...</td>\n",
       "      <td>11.455</td>\n",
       "      <td>11.440</td>\n",
       "      <td>11.425</td>\n",
       "      <td>11.41</td>\n",
       "      <td>11.41</td>\n",
       "      <td>11.41</td>\n",
       "      <td>11.41</td>\n",
       "      <td>11.41</td>\n",
       "      <td>11.41</td>\n",
       "      <td>11.41</td>\n",
       "    </tr>\n",
       "    <tr>\n",
       "      <th>2</th>\n",
       "      <td>2009-07-03</td>\n",
       "      <td>8.91</td>\n",
       "      <td>10.33</td>\n",
       "      <td>11.005</td>\n",
       "      <td>11.68</td>\n",
       "      <td>11.845</td>\n",
       "      <td>12.01</td>\n",
       "      <td>11.9725</td>\n",
       "      <td>11.935</td>\n",
       "      <td>11.8975</td>\n",
       "      <td>...</td>\n",
       "      <td>11.411</td>\n",
       "      <td>11.404</td>\n",
       "      <td>11.397</td>\n",
       "      <td>11.39</td>\n",
       "      <td>11.39</td>\n",
       "      <td>11.39</td>\n",
       "      <td>11.39</td>\n",
       "      <td>11.39</td>\n",
       "      <td>11.39</td>\n",
       "      <td>11.39</td>\n",
       "    </tr>\n",
       "    <tr>\n",
       "      <th>3</th>\n",
       "      <td>2009-07-06</td>\n",
       "      <td>8.84</td>\n",
       "      <td>10.20</td>\n",
       "      <td>10.925</td>\n",
       "      <td>11.65</td>\n",
       "      <td>11.900</td>\n",
       "      <td>12.15</td>\n",
       "      <td>12.1725</td>\n",
       "      <td>12.195</td>\n",
       "      <td>12.2175</td>\n",
       "      <td>...</td>\n",
       "      <td>11.757</td>\n",
       "      <td>11.738</td>\n",
       "      <td>11.719</td>\n",
       "      <td>11.70</td>\n",
       "      <td>11.70</td>\n",
       "      <td>11.70</td>\n",
       "      <td>11.70</td>\n",
       "      <td>11.70</td>\n",
       "      <td>11.70</td>\n",
       "      <td>11.70</td>\n",
       "    </tr>\n",
       "    <tr>\n",
       "      <th>4</th>\n",
       "      <td>2009-07-07</td>\n",
       "      <td>9.09</td>\n",
       "      <td>10.45</td>\n",
       "      <td>11.035</td>\n",
       "      <td>11.62</td>\n",
       "      <td>11.765</td>\n",
       "      <td>11.91</td>\n",
       "      <td>11.8975</td>\n",
       "      <td>11.885</td>\n",
       "      <td>11.8725</td>\n",
       "      <td>...</td>\n",
       "      <td>11.614</td>\n",
       "      <td>11.606</td>\n",
       "      <td>11.598</td>\n",
       "      <td>11.59</td>\n",
       "      <td>11.59</td>\n",
       "      <td>11.59</td>\n",
       "      <td>11.59</td>\n",
       "      <td>11.59</td>\n",
       "      <td>11.59</td>\n",
       "      <td>11.59</td>\n",
       "    </tr>\n",
       "  </tbody>\n",
       "</table>\n",
       "<p>5 rows × 37 columns</p>\n",
       "</div>"
      ],
      "text/plain": [
       "        Date  0.50   1.00    1.50   2.00    2.50   3.00     3.50    4.00  \\\n",
       "0 2009-07-01  9.18  10.56  11.135  11.71  11.815  11.92  11.8825  11.845   \n",
       "1 2009-07-02  8.93  10.29  10.920  11.55  11.730  11.91  11.9075  11.905   \n",
       "2 2009-07-03  8.91  10.33  11.005  11.68  11.845  12.01  11.9725  11.935   \n",
       "3 2009-07-06  8.84  10.20  10.925  11.65  11.900  12.15  12.1725  12.195   \n",
       "4 2009-07-07  9.09  10.45  11.035  11.62  11.765  11.91  11.8975  11.885   \n",
       "\n",
       "      4.50  ...     13.50   14.00   14.50  15.00  15.50  16.00  16.50  17.00  \\\n",
       "0  11.8075  ...    11.623  11.622  11.621  11.62  11.62  11.62  11.62  11.62   \n",
       "1  11.9025  ...    11.455  11.440  11.425  11.41  11.41  11.41  11.41  11.41   \n",
       "2  11.8975  ...    11.411  11.404  11.397  11.39  11.39  11.39  11.39  11.39   \n",
       "3  12.2175  ...    11.757  11.738  11.719  11.70  11.70  11.70  11.70  11.70   \n",
       "4  11.8725  ...    11.614  11.606  11.598  11.59  11.59  11.59  11.59  11.59   \n",
       "\n",
       "   17.50  18.00  \n",
       "0  11.62  11.62  \n",
       "1  11.41  11.41  \n",
       "2  11.39  11.39  \n",
       "3  11.70  11.70  \n",
       "4  11.59  11.59  \n",
       "\n",
       "[5 rows x 37 columns]"
      ]
     },
     "execution_count": 45,
     "metadata": {},
     "output_type": "execute_result"
    }
   ],
   "source": [
    "rates.head()"
   ]
  },
  {
   "cell_type": "code",
   "execution_count": 46,
   "metadata": {},
   "outputs": [
    {
     "data": {
      "text/html": [
       "<div>\n",
       "<style scoped>\n",
       "    .dataframe tbody tr th:only-of-type {\n",
       "        vertical-align: middle;\n",
       "    }\n",
       "\n",
       "    .dataframe tbody tr th {\n",
       "        vertical-align: top;\n",
       "    }\n",
       "\n",
       "    .dataframe thead th {\n",
       "        text-align: right;\n",
       "    }\n",
       "</style>\n",
       "<table border=\"1\" class=\"dataframe\">\n",
       "  <thead>\n",
       "    <tr style=\"text-align: right;\">\n",
       "      <th></th>\n",
       "      <th>Date</th>\n",
       "      <th>0.50</th>\n",
       "      <th>1.00</th>\n",
       "      <th>1.50</th>\n",
       "      <th>2.00</th>\n",
       "      <th>2.50</th>\n",
       "      <th>3.00</th>\n",
       "      <th>3.50</th>\n",
       "      <th>4.00</th>\n",
       "      <th>4.50</th>\n",
       "      <th>...</th>\n",
       "      <th>13.50</th>\n",
       "      <th>14.00</th>\n",
       "      <th>14.50</th>\n",
       "      <th>15.00</th>\n",
       "      <th>15.50</th>\n",
       "      <th>16.00</th>\n",
       "      <th>16.50</th>\n",
       "      <th>17.00</th>\n",
       "      <th>17.50</th>\n",
       "      <th>18.00</th>\n",
       "    </tr>\n",
       "  </thead>\n",
       "  <tbody>\n",
       "    <tr>\n",
       "      <th>783</th>\n",
       "      <td>2012-06-27</td>\n",
       "      <td>6.77</td>\n",
       "      <td>7.00</td>\n",
       "      <td>7.150</td>\n",
       "      <td>7.30</td>\n",
       "      <td>7.465</td>\n",
       "      <td>7.63</td>\n",
       "      <td>7.7675</td>\n",
       "      <td>7.905</td>\n",
       "      <td>8.0425</td>\n",
       "      <td>...</td>\n",
       "      <td>9.068</td>\n",
       "      <td>9.092</td>\n",
       "      <td>9.116</td>\n",
       "      <td>9.14</td>\n",
       "      <td>9.14</td>\n",
       "      <td>9.14</td>\n",
       "      <td>9.14</td>\n",
       "      <td>9.14</td>\n",
       "      <td>9.14</td>\n",
       "      <td>9.14</td>\n",
       "    </tr>\n",
       "    <tr>\n",
       "      <th>784</th>\n",
       "      <td>2012-06-28</td>\n",
       "      <td>6.77</td>\n",
       "      <td>7.01</td>\n",
       "      <td>7.155</td>\n",
       "      <td>7.30</td>\n",
       "      <td>7.470</td>\n",
       "      <td>7.64</td>\n",
       "      <td>7.7800</td>\n",
       "      <td>7.920</td>\n",
       "      <td>8.0600</td>\n",
       "      <td>...</td>\n",
       "      <td>9.078</td>\n",
       "      <td>9.102</td>\n",
       "      <td>9.126</td>\n",
       "      <td>9.15</td>\n",
       "      <td>9.15</td>\n",
       "      <td>9.15</td>\n",
       "      <td>9.15</td>\n",
       "      <td>9.15</td>\n",
       "      <td>9.15</td>\n",
       "      <td>9.15</td>\n",
       "    </tr>\n",
       "    <tr>\n",
       "      <th>785</th>\n",
       "      <td>2012-06-29</td>\n",
       "      <td>6.59</td>\n",
       "      <td>6.89</td>\n",
       "      <td>7.085</td>\n",
       "      <td>7.28</td>\n",
       "      <td>7.440</td>\n",
       "      <td>7.60</td>\n",
       "      <td>7.7275</td>\n",
       "      <td>7.855</td>\n",
       "      <td>7.9825</td>\n",
       "      <td>...</td>\n",
       "      <td>8.986</td>\n",
       "      <td>9.014</td>\n",
       "      <td>9.042</td>\n",
       "      <td>9.07</td>\n",
       "      <td>9.07</td>\n",
       "      <td>9.07</td>\n",
       "      <td>9.07</td>\n",
       "      <td>9.07</td>\n",
       "      <td>9.07</td>\n",
       "      <td>9.07</td>\n",
       "    </tr>\n",
       "    <tr>\n",
       "      <th>786</th>\n",
       "      <td>2012-06-30</td>\n",
       "      <td>6.67</td>\n",
       "      <td>6.97</td>\n",
       "      <td>7.170</td>\n",
       "      <td>7.37</td>\n",
       "      <td>7.530</td>\n",
       "      <td>7.69</td>\n",
       "      <td>7.8150</td>\n",
       "      <td>7.940</td>\n",
       "      <td>8.0650</td>\n",
       "      <td>...</td>\n",
       "      <td>9.052</td>\n",
       "      <td>9.078</td>\n",
       "      <td>9.104</td>\n",
       "      <td>9.13</td>\n",
       "      <td>9.13</td>\n",
       "      <td>9.13</td>\n",
       "      <td>9.13</td>\n",
       "      <td>9.13</td>\n",
       "      <td>9.13</td>\n",
       "      <td>9.13</td>\n",
       "    </tr>\n",
       "    <tr>\n",
       "      <th>787</th>\n",
       "      <td>2012-07-01</td>\n",
       "      <td>6.67</td>\n",
       "      <td>6.97</td>\n",
       "      <td>7.170</td>\n",
       "      <td>7.37</td>\n",
       "      <td>7.530</td>\n",
       "      <td>7.69</td>\n",
       "      <td>7.8150</td>\n",
       "      <td>7.940</td>\n",
       "      <td>8.0650</td>\n",
       "      <td>...</td>\n",
       "      <td>9.052</td>\n",
       "      <td>9.078</td>\n",
       "      <td>9.104</td>\n",
       "      <td>9.13</td>\n",
       "      <td>9.13</td>\n",
       "      <td>9.13</td>\n",
       "      <td>9.13</td>\n",
       "      <td>9.13</td>\n",
       "      <td>9.13</td>\n",
       "      <td>9.13</td>\n",
       "    </tr>\n",
       "  </tbody>\n",
       "</table>\n",
       "<p>5 rows × 37 columns</p>\n",
       "</div>"
      ],
      "text/plain": [
       "          Date  0.50  1.00   1.50  2.00   2.50  3.00    3.50   4.00    4.50  \\\n",
       "783 2012-06-27  6.77  7.00  7.150  7.30  7.465  7.63  7.7675  7.905  8.0425   \n",
       "784 2012-06-28  6.77  7.01  7.155  7.30  7.470  7.64  7.7800  7.920  8.0600   \n",
       "785 2012-06-29  6.59  6.89  7.085  7.28  7.440  7.60  7.7275  7.855  7.9825   \n",
       "786 2012-06-30  6.67  6.97  7.170  7.37  7.530  7.69  7.8150  7.940  8.0650   \n",
       "787 2012-07-01  6.67  6.97  7.170  7.37  7.530  7.69  7.8150  7.940  8.0650   \n",
       "\n",
       "     ...    13.50  14.00  14.50  15.00  15.50  16.00  16.50  17.00  17.50  \\\n",
       "783  ...    9.068  9.092  9.116   9.14   9.14   9.14   9.14   9.14   9.14   \n",
       "784  ...    9.078  9.102  9.126   9.15   9.15   9.15   9.15   9.15   9.15   \n",
       "785  ...    8.986  9.014  9.042   9.07   9.07   9.07   9.07   9.07   9.07   \n",
       "786  ...    9.052  9.078  9.104   9.13   9.13   9.13   9.13   9.13   9.13   \n",
       "787  ...    9.052  9.078  9.104   9.13   9.13   9.13   9.13   9.13   9.13   \n",
       "\n",
       "     18.00  \n",
       "783   9.14  \n",
       "784   9.15  \n",
       "785   9.07  \n",
       "786   9.13  \n",
       "787   9.13  \n",
       "\n",
       "[5 rows x 37 columns]"
      ]
     },
     "execution_count": 46,
     "metadata": {},
     "output_type": "execute_result"
    }
   ],
   "source": [
    "rates.tail()"
   ]
  },
  {
   "cell_type": "code",
   "execution_count": 47,
   "metadata": {},
   "outputs": [
    {
     "data": {
      "text/html": [
       "<div>\n",
       "<style scoped>\n",
       "    .dataframe tbody tr th:only-of-type {\n",
       "        vertical-align: middle;\n",
       "    }\n",
       "\n",
       "    .dataframe tbody tr th {\n",
       "        vertical-align: top;\n",
       "    }\n",
       "\n",
       "    .dataframe thead th {\n",
       "        text-align: right;\n",
       "    }\n",
       "</style>\n",
       "<table border=\"1\" class=\"dataframe\">\n",
       "  <thead>\n",
       "    <tr style=\"text-align: right;\">\n",
       "      <th></th>\n",
       "      <th>Date</th>\n",
       "      <th>0.50</th>\n",
       "      <th>1.00</th>\n",
       "      <th>1.50</th>\n",
       "      <th>2.00</th>\n",
       "      <th>2.50</th>\n",
       "      <th>3.00</th>\n",
       "      <th>3.50</th>\n",
       "      <th>4.00</th>\n",
       "      <th>4.50</th>\n",
       "      <th>...</th>\n",
       "      <th>13.50</th>\n",
       "      <th>14.00</th>\n",
       "      <th>14.50</th>\n",
       "      <th>15.00</th>\n",
       "      <th>15.50</th>\n",
       "      <th>16.00</th>\n",
       "      <th>16.50</th>\n",
       "      <th>17.00</th>\n",
       "      <th>17.50</th>\n",
       "      <th>18.00</th>\n",
       "    </tr>\n",
       "  </thead>\n",
       "  <tbody>\n",
       "    <tr>\n",
       "      <th>496</th>\n",
       "      <td>2011-07-01</td>\n",
       "      <td>4.21</td>\n",
       "      <td>4.82</td>\n",
       "      <td>5.315</td>\n",
       "      <td>5.81</td>\n",
       "      <td>6.2</td>\n",
       "      <td>6.59</td>\n",
       "      <td>6.84</td>\n",
       "      <td>7.09</td>\n",
       "      <td>7.34</td>\n",
       "      <td>...</td>\n",
       "      <td>8.432</td>\n",
       "      <td>8.438</td>\n",
       "      <td>8.444</td>\n",
       "      <td>8.45</td>\n",
       "      <td>8.45</td>\n",
       "      <td>8.45</td>\n",
       "      <td>8.45</td>\n",
       "      <td>8.45</td>\n",
       "      <td>8.45</td>\n",
       "      <td>8.45</td>\n",
       "    </tr>\n",
       "  </tbody>\n",
       "</table>\n",
       "<p>1 rows × 37 columns</p>\n",
       "</div>"
      ],
      "text/plain": [
       "          Date  0.50  1.00   1.50  2.00  2.50  3.00  3.50  4.00  4.50  ...    \\\n",
       "496 2011-07-01  4.21  4.82  5.315  5.81   6.2  6.59  6.84  7.09  7.34  ...     \n",
       "\n",
       "     13.50  14.00  14.50  15.00  15.50  16.00  16.50  17.00  17.50  18.00  \n",
       "496  8.432  8.438  8.444   8.45   8.45   8.45   8.45   8.45   8.45   8.45  \n",
       "\n",
       "[1 rows x 37 columns]"
      ]
     },
     "execution_count": 47,
     "metadata": {},
     "output_type": "execute_result"
    }
   ],
   "source": [
    "rates[rates['Date'] == '2011-07-01']"
   ]
  },
  {
   "cell_type": "code",
   "execution_count": 48,
   "metadata": {
    "collapsed": true
   },
   "outputs": [],
   "source": [
    "# history_end_date = '2011-01-13' # задаем дату конца истории (включая последний день)\n",
    "\n",
    "today_date = '2011-07-01' # дата первого построения VaR\n",
    "\n",
    "# future_start_date = '2011-01-14' # задаем дату начала будущего"
   ]
  },
  {
   "cell_type": "code",
   "execution_count": 49,
   "metadata": {
    "collapsed": true
   },
   "outputs": [],
   "source": [
    "rates = rates.sort_values(by=['Date']) # сортируем ставки по датам"
   ]
  },
  {
   "cell_type": "code",
   "execution_count": 50,
   "metadata": {
    "collapsed": true
   },
   "outputs": [],
   "source": [
    "rates = rates.set_index('Date') # делаем даты индексами"
   ]
  },
  {
   "cell_type": "code",
   "execution_count": 51,
   "metadata": {},
   "outputs": [
    {
     "data": {
      "text/html": [
       "<div>\n",
       "<style scoped>\n",
       "    .dataframe tbody tr th:only-of-type {\n",
       "        vertical-align: middle;\n",
       "    }\n",
       "\n",
       "    .dataframe tbody tr th {\n",
       "        vertical-align: top;\n",
       "    }\n",
       "\n",
       "    .dataframe thead th {\n",
       "        text-align: right;\n",
       "    }\n",
       "</style>\n",
       "<table border=\"1\" class=\"dataframe\">\n",
       "  <thead>\n",
       "    <tr style=\"text-align: right;\">\n",
       "      <th></th>\n",
       "      <th>0.50</th>\n",
       "      <th>1.00</th>\n",
       "      <th>1.50</th>\n",
       "      <th>2.00</th>\n",
       "      <th>2.50</th>\n",
       "      <th>3.00</th>\n",
       "      <th>3.50</th>\n",
       "      <th>4.00</th>\n",
       "      <th>4.50</th>\n",
       "      <th>5.00</th>\n",
       "      <th>...</th>\n",
       "      <th>13.50</th>\n",
       "      <th>14.00</th>\n",
       "      <th>14.50</th>\n",
       "      <th>15.00</th>\n",
       "      <th>15.50</th>\n",
       "      <th>16.00</th>\n",
       "      <th>16.50</th>\n",
       "      <th>17.00</th>\n",
       "      <th>17.50</th>\n",
       "      <th>18.00</th>\n",
       "    </tr>\n",
       "    <tr>\n",
       "      <th>Date</th>\n",
       "      <th></th>\n",
       "      <th></th>\n",
       "      <th></th>\n",
       "      <th></th>\n",
       "      <th></th>\n",
       "      <th></th>\n",
       "      <th></th>\n",
       "      <th></th>\n",
       "      <th></th>\n",
       "      <th></th>\n",
       "      <th></th>\n",
       "      <th></th>\n",
       "      <th></th>\n",
       "      <th></th>\n",
       "      <th></th>\n",
       "      <th></th>\n",
       "      <th></th>\n",
       "      <th></th>\n",
       "      <th></th>\n",
       "      <th></th>\n",
       "      <th></th>\n",
       "    </tr>\n",
       "  </thead>\n",
       "  <tbody>\n",
       "    <tr>\n",
       "      <th>2009-07-01</th>\n",
       "      <td>9.18</td>\n",
       "      <td>10.56</td>\n",
       "      <td>11.135</td>\n",
       "      <td>11.71</td>\n",
       "      <td>11.815</td>\n",
       "      <td>11.92</td>\n",
       "      <td>11.8825</td>\n",
       "      <td>11.845</td>\n",
       "      <td>11.8075</td>\n",
       "      <td>11.77</td>\n",
       "      <td>...</td>\n",
       "      <td>11.623</td>\n",
       "      <td>11.622</td>\n",
       "      <td>11.621</td>\n",
       "      <td>11.62</td>\n",
       "      <td>11.62</td>\n",
       "      <td>11.62</td>\n",
       "      <td>11.62</td>\n",
       "      <td>11.62</td>\n",
       "      <td>11.62</td>\n",
       "      <td>11.62</td>\n",
       "    </tr>\n",
       "    <tr>\n",
       "      <th>2009-07-02</th>\n",
       "      <td>8.93</td>\n",
       "      <td>10.29</td>\n",
       "      <td>10.920</td>\n",
       "      <td>11.55</td>\n",
       "      <td>11.730</td>\n",
       "      <td>11.91</td>\n",
       "      <td>11.9075</td>\n",
       "      <td>11.905</td>\n",
       "      <td>11.9025</td>\n",
       "      <td>11.90</td>\n",
       "      <td>...</td>\n",
       "      <td>11.455</td>\n",
       "      <td>11.440</td>\n",
       "      <td>11.425</td>\n",
       "      <td>11.41</td>\n",
       "      <td>11.41</td>\n",
       "      <td>11.41</td>\n",
       "      <td>11.41</td>\n",
       "      <td>11.41</td>\n",
       "      <td>11.41</td>\n",
       "      <td>11.41</td>\n",
       "    </tr>\n",
       "    <tr>\n",
       "      <th>2009-07-03</th>\n",
       "      <td>8.91</td>\n",
       "      <td>10.33</td>\n",
       "      <td>11.005</td>\n",
       "      <td>11.68</td>\n",
       "      <td>11.845</td>\n",
       "      <td>12.01</td>\n",
       "      <td>11.9725</td>\n",
       "      <td>11.935</td>\n",
       "      <td>11.8975</td>\n",
       "      <td>11.86</td>\n",
       "      <td>...</td>\n",
       "      <td>11.411</td>\n",
       "      <td>11.404</td>\n",
       "      <td>11.397</td>\n",
       "      <td>11.39</td>\n",
       "      <td>11.39</td>\n",
       "      <td>11.39</td>\n",
       "      <td>11.39</td>\n",
       "      <td>11.39</td>\n",
       "      <td>11.39</td>\n",
       "      <td>11.39</td>\n",
       "    </tr>\n",
       "    <tr>\n",
       "      <th>2009-07-06</th>\n",
       "      <td>8.84</td>\n",
       "      <td>10.20</td>\n",
       "      <td>10.925</td>\n",
       "      <td>11.65</td>\n",
       "      <td>11.900</td>\n",
       "      <td>12.15</td>\n",
       "      <td>12.1725</td>\n",
       "      <td>12.195</td>\n",
       "      <td>12.2175</td>\n",
       "      <td>12.24</td>\n",
       "      <td>...</td>\n",
       "      <td>11.757</td>\n",
       "      <td>11.738</td>\n",
       "      <td>11.719</td>\n",
       "      <td>11.70</td>\n",
       "      <td>11.70</td>\n",
       "      <td>11.70</td>\n",
       "      <td>11.70</td>\n",
       "      <td>11.70</td>\n",
       "      <td>11.70</td>\n",
       "      <td>11.70</td>\n",
       "    </tr>\n",
       "    <tr>\n",
       "      <th>2009-07-07</th>\n",
       "      <td>9.09</td>\n",
       "      <td>10.45</td>\n",
       "      <td>11.035</td>\n",
       "      <td>11.62</td>\n",
       "      <td>11.765</td>\n",
       "      <td>11.91</td>\n",
       "      <td>11.8975</td>\n",
       "      <td>11.885</td>\n",
       "      <td>11.8725</td>\n",
       "      <td>11.86</td>\n",
       "      <td>...</td>\n",
       "      <td>11.614</td>\n",
       "      <td>11.606</td>\n",
       "      <td>11.598</td>\n",
       "      <td>11.59</td>\n",
       "      <td>11.59</td>\n",
       "      <td>11.59</td>\n",
       "      <td>11.59</td>\n",
       "      <td>11.59</td>\n",
       "      <td>11.59</td>\n",
       "      <td>11.59</td>\n",
       "    </tr>\n",
       "  </tbody>\n",
       "</table>\n",
       "<p>5 rows × 36 columns</p>\n",
       "</div>"
      ],
      "text/plain": [
       "            0.50   1.00    1.50   2.00    2.50   3.00     3.50    4.00  \\\n",
       "Date                                                                     \n",
       "2009-07-01  9.18  10.56  11.135  11.71  11.815  11.92  11.8825  11.845   \n",
       "2009-07-02  8.93  10.29  10.920  11.55  11.730  11.91  11.9075  11.905   \n",
       "2009-07-03  8.91  10.33  11.005  11.68  11.845  12.01  11.9725  11.935   \n",
       "2009-07-06  8.84  10.20  10.925  11.65  11.900  12.15  12.1725  12.195   \n",
       "2009-07-07  9.09  10.45  11.035  11.62  11.765  11.91  11.8975  11.885   \n",
       "\n",
       "               4.50   5.00  ...     13.50   14.00   14.50  15.00  15.50  \\\n",
       "Date                        ...                                           \n",
       "2009-07-01  11.8075  11.77  ...    11.623  11.622  11.621  11.62  11.62   \n",
       "2009-07-02  11.9025  11.90  ...    11.455  11.440  11.425  11.41  11.41   \n",
       "2009-07-03  11.8975  11.86  ...    11.411  11.404  11.397  11.39  11.39   \n",
       "2009-07-06  12.2175  12.24  ...    11.757  11.738  11.719  11.70  11.70   \n",
       "2009-07-07  11.8725  11.86  ...    11.614  11.606  11.598  11.59  11.59   \n",
       "\n",
       "            16.00  16.50  17.00  17.50  18.00  \n",
       "Date                                           \n",
       "2009-07-01  11.62  11.62  11.62  11.62  11.62  \n",
       "2009-07-02  11.41  11.41  11.41  11.41  11.41  \n",
       "2009-07-03  11.39  11.39  11.39  11.39  11.39  \n",
       "2009-07-06  11.70  11.70  11.70  11.70  11.70  \n",
       "2009-07-07  11.59  11.59  11.59  11.59  11.59  \n",
       "\n",
       "[5 rows x 36 columns]"
      ]
     },
     "execution_count": 51,
     "metadata": {},
     "output_type": "execute_result"
    }
   ],
   "source": [
    "rates_history = rates[rates.index <= today_date] # выделяем в отдельный массим исторические ставки...\n",
    "rates_history.head()"
   ]
  },
  {
   "cell_type": "code",
   "execution_count": 52,
   "metadata": {},
   "outputs": [
    {
     "data": {
      "text/html": [
       "<div>\n",
       "<style scoped>\n",
       "    .dataframe tbody tr th:only-of-type {\n",
       "        vertical-align: middle;\n",
       "    }\n",
       "\n",
       "    .dataframe tbody tr th {\n",
       "        vertical-align: top;\n",
       "    }\n",
       "\n",
       "    .dataframe thead th {\n",
       "        text-align: right;\n",
       "    }\n",
       "</style>\n",
       "<table border=\"1\" class=\"dataframe\">\n",
       "  <thead>\n",
       "    <tr style=\"text-align: right;\">\n",
       "      <th></th>\n",
       "      <th>0.50</th>\n",
       "      <th>1.00</th>\n",
       "      <th>1.50</th>\n",
       "      <th>2.00</th>\n",
       "      <th>2.50</th>\n",
       "      <th>3.00</th>\n",
       "      <th>3.50</th>\n",
       "      <th>4.00</th>\n",
       "      <th>4.50</th>\n",
       "      <th>5.00</th>\n",
       "      <th>...</th>\n",
       "      <th>13.50</th>\n",
       "      <th>14.00</th>\n",
       "      <th>14.50</th>\n",
       "      <th>15.00</th>\n",
       "      <th>15.50</th>\n",
       "      <th>16.00</th>\n",
       "      <th>16.50</th>\n",
       "      <th>17.00</th>\n",
       "      <th>17.50</th>\n",
       "      <th>18.00</th>\n",
       "    </tr>\n",
       "    <tr>\n",
       "      <th>Date</th>\n",
       "      <th></th>\n",
       "      <th></th>\n",
       "      <th></th>\n",
       "      <th></th>\n",
       "      <th></th>\n",
       "      <th></th>\n",
       "      <th></th>\n",
       "      <th></th>\n",
       "      <th></th>\n",
       "      <th></th>\n",
       "      <th></th>\n",
       "      <th></th>\n",
       "      <th></th>\n",
       "      <th></th>\n",
       "      <th></th>\n",
       "      <th></th>\n",
       "      <th></th>\n",
       "      <th></th>\n",
       "      <th></th>\n",
       "      <th></th>\n",
       "      <th></th>\n",
       "    </tr>\n",
       "  </thead>\n",
       "  <tbody>\n",
       "    <tr>\n",
       "      <th>2011-07-01</th>\n",
       "      <td>4.21</td>\n",
       "      <td>4.82</td>\n",
       "      <td>5.315</td>\n",
       "      <td>5.81</td>\n",
       "      <td>6.200</td>\n",
       "      <td>6.59</td>\n",
       "      <td>6.8400</td>\n",
       "      <td>7.090</td>\n",
       "      <td>7.3400</td>\n",
       "      <td>7.59</td>\n",
       "      <td>...</td>\n",
       "      <td>8.432</td>\n",
       "      <td>8.438</td>\n",
       "      <td>8.444</td>\n",
       "      <td>8.45</td>\n",
       "      <td>8.45</td>\n",
       "      <td>8.45</td>\n",
       "      <td>8.45</td>\n",
       "      <td>8.45</td>\n",
       "      <td>8.45</td>\n",
       "      <td>8.45</td>\n",
       "    </tr>\n",
       "    <tr>\n",
       "      <th>2011-07-04</th>\n",
       "      <td>4.12</td>\n",
       "      <td>4.73</td>\n",
       "      <td>5.235</td>\n",
       "      <td>5.74</td>\n",
       "      <td>6.145</td>\n",
       "      <td>6.55</td>\n",
       "      <td>6.8125</td>\n",
       "      <td>7.075</td>\n",
       "      <td>7.3375</td>\n",
       "      <td>7.60</td>\n",
       "      <td>...</td>\n",
       "      <td>8.429</td>\n",
       "      <td>8.436</td>\n",
       "      <td>8.443</td>\n",
       "      <td>8.45</td>\n",
       "      <td>8.45</td>\n",
       "      <td>8.45</td>\n",
       "      <td>8.45</td>\n",
       "      <td>8.45</td>\n",
       "      <td>8.45</td>\n",
       "      <td>8.45</td>\n",
       "    </tr>\n",
       "    <tr>\n",
       "      <th>2011-07-05</th>\n",
       "      <td>4.11</td>\n",
       "      <td>4.74</td>\n",
       "      <td>5.255</td>\n",
       "      <td>5.77</td>\n",
       "      <td>6.160</td>\n",
       "      <td>6.55</td>\n",
       "      <td>6.7975</td>\n",
       "      <td>7.045</td>\n",
       "      <td>7.2925</td>\n",
       "      <td>7.54</td>\n",
       "      <td>...</td>\n",
       "      <td>8.315</td>\n",
       "      <td>8.320</td>\n",
       "      <td>8.325</td>\n",
       "      <td>8.33</td>\n",
       "      <td>8.33</td>\n",
       "      <td>8.33</td>\n",
       "      <td>8.33</td>\n",
       "      <td>8.33</td>\n",
       "      <td>8.33</td>\n",
       "      <td>8.33</td>\n",
       "    </tr>\n",
       "    <tr>\n",
       "      <th>2011-07-06</th>\n",
       "      <td>4.06</td>\n",
       "      <td>4.68</td>\n",
       "      <td>5.180</td>\n",
       "      <td>5.68</td>\n",
       "      <td>6.070</td>\n",
       "      <td>6.46</td>\n",
       "      <td>6.7150</td>\n",
       "      <td>6.970</td>\n",
       "      <td>7.2250</td>\n",
       "      <td>7.48</td>\n",
       "      <td>...</td>\n",
       "      <td>8.322</td>\n",
       "      <td>8.328</td>\n",
       "      <td>8.334</td>\n",
       "      <td>8.34</td>\n",
       "      <td>8.34</td>\n",
       "      <td>8.34</td>\n",
       "      <td>8.34</td>\n",
       "      <td>8.34</td>\n",
       "      <td>8.34</td>\n",
       "      <td>8.34</td>\n",
       "    </tr>\n",
       "    <tr>\n",
       "      <th>2011-07-07</th>\n",
       "      <td>4.09</td>\n",
       "      <td>4.69</td>\n",
       "      <td>5.180</td>\n",
       "      <td>5.67</td>\n",
       "      <td>6.050</td>\n",
       "      <td>6.43</td>\n",
       "      <td>6.6775</td>\n",
       "      <td>6.925</td>\n",
       "      <td>7.1725</td>\n",
       "      <td>7.42</td>\n",
       "      <td>...</td>\n",
       "      <td>8.276</td>\n",
       "      <td>8.284</td>\n",
       "      <td>8.292</td>\n",
       "      <td>8.30</td>\n",
       "      <td>8.30</td>\n",
       "      <td>8.30</td>\n",
       "      <td>8.30</td>\n",
       "      <td>8.30</td>\n",
       "      <td>8.30</td>\n",
       "      <td>8.30</td>\n",
       "    </tr>\n",
       "  </tbody>\n",
       "</table>\n",
       "<p>5 rows × 36 columns</p>\n",
       "</div>"
      ],
      "text/plain": [
       "            0.50  1.00   1.50  2.00   2.50  3.00    3.50   4.00    4.50  5.00  \\\n",
       "Date                                                                            \n",
       "2011-07-01  4.21  4.82  5.315  5.81  6.200  6.59  6.8400  7.090  7.3400  7.59   \n",
       "2011-07-04  4.12  4.73  5.235  5.74  6.145  6.55  6.8125  7.075  7.3375  7.60   \n",
       "2011-07-05  4.11  4.74  5.255  5.77  6.160  6.55  6.7975  7.045  7.2925  7.54   \n",
       "2011-07-06  4.06  4.68  5.180  5.68  6.070  6.46  6.7150  6.970  7.2250  7.48   \n",
       "2011-07-07  4.09  4.69  5.180  5.67  6.050  6.43  6.6775  6.925  7.1725  7.42   \n",
       "\n",
       "            ...    13.50  14.00  14.50  15.00  15.50  16.00  16.50  17.00  \\\n",
       "Date        ...                                                             \n",
       "2011-07-01  ...    8.432  8.438  8.444   8.45   8.45   8.45   8.45   8.45   \n",
       "2011-07-04  ...    8.429  8.436  8.443   8.45   8.45   8.45   8.45   8.45   \n",
       "2011-07-05  ...    8.315  8.320  8.325   8.33   8.33   8.33   8.33   8.33   \n",
       "2011-07-06  ...    8.322  8.328  8.334   8.34   8.34   8.34   8.34   8.34   \n",
       "2011-07-07  ...    8.276  8.284  8.292   8.30   8.30   8.30   8.30   8.30   \n",
       "\n",
       "            17.50  18.00  \n",
       "Date                      \n",
       "2011-07-01   8.45   8.45  \n",
       "2011-07-04   8.45   8.45  \n",
       "2011-07-05   8.33   8.33  \n",
       "2011-07-06   8.34   8.34  \n",
       "2011-07-07   8.30   8.30  \n",
       "\n",
       "[5 rows x 36 columns]"
      ]
     },
     "execution_count": 52,
     "metadata": {},
     "output_type": "execute_result"
    }
   ],
   "source": [
    "rates_today_future = rates[rates.index >= today_date] #... и в отдельный блок ставки сегодня и в будущем \n",
    "rates_today_future.head()"
   ]
  },
  {
   "cell_type": "code",
   "execution_count": 117,
   "metadata": {},
   "outputs": [
    {
     "data": {
      "text/html": [
       "<div>\n",
       "<style scoped>\n",
       "    .dataframe tbody tr th:only-of-type {\n",
       "        vertical-align: middle;\n",
       "    }\n",
       "\n",
       "    .dataframe tbody tr th {\n",
       "        vertical-align: top;\n",
       "    }\n",
       "\n",
       "    .dataframe thead th {\n",
       "        text-align: right;\n",
       "    }\n",
       "</style>\n",
       "<table border=\"1\" class=\"dataframe\">\n",
       "  <thead>\n",
       "    <tr style=\"text-align: right;\">\n",
       "      <th></th>\n",
       "      <th>0.50</th>\n",
       "      <th>1.00</th>\n",
       "      <th>1.50</th>\n",
       "      <th>2.00</th>\n",
       "      <th>2.50</th>\n",
       "      <th>3.00</th>\n",
       "      <th>3.50</th>\n",
       "      <th>4.00</th>\n",
       "      <th>4.50</th>\n",
       "      <th>5.00</th>\n",
       "      <th>...</th>\n",
       "      <th>13.50</th>\n",
       "      <th>14.00</th>\n",
       "      <th>14.50</th>\n",
       "      <th>15.00</th>\n",
       "      <th>15.50</th>\n",
       "      <th>16.00</th>\n",
       "      <th>16.50</th>\n",
       "      <th>17.00</th>\n",
       "      <th>17.50</th>\n",
       "      <th>18.00</th>\n",
       "    </tr>\n",
       "    <tr>\n",
       "      <th>Date</th>\n",
       "      <th></th>\n",
       "      <th></th>\n",
       "      <th></th>\n",
       "      <th></th>\n",
       "      <th></th>\n",
       "      <th></th>\n",
       "      <th></th>\n",
       "      <th></th>\n",
       "      <th></th>\n",
       "      <th></th>\n",
       "      <th></th>\n",
       "      <th></th>\n",
       "      <th></th>\n",
       "      <th></th>\n",
       "      <th></th>\n",
       "      <th></th>\n",
       "      <th></th>\n",
       "      <th></th>\n",
       "      <th></th>\n",
       "      <th></th>\n",
       "      <th></th>\n",
       "    </tr>\n",
       "  </thead>\n",
       "  <tbody>\n",
       "    <tr>\n",
       "      <th>2011-07-04</th>\n",
       "      <td>4.12</td>\n",
       "      <td>4.73</td>\n",
       "      <td>5.235</td>\n",
       "      <td>5.74</td>\n",
       "      <td>6.145</td>\n",
       "      <td>6.55</td>\n",
       "      <td>6.8125</td>\n",
       "      <td>7.075</td>\n",
       "      <td>7.3375</td>\n",
       "      <td>7.60</td>\n",
       "      <td>...</td>\n",
       "      <td>8.429</td>\n",
       "      <td>8.436</td>\n",
       "      <td>8.443</td>\n",
       "      <td>8.45</td>\n",
       "      <td>8.45</td>\n",
       "      <td>8.45</td>\n",
       "      <td>8.45</td>\n",
       "      <td>8.45</td>\n",
       "      <td>8.45</td>\n",
       "      <td>8.45</td>\n",
       "    </tr>\n",
       "    <tr>\n",
       "      <th>2011-07-05</th>\n",
       "      <td>4.11</td>\n",
       "      <td>4.74</td>\n",
       "      <td>5.255</td>\n",
       "      <td>5.77</td>\n",
       "      <td>6.160</td>\n",
       "      <td>6.55</td>\n",
       "      <td>6.7975</td>\n",
       "      <td>7.045</td>\n",
       "      <td>7.2925</td>\n",
       "      <td>7.54</td>\n",
       "      <td>...</td>\n",
       "      <td>8.315</td>\n",
       "      <td>8.320</td>\n",
       "      <td>8.325</td>\n",
       "      <td>8.33</td>\n",
       "      <td>8.33</td>\n",
       "      <td>8.33</td>\n",
       "      <td>8.33</td>\n",
       "      <td>8.33</td>\n",
       "      <td>8.33</td>\n",
       "      <td>8.33</td>\n",
       "    </tr>\n",
       "    <tr>\n",
       "      <th>2011-07-06</th>\n",
       "      <td>4.06</td>\n",
       "      <td>4.68</td>\n",
       "      <td>5.180</td>\n",
       "      <td>5.68</td>\n",
       "      <td>6.070</td>\n",
       "      <td>6.46</td>\n",
       "      <td>6.7150</td>\n",
       "      <td>6.970</td>\n",
       "      <td>7.2250</td>\n",
       "      <td>7.48</td>\n",
       "      <td>...</td>\n",
       "      <td>8.322</td>\n",
       "      <td>8.328</td>\n",
       "      <td>8.334</td>\n",
       "      <td>8.34</td>\n",
       "      <td>8.34</td>\n",
       "      <td>8.34</td>\n",
       "      <td>8.34</td>\n",
       "      <td>8.34</td>\n",
       "      <td>8.34</td>\n",
       "      <td>8.34</td>\n",
       "    </tr>\n",
       "    <tr>\n",
       "      <th>2011-07-07</th>\n",
       "      <td>4.09</td>\n",
       "      <td>4.69</td>\n",
       "      <td>5.180</td>\n",
       "      <td>5.67</td>\n",
       "      <td>6.050</td>\n",
       "      <td>6.43</td>\n",
       "      <td>6.6775</td>\n",
       "      <td>6.925</td>\n",
       "      <td>7.1725</td>\n",
       "      <td>7.42</td>\n",
       "      <td>...</td>\n",
       "      <td>8.276</td>\n",
       "      <td>8.284</td>\n",
       "      <td>8.292</td>\n",
       "      <td>8.30</td>\n",
       "      <td>8.30</td>\n",
       "      <td>8.30</td>\n",
       "      <td>8.30</td>\n",
       "      <td>8.30</td>\n",
       "      <td>8.30</td>\n",
       "      <td>8.30</td>\n",
       "    </tr>\n",
       "    <tr>\n",
       "      <th>2011-07-08</th>\n",
       "      <td>4.13</td>\n",
       "      <td>4.73</td>\n",
       "      <td>5.210</td>\n",
       "      <td>5.69</td>\n",
       "      <td>6.060</td>\n",
       "      <td>6.43</td>\n",
       "      <td>6.6725</td>\n",
       "      <td>6.915</td>\n",
       "      <td>7.1575</td>\n",
       "      <td>7.40</td>\n",
       "      <td>...</td>\n",
       "      <td>8.284</td>\n",
       "      <td>8.296</td>\n",
       "      <td>8.308</td>\n",
       "      <td>8.32</td>\n",
       "      <td>8.32</td>\n",
       "      <td>8.32</td>\n",
       "      <td>8.32</td>\n",
       "      <td>8.32</td>\n",
       "      <td>8.32</td>\n",
       "      <td>8.32</td>\n",
       "    </tr>\n",
       "  </tbody>\n",
       "</table>\n",
       "<p>5 rows × 36 columns</p>\n",
       "</div>"
      ],
      "text/plain": [
       "            0.50  1.00   1.50  2.00   2.50  3.00    3.50   4.00    4.50  5.00  \\\n",
       "Date                                                                            \n",
       "2011-07-04  4.12  4.73  5.235  5.74  6.145  6.55  6.8125  7.075  7.3375  7.60   \n",
       "2011-07-05  4.11  4.74  5.255  5.77  6.160  6.55  6.7975  7.045  7.2925  7.54   \n",
       "2011-07-06  4.06  4.68  5.180  5.68  6.070  6.46  6.7150  6.970  7.2250  7.48   \n",
       "2011-07-07  4.09  4.69  5.180  5.67  6.050  6.43  6.6775  6.925  7.1725  7.42   \n",
       "2011-07-08  4.13  4.73  5.210  5.69  6.060  6.43  6.6725  6.915  7.1575  7.40   \n",
       "\n",
       "            ...    13.50  14.00  14.50  15.00  15.50  16.00  16.50  17.00  \\\n",
       "Date        ...                                                             \n",
       "2011-07-04  ...    8.429  8.436  8.443   8.45   8.45   8.45   8.45   8.45   \n",
       "2011-07-05  ...    8.315  8.320  8.325   8.33   8.33   8.33   8.33   8.33   \n",
       "2011-07-06  ...    8.322  8.328  8.334   8.34   8.34   8.34   8.34   8.34   \n",
       "2011-07-07  ...    8.276  8.284  8.292   8.30   8.30   8.30   8.30   8.30   \n",
       "2011-07-08  ...    8.284  8.296  8.308   8.32   8.32   8.32   8.32   8.32   \n",
       "\n",
       "            17.50  18.00  \n",
       "Date                      \n",
       "2011-07-04   8.45   8.45  \n",
       "2011-07-05   8.33   8.33  \n",
       "2011-07-06   8.34   8.34  \n",
       "2011-07-07   8.30   8.30  \n",
       "2011-07-08   8.32   8.32  \n",
       "\n",
       "[5 rows x 36 columns]"
      ]
     },
     "execution_count": 117,
     "metadata": {},
     "output_type": "execute_result"
    }
   ],
   "source": [
    "rates_future = rates[rates.index > today_date] \n",
    "rates_future.head()"
   ]
  },
  {
   "cell_type": "markdown",
   "metadata": {},
   "source": [
    "ОЦЕНКА РИСКОВ ПО ОБЛИГАЦИЯМ    \n",
    "\n",
    "Их цены надо оценить.     \n",
    "\n",
    "к текущему моменту - срок облигации.    \n",
    "\n",
    "Амортизация: равными долями выплата номинала.    \n",
    "Купон считается от нового номинала.\n",
    "\n",
    "Посчитали все кэш флоу.\n",
    "\n",
    "Дальше смотрим на бекупонные ставки. Для РФ удобнее экспоненциальный коэф дисконта. Его умножаем на поток.\n",
    "s-срок в годах, r_t - годовая ставка для длины t.\n",
    "\n",
    "Наша дата - за год до конца.    \n",
    "Посчитать цену бонда (пула бондов).\n",
    "\n",
    "Считаем дюрацию Фишера-Вэйлда!    \n",
    "\n",
    "Посчитать VAR для всех последующих годов!!!    \n",
    "\n",
    "Сохраняем то же дисконтирование. На протяжении всего года оценки.\n",
    "\n"
   ]
  },
  {
   "cell_type": "code",
   "execution_count": 53,
   "metadata": {},
   "outputs": [
    {
     "data": {
      "text/html": [
       "<div>\n",
       "<style scoped>\n",
       "    .dataframe tbody tr th:only-of-type {\n",
       "        vertical-align: middle;\n",
       "    }\n",
       "\n",
       "    .dataframe tbody tr th {\n",
       "        vertical-align: top;\n",
       "    }\n",
       "\n",
       "    .dataframe thead th {\n",
       "        text-align: right;\n",
       "    }\n",
       "</style>\n",
       "<table border=\"1\" class=\"dataframe\">\n",
       "  <thead>\n",
       "    <tr style=\"text-align: right;\">\n",
       "      <th></th>\n",
       "      <th>0.50</th>\n",
       "      <th>1.00</th>\n",
       "      <th>1.50</th>\n",
       "      <th>2.00</th>\n",
       "      <th>2.50</th>\n",
       "      <th>3.00</th>\n",
       "      <th>3.50</th>\n",
       "      <th>4.00</th>\n",
       "      <th>4.50</th>\n",
       "      <th>5.00</th>\n",
       "      <th>...</th>\n",
       "      <th>13.50</th>\n",
       "      <th>14.00</th>\n",
       "      <th>14.50</th>\n",
       "      <th>15.00</th>\n",
       "      <th>15.50</th>\n",
       "      <th>16.00</th>\n",
       "      <th>16.50</th>\n",
       "      <th>17.00</th>\n",
       "      <th>17.50</th>\n",
       "      <th>18.00</th>\n",
       "    </tr>\n",
       "    <tr>\n",
       "      <th>Date</th>\n",
       "      <th></th>\n",
       "      <th></th>\n",
       "      <th></th>\n",
       "      <th></th>\n",
       "      <th></th>\n",
       "      <th></th>\n",
       "      <th></th>\n",
       "      <th></th>\n",
       "      <th></th>\n",
       "      <th></th>\n",
       "      <th></th>\n",
       "      <th></th>\n",
       "      <th></th>\n",
       "      <th></th>\n",
       "      <th></th>\n",
       "      <th></th>\n",
       "      <th></th>\n",
       "      <th></th>\n",
       "      <th></th>\n",
       "      <th></th>\n",
       "      <th></th>\n",
       "    </tr>\n",
       "  </thead>\n",
       "  <tbody>\n",
       "    <tr>\n",
       "      <th>2011-07-01</th>\n",
       "      <td>4.21</td>\n",
       "      <td>4.82</td>\n",
       "      <td>5.315</td>\n",
       "      <td>5.81</td>\n",
       "      <td>6.2</td>\n",
       "      <td>6.59</td>\n",
       "      <td>6.84</td>\n",
       "      <td>7.09</td>\n",
       "      <td>7.34</td>\n",
       "      <td>7.59</td>\n",
       "      <td>...</td>\n",
       "      <td>8.432</td>\n",
       "      <td>8.438</td>\n",
       "      <td>8.444</td>\n",
       "      <td>8.45</td>\n",
       "      <td>8.45</td>\n",
       "      <td>8.45</td>\n",
       "      <td>8.45</td>\n",
       "      <td>8.45</td>\n",
       "      <td>8.45</td>\n",
       "      <td>8.45</td>\n",
       "    </tr>\n",
       "  </tbody>\n",
       "</table>\n",
       "<p>1 rows × 36 columns</p>\n",
       "</div>"
      ],
      "text/plain": [
       "            0.50  1.00   1.50  2.00  2.50  3.00  3.50  4.00  4.50  5.00  \\\n",
       "Date                                                                      \n",
       "2011-07-01  4.21  4.82  5.315  5.81   6.2  6.59  6.84  7.09  7.34  7.59   \n",
       "\n",
       "            ...    13.50  14.00  14.50  15.00  15.50  16.00  16.50  17.00  \\\n",
       "Date        ...                                                             \n",
       "2011-07-01  ...    8.432  8.438  8.444   8.45   8.45   8.45   8.45   8.45   \n",
       "\n",
       "            17.50  18.00  \n",
       "Date                      \n",
       "2011-07-01   8.45   8.45  \n",
       "\n",
       "[1 rows x 36 columns]"
      ]
     },
     "execution_count": 53,
     "metadata": {},
     "output_type": "execute_result"
    }
   ],
   "source": [
    "first_discount_rates = rates[rates.index == today_date] # ставки первого дисконтирования (для теста)\n",
    "first_discount_rates"
   ]
  },
  {
   "cell_type": "code",
   "execution_count": 54,
   "metadata": {
    "collapsed": true
   },
   "outputs": [],
   "source": [
    "#plt.plot(s_arr, np.array(rates[rates.index == '2011-01-11']))"
   ]
  },
  {
   "cell_type": "code",
   "execution_count": 55,
   "metadata": {},
   "outputs": [
    {
     "data": {
      "text/plain": [
       "array([ 0.5,  1. ,  1.5,  2. ,  2.5,  3. ,  3.5,  4. ,  4.5,  5. ,  5.5,\n",
       "        6. ,  6.5,  7. ,  7.5,  8. ,  8.5,  9. ,  9.5, 10. , 10.5, 11. ,\n",
       "       11.5, 12. , 12.5, 13. , 13.5, 14. , 14.5, 15. , 15.5, 16. , 16.5,\n",
       "       17. , 17.5, 18. ])"
      ]
     },
     "execution_count": 55,
     "metadata": {},
     "output_type": "execute_result"
    }
   ],
   "source": [
    "(rates.T.index.values).astype(float)"
   ]
  },
  {
   "cell_type": "code",
   "execution_count": 56,
   "metadata": {},
   "outputs": [
    {
     "data": {
      "text/plain": [
       "0.50    4.58\n",
       "1.00    5.41\n",
       "1.50    5.94\n",
       "2.00    6.47\n",
       "2.50    6.76\n",
       "Name: 2011-01-11 00:00:00, dtype: float64"
      ]
     },
     "execution_count": 56,
     "metadata": {},
     "output_type": "execute_result"
    }
   ],
   "source": [
    "rates.T['2011-01-11'][:5]"
   ]
  },
  {
   "cell_type": "code",
   "execution_count": 57,
   "metadata": {},
   "outputs": [
    {
     "data": {
      "text/plain": [
       "<matplotlib.text.Text at 0x10b4c53c8>"
      ]
     },
     "execution_count": 57,
     "metadata": {},
     "output_type": "execute_result"
    },
    {
     "data": {
      "image/png": "[encoded data removed]",
      "text/plain": [
       "<matplotlib.figure.Figure at 0x10b201c50>"
      ]
     },
     "metadata": {},
     "output_type": "display_data"
    }
   ],
   "source": [
    "plt.plot(rates.T[today_date])\n",
    "plt.ylabel('Yield, %')\n",
    "plt.xlabel('Duration, years')\n",
    "plt.title('Yield Curve for ' + str(today_date), fontsize=16)"
   ]
  },
  {
   "cell_type": "code",
   "execution_count": 58,
   "metadata": {},
   "outputs": [
    {
     "data": {
      "text/html": [
       "<div>\n",
       "<style scoped>\n",
       "    .dataframe tbody tr th:only-of-type {\n",
       "        vertical-align: middle;\n",
       "    }\n",
       "\n",
       "    .dataframe tbody tr th {\n",
       "        vertical-align: top;\n",
       "    }\n",
       "\n",
       "    .dataframe thead th {\n",
       "        text-align: right;\n",
       "    }\n",
       "</style>\n",
       "<table border=\"1\" class=\"dataframe\">\n",
       "  <thead>\n",
       "    <tr style=\"text-align: right;\">\n",
       "      <th></th>\n",
       "      <th>0.50</th>\n",
       "      <th>1.00</th>\n",
       "      <th>1.50</th>\n",
       "      <th>2.00</th>\n",
       "      <th>2.50</th>\n",
       "      <th>3.00</th>\n",
       "      <th>3.50</th>\n",
       "      <th>4.00</th>\n",
       "      <th>4.50</th>\n",
       "      <th>5.00</th>\n",
       "      <th>...</th>\n",
       "      <th>13.50</th>\n",
       "      <th>14.00</th>\n",
       "      <th>14.50</th>\n",
       "      <th>15.00</th>\n",
       "      <th>15.50</th>\n",
       "      <th>16.00</th>\n",
       "      <th>16.50</th>\n",
       "      <th>17.00</th>\n",
       "      <th>17.50</th>\n",
       "      <th>18.00</th>\n",
       "    </tr>\n",
       "    <tr>\n",
       "      <th>Date</th>\n",
       "      <th></th>\n",
       "      <th></th>\n",
       "      <th></th>\n",
       "      <th></th>\n",
       "      <th></th>\n",
       "      <th></th>\n",
       "      <th></th>\n",
       "      <th></th>\n",
       "      <th></th>\n",
       "      <th></th>\n",
       "      <th></th>\n",
       "      <th></th>\n",
       "      <th></th>\n",
       "      <th></th>\n",
       "      <th></th>\n",
       "      <th></th>\n",
       "      <th></th>\n",
       "      <th></th>\n",
       "      <th></th>\n",
       "      <th></th>\n",
       "      <th></th>\n",
       "    </tr>\n",
       "  </thead>\n",
       "  <tbody>\n",
       "    <tr>\n",
       "      <th>2012-06-27</th>\n",
       "      <td>0.14</td>\n",
       "      <td>0.11</td>\n",
       "      <td>0.065</td>\n",
       "      <td>0.02</td>\n",
       "      <td>0.020</td>\n",
       "      <td>0.02</td>\n",
       "      <td>0.0225</td>\n",
       "      <td>0.025</td>\n",
       "      <td>0.0275</td>\n",
       "      <td>0.03</td>\n",
       "      <td>...</td>\n",
       "      <td>-0.067</td>\n",
       "      <td>-0.068</td>\n",
       "      <td>-0.069</td>\n",
       "      <td>-0.07</td>\n",
       "      <td>-0.07</td>\n",
       "      <td>-0.07</td>\n",
       "      <td>-0.07</td>\n",
       "      <td>-0.07</td>\n",
       "      <td>-0.07</td>\n",
       "      <td>-0.07</td>\n",
       "    </tr>\n",
       "    <tr>\n",
       "      <th>2012-06-28</th>\n",
       "      <td>0.00</td>\n",
       "      <td>0.01</td>\n",
       "      <td>0.005</td>\n",
       "      <td>0.00</td>\n",
       "      <td>0.005</td>\n",
       "      <td>0.01</td>\n",
       "      <td>0.0125</td>\n",
       "      <td>0.015</td>\n",
       "      <td>0.0175</td>\n",
       "      <td>0.02</td>\n",
       "      <td>...</td>\n",
       "      <td>0.010</td>\n",
       "      <td>0.010</td>\n",
       "      <td>0.010</td>\n",
       "      <td>0.01</td>\n",
       "      <td>0.01</td>\n",
       "      <td>0.01</td>\n",
       "      <td>0.01</td>\n",
       "      <td>0.01</td>\n",
       "      <td>0.01</td>\n",
       "      <td>0.01</td>\n",
       "    </tr>\n",
       "    <tr>\n",
       "      <th>2012-06-29</th>\n",
       "      <td>-0.18</td>\n",
       "      <td>-0.12</td>\n",
       "      <td>-0.070</td>\n",
       "      <td>-0.02</td>\n",
       "      <td>-0.030</td>\n",
       "      <td>-0.04</td>\n",
       "      <td>-0.0525</td>\n",
       "      <td>-0.065</td>\n",
       "      <td>-0.0775</td>\n",
       "      <td>-0.09</td>\n",
       "      <td>...</td>\n",
       "      <td>-0.092</td>\n",
       "      <td>-0.088</td>\n",
       "      <td>-0.084</td>\n",
       "      <td>-0.08</td>\n",
       "      <td>-0.08</td>\n",
       "      <td>-0.08</td>\n",
       "      <td>-0.08</td>\n",
       "      <td>-0.08</td>\n",
       "      <td>-0.08</td>\n",
       "      <td>-0.08</td>\n",
       "    </tr>\n",
       "    <tr>\n",
       "      <th>2012-06-30</th>\n",
       "      <td>0.08</td>\n",
       "      <td>0.08</td>\n",
       "      <td>0.085</td>\n",
       "      <td>0.09</td>\n",
       "      <td>0.090</td>\n",
       "      <td>0.09</td>\n",
       "      <td>0.0875</td>\n",
       "      <td>0.085</td>\n",
       "      <td>0.0825</td>\n",
       "      <td>0.08</td>\n",
       "      <td>...</td>\n",
       "      <td>0.066</td>\n",
       "      <td>0.064</td>\n",
       "      <td>0.062</td>\n",
       "      <td>0.06</td>\n",
       "      <td>0.06</td>\n",
       "      <td>0.06</td>\n",
       "      <td>0.06</td>\n",
       "      <td>0.06</td>\n",
       "      <td>0.06</td>\n",
       "      <td>0.06</td>\n",
       "    </tr>\n",
       "    <tr>\n",
       "      <th>2012-07-01</th>\n",
       "      <td>0.00</td>\n",
       "      <td>0.00</td>\n",
       "      <td>0.000</td>\n",
       "      <td>0.00</td>\n",
       "      <td>0.000</td>\n",
       "      <td>0.00</td>\n",
       "      <td>0.0000</td>\n",
       "      <td>0.000</td>\n",
       "      <td>0.0000</td>\n",
       "      <td>0.00</td>\n",
       "      <td>...</td>\n",
       "      <td>0.000</td>\n",
       "      <td>0.000</td>\n",
       "      <td>0.000</td>\n",
       "      <td>0.00</td>\n",
       "      <td>0.00</td>\n",
       "      <td>0.00</td>\n",
       "      <td>0.00</td>\n",
       "      <td>0.00</td>\n",
       "      <td>0.00</td>\n",
       "      <td>0.00</td>\n",
       "    </tr>\n",
       "  </tbody>\n",
       "</table>\n",
       "<p>5 rows × 36 columns</p>\n",
       "</div>"
      ],
      "text/plain": [
       "            0.50  1.00   1.50  2.00   2.50  3.00    3.50   4.00    4.50  5.00  \\\n",
       "Date                                                                            \n",
       "2012-06-27  0.14  0.11  0.065  0.02  0.020  0.02  0.0225  0.025  0.0275  0.03   \n",
       "2012-06-28  0.00  0.01  0.005  0.00  0.005  0.01  0.0125  0.015  0.0175  0.02   \n",
       "2012-06-29 -0.18 -0.12 -0.070 -0.02 -0.030 -0.04 -0.0525 -0.065 -0.0775 -0.09   \n",
       "2012-06-30  0.08  0.08  0.085  0.09  0.090  0.09  0.0875  0.085  0.0825  0.08   \n",
       "2012-07-01  0.00  0.00  0.000  0.00  0.000  0.00  0.0000  0.000  0.0000  0.00   \n",
       "\n",
       "            ...    13.50  14.00  14.50  15.00  15.50  16.00  16.50  17.00  \\\n",
       "Date        ...                                                             \n",
       "2012-06-27  ...   -0.067 -0.068 -0.069  -0.07  -0.07  -0.07  -0.07  -0.07   \n",
       "2012-06-28  ...    0.010  0.010  0.010   0.01   0.01   0.01   0.01   0.01   \n",
       "2012-06-29  ...   -0.092 -0.088 -0.084  -0.08  -0.08  -0.08  -0.08  -0.08   \n",
       "2012-06-30  ...    0.066  0.064  0.062   0.06   0.06   0.06   0.06   0.06   \n",
       "2012-07-01  ...    0.000  0.000  0.000   0.00   0.00   0.00   0.00   0.00   \n",
       "\n",
       "            17.50  18.00  \n",
       "Date                      \n",
       "2012-06-27  -0.07  -0.07  \n",
       "2012-06-28   0.01   0.01  \n",
       "2012-06-29  -0.08  -0.08  \n",
       "2012-06-30   0.06   0.06  \n",
       "2012-07-01   0.00   0.00  \n",
       "\n",
       "[5 rows x 36 columns]"
      ]
     },
     "execution_count": 58,
     "metadata": {},
     "output_type": "execute_result"
    }
   ],
   "source": [
    "diff_rates = rates.diff()[1:]\n",
    "diff_rates.tail()"
   ]
  },
  {
   "cell_type": "code",
   "execution_count": 59,
   "metadata": {
    "collapsed": true
   },
   "outputs": [],
   "source": [
    "diff_rates_history = diff_rates[diff_rates.index <= today_date] # исторические"
   ]
  },
  {
   "cell_type": "code",
   "execution_count": 60,
   "metadata": {},
   "outputs": [
    {
     "data": {
      "text/html": [
       "<div>\n",
       "<style scoped>\n",
       "    .dataframe tbody tr th:only-of-type {\n",
       "        vertical-align: middle;\n",
       "    }\n",
       "\n",
       "    .dataframe tbody tr th {\n",
       "        vertical-align: top;\n",
       "    }\n",
       "\n",
       "    .dataframe thead th {\n",
       "        text-align: right;\n",
       "    }\n",
       "</style>\n",
       "<table border=\"1\" class=\"dataframe\">\n",
       "  <thead>\n",
       "    <tr style=\"text-align: right;\">\n",
       "      <th></th>\n",
       "      <th>0.50</th>\n",
       "      <th>1.00</th>\n",
       "      <th>1.50</th>\n",
       "      <th>2.00</th>\n",
       "      <th>2.50</th>\n",
       "      <th>3.00</th>\n",
       "      <th>3.50</th>\n",
       "      <th>4.00</th>\n",
       "      <th>4.50</th>\n",
       "      <th>5.00</th>\n",
       "      <th>...</th>\n",
       "      <th>13.50</th>\n",
       "      <th>14.00</th>\n",
       "      <th>14.50</th>\n",
       "      <th>15.00</th>\n",
       "      <th>15.50</th>\n",
       "      <th>16.00</th>\n",
       "      <th>16.50</th>\n",
       "      <th>17.00</th>\n",
       "      <th>17.50</th>\n",
       "      <th>18.00</th>\n",
       "    </tr>\n",
       "    <tr>\n",
       "      <th>Date</th>\n",
       "      <th></th>\n",
       "      <th></th>\n",
       "      <th></th>\n",
       "      <th></th>\n",
       "      <th></th>\n",
       "      <th></th>\n",
       "      <th></th>\n",
       "      <th></th>\n",
       "      <th></th>\n",
       "      <th></th>\n",
       "      <th></th>\n",
       "      <th></th>\n",
       "      <th></th>\n",
       "      <th></th>\n",
       "      <th></th>\n",
       "      <th></th>\n",
       "      <th></th>\n",
       "      <th></th>\n",
       "      <th></th>\n",
       "      <th></th>\n",
       "      <th></th>\n",
       "    </tr>\n",
       "  </thead>\n",
       "  <tbody>\n",
       "    <tr>\n",
       "      <th>2011-06-27</th>\n",
       "      <td>-0.02</td>\n",
       "      <td>0.01</td>\n",
       "      <td>0.020</td>\n",
       "      <td>0.03</td>\n",
       "      <td>0.035</td>\n",
       "      <td>0.04</td>\n",
       "      <td>0.040</td>\n",
       "      <td>4.000000e-02</td>\n",
       "      <td>0.040</td>\n",
       "      <td>0.04</td>\n",
       "      <td>...</td>\n",
       "      <td>0.003</td>\n",
       "      <td>0.002</td>\n",
       "      <td>0.001</td>\n",
       "      <td>0.00</td>\n",
       "      <td>0.00</td>\n",
       "      <td>0.00</td>\n",
       "      <td>0.00</td>\n",
       "      <td>0.00</td>\n",
       "      <td>0.00</td>\n",
       "      <td>0.00</td>\n",
       "    </tr>\n",
       "    <tr>\n",
       "      <th>2011-06-28</th>\n",
       "      <td>0.01</td>\n",
       "      <td>-0.03</td>\n",
       "      <td>-0.055</td>\n",
       "      <td>-0.08</td>\n",
       "      <td>-0.085</td>\n",
       "      <td>-0.09</td>\n",
       "      <td>-0.090</td>\n",
       "      <td>-9.000000e-02</td>\n",
       "      <td>-0.090</td>\n",
       "      <td>-0.09</td>\n",
       "      <td>...</td>\n",
       "      <td>-0.006</td>\n",
       "      <td>-0.004</td>\n",
       "      <td>-0.002</td>\n",
       "      <td>0.00</td>\n",
       "      <td>0.00</td>\n",
       "      <td>0.00</td>\n",
       "      <td>0.00</td>\n",
       "      <td>0.00</td>\n",
       "      <td>0.00</td>\n",
       "      <td>0.00</td>\n",
       "    </tr>\n",
       "    <tr>\n",
       "      <th>2011-06-29</th>\n",
       "      <td>-0.10</td>\n",
       "      <td>-0.07</td>\n",
       "      <td>-0.050</td>\n",
       "      <td>-0.03</td>\n",
       "      <td>-0.020</td>\n",
       "      <td>-0.01</td>\n",
       "      <td>-0.005</td>\n",
       "      <td>1.776357e-15</td>\n",
       "      <td>0.005</td>\n",
       "      <td>0.01</td>\n",
       "      <td>...</td>\n",
       "      <td>-0.010</td>\n",
       "      <td>-0.010</td>\n",
       "      <td>-0.010</td>\n",
       "      <td>-0.01</td>\n",
       "      <td>-0.01</td>\n",
       "      <td>-0.01</td>\n",
       "      <td>-0.01</td>\n",
       "      <td>-0.01</td>\n",
       "      <td>-0.01</td>\n",
       "      <td>-0.01</td>\n",
       "    </tr>\n",
       "    <tr>\n",
       "      <th>2011-06-30</th>\n",
       "      <td>-0.05</td>\n",
       "      <td>-0.07</td>\n",
       "      <td>-0.080</td>\n",
       "      <td>-0.09</td>\n",
       "      <td>-0.095</td>\n",
       "      <td>-0.10</td>\n",
       "      <td>-0.095</td>\n",
       "      <td>-9.000000e-02</td>\n",
       "      <td>-0.085</td>\n",
       "      <td>-0.08</td>\n",
       "      <td>...</td>\n",
       "      <td>0.011</td>\n",
       "      <td>0.014</td>\n",
       "      <td>0.017</td>\n",
       "      <td>0.02</td>\n",
       "      <td>0.02</td>\n",
       "      <td>0.02</td>\n",
       "      <td>0.02</td>\n",
       "      <td>0.02</td>\n",
       "      <td>0.02</td>\n",
       "      <td>0.02</td>\n",
       "    </tr>\n",
       "    <tr>\n",
       "      <th>2011-07-01</th>\n",
       "      <td>-0.07</td>\n",
       "      <td>-0.05</td>\n",
       "      <td>-0.040</td>\n",
       "      <td>-0.03</td>\n",
       "      <td>-0.005</td>\n",
       "      <td>0.02</td>\n",
       "      <td>0.030</td>\n",
       "      <td>4.000000e-02</td>\n",
       "      <td>0.050</td>\n",
       "      <td>0.06</td>\n",
       "      <td>...</td>\n",
       "      <td>-0.049</td>\n",
       "      <td>-0.056</td>\n",
       "      <td>-0.063</td>\n",
       "      <td>-0.07</td>\n",
       "      <td>-0.07</td>\n",
       "      <td>-0.07</td>\n",
       "      <td>-0.07</td>\n",
       "      <td>-0.07</td>\n",
       "      <td>-0.07</td>\n",
       "      <td>-0.07</td>\n",
       "    </tr>\n",
       "  </tbody>\n",
       "</table>\n",
       "<p>5 rows × 36 columns</p>\n",
       "</div>"
      ],
      "text/plain": [
       "            0.50  1.00   1.50  2.00   2.50  3.00   3.50          4.00   4.50  \\\n",
       "Date                                                                           \n",
       "2011-06-27 -0.02  0.01  0.020  0.03  0.035  0.04  0.040  4.000000e-02  0.040   \n",
       "2011-06-28  0.01 -0.03 -0.055 -0.08 -0.085 -0.09 -0.090 -9.000000e-02 -0.090   \n",
       "2011-06-29 -0.10 -0.07 -0.050 -0.03 -0.020 -0.01 -0.005  1.776357e-15  0.005   \n",
       "2011-06-30 -0.05 -0.07 -0.080 -0.09 -0.095 -0.10 -0.095 -9.000000e-02 -0.085   \n",
       "2011-07-01 -0.07 -0.05 -0.040 -0.03 -0.005  0.02  0.030  4.000000e-02  0.050   \n",
       "\n",
       "            5.00  ...    13.50  14.00  14.50  15.00  15.50  16.00  16.50  \\\n",
       "Date              ...                                                      \n",
       "2011-06-27  0.04  ...    0.003  0.002  0.001   0.00   0.00   0.00   0.00   \n",
       "2011-06-28 -0.09  ...   -0.006 -0.004 -0.002   0.00   0.00   0.00   0.00   \n",
       "2011-06-29  0.01  ...   -0.010 -0.010 -0.010  -0.01  -0.01  -0.01  -0.01   \n",
       "2011-06-30 -0.08  ...    0.011  0.014  0.017   0.02   0.02   0.02   0.02   \n",
       "2011-07-01  0.06  ...   -0.049 -0.056 -0.063  -0.07  -0.07  -0.07  -0.07   \n",
       "\n",
       "            17.00  17.50  18.00  \n",
       "Date                             \n",
       "2011-06-27   0.00   0.00   0.00  \n",
       "2011-06-28   0.00   0.00   0.00  \n",
       "2011-06-29  -0.01  -0.01  -0.01  \n",
       "2011-06-30   0.02   0.02   0.02  \n",
       "2011-07-01  -0.07  -0.07  -0.07  \n",
       "\n",
       "[5 rows x 36 columns]"
      ]
     },
     "execution_count": 60,
     "metadata": {},
     "output_type": "execute_result"
    }
   ],
   "source": [
    "diff_rates_history.tail() # приращения - аналог таблицы доходностей для акций!!"
   ]
  },
  {
   "cell_type": "markdown",
   "metadata": {},
   "source": [
    "cov матрицы неразумно считать, корреляции большие.    \n",
    "опишем одним числом каждую дату - max increment. завысим риск - возьмем макс. для каждого срока\n",
    "дюрация - чувств к паралл сдвигу кривой!"
   ]
  },
  {
   "cell_type": "code",
   "execution_count": 61,
   "metadata": {},
   "outputs": [
    {
     "data": {
      "text/plain": [
       "Date\n",
       "2011-06-27    0.04\n",
       "2011-06-28    0.01\n",
       "2011-06-29    0.01\n",
       "2011-06-30    0.02\n",
       "2011-07-01    0.06\n",
       "dtype: float64"
      ]
     },
     "execution_count": 61,
     "metadata": {},
     "output_type": "execute_result"
    }
   ],
   "source": [
    "max_increments_history = diff_rates_history.max(axis=1)\n",
    "max_increments_history.tail()"
   ]
  },
  {
   "cell_type": "code",
   "execution_count": 62,
   "metadata": {},
   "outputs": [
    {
     "data": {
      "text/plain": [
       "Date\n",
       "2012-06-27    0.14\n",
       "2012-06-28    0.02\n",
       "2012-06-29   -0.02\n",
       "2012-06-30    0.09\n",
       "2012-07-01    0.00\n",
       "dtype: float64"
      ]
     },
     "execution_count": 62,
     "metadata": {},
     "output_type": "execute_result"
    }
   ],
   "source": [
    "max_increments_all = diff_rates.max(axis=1)\n",
    "max_increments_all.tail()"
   ]
  },
  {
   "cell_type": "code",
   "execution_count": 63,
   "metadata": {},
   "outputs": [
    {
     "data": {
      "text/plain": [
       "0.07286290322580656"
      ]
     },
     "execution_count": 63,
     "metadata": {},
     "output_type": "execute_result"
    }
   ],
   "source": [
    "np.mean(max_increments_history)"
   ]
  },
  {
   "cell_type": "code",
   "execution_count": 64,
   "metadata": {},
   "outputs": [
    {
     "data": {
      "text/plain": [
       "0.11964442175081723"
      ]
     },
     "execution_count": 64,
     "metadata": {},
     "output_type": "execute_result"
    }
   ],
   "source": [
    "np.std(max_increments_history)"
   ]
  },
  {
   "cell_type": "code",
   "execution_count": 65,
   "metadata": {},
   "outputs": [
    {
     "data": {
      "text/plain": [
       "<matplotlib.text.Text at 0x109d49208>"
      ]
     },
     "execution_count": 65,
     "metadata": {},
     "output_type": "execute_result"
    },
    {
     "data": {
      "image/png": "[encoded data removed]",
      "text/plain": [
       "<matplotlib.figure.Figure at 0x10b5455f8>"
      ]
     },
     "metadata": {},
     "output_type": "display_data"
    }
   ],
   "source": [
    "max_increments_history.plot()\n",
    "plt.title('Maximum Increment Dynamics', fontsize=16)\n",
    "plt.xlabel('Date', fontsize=14)\n",
    "plt.ylabel('Increment', fontsize=14)"
   ]
  },
  {
   "cell_type": "markdown",
   "metadata": {},
   "source": [
    "а какое распределение имеют макс приращения?\n",
    "вряд ли норм\n",
    "\n",
    "Gumbel! но это иллюстрация:) можно юзать неадкеватное нормальное.\n",
    "\n",
    "параметры распред - норм"
   ]
  },
  {
   "cell_type": "code",
   "execution_count": 66,
   "metadata": {},
   "outputs": [
    {
     "ename": "NameError",
     "evalue": "name 'mlab' is not defined",
     "output_type": "error",
     "traceback": [
      "\u001b[0;31m---------------------------------------------------------------------------\u001b[0m",
      "\u001b[0;31mNameError\u001b[0m                                 Traceback (most recent call last)",
      "\u001b[0;32m<ipython-input-66-fefcaf2c076a>\u001b[0m in \u001b[0;36m<module>\u001b[0;34m()\u001b[0m\n\u001b[1;32m      2\u001b[0m                     np.mean(max_increments_history)+3*np.std(max_increments_history))\n\u001b[1;32m      3\u001b[0m \u001b[0;34m\u001b[0m\u001b[0m\n\u001b[0;32m----> 4\u001b[0;31m plt.plot(x_norm, mlab.normpdf(x_norm, np.mean(max_increments_history),\n\u001b[0m\u001b[1;32m      5\u001b[0m                         np.std(max_increments_history)), lw=3, color='blue')\n\u001b[1;32m      6\u001b[0m \u001b[0;34m\u001b[0m\u001b[0m\n",
      "\u001b[0;31mNameError\u001b[0m: name 'mlab' is not defined"
     ]
    }
   ],
   "source": [
    "x_norm = np.linspace(np.mean(max_increments_history)-3*np.std(max_increments_history),\n",
    "                    np.mean(max_increments_history)+3*np.std(max_increments_history))\n",
    "\n",
    "plt.plot(x_norm, mlab.normpdf(x_norm, np.mean(max_increments_history),\n",
    "                        np.std(max_increments_history)), lw=3, color='blue')\n",
    "\n",
    "plt.hist(max_increments, normed=True, bins=25, color='red') "
   ]
  },
  {
   "cell_type": "code",
   "execution_count": 67,
   "metadata": {},
   "outputs": [
    {
     "data": {
      "text/plain": [
       "1.7563346451412196"
      ]
     },
     "execution_count": 67,
     "metadata": {},
     "output_type": "execute_result"
    }
   ],
   "source": [
    "stats.skew(max_increments_history)"
   ]
  },
  {
   "cell_type": "markdown",
   "metadata": {},
   "source": [
    "Note that the skewness is higher than 0 in this example, suggesting non-normality."
   ]
  },
  {
   "cell_type": "code",
   "execution_count": 68,
   "metadata": {},
   "outputs": [
    {
     "data": {
      "text/plain": [
       "10.418810709200805"
      ]
     },
     "execution_count": 68,
     "metadata": {},
     "output_type": "execute_result"
    }
   ],
   "source": [
    "stats.kurtosis(max_increments_history)"
   ]
  },
  {
   "cell_type": "markdown",
   "metadata": {},
   "source": [
    "Kurtosis of normal is 3."
   ]
  },
  {
   "cell_type": "code",
   "execution_count": 69,
   "metadata": {},
   "outputs": [
    {
     "name": "stdout",
     "output_type": "stream",
     "text": [
      "Null hypothesis of normality is rejected.\n"
     ]
    }
   ],
   "source": [
    "p_value = stats.shapiro(max_increments_history)[1]\n",
    "if p_value <= 0.01:\n",
    "    print(\"Null hypothesis of normality is rejected.\")\n",
    "else:\n",
    "    print(\"Null hypothesis of normality is accepted.\")"
   ]
  },
  {
   "cell_type": "markdown",
   "metadata": {},
   "source": [
    "умножаем квантиль на дюрацию, получаем VaR на день в процентах от стоимости портфеля!!!    \n",
    "\n",
    "берем сегодняшнюю дюрацию, прогнозируем VaR на завтра."
   ]
  },
  {
   "cell_type": "code",
   "execution_count": 70,
   "metadata": {},
   "outputs": [
    {
     "data": {
      "text/plain": [
       "2.3263478740408408"
      ]
     },
     "execution_count": 70,
     "metadata": {},
     "output_type": "execute_result"
    }
   ],
   "source": [
    "alpha = 0.01\n",
    "z_crit = stats.norm.ppf(1-alpha)\n",
    "z_crit"
   ]
  },
  {
   "cell_type": "code",
   "execution_count": 71,
   "metadata": {},
   "outputs": [
    {
     "data": {
      "text/plain": [
       "0.351197449406666"
      ]
     },
     "execution_count": 71,
     "metadata": {},
     "output_type": "execute_result"
    }
   ],
   "source": [
    "first_quantile = np.mean(max_increments_history) + np.std(max_increments_history)*z_crit\n",
    "first_quantile"
   ]
  },
  {
   "cell_type": "markdown",
   "metadata": {},
   "source": [
    "## Bonds"
   ]
  },
  {
   "cell_type": "code",
   "execution_count": 72,
   "metadata": {},
   "outputs": [
    {
     "data": {
      "text/html": [
       "<div>\n",
       "<style scoped>\n",
       "    .dataframe tbody tr th:only-of-type {\n",
       "        vertical-align: middle;\n",
       "    }\n",
       "\n",
       "    .dataframe tbody tr th {\n",
       "        vertical-align: top;\n",
       "    }\n",
       "\n",
       "    .dataframe thead th {\n",
       "        text-align: right;\n",
       "    }\n",
       "</style>\n",
       "<table border=\"1\" class=\"dataframe\">\n",
       "  <thead>\n",
       "    <tr style=\"text-align: right;\">\n",
       "      <th></th>\n",
       "      <th>0.50</th>\n",
       "      <th>1.00</th>\n",
       "      <th>1.50</th>\n",
       "      <th>2.00</th>\n",
       "      <th>2.50</th>\n",
       "      <th>3.00</th>\n",
       "      <th>3.50</th>\n",
       "      <th>4.00</th>\n",
       "      <th>4.50</th>\n",
       "      <th>5.00</th>\n",
       "      <th>...</th>\n",
       "      <th>13.50</th>\n",
       "      <th>14.00</th>\n",
       "      <th>14.50</th>\n",
       "      <th>15.00</th>\n",
       "      <th>15.50</th>\n",
       "      <th>16.00</th>\n",
       "      <th>16.50</th>\n",
       "      <th>17.00</th>\n",
       "      <th>17.50</th>\n",
       "      <th>18.00</th>\n",
       "    </tr>\n",
       "    <tr>\n",
       "      <th>Date</th>\n",
       "      <th></th>\n",
       "      <th></th>\n",
       "      <th></th>\n",
       "      <th></th>\n",
       "      <th></th>\n",
       "      <th></th>\n",
       "      <th></th>\n",
       "      <th></th>\n",
       "      <th></th>\n",
       "      <th></th>\n",
       "      <th></th>\n",
       "      <th></th>\n",
       "      <th></th>\n",
       "      <th></th>\n",
       "      <th></th>\n",
       "      <th></th>\n",
       "      <th></th>\n",
       "      <th></th>\n",
       "      <th></th>\n",
       "      <th></th>\n",
       "      <th></th>\n",
       "    </tr>\n",
       "  </thead>\n",
       "  <tbody>\n",
       "    <tr>\n",
       "      <th>2011-07-01</th>\n",
       "      <td>4.21</td>\n",
       "      <td>4.82</td>\n",
       "      <td>5.315</td>\n",
       "      <td>5.81</td>\n",
       "      <td>6.2</td>\n",
       "      <td>6.59</td>\n",
       "      <td>6.84</td>\n",
       "      <td>7.09</td>\n",
       "      <td>7.34</td>\n",
       "      <td>7.59</td>\n",
       "      <td>...</td>\n",
       "      <td>8.432</td>\n",
       "      <td>8.438</td>\n",
       "      <td>8.444</td>\n",
       "      <td>8.45</td>\n",
       "      <td>8.45</td>\n",
       "      <td>8.45</td>\n",
       "      <td>8.45</td>\n",
       "      <td>8.45</td>\n",
       "      <td>8.45</td>\n",
       "      <td>8.45</td>\n",
       "    </tr>\n",
       "  </tbody>\n",
       "</table>\n",
       "<p>1 rows × 36 columns</p>\n",
       "</div>"
      ],
      "text/plain": [
       "            0.50  1.00   1.50  2.00  2.50  3.00  3.50  4.00  4.50  5.00  \\\n",
       "Date                                                                      \n",
       "2011-07-01  4.21  4.82  5.315  5.81   6.2  6.59  6.84  7.09  7.34  7.59   \n",
       "\n",
       "            ...    13.50  14.00  14.50  15.00  15.50  16.00  16.50  17.00  \\\n",
       "Date        ...                                                             \n",
       "2011-07-01  ...    8.432  8.438  8.444   8.45   8.45   8.45   8.45   8.45   \n",
       "\n",
       "            17.50  18.00  \n",
       "Date                      \n",
       "2011-07-01   8.45   8.45  \n",
       "\n",
       "[1 rows x 36 columns]"
      ]
     },
     "execution_count": 72,
     "metadata": {},
     "output_type": "execute_result"
    }
   ],
   "source": [
    "first_discount_rates"
   ]
  },
  {
   "cell_type": "code",
   "execution_count": 73,
   "metadata": {},
   "outputs": [
    {
     "data": {
      "text/plain": [
       "Index(['0.50', '1.00', '1.50', '2.00', '2.50', '3.00', '3.50', '4.00', '4.50',\n",
       "       '5.00', '5.50', '6.00', '6.50', '7.00', '7.50', '8.00', '8.50', '9.00',\n",
       "       '9.50', '10.00', '10.50', '11.00', '11.50', '12.00', '12.50', '13.00',\n",
       "       '13.50', '14.00', '14.50', '15.00', '15.50', '16.00', '16.50', '17.00',\n",
       "       '17.50', '18.00'],\n",
       "      dtype='object')"
      ]
     },
     "execution_count": 73,
     "metadata": {},
     "output_type": "execute_result"
    }
   ],
   "source": [
    "rates.columns"
   ]
  },
  {
   "cell_type": "code",
   "execution_count": 74,
   "metadata": {},
   "outputs": [
    {
     "data": {
      "text/plain": [
       "(1, 36)"
      ]
     },
     "execution_count": 74,
     "metadata": {},
     "output_type": "execute_result"
    }
   ],
   "source": [
    "s_arr = np.arange(0.5, 18.5, 0.5).reshape(1, 36) # payment periods\n",
    "s_arr.shape"
   ]
  },
  {
   "cell_type": "code",
   "execution_count": 75,
   "metadata": {},
   "outputs": [
    {
     "data": {
      "text/plain": [
       "array([[ 0.5,  1. ,  1.5,  2. ,  2.5,  3. ,  3.5,  4. ,  4.5,  5. ,  5.5,\n",
       "         6. ,  6.5,  7. ,  7.5,  8. ,  8.5,  9. ,  9.5, 10. , 10.5, 11. ,\n",
       "        11.5, 12. , 12.5, 13. , 13.5, 14. , 14.5, 15. , 15.5, 16. , 16.5,\n",
       "        17. , 17.5, 18. ]])"
      ]
     },
     "execution_count": 75,
     "metadata": {},
     "output_type": "execute_result"
    }
   ],
   "source": [
    "s_arr"
   ]
  },
  {
   "cell_type": "code",
   "execution_count": 76,
   "metadata": {},
   "outputs": [
    {
     "data": {
      "text/plain": [
       "array([[0.97917   , 0.95294318, 0.92337024, 0.89029715, 0.85641518,\n",
       "        0.820616  , 0.78709998, 0.75306781, 0.71870809, 0.68420343,\n",
       "        0.65412128, 0.62456492, 0.5955842 , 0.56722456, 0.54273994,\n",
       "        0.51906128, 0.49617579, 0.47407014, 0.45273046, 0.43214245,\n",
       "        0.41412807, 0.39684083, 0.38025241, 0.36433555, 0.349064  ,\n",
       "        0.33441251, 0.32035677, 0.3068734 , 0.29393989, 0.28153458,\n",
       "        0.26988752, 0.2587223 , 0.24801898, 0.23775846, 0.22792241,\n",
       "        0.21849328]])"
      ]
     },
     "execution_count": 76,
     "metadata": {},
     "output_type": "execute_result"
    }
   ],
   "source": [
    "first_discount_factors = np.exp(-(np.array(first_discount_rates)/100)*s_arr) # дисконты для первого расчета\n",
    "first_discount_factors"
   ]
  },
  {
   "cell_type": "code",
   "execution_count": 77,
   "metadata": {},
   "outputs": [
    {
     "data": {
      "text/html": [
       "<div>\n",
       "<style scoped>\n",
       "    .dataframe tbody tr th:only-of-type {\n",
       "        vertical-align: middle;\n",
       "    }\n",
       "\n",
       "    .dataframe tbody tr th {\n",
       "        vertical-align: top;\n",
       "    }\n",
       "\n",
       "    .dataframe thead th {\n",
       "        text-align: right;\n",
       "    }\n",
       "</style>\n",
       "<table border=\"1\" class=\"dataframe\">\n",
       "  <thead>\n",
       "    <tr style=\"text-align: right;\">\n",
       "      <th></th>\n",
       "      <th>0.50</th>\n",
       "      <th>1.00</th>\n",
       "      <th>1.50</th>\n",
       "      <th>2.00</th>\n",
       "      <th>2.50</th>\n",
       "      <th>3.00</th>\n",
       "      <th>3.50</th>\n",
       "      <th>4.00</th>\n",
       "      <th>4.50</th>\n",
       "      <th>5.00</th>\n",
       "      <th>...</th>\n",
       "      <th>13.50</th>\n",
       "      <th>14.00</th>\n",
       "      <th>14.50</th>\n",
       "      <th>15.00</th>\n",
       "      <th>15.50</th>\n",
       "      <th>16.00</th>\n",
       "      <th>16.50</th>\n",
       "      <th>17.00</th>\n",
       "      <th>17.50</th>\n",
       "      <th>18.00</th>\n",
       "    </tr>\n",
       "    <tr>\n",
       "      <th>Date</th>\n",
       "      <th></th>\n",
       "      <th></th>\n",
       "      <th></th>\n",
       "      <th></th>\n",
       "      <th></th>\n",
       "      <th></th>\n",
       "      <th></th>\n",
       "      <th></th>\n",
       "      <th></th>\n",
       "      <th></th>\n",
       "      <th></th>\n",
       "      <th></th>\n",
       "      <th></th>\n",
       "      <th></th>\n",
       "      <th></th>\n",
       "      <th></th>\n",
       "      <th></th>\n",
       "      <th></th>\n",
       "      <th></th>\n",
       "      <th></th>\n",
       "      <th></th>\n",
       "    </tr>\n",
       "  </thead>\n",
       "  <tbody>\n",
       "    <tr>\n",
       "      <th>2011-07-01</th>\n",
       "      <td>0.979170</td>\n",
       "      <td>0.952943</td>\n",
       "      <td>0.923370</td>\n",
       "      <td>0.890297</td>\n",
       "      <td>0.856415</td>\n",
       "      <td>0.820616</td>\n",
       "      <td>0.787100</td>\n",
       "      <td>0.753068</td>\n",
       "      <td>0.718708</td>\n",
       "      <td>0.684203</td>\n",
       "      <td>...</td>\n",
       "      <td>0.320357</td>\n",
       "      <td>0.306873</td>\n",
       "      <td>0.293940</td>\n",
       "      <td>0.281535</td>\n",
       "      <td>0.269888</td>\n",
       "      <td>0.258722</td>\n",
       "      <td>0.248019</td>\n",
       "      <td>0.237758</td>\n",
       "      <td>0.227922</td>\n",
       "      <td>0.218493</td>\n",
       "    </tr>\n",
       "    <tr>\n",
       "      <th>2011-07-04</th>\n",
       "      <td>0.979611</td>\n",
       "      <td>0.953801</td>\n",
       "      <td>0.924479</td>\n",
       "      <td>0.891544</td>\n",
       "      <td>0.857594</td>\n",
       "      <td>0.821601</td>\n",
       "      <td>0.787858</td>\n",
       "      <td>0.753520</td>\n",
       "      <td>0.718789</td>\n",
       "      <td>0.683861</td>\n",
       "      <td>...</td>\n",
       "      <td>0.320487</td>\n",
       "      <td>0.306959</td>\n",
       "      <td>0.293983</td>\n",
       "      <td>0.281535</td>\n",
       "      <td>0.269888</td>\n",
       "      <td>0.258722</td>\n",
       "      <td>0.248019</td>\n",
       "      <td>0.237758</td>\n",
       "      <td>0.227922</td>\n",
       "      <td>0.218493</td>\n",
       "    </tr>\n",
       "    <tr>\n",
       "      <th>2011-07-05</th>\n",
       "      <td>0.979660</td>\n",
       "      <td>0.953706</td>\n",
       "      <td>0.924202</td>\n",
       "      <td>0.891010</td>\n",
       "      <td>0.857272</td>\n",
       "      <td>0.821601</td>\n",
       "      <td>0.788272</td>\n",
       "      <td>0.754425</td>\n",
       "      <td>0.720246</td>\n",
       "      <td>0.685916</td>\n",
       "      <td>...</td>\n",
       "      <td>0.325457</td>\n",
       "      <td>0.311985</td>\n",
       "      <td>0.299056</td>\n",
       "      <td>0.286648</td>\n",
       "      <td>0.274954</td>\n",
       "      <td>0.263738</td>\n",
       "      <td>0.252979</td>\n",
       "      <td>0.242659</td>\n",
       "      <td>0.232759</td>\n",
       "      <td>0.223264</td>\n",
       "    </tr>\n",
       "    <tr>\n",
       "      <th>2011-07-06</th>\n",
       "      <td>0.979905</td>\n",
       "      <td>0.954278</td>\n",
       "      <td>0.925242</td>\n",
       "      <td>0.892615</td>\n",
       "      <td>0.859203</td>\n",
       "      <td>0.823823</td>\n",
       "      <td>0.790551</td>\n",
       "      <td>0.756691</td>\n",
       "      <td>0.722437</td>\n",
       "      <td>0.687977</td>\n",
       "      <td>...</td>\n",
       "      <td>0.325150</td>\n",
       "      <td>0.311636</td>\n",
       "      <td>0.298666</td>\n",
       "      <td>0.286218</td>\n",
       "      <td>0.274529</td>\n",
       "      <td>0.263316</td>\n",
       "      <td>0.252562</td>\n",
       "      <td>0.242246</td>\n",
       "      <td>0.232352</td>\n",
       "      <td>0.222863</td>\n",
       "    </tr>\n",
       "    <tr>\n",
       "      <th>2011-07-07</th>\n",
       "      <td>0.979758</td>\n",
       "      <td>0.954183</td>\n",
       "      <td>0.925242</td>\n",
       "      <td>0.892793</td>\n",
       "      <td>0.859633</td>\n",
       "      <td>0.824564</td>\n",
       "      <td>0.791589</td>\n",
       "      <td>0.758054</td>\n",
       "      <td>0.724146</td>\n",
       "      <td>0.690044</td>\n",
       "      <td>...</td>\n",
       "      <td>0.327175</td>\n",
       "      <td>0.313561</td>\n",
       "      <td>0.300490</td>\n",
       "      <td>0.287941</td>\n",
       "      <td>0.276236</td>\n",
       "      <td>0.265007</td>\n",
       "      <td>0.254234</td>\n",
       "      <td>0.243899</td>\n",
       "      <td>0.233985</td>\n",
       "      <td>0.224473</td>\n",
       "    </tr>\n",
       "  </tbody>\n",
       "</table>\n",
       "<p>5 rows × 36 columns</p>\n",
       "</div>"
      ],
      "text/plain": [
       "                0.50      1.00      1.50      2.00      2.50      3.00  \\\n",
       "Date                                                                     \n",
       "2011-07-01  0.979170  0.952943  0.923370  0.890297  0.856415  0.820616   \n",
       "2011-07-04  0.979611  0.953801  0.924479  0.891544  0.857594  0.821601   \n",
       "2011-07-05  0.979660  0.953706  0.924202  0.891010  0.857272  0.821601   \n",
       "2011-07-06  0.979905  0.954278  0.925242  0.892615  0.859203  0.823823   \n",
       "2011-07-07  0.979758  0.954183  0.925242  0.892793  0.859633  0.824564   \n",
       "\n",
       "                3.50      4.00      4.50      5.00    ...        13.50  \\\n",
       "Date                                                  ...                \n",
       "2011-07-01  0.787100  0.753068  0.718708  0.684203    ...     0.320357   \n",
       "2011-07-04  0.787858  0.753520  0.718789  0.683861    ...     0.320487   \n",
       "2011-07-05  0.788272  0.754425  0.720246  0.685916    ...     0.325457   \n",
       "2011-07-06  0.790551  0.756691  0.722437  0.687977    ...     0.325150   \n",
       "2011-07-07  0.791589  0.758054  0.724146  0.690044    ...     0.327175   \n",
       "\n",
       "               14.00     14.50     15.00     15.50     16.00     16.50  \\\n",
       "Date                                                                     \n",
       "2011-07-01  0.306873  0.293940  0.281535  0.269888  0.258722  0.248019   \n",
       "2011-07-04  0.306959  0.293983  0.281535  0.269888  0.258722  0.248019   \n",
       "2011-07-05  0.311985  0.299056  0.286648  0.274954  0.263738  0.252979   \n",
       "2011-07-06  0.311636  0.298666  0.286218  0.274529  0.263316  0.252562   \n",
       "2011-07-07  0.313561  0.300490  0.287941  0.276236  0.265007  0.254234   \n",
       "\n",
       "               17.00     17.50     18.00  \n",
       "Date                                      \n",
       "2011-07-01  0.237758  0.227922  0.218493  \n",
       "2011-07-04  0.237758  0.227922  0.218493  \n",
       "2011-07-05  0.242659  0.232759  0.223264  \n",
       "2011-07-06  0.242246  0.232352  0.222863  \n",
       "2011-07-07  0.243899  0.233985  0.224473  \n",
       "\n",
       "[5 rows x 36 columns]"
      ]
     },
     "execution_count": 77,
     "metadata": {},
     "output_type": "execute_result"
    }
   ],
   "source": [
    "# датафрейм с будущими дисконт-факторами\n",
    "\n",
    "discount_factors_today_future_unclean = pd.DataFrame(np.exp(-(np.array(rates_today_future)/100)*s_arr))\n",
    "discount_factors_today_future = discount_factors_today_future_unclean.set_index(rates_today_future.index, 'Dates')\n",
    "\n",
    "discount_factors_today_future.columns = rates_today_future.columns\n",
    "discount_factors_today_future.head()"
   ]
  },
  {
   "cell_type": "markdown",
   "metadata": {},
   "source": [
    "### Функции для выполнения расчетов по облигациям (перепроверить, особенно CF)"
   ]
  },
  {
   "cell_type": "code",
   "execution_count": 78,
   "metadata": {
    "collapsed": true
   },
   "outputs": [],
   "source": [
    "def bond_cash_flows(face_value, coupon_rate_yearly, n_payments_per_year, n_years, bond_type):\n",
    "    \n",
    "    coup_rate_yearly_percent = coupon_rate_yearly/100\n",
    "    coup_rate = coup_rate_yearly_percent/n_payments_per_year\n",
    "    n_payment_periods = n_payments_per_year*n_years\n",
    "    \n",
    "    if bond_type == 'plain vanilla':\n",
    "        cash_flows = [coup_rate*face_value]*(n_payment_periods-1)\n",
    "        cash_flows.append(coup_rate*face_value + face_value)\n",
    "        cash_flows = np.array(cash_flows).reshape(1, len(cash_flows))\n",
    "        return cash_flows\n",
    "    \n",
    "    \n",
    "    elif bond_type == 'amortized':\n",
    "        face_flows = np.array([face_value/n_payment_periods]*n_payment_periods)\n",
    "        face_left = face_value - np.array([0] + list(np.cumsum(face_flows)[:-1]))\n",
    "        coupon_flows = coup_rate*face_left\n",
    "        cash_flows = face_flows + coupon_flows\n",
    "        return cash_flows.reshape(1, len(cash_flows))\n",
    "    \n",
    "    else:\n",
    "        return 'Error! Iappropriate bond type.'\n",
    "    \n",
    "#############################################################################\n",
    "\n",
    "def bond_dcf(face_value, coupon_rate_yearly, n_payments_per_year, n_years, bond_type, discount_factors):\n",
    "    cash_flows = bond_cash_flows(face_value, coupon_rate_yearly, n_payments_per_year, n_years, bond_type)\n",
    "    \n",
    "    return discount_factors[:, :len(cash_flows)]*cash_flows\n",
    "   \n",
    "#############################################################################    \n",
    "    \n",
    "def bond_price(face_value, coupon_rate_yearly, n_payments_per_year, n_years, bond_type, discount_factors):\n",
    "    discounted_cf = bond_dcf(face_value, coupon_rate_yearly, n_payments_per_year, n_years, bond_type, discount_factors)\n",
    "    return np.sum(discounted_cf)\n",
    "\n",
    "#############################################################################\n",
    "\n",
    "def fisher_weil_duration(face_value, coupon_rate_yearly, n_payments_per_year, n_years, bond_type, discount_factors):\n",
    "    \n",
    "    payment_periods = np.arange(1/n_payments_per_year, n_years + 1/n_payments_per_year,\n",
    "                  1/n_payments_per_year).reshape(1, n_years*n_payments_per_year) \n",
    "    \n",
    "    discounted_cf = bond_dcf(face_value, coupon_rate_yearly, n_payments_per_year, n_years, bond_type, discount_factors)\n",
    "    b_price = bond_price(face_value, coupon_rate_yearly, n_payments_per_year, n_years, bond_type, discount_factors)\n",
    "    \n",
    "    return np.sum(discounted_cf*payment_periods)/b_price"
   ]
  },
  {
   "cell_type": "code",
   "execution_count": 79,
   "metadata": {
    "collapsed": true
   },
   "outputs": [],
   "source": [
    "wow = [[1, 3], [5, 500]]"
   ]
  },
  {
   "cell_type": "code",
   "execution_count": 80,
   "metadata": {},
   "outputs": [
    {
     "data": {
      "text/plain": [
       "5"
      ]
     },
     "execution_count": 80,
     "metadata": {},
     "output_type": "execute_result"
    }
   ],
   "source": [
    "np.max([item[0] for item in wow])"
   ]
  },
  {
   "cell_type": "code",
   "execution_count": 81,
   "metadata": {
    "collapsed": true
   },
   "outputs": [],
   "source": [
    "def delta_norm_bond_VaR_ES(bonds_list_params): # list of lists with parameters\n",
    "    # face_value, coupon_rate_yearly, n_payments_per_year, n_years, bond_type\n",
    "    \n",
    "    n_payment_periods = np.max([item[2] for item in bonds_list_params])*np.max([item[3] for item in bonds_list_params])\n",
    "    \n",
    "    for bond_params in bonds_list_params:\n",
    "        bond_cash_flows(bond_params[0], bond_params[1], bond_params[2], bond_params[3], bond_params[4])\n",
    "        \n",
    "    return 1"
   ]
  },
  {
   "cell_type": "code",
   "execution_count": 89,
   "metadata": {},
   "outputs": [
    {
     "data": {
      "text/html": [
       "<div>\n",
       "<style scoped>\n",
       "    .dataframe tbody tr th:only-of-type {\n",
       "        vertical-align: middle;\n",
       "    }\n",
       "\n",
       "    .dataframe tbody tr th {\n",
       "        vertical-align: top;\n",
       "    }\n",
       "\n",
       "    .dataframe thead th {\n",
       "        text-align: right;\n",
       "    }\n",
       "</style>\n",
       "<table border=\"1\" class=\"dataframe\">\n",
       "  <thead>\n",
       "    <tr style=\"text-align: right;\">\n",
       "      <th></th>\n",
       "      <th>0.50</th>\n",
       "      <th>1.00</th>\n",
       "      <th>1.50</th>\n",
       "      <th>2.00</th>\n",
       "      <th>2.50</th>\n",
       "      <th>3.00</th>\n",
       "      <th>3.50</th>\n",
       "      <th>4.00</th>\n",
       "      <th>4.50</th>\n",
       "      <th>5.00</th>\n",
       "      <th>...</th>\n",
       "      <th>13.50</th>\n",
       "      <th>14.00</th>\n",
       "      <th>14.50</th>\n",
       "      <th>15.00</th>\n",
       "      <th>15.50</th>\n",
       "      <th>16.00</th>\n",
       "      <th>16.50</th>\n",
       "      <th>17.00</th>\n",
       "      <th>17.50</th>\n",
       "      <th>18.00</th>\n",
       "    </tr>\n",
       "    <tr>\n",
       "      <th>Date</th>\n",
       "      <th></th>\n",
       "      <th></th>\n",
       "      <th></th>\n",
       "      <th></th>\n",
       "      <th></th>\n",
       "      <th></th>\n",
       "      <th></th>\n",
       "      <th></th>\n",
       "      <th></th>\n",
       "      <th></th>\n",
       "      <th></th>\n",
       "      <th></th>\n",
       "      <th></th>\n",
       "      <th></th>\n",
       "      <th></th>\n",
       "      <th></th>\n",
       "      <th></th>\n",
       "      <th></th>\n",
       "      <th></th>\n",
       "      <th></th>\n",
       "      <th></th>\n",
       "    </tr>\n",
       "  </thead>\n",
       "  <tbody>\n",
       "    <tr>\n",
       "      <th>2011-07-01</th>\n",
       "      <td>4.21</td>\n",
       "      <td>4.82</td>\n",
       "      <td>5.315</td>\n",
       "      <td>5.81</td>\n",
       "      <td>6.2</td>\n",
       "      <td>6.59</td>\n",
       "      <td>6.84</td>\n",
       "      <td>7.09</td>\n",
       "      <td>7.34</td>\n",
       "      <td>7.59</td>\n",
       "      <td>...</td>\n",
       "      <td>8.432</td>\n",
       "      <td>8.438</td>\n",
       "      <td>8.444</td>\n",
       "      <td>8.45</td>\n",
       "      <td>8.45</td>\n",
       "      <td>8.45</td>\n",
       "      <td>8.45</td>\n",
       "      <td>8.45</td>\n",
       "      <td>8.45</td>\n",
       "      <td>8.45</td>\n",
       "    </tr>\n",
       "  </tbody>\n",
       "</table>\n",
       "<p>1 rows × 36 columns</p>\n",
       "</div>"
      ],
      "text/plain": [
       "            0.50  1.00   1.50  2.00  2.50  3.00  3.50  4.00  4.50  5.00  \\\n",
       "Date                                                                      \n",
       "2011-07-01  4.21  4.82  5.315  5.81   6.2  6.59  6.84  7.09  7.34  7.59   \n",
       "\n",
       "            ...    13.50  14.00  14.50  15.00  15.50  16.00  16.50  17.00  \\\n",
       "Date        ...                                                             \n",
       "2011-07-01  ...    8.432  8.438  8.444   8.45   8.45   8.45   8.45   8.45   \n",
       "\n",
       "            17.50  18.00  \n",
       "Date                      \n",
       "2011-07-01   8.45   8.45  \n",
       "\n",
       "[1 rows x 36 columns]"
      ]
     },
     "execution_count": 89,
     "metadata": {},
     "output_type": "execute_result"
    }
   ],
   "source": [
    "first_discount_rates"
   ]
  },
  {
   "cell_type": "code",
   "execution_count": 84,
   "metadata": {},
   "outputs": [
    {
     "data": {
      "text/plain": [
       "array([[12.5 , 12.25, 12.  , 11.75, 11.5 , 11.25, 11.  , 10.75, 10.5 ,\n",
       "        10.25]])"
      ]
     },
     "execution_count": 84,
     "metadata": {},
     "output_type": "execute_result"
    }
   ],
   "source": [
    "trial_cf = bond_cash_flows(100, 5, 2, 5, 'amortized')\n",
    "trial_cf "
   ]
  },
  {
   "cell_type": "code",
   "execution_count": 85,
   "metadata": {},
   "outputs": [
    {
     "data": {
      "text/plain": [
       "array([[12.23962506, 11.99483256, 11.75004006, 11.50524756, 11.26045506,\n",
       "        11.01566255, 10.77087005, 10.52607755, 10.28128505, 10.03649255]])"
      ]
     },
     "execution_count": 85,
     "metadata": {},
     "output_type": "execute_result"
    }
   ],
   "source": [
    "trial_dcf = bond_dcf(100, 5, 2, 5, 'amortized', first_discount_factors)\n",
    "trial_dcf "
   ]
  },
  {
   "cell_type": "code",
   "execution_count": 86,
   "metadata": {},
   "outputs": [
    {
     "data": {
      "text/plain": [
       "111.38058805114541"
      ]
     },
     "execution_count": 86,
     "metadata": {},
     "output_type": "execute_result"
    }
   ],
   "source": [
    "trial_price = bond_price(100, 5, 2, 5, 'amortized', first_discount_factors)\n",
    "trial_price "
   ]
  },
  {
   "cell_type": "code",
   "execution_count": 87,
   "metadata": {},
   "outputs": [
    {
     "data": {
      "text/plain": [
       "2.659340659340659"
      ]
     },
     "execution_count": 87,
     "metadata": {},
     "output_type": "execute_result"
    }
   ],
   "source": [
    "fisher_weil_duration(100, 5, 2, 5, 'amortized', first_discount_factors)"
   ]
  },
  {
   "cell_type": "markdown",
   "metadata": {},
   "source": [
    "### Bond porfolio analysis"
   ]
  },
  {
   "cell_type": "code",
   "execution_count": 90,
   "metadata": {
    "collapsed": true
   },
   "outputs": [],
   "source": [
    "bond1_params = {'face_value':100, 'coupon_rate_yearly':4.84, 'n_payments_per_year':2, 'n_years': 2,\n",
    "               'bond_type':'plain vanilla'}\n",
    "bond2_params = {'face_value':100, 'coupon_rate_yearly':6.14, 'n_payments_per_year':2, 'n_years': 3,\n",
    "               'bond_type':'plain vanilla'}\n",
    "bond3_params = {'face_value':100, 'coupon_rate_yearly':5.7, 'n_payments_per_year':2, 'n_years': 6,\n",
    "               'bond_type':'plain vanilla'}\n",
    "bond4_params = {'face_value':100, 'coupon_rate_yearly':4.34, 'n_payments_per_year':2, 'n_years': 10,\n",
    "               'bond_type':'amortized'}\n",
    "bond5_params = {'face_value':100, 'coupon_rate_yearly':2.28, 'n_payments_per_year':1, 'n_years': 13,\n",
    "               'bond_type':'amortized'}\n",
    "bond6_params = {'face_value':100, 'coupon_rate_yearly':4.73, 'n_payments_per_year':1, 'n_years': 18,\n",
    "               'bond_type':'amortized'}"
   ]
  },
  {
   "cell_type": "code",
   "execution_count": 91,
   "metadata": {},
   "outputs": [
    {
     "data": {
      "text/plain": [
       "array([[  2.42,   2.42,   2.42, 102.42]])"
      ]
     },
     "execution_count": 91,
     "metadata": {},
     "output_type": "execute_result"
    }
   ],
   "source": [
    "bond1_cf = \\\n",
    "bond_cash_flows(face_value=bond1_params['face_value'], coupon_rate_yearly=bond1_params['coupon_rate_yearly'],\n",
    "               n_payments_per_year=bond1_params['n_payments_per_year'], n_years=bond1_params['n_years'],\n",
    "               bond_type=bond1_params['bond_type'])\n",
    "bond1_cf"
   ]
  },
  {
   "cell_type": "code",
   "execution_count": 92,
   "metadata": {},
   "outputs": [
    {
     "data": {
      "text/plain": [
       "array([[  3.07,   3.07,   3.07,   3.07,   3.07, 103.07]])"
      ]
     },
     "execution_count": 92,
     "metadata": {},
     "output_type": "execute_result"
    }
   ],
   "source": [
    "bond2_cf = \\\n",
    "bond_cash_flows(face_value=bond2_params['face_value'], coupon_rate_yearly=bond2_params['coupon_rate_yearly'],\n",
    "               n_payments_per_year=bond2_params['n_payments_per_year'], n_years=bond2_params['n_years'],\n",
    "               bond_type=bond2_params['bond_type'])\n",
    "bond2_cf"
   ]
  },
  {
   "cell_type": "code",
   "execution_count": 93,
   "metadata": {},
   "outputs": [
    {
     "data": {
      "text/plain": [
       "array([[  2.85,   2.85,   2.85,   2.85,   2.85,   2.85,   2.85,   2.85,\n",
       "          2.85,   2.85,   2.85, 102.85]])"
      ]
     },
     "execution_count": 93,
     "metadata": {},
     "output_type": "execute_result"
    }
   ],
   "source": [
    "bond3_cf = \\\n",
    "bond_cash_flows(face_value=bond3_params['face_value'], coupon_rate_yearly=bond3_params['coupon_rate_yearly'],\n",
    "               n_payments_per_year=bond3_params['n_payments_per_year'], n_years=bond3_params['n_years'],\n",
    "               bond_type=bond3_params['bond_type'])\n",
    "bond3_cf"
   ]
  },
  {
   "cell_type": "code",
   "execution_count": 94,
   "metadata": {},
   "outputs": [
    {
     "data": {
      "text/plain": [
       "array([[7.17  , 7.0615, 6.953 , 6.8445, 6.736 , 6.6275, 6.519 , 6.4105,\n",
       "        6.302 , 6.1935, 6.085 , 5.9765, 5.868 , 5.7595, 5.651 , 5.5425,\n",
       "        5.434 , 5.3255, 5.217 , 5.1085]])"
      ]
     },
     "execution_count": 94,
     "metadata": {},
     "output_type": "execute_result"
    }
   ],
   "source": [
    "bond4_cf = \\\n",
    "bond_cash_flows(face_value=bond4_params['face_value'], coupon_rate_yearly=bond4_params['coupon_rate_yearly'],\n",
    "               n_payments_per_year=bond4_params['n_payments_per_year'], n_years=bond4_params['n_years'],\n",
    "               bond_type=bond4_params['bond_type'])\n",
    "bond4_cf"
   ]
  },
  {
   "cell_type": "code",
   "execution_count": 95,
   "metadata": {},
   "outputs": [
    {
     "data": {
      "text/plain": [
       "array([[9.97230769, 9.79692308, 9.62153846, 9.44615385, 9.27076923,\n",
       "        9.09538462, 8.92      , 8.74461538, 8.56923077, 8.39384615,\n",
       "        8.21846154, 8.04307692, 7.86769231]])"
      ]
     },
     "execution_count": 95,
     "metadata": {},
     "output_type": "execute_result"
    }
   ],
   "source": [
    "bond5_cf = \\\n",
    "bond_cash_flows(face_value=bond5_params['face_value'], coupon_rate_yearly=bond5_params['coupon_rate_yearly'],\n",
    "               n_payments_per_year=bond5_params['n_payments_per_year'], n_years=bond5_params['n_years'],\n",
    "               bond_type=bond5_params['bond_type'])\n",
    "bond5_cf"
   ]
  },
  {
   "cell_type": "code",
   "execution_count": 96,
   "metadata": {},
   "outputs": [
    {
     "data": {
      "text/plain": [
       "array([[10.28555556, 10.02277778,  9.76      ,  9.49722222,  9.23444444,\n",
       "         8.97166667,  8.70888889,  8.44611111,  8.18333333,  7.92055556,\n",
       "         7.65777778,  7.395     ,  7.13222222,  6.86944444,  6.60666667,\n",
       "         6.34388889,  6.08111111,  5.81833333]])"
      ]
     },
     "execution_count": 96,
     "metadata": {},
     "output_type": "execute_result"
    }
   ],
   "source": [
    "bond6_cf = \\\n",
    "bond_cash_flows(face_value=bond6_params['face_value'], coupon_rate_yearly=bond6_params['coupon_rate_yearly'],\n",
    "               n_payments_per_year=bond6_params['n_payments_per_year'], n_years=bond6_params['n_years'],\n",
    "               bond_type=bond6_params['bond_type'])\n",
    "bond6_cf"
   ]
  },
  {
   "cell_type": "code",
   "execution_count": 97,
   "metadata": {},
   "outputs": [
    {
     "data": {
      "text/plain": [
       "array([7.17  , 7.0615, 6.953 , 6.8445, 6.736 , 6.6275, 6.519 , 6.4105,\n",
       "       6.302 , 6.1935, 6.085 , 5.9765, 5.868 , 5.7595, 5.651 , 5.5425,\n",
       "       5.434 , 5.3255, 5.217 , 5.1085, 0.    , 0.    , 0.    , 0.    ,\n",
       "       0.    , 0.    , 0.    , 0.    , 0.    , 0.    , 0.    , 0.    ,\n",
       "       0.    , 0.    , 0.    , 0.    ])"
      ]
     },
     "execution_count": 97,
     "metadata": {},
     "output_type": "execute_result"
    }
   ],
   "source": [
    "bond1_cf_clear = np.append(bond1_cf, np.zeros((1, 18*2-bond1_cf.shape[1])))\n",
    "bond2_cf_clear = np.append(bond2_cf, np.zeros((1, 18*2-bond2_cf.shape[1])))\n",
    "bond3_cf_clear = np.append(bond3_cf, np.zeros((1, 18*2-bond3_cf.shape[1])))\n",
    "bond4_cf_clear = np.append(bond4_cf, np.zeros((1, 18*2-bond4_cf.shape[1])))\n",
    "\n",
    "bond4_cf_clear"
   ]
  },
  {
   "cell_type": "code",
   "execution_count": 98,
   "metadata": {},
   "outputs": [
    {
     "data": {
      "text/plain": [
       "array([ 0.        , 10.28555556,  0.        , 10.02277778,  0.        ,\n",
       "        9.76      ,  0.        ,  9.49722222,  0.        ,  9.23444444,\n",
       "        0.        ,  8.97166667,  0.        ,  8.70888889,  0.        ,\n",
       "        8.44611111,  0.        ,  8.18333333,  0.        ,  7.92055556,\n",
       "        0.        ,  7.65777778,  0.        ,  7.395     ,  0.        ,\n",
       "        7.13222222,  0.        ,  6.86944444,  0.        ,  6.60666667,\n",
       "        0.        ,  6.34388889,  0.        ,  6.08111111,  0.        ,\n",
       "        5.81833333])"
      ]
     },
     "execution_count": 98,
     "metadata": {},
     "output_type": "execute_result"
    }
   ],
   "source": [
    "bond5_cf_ok = []\n",
    "bond6_cf_clear = []\n",
    "\n",
    "for i in range(bond5_cf.shape[1]):\n",
    "    bond5_cf_ok.append(0)\n",
    "    bond5_cf_ok.extend(bond5_cf[:, i])\n",
    "bond5_cf_ok = np.array(bond5_cf_ok).reshape(bond5_cf.shape[1]*2,)\n",
    "bond5_cf_ok\n",
    "\n",
    "for j in range(bond6_cf.shape[1]):\n",
    "    bond6_cf_clear.append(0)\n",
    "    bond6_cf_clear.extend(bond6_cf[:, j])   \n",
    "bond6_cf_clear = np.array(bond6_cf_clear).reshape(bond6_cf.shape[1]*2,)\n",
    "bond6_cf_clear"
   ]
  },
  {
   "cell_type": "code",
   "execution_count": 101,
   "metadata": {
    "collapsed": true
   },
   "outputs": [],
   "source": [
    "bond5_cf_clear = np.append(bond5_cf_ok, np.zeros((18*2-bond5_cf_ok.shape[0],)))"
   ]
  },
  {
   "cell_type": "code",
   "execution_count": 104,
   "metadata": {},
   "outputs": [
    {
     "data": {
      "text/plain": [
       "array([ 15.51      ,  35.65936325,  15.293     , 135.00420085,\n",
       "        12.656     , 131.92903846,   9.369     ,  28.20387607,\n",
       "         9.152     ,  27.54871368,   8.935     , 126.89355128,\n",
       "         5.868     ,  23.38838889,   5.651     ,  22.7332265 ,\n",
       "         5.434     ,  22.0780641 ,   5.217     ,  21.42290171,\n",
       "         0.        ,  15.87623932,   0.        ,  15.43807692,\n",
       "         0.        ,  14.99991453,   0.        ,   6.86944444,\n",
       "         0.        ,   6.60666667,   0.        ,   6.34388889,\n",
       "         0.        ,   6.08111111,   0.        ,   5.81833333])"
      ]
     },
     "execution_count": 104,
     "metadata": {},
     "output_type": "execute_result"
    }
   ],
   "source": [
    "bond_portfolio_cf = \\\n",
    "bond1_cf_clear + bond2_cf_clear + bond3_cf_clear + bond4_cf_clear + bond5_cf_clear + bond6_cf_clear\n",
    "\n",
    "bond_portfolio_cf # ДЕНЕЖНЫЕ ПОТОКИ ПО ПОРТФЕЛЮ"
   ]
  },
  {
   "cell_type": "code",
   "execution_count": 105,
   "metadata": {},
   "outputs": [
    {
     "data": {
      "text/plain": [
       "array([[ 15.18692678,  33.98134699,  14.12110105, 120.19385473,\n",
       "         10.83879049, 108.26307996,   7.37433971,  21.23943123,\n",
       "          6.57761643,  18.84892426,   5.84457364,  79.25326068,\n",
       "          3.49488811,  13.26646865,   3.06702342,  11.7999376 ,\n",
       "          2.69621924,  10.46655087,   2.36189483,   9.25774523,\n",
       "          0.        ,   6.30034005,   0.        ,   5.62464022,\n",
       "          0.        ,   5.01615901,   0.        ,   2.10804976,\n",
       "          0.        ,   1.86000512,   0.        ,   1.64130551,\n",
       "          0.        ,   1.44583561,   0.        ,   1.27126676]])"
      ]
     },
     "execution_count": 105,
     "metadata": {},
     "output_type": "execute_result"
    }
   ],
   "source": [
    "bond_portfolio_dcf = first_discount_factors[:, :len(bond_portfolio_cf)]*bond_portfolio_cf \n",
    "bond_portfolio_dcf"
   ]
  },
  {
   "cell_type": "code",
   "execution_count": 106,
   "metadata": {},
   "outputs": [
    {
     "data": {
      "text/plain": [
       "523.401575931759"
      ]
     },
     "execution_count": 106,
     "metadata": {},
     "output_type": "execute_result"
    }
   ],
   "source": [
    "bond_portfolio_price = np.sum(bond_portfolio_dcf)\n",
    "bond_portfolio_price"
   ]
  },
  {
   "cell_type": "code",
   "execution_count": 107,
   "metadata": {},
   "outputs": [
    {
     "data": {
      "text/plain": [
       "4.194806970318694"
      ]
     },
     "execution_count": 107,
     "metadata": {},
     "output_type": "execute_result"
    }
   ],
   "source": [
    "bond_portfolio_duration = np.sum(bond_portfolio_dcf*s_arr)/bond_portfolio_price\n",
    "bond_portfolio_duration"
   ]
  },
  {
   "cell_type": "code",
   "execution_count": 108,
   "metadata": {
    "collapsed": true
   },
   "outputs": [],
   "source": [
    "n_days = 10"
   ]
  },
  {
   "cell_type": "code",
   "execution_count": 109,
   "metadata": {},
   "outputs": [
    {
     "data": {
      "text/plain": [
       "0.351197449406666"
      ]
     },
     "execution_count": 109,
     "metadata": {},
     "output_type": "execute_result"
    }
   ],
   "source": [
    "first_quantile"
   ]
  },
  {
   "cell_type": "code",
   "execution_count": 110,
   "metadata": {},
   "outputs": [
    {
     "data": {
      "text/plain": [
       "-0.014732055087292292"
      ]
     },
     "execution_count": 110,
     "metadata": {},
     "output_type": "execute_result"
    }
   ],
   "source": [
    "VaR_1day = bond_portfolio_duration*first_quantile/100\n",
    "-VaR_1day"
   ]
  },
  {
   "cell_type": "code",
   "execution_count": 111,
   "metadata": {},
   "outputs": [
    {
     "data": {
      "text/plain": [
       "0.04658684869091435"
      ]
     },
     "execution_count": 111,
     "metadata": {},
     "output_type": "execute_result"
    }
   ],
   "source": [
    "VaR_10days = bond_portfolio_duration*first_quantile*np.sqrt(n_days)/100\n",
    "VaR_10days"
   ]
  },
  {
   "cell_type": "markdown",
   "metadata": {},
   "source": [
    "### FOR ALL FUTURE DATA"
   ]
  },
  {
   "cell_type": "code",
   "execution_count": 113,
   "metadata": {},
   "outputs": [
    {
     "data": {
      "text/plain": [
       "array([ 15.51      ,  35.65936325,  15.293     , 135.00420085,\n",
       "        12.656     , 131.92903846,   9.369     ,  28.20387607,\n",
       "         9.152     ,  27.54871368,   8.935     , 126.89355128,\n",
       "         5.868     ,  23.38838889,   5.651     ,  22.7332265 ,\n",
       "         5.434     ,  22.0780641 ,   5.217     ,  21.42290171,\n",
       "         0.        ,  15.87623932,   0.        ,  15.43807692,\n",
       "         0.        ,  14.99991453,   0.        ,   6.86944444,\n",
       "         0.        ,   6.60666667,   0.        ,   6.34388889,\n",
       "         0.        ,   6.08111111,   0.        ,   5.81833333])"
      ]
     },
     "execution_count": 113,
     "metadata": {},
     "output_type": "execute_result"
    }
   ],
   "source": [
    "bond_portfolio_cf"
   ]
  },
  {
   "cell_type": "code",
   "execution_count": 114,
   "metadata": {},
   "outputs": [
    {
     "data": {
      "text/html": [
       "<div>\n",
       "<style scoped>\n",
       "    .dataframe tbody tr th:only-of-type {\n",
       "        vertical-align: middle;\n",
       "    }\n",
       "\n",
       "    .dataframe tbody tr th {\n",
       "        vertical-align: top;\n",
       "    }\n",
       "\n",
       "    .dataframe thead th {\n",
       "        text-align: right;\n",
       "    }\n",
       "</style>\n",
       "<table border=\"1\" class=\"dataframe\">\n",
       "  <thead>\n",
       "    <tr style=\"text-align: right;\">\n",
       "      <th></th>\n",
       "      <th>0.50</th>\n",
       "      <th>1.00</th>\n",
       "      <th>1.50</th>\n",
       "      <th>2.00</th>\n",
       "      <th>2.50</th>\n",
       "      <th>3.00</th>\n",
       "      <th>3.50</th>\n",
       "      <th>4.00</th>\n",
       "      <th>4.50</th>\n",
       "      <th>5.00</th>\n",
       "      <th>...</th>\n",
       "      <th>13.50</th>\n",
       "      <th>14.00</th>\n",
       "      <th>14.50</th>\n",
       "      <th>15.00</th>\n",
       "      <th>15.50</th>\n",
       "      <th>16.00</th>\n",
       "      <th>16.50</th>\n",
       "      <th>17.00</th>\n",
       "      <th>17.50</th>\n",
       "      <th>18.00</th>\n",
       "    </tr>\n",
       "    <tr>\n",
       "      <th>Date</th>\n",
       "      <th></th>\n",
       "      <th></th>\n",
       "      <th></th>\n",
       "      <th></th>\n",
       "      <th></th>\n",
       "      <th></th>\n",
       "      <th></th>\n",
       "      <th></th>\n",
       "      <th></th>\n",
       "      <th></th>\n",
       "      <th></th>\n",
       "      <th></th>\n",
       "      <th></th>\n",
       "      <th></th>\n",
       "      <th></th>\n",
       "      <th></th>\n",
       "      <th></th>\n",
       "      <th></th>\n",
       "      <th></th>\n",
       "      <th></th>\n",
       "      <th></th>\n",
       "    </tr>\n",
       "  </thead>\n",
       "  <tbody>\n",
       "    <tr>\n",
       "      <th>2011-07-01</th>\n",
       "      <td>0.979170</td>\n",
       "      <td>0.952943</td>\n",
       "      <td>0.923370</td>\n",
       "      <td>0.890297</td>\n",
       "      <td>0.856415</td>\n",
       "      <td>0.820616</td>\n",
       "      <td>0.787100</td>\n",
       "      <td>0.753068</td>\n",
       "      <td>0.718708</td>\n",
       "      <td>0.684203</td>\n",
       "      <td>...</td>\n",
       "      <td>0.320357</td>\n",
       "      <td>0.306873</td>\n",
       "      <td>0.293940</td>\n",
       "      <td>0.281535</td>\n",
       "      <td>0.269888</td>\n",
       "      <td>0.258722</td>\n",
       "      <td>0.248019</td>\n",
       "      <td>0.237758</td>\n",
       "      <td>0.227922</td>\n",
       "      <td>0.218493</td>\n",
       "    </tr>\n",
       "    <tr>\n",
       "      <th>2011-07-04</th>\n",
       "      <td>0.979611</td>\n",
       "      <td>0.953801</td>\n",
       "      <td>0.924479</td>\n",
       "      <td>0.891544</td>\n",
       "      <td>0.857594</td>\n",
       "      <td>0.821601</td>\n",
       "      <td>0.787858</td>\n",
       "      <td>0.753520</td>\n",
       "      <td>0.718789</td>\n",
       "      <td>0.683861</td>\n",
       "      <td>...</td>\n",
       "      <td>0.320487</td>\n",
       "      <td>0.306959</td>\n",
       "      <td>0.293983</td>\n",
       "      <td>0.281535</td>\n",
       "      <td>0.269888</td>\n",
       "      <td>0.258722</td>\n",
       "      <td>0.248019</td>\n",
       "      <td>0.237758</td>\n",
       "      <td>0.227922</td>\n",
       "      <td>0.218493</td>\n",
       "    </tr>\n",
       "    <tr>\n",
       "      <th>2011-07-05</th>\n",
       "      <td>0.979660</td>\n",
       "      <td>0.953706</td>\n",
       "      <td>0.924202</td>\n",
       "      <td>0.891010</td>\n",
       "      <td>0.857272</td>\n",
       "      <td>0.821601</td>\n",
       "      <td>0.788272</td>\n",
       "      <td>0.754425</td>\n",
       "      <td>0.720246</td>\n",
       "      <td>0.685916</td>\n",
       "      <td>...</td>\n",
       "      <td>0.325457</td>\n",
       "      <td>0.311985</td>\n",
       "      <td>0.299056</td>\n",
       "      <td>0.286648</td>\n",
       "      <td>0.274954</td>\n",
       "      <td>0.263738</td>\n",
       "      <td>0.252979</td>\n",
       "      <td>0.242659</td>\n",
       "      <td>0.232759</td>\n",
       "      <td>0.223264</td>\n",
       "    </tr>\n",
       "    <tr>\n",
       "      <th>2011-07-06</th>\n",
       "      <td>0.979905</td>\n",
       "      <td>0.954278</td>\n",
       "      <td>0.925242</td>\n",
       "      <td>0.892615</td>\n",
       "      <td>0.859203</td>\n",
       "      <td>0.823823</td>\n",
       "      <td>0.790551</td>\n",
       "      <td>0.756691</td>\n",
       "      <td>0.722437</td>\n",
       "      <td>0.687977</td>\n",
       "      <td>...</td>\n",
       "      <td>0.325150</td>\n",
       "      <td>0.311636</td>\n",
       "      <td>0.298666</td>\n",
       "      <td>0.286218</td>\n",
       "      <td>0.274529</td>\n",
       "      <td>0.263316</td>\n",
       "      <td>0.252562</td>\n",
       "      <td>0.242246</td>\n",
       "      <td>0.232352</td>\n",
       "      <td>0.222863</td>\n",
       "    </tr>\n",
       "    <tr>\n",
       "      <th>2011-07-07</th>\n",
       "      <td>0.979758</td>\n",
       "      <td>0.954183</td>\n",
       "      <td>0.925242</td>\n",
       "      <td>0.892793</td>\n",
       "      <td>0.859633</td>\n",
       "      <td>0.824564</td>\n",
       "      <td>0.791589</td>\n",
       "      <td>0.758054</td>\n",
       "      <td>0.724146</td>\n",
       "      <td>0.690044</td>\n",
       "      <td>...</td>\n",
       "      <td>0.327175</td>\n",
       "      <td>0.313561</td>\n",
       "      <td>0.300490</td>\n",
       "      <td>0.287941</td>\n",
       "      <td>0.276236</td>\n",
       "      <td>0.265007</td>\n",
       "      <td>0.254234</td>\n",
       "      <td>0.243899</td>\n",
       "      <td>0.233985</td>\n",
       "      <td>0.224473</td>\n",
       "    </tr>\n",
       "  </tbody>\n",
       "</table>\n",
       "<p>5 rows × 36 columns</p>\n",
       "</div>"
      ],
      "text/plain": [
       "                0.50      1.00      1.50      2.00      2.50      3.00  \\\n",
       "Date                                                                     \n",
       "2011-07-01  0.979170  0.952943  0.923370  0.890297  0.856415  0.820616   \n",
       "2011-07-04  0.979611  0.953801  0.924479  0.891544  0.857594  0.821601   \n",
       "2011-07-05  0.979660  0.953706  0.924202  0.891010  0.857272  0.821601   \n",
       "2011-07-06  0.979905  0.954278  0.925242  0.892615  0.859203  0.823823   \n",
       "2011-07-07  0.979758  0.954183  0.925242  0.892793  0.859633  0.824564   \n",
       "\n",
       "                3.50      4.00      4.50      5.00    ...        13.50  \\\n",
       "Date                                                  ...                \n",
       "2011-07-01  0.787100  0.753068  0.718708  0.684203    ...     0.320357   \n",
       "2011-07-04  0.787858  0.753520  0.718789  0.683861    ...     0.320487   \n",
       "2011-07-05  0.788272  0.754425  0.720246  0.685916    ...     0.325457   \n",
       "2011-07-06  0.790551  0.756691  0.722437  0.687977    ...     0.325150   \n",
       "2011-07-07  0.791589  0.758054  0.724146  0.690044    ...     0.327175   \n",
       "\n",
       "               14.00     14.50     15.00     15.50     16.00     16.50  \\\n",
       "Date                                                                     \n",
       "2011-07-01  0.306873  0.293940  0.281535  0.269888  0.258722  0.248019   \n",
       "2011-07-04  0.306959  0.293983  0.281535  0.269888  0.258722  0.248019   \n",
       "2011-07-05  0.311985  0.299056  0.286648  0.274954  0.263738  0.252979   \n",
       "2011-07-06  0.311636  0.298666  0.286218  0.274529  0.263316  0.252562   \n",
       "2011-07-07  0.313561  0.300490  0.287941  0.276236  0.265007  0.254234   \n",
       "\n",
       "               17.00     17.50     18.00  \n",
       "Date                                      \n",
       "2011-07-01  0.237758  0.227922  0.218493  \n",
       "2011-07-04  0.237758  0.227922  0.218493  \n",
       "2011-07-05  0.242659  0.232759  0.223264  \n",
       "2011-07-06  0.242246  0.232352  0.222863  \n",
       "2011-07-07  0.243899  0.233985  0.224473  \n",
       "\n",
       "[5 rows x 36 columns]"
      ]
     },
     "execution_count": 114,
     "metadata": {},
     "output_type": "execute_result"
    }
   ],
   "source": [
    "discount_factors_today_future.head()"
   ]
  },
  {
   "cell_type": "code",
   "execution_count": 119,
   "metadata": {},
   "outputs": [
    {
     "data": {
      "text/html": [
       "<div>\n",
       "<style scoped>\n",
       "    .dataframe tbody tr th:only-of-type {\n",
       "        vertical-align: middle;\n",
       "    }\n",
       "\n",
       "    .dataframe tbody tr th {\n",
       "        vertical-align: top;\n",
       "    }\n",
       "\n",
       "    .dataframe thead th {\n",
       "        text-align: right;\n",
       "    }\n",
       "</style>\n",
       "<table border=\"1\" class=\"dataframe\">\n",
       "  <thead>\n",
       "    <tr style=\"text-align: right;\">\n",
       "      <th></th>\n",
       "      <th>0.50</th>\n",
       "      <th>1.00</th>\n",
       "      <th>1.50</th>\n",
       "      <th>2.00</th>\n",
       "      <th>2.50</th>\n",
       "      <th>3.00</th>\n",
       "      <th>3.50</th>\n",
       "      <th>4.00</th>\n",
       "      <th>4.50</th>\n",
       "      <th>5.00</th>\n",
       "      <th>...</th>\n",
       "      <th>13.50</th>\n",
       "      <th>14.00</th>\n",
       "      <th>14.50</th>\n",
       "      <th>15.00</th>\n",
       "      <th>15.50</th>\n",
       "      <th>16.00</th>\n",
       "      <th>16.50</th>\n",
       "      <th>17.00</th>\n",
       "      <th>17.50</th>\n",
       "      <th>18.00</th>\n",
       "    </tr>\n",
       "    <tr>\n",
       "      <th>Date</th>\n",
       "      <th></th>\n",
       "      <th></th>\n",
       "      <th></th>\n",
       "      <th></th>\n",
       "      <th></th>\n",
       "      <th></th>\n",
       "      <th></th>\n",
       "      <th></th>\n",
       "      <th></th>\n",
       "      <th></th>\n",
       "      <th></th>\n",
       "      <th></th>\n",
       "      <th></th>\n",
       "      <th></th>\n",
       "      <th></th>\n",
       "      <th></th>\n",
       "      <th></th>\n",
       "      <th></th>\n",
       "      <th></th>\n",
       "      <th></th>\n",
       "      <th></th>\n",
       "    </tr>\n",
       "  </thead>\n",
       "  <tbody>\n",
       "    <tr>\n",
       "      <th>2011-07-01</th>\n",
       "      <td>15.186927</td>\n",
       "      <td>33.981347</td>\n",
       "      <td>14.121101</td>\n",
       "      <td>120.193855</td>\n",
       "      <td>10.838790</td>\n",
       "      <td>108.263080</td>\n",
       "      <td>7.374340</td>\n",
       "      <td>21.239431</td>\n",
       "      <td>6.577616</td>\n",
       "      <td>18.848924</td>\n",
       "      <td>...</td>\n",
       "      <td>0.0</td>\n",
       "      <td>2.108050</td>\n",
       "      <td>0.0</td>\n",
       "      <td>1.860005</td>\n",
       "      <td>0.0</td>\n",
       "      <td>1.641306</td>\n",
       "      <td>0.0</td>\n",
       "      <td>1.445836</td>\n",
       "      <td>0.0</td>\n",
       "      <td>1.271267</td>\n",
       "    </tr>\n",
       "    <tr>\n",
       "      <th>2011-07-04</th>\n",
       "      <td>15.193762</td>\n",
       "      <td>34.011944</td>\n",
       "      <td>14.138057</td>\n",
       "      <td>120.362244</td>\n",
       "      <td>10.853704</td>\n",
       "      <td>108.393074</td>\n",
       "      <td>7.381441</td>\n",
       "      <td>21.252179</td>\n",
       "      <td>6.578356</td>\n",
       "      <td>18.839502</td>\n",
       "      <td>...</td>\n",
       "      <td>0.0</td>\n",
       "      <td>2.108640</td>\n",
       "      <td>0.0</td>\n",
       "      <td>1.860005</td>\n",
       "      <td>0.0</td>\n",
       "      <td>1.641306</td>\n",
       "      <td>0.0</td>\n",
       "      <td>1.445836</td>\n",
       "      <td>0.0</td>\n",
       "      <td>1.271267</td>\n",
       "    </tr>\n",
       "    <tr>\n",
       "      <th>2011-07-05</th>\n",
       "      <td>15.194522</td>\n",
       "      <td>34.008543</td>\n",
       "      <td>14.133816</td>\n",
       "      <td>120.290048</td>\n",
       "      <td>10.849635</td>\n",
       "      <td>108.393074</td>\n",
       "      <td>7.385317</td>\n",
       "      <td>21.277697</td>\n",
       "      <td>6.591691</td>\n",
       "      <td>18.896106</td>\n",
       "      <td>...</td>\n",
       "      <td>0.0</td>\n",
       "      <td>2.143164</td>\n",
       "      <td>0.0</td>\n",
       "      <td>1.893788</td>\n",
       "      <td>0.0</td>\n",
       "      <td>1.673123</td>\n",
       "      <td>0.0</td>\n",
       "      <td>1.475634</td>\n",
       "      <td>0.0</td>\n",
       "      <td>1.299025</td>\n",
       "    </tr>\n",
       "    <tr>\n",
       "      <th>2011-07-06</th>\n",
       "      <td>15.198321</td>\n",
       "      <td>34.028954</td>\n",
       "      <td>14.149725</td>\n",
       "      <td>120.506765</td>\n",
       "      <td>10.874074</td>\n",
       "      <td>108.686130</td>\n",
       "      <td>7.406673</td>\n",
       "      <td>21.341626</td>\n",
       "      <td>6.611744</td>\n",
       "      <td>18.952879</td>\n",
       "      <td>...</td>\n",
       "      <td>0.0</td>\n",
       "      <td>2.140765</td>\n",
       "      <td>0.0</td>\n",
       "      <td>1.890950</td>\n",
       "      <td>0.0</td>\n",
       "      <td>1.670448</td>\n",
       "      <td>0.0</td>\n",
       "      <td>1.473127</td>\n",
       "      <td>0.0</td>\n",
       "      <td>1.296689</td>\n",
       "    </tr>\n",
       "    <tr>\n",
       "      <th>2011-07-07</th>\n",
       "      <td>15.196042</td>\n",
       "      <td>34.025551</td>\n",
       "      <td>14.149725</td>\n",
       "      <td>120.530869</td>\n",
       "      <td>10.879512</td>\n",
       "      <td>108.783992</td>\n",
       "      <td>7.416401</td>\n",
       "      <td>21.380075</td>\n",
       "      <td>6.627383</td>\n",
       "      <td>19.009823</td>\n",
       "      <td>...</td>\n",
       "      <td>0.0</td>\n",
       "      <td>2.153993</td>\n",
       "      <td>0.0</td>\n",
       "      <td>1.902330</td>\n",
       "      <td>0.0</td>\n",
       "      <td>1.681173</td>\n",
       "      <td>0.0</td>\n",
       "      <td>1.483179</td>\n",
       "      <td>0.0</td>\n",
       "      <td>1.306059</td>\n",
       "    </tr>\n",
       "  </tbody>\n",
       "</table>\n",
       "<p>5 rows × 36 columns</p>\n",
       "</div>"
      ],
      "text/plain": [
       "                 0.50       1.00       1.50        2.00       2.50  \\\n",
       "Date                                                                 \n",
       "2011-07-01  15.186927  33.981347  14.121101  120.193855  10.838790   \n",
       "2011-07-04  15.193762  34.011944  14.138057  120.362244  10.853704   \n",
       "2011-07-05  15.194522  34.008543  14.133816  120.290048  10.849635   \n",
       "2011-07-06  15.198321  34.028954  14.149725  120.506765  10.874074   \n",
       "2011-07-07  15.196042  34.025551  14.149725  120.530869  10.879512   \n",
       "\n",
       "                  3.00      3.50       4.00      4.50       5.00    ...     \\\n",
       "Date                                                                ...      \n",
       "2011-07-01  108.263080  7.374340  21.239431  6.577616  18.848924    ...      \n",
       "2011-07-04  108.393074  7.381441  21.252179  6.578356  18.839502    ...      \n",
       "2011-07-05  108.393074  7.385317  21.277697  6.591691  18.896106    ...      \n",
       "2011-07-06  108.686130  7.406673  21.341626  6.611744  18.952879    ...      \n",
       "2011-07-07  108.783992  7.416401  21.380075  6.627383  19.009823    ...      \n",
       "\n",
       "            13.50     14.00  14.50     15.00  15.50     16.00  16.50  \\\n",
       "Date                                                                   \n",
       "2011-07-01    0.0  2.108050    0.0  1.860005    0.0  1.641306    0.0   \n",
       "2011-07-04    0.0  2.108640    0.0  1.860005    0.0  1.641306    0.0   \n",
       "2011-07-05    0.0  2.143164    0.0  1.893788    0.0  1.673123    0.0   \n",
       "2011-07-06    0.0  2.140765    0.0  1.890950    0.0  1.670448    0.0   \n",
       "2011-07-07    0.0  2.153993    0.0  1.902330    0.0  1.681173    0.0   \n",
       "\n",
       "               17.00  17.50     18.00  \n",
       "Date                                   \n",
       "2011-07-01  1.445836    0.0  1.271267  \n",
       "2011-07-04  1.445836    0.0  1.271267  \n",
       "2011-07-05  1.475634    0.0  1.299025  \n",
       "2011-07-06  1.473127    0.0  1.296689  \n",
       "2011-07-07  1.483179    0.0  1.306059  \n",
       "\n",
       "[5 rows x 36 columns]"
      ]
     },
     "execution_count": 119,
     "metadata": {},
     "output_type": "execute_result"
    }
   ],
   "source": [
    "dcf_today_future = bond_portfolio_cf*discount_factors_today_future\n",
    "dcf_today_future.head() # здесь дата - дата прогноза: поменяем и уберем последнюю (для нее нет данных)"
   ]
  },
  {
   "cell_type": "code",
   "execution_count": 120,
   "metadata": {},
   "outputs": [],
   "source": [
    "dcf_today_future = dcf_today_future[:-1] # теперь здесь спрогнозированные на дату DCF\n",
    "dcf_today_future.index = rates_future.index"
   ]
  },
  {
   "cell_type": "code",
   "execution_count": 122,
   "metadata": {},
   "outputs": [
    {
     "data": {
      "text/plain": [
       "Date\n",
       "2011-07-04    523.401576\n",
       "2011-07-05    523.740139\n",
       "2011-07-06    524.953328\n",
       "2011-07-07    525.927727\n",
       "2011-07-08    526.970213\n",
       "dtype: float64"
      ]
     },
     "execution_count": 122,
     "metadata": {},
     "output_type": "execute_result"
    }
   ],
   "source": [
    "bond_prices_today_future = dcf_today_future.sum(axis=1)\n",
    "bond_prices_today_future.head()"
   ]
  },
  {
   "cell_type": "code",
   "execution_count": 126,
   "metadata": {},
   "outputs": [
    {
     "data": {
      "text/plain": [
       "array([[4.19480697],\n",
       "       [4.19347606],\n",
       "       [4.20554807],\n",
       "       [4.20430953],\n",
       "       [4.21036489]])"
      ]
     },
     "execution_count": 126,
     "metadata": {},
     "output_type": "execute_result"
    }
   ],
   "source": [
    "durations_today_future = dcf_today_future@s_arr.T*(((bond_prices_today_future)**(-1)).values.reshape(291, -1)) # все будущие дюрации!!!\n",
    "durations_today_future[:5]"
   ]
  },
  {
   "cell_type": "code",
   "execution_count": 127,
   "metadata": {
    "collapsed": true
   },
   "outputs": [],
   "source": [
    "min_obs = len(max_increments_all[max_increments_all.index <= today_date]) # чтобы начать с даты старта"
   ]
  },
  {
   "cell_type": "code",
   "execution_count": 128,
   "metadata": {},
   "outputs": [
    {
     "data": {
      "text/plain": [
       "Date\n",
       "2011-07-04    0.072863\n",
       "2011-07-05    0.072736\n",
       "2011-07-06    0.072651\n",
       "2011-07-07    0.072525\n",
       "2011-07-08    0.072440\n",
       "dtype: float64"
      ]
     },
     "execution_count": 128,
     "metadata": {},
     "output_type": "execute_result"
    }
   ],
   "source": [
    "max_increment_today_future_means = max_increments_all.expanding(min_obs).mean().dropna()[:-1]\n",
    "max_increment_today_future_means.index = rates_future.index # дата - дата прогнозирования бонда\n",
    "max_increment_today_future_means[:5]"
   ]
  },
  {
   "cell_type": "code",
   "execution_count": 129,
   "metadata": {},
   "outputs": [
    {
     "data": {
      "text/plain": [
       "Date\n",
       "2011-07-04    0.119765\n",
       "2011-07-05    0.119678\n",
       "2011-07-06    0.119573\n",
       "2011-07-07    0.119485\n",
       "2011-07-08    0.119381\n",
       "dtype: float64"
      ]
     },
     "execution_count": 129,
     "metadata": {},
     "output_type": "execute_result"
    }
   ],
   "source": [
    "max_increment_today_future_stds = max_increments_all.expanding(min_obs).std().dropna()[:-1]\n",
    "max_increment_today_future_stds.index = rates_future.index\n",
    "max_increment_today_future_stds[:5]"
   ]
  },
  {
   "cell_type": "code",
   "execution_count": 130,
   "metadata": {},
   "outputs": [
    {
     "data": {
      "text/plain": [
       "Date\n",
       "2011-07-04    0.351478\n",
       "2011-07-05    0.351148\n",
       "2011-07-06    0.350818\n",
       "2011-07-07    0.350489\n",
       "2011-07-08    0.350161\n",
       "dtype: float64"
      ]
     },
     "execution_count": 130,
     "metadata": {},
     "output_type": "execute_result"
    }
   ],
   "source": [
    "quantiles_today_future = max_increment_today_future_means + max_increment_today_future_stds*z_crit\n",
    "quantiles_today_future[:5]"
   ]
  },
  {
   "cell_type": "code",
   "execution_count": 135,
   "metadata": {},
   "outputs": [
    {
     "data": {
      "text/plain": [
       "Date\n",
       "2011-07-04   -0.014744\n",
       "2011-07-05   -0.014725\n",
       "2011-07-06   -0.014754\n",
       "2011-07-07   -0.014736\n",
       "2011-07-08   -0.014743\n",
       "dtype: float64"
      ]
     },
     "execution_count": 135,
     "metadata": {},
     "output_type": "execute_result"
    }
   ],
   "source": [
    "VaRs_1day = -durations_today_future.reshape(291,)*quantiles_today_future/100\n",
    "VaRs_1day[:5]"
   ]
  },
  {
   "cell_type": "code",
   "execution_count": 167,
   "metadata": {},
   "outputs": [
    {
     "data": {
      "text/plain": [
       "Date\n",
       "2011-07-04   -0.046624\n",
       "2011-07-05   -0.046566\n",
       "2011-07-06   -0.046656\n",
       "2011-07-07   -0.046598\n",
       "2011-07-08   -0.046622\n",
       "dtype: float64"
      ]
     },
     "execution_count": 167,
     "metadata": {},
     "output_type": "execute_result"
    }
   ],
   "source": [
    "VaRs_10days = VaRs_1day[:(len(VaRs_1day)-10)]*np.sqrt(10)\n",
    "VaRs_10days[:5]"
   ]
  },
  {
   "cell_type": "code",
   "execution_count": 138,
   "metadata": {},
   "outputs": [
    {
     "data": {
      "text/plain": [
       "Date\n",
       "2011-07-15    0.004020\n",
       "2011-07-18    0.006599\n",
       "2011-07-19    0.005460\n",
       "2011-07-20    0.002271\n",
       "2011-07-21   -0.000181\n",
       "dtype: float64"
      ]
     },
     "execution_count": 138,
     "metadata": {},
     "output_type": "execute_result"
    }
   ],
   "source": [
    "correct_bond_price_changes = bond_prices_today_future.pct_change(periods=10).shift(-1)[:-1][9:]\n",
    "correct_bond_price_changes[:5]"
   ]
  },
  {
   "cell_type": "code",
   "execution_count": 169,
   "metadata": {},
   "outputs": [
    {
     "data": {
      "text/plain": [
       "Date\n",
       "2011-07-15   -0.046624\n",
       "2011-07-18   -0.046566\n",
       "2011-07-19   -0.046656\n",
       "2011-07-20   -0.046598\n",
       "2011-07-21   -0.046622\n",
       "dtype: float64"
      ]
     },
     "execution_count": 169,
     "metadata": {},
     "output_type": "execute_result"
    }
   ],
   "source": [
    "VaRs_10days.index = correct_bond_price_changes.index\n",
    "VaRs_10days[:5]"
   ]
  },
  {
   "cell_type": "code",
   "execution_count": 170,
   "metadata": {},
   "outputs": [
    {
     "data": {
      "text/plain": [
       "<matplotlib.legend.Legend at 0x112c6fc88>"
      ]
     },
     "execution_count": 170,
     "metadata": {},
     "output_type": "execute_result"
    },
    {
     "data": {
      "image/png": "[encoded data removed]",
      "text/plain": [
       "<matplotlib.figure.Figure at 0x1129df860>"
      ]
     },
     "metadata": {},
     "output_type": "display_data"
    }
   ],
   "source": [
    "VaRs_10days.plot(lw=2)\n",
    "# correct_bond_price_changes.plot()\n",
    "plt.vlines(correct_bond_price_changes.index, ymax=list(correct_bond_price_changes), ymin = 0, colors='b')\n",
    "\n",
    "plt.title('Bond Price Change vs Delta-normal VaR')\n",
    "plt.legend(['10-days VaR', '10-days bond price change'], loc=1)"
   ]
  },
  {
   "cell_type": "markdown",
   "metadata": {},
   "source": [
    "### ES"
   ]
  },
  {
   "cell_type": "code",
   "execution_count": 1111,
   "metadata": {},
   "outputs": [
    {
     "ename": "NameError",
     "evalue": "name 'daily_log_returns' is not defined",
     "output_type": "error",
     "traceback": [
      "\u001b[0;31m---------------------------------------------------------------------------\u001b[0m",
      "\u001b[0;31mNameError\u001b[0m                                 Traceback (most recent call last)",
      "\u001b[0;32m<ipython-input-1111-3a3ec56fe458>\u001b[0m in \u001b[0;36m<module>\u001b[0;34m()\u001b[0m\n\u001b[0;32m----> 1\u001b[0;31m \u001b[0;32mdef\u001b[0m \u001b[0mdelta_norm_stock_VaR_ES\u001b[0m\u001b[0;34m(\u001b[0m\u001b[0mstart\u001b[0m\u001b[0;34m,\u001b[0m \u001b[0mend\u001b[0m\u001b[0;34m,\u001b[0m \u001b[0mp_weights\u001b[0m\u001b[0;34m,\u001b[0m \u001b[0malpha\u001b[0m\u001b[0;34m,\u001b[0m \u001b[0mreturn_period\u001b[0m\u001b[0;34m,\u001b[0m \u001b[0mdaily_log_returns\u001b[0m \u001b[0;34m=\u001b[0m \u001b[0mdaily_log_returns\u001b[0m\u001b[0;34m)\u001b[0m\u001b[0;34m:\u001b[0m\u001b[0;34m\u001b[0m\u001b[0m\n\u001b[0m\u001b[1;32m      2\u001b[0m     \u001b[0mcov\u001b[0m \u001b[0;34m=\u001b[0m \u001b[0mnp\u001b[0m\u001b[0;34m.\u001b[0m\u001b[0marray\u001b[0m\u001b[0;34m(\u001b[0m\u001b[0mdaily_log_returns\u001b[0m\u001b[0;34m[\u001b[0m\u001b[0mstart\u001b[0m\u001b[0;34m:\u001b[0m\u001b[0mend\u001b[0m\u001b[0;34m]\u001b[0m\u001b[0;34m.\u001b[0m\u001b[0mcov\u001b[0m\u001b[0;34m(\u001b[0m\u001b[0;34m)\u001b[0m\u001b[0;34m)\u001b[0m\u001b[0;34m\u001b[0m\u001b[0m\n\u001b[1;32m      3\u001b[0m     \u001b[0mstdev_p\u001b[0m \u001b[0;34m=\u001b[0m \u001b[0mnp\u001b[0m\u001b[0;34m.\u001b[0m\u001b[0msqrt\u001b[0m\u001b[0;34m(\u001b[0m\u001b[0mp_weights\u001b[0m\u001b[0;34m@\u001b[0m\u001b[0mcov\u001b[0m\u001b[0;34m@\u001b[0m\u001b[0mp_weights\u001b[0m\u001b[0;34m)\u001b[0m\u001b[0;34m\u001b[0m\u001b[0m\n\u001b[1;32m      4\u001b[0m     \u001b[0mmu_p\u001b[0m \u001b[0;34m=\u001b[0m \u001b[0;34m(\u001b[0m\u001b[0mdaily_log_returns\u001b[0m\u001b[0;34m@\u001b[0m\u001b[0mp_weights\u001b[0m\u001b[0;34m.\u001b[0m\u001b[0mT\u001b[0m\u001b[0;34m)\u001b[0m\u001b[0;34m.\u001b[0m\u001b[0mmean\u001b[0m\u001b[0;34m(\u001b[0m\u001b[0;34m)\u001b[0m\u001b[0;34m\u001b[0m\u001b[0m\n\u001b[1;32m      5\u001b[0m \u001b[0;34m\u001b[0m\u001b[0m\n",
      "\u001b[0;31mNameError\u001b[0m: name 'daily_log_returns' is not defined"
     ]
    }
   ],
   "source": [
    "def delta_norm_stock_VaR_ES(start, end, p_weights, alpha, return_period, daily_log_returns = daily_log_returns):\n",
    "    cov = np.array(daily_log_returns[start:end].cov())\n",
    "    stdev_p = np.sqrt(p_weights@cov@p_weights)\n",
    "    mu_p = (daily_log_returns@p_weights.T).mean()\n",
    "    \n",
    "    VaR = - mu_p + stdev_p * st.norm.ppf(1 - alpha) * np.sqrt(return_period)\n",
    "    ES = - mu_p + stdev_p * st.norm.pdf(st.norm.ppf(1 - alpha))/alpha * np.sqrt(return_period)\n",
    "\n",
    "    return VaR, ES"
   ]
  },
  {
   "cell_type": "code",
   "execution_count": 195,
   "metadata": {},
   "outputs": [
    {
     "data": {
      "text/plain": [
       "Date\n",
       "2011-07-04   -0.101559\n",
       "2011-07-05   -0.101450\n",
       "2011-07-06   -0.101652\n",
       "2011-07-07   -0.101545\n",
       "2011-07-08   -0.101601\n",
       "dtype: float64"
      ]
     },
     "execution_count": 195,
     "metadata": {},
     "output_type": "execute_result"
    }
   ],
   "source": [
    "ES_10days = -durations_today_future.reshape(291,)\\\n",
    "*(max_increment_today_future_means + max_increment_today_future_stds*z_crit \\\n",
    "* stats.norm.pdf(stats.norm.ppf(1 - alpha))/alpha*np.sqrt(10))/100\n",
    "\n",
    "ES_10days[:5]"
   ]
  },
  {
   "cell_type": "code",
   "execution_count": 196,
   "metadata": {},
   "outputs": [
    {
     "data": {
      "text/plain": [
       "<matplotlib.legend.Legend at 0x113ac8978>"
      ]
     },
     "execution_count": 196,
     "metadata": {},
     "output_type": "execute_result"
    },
    {
     "data": {
      "image/png": "[encoded data removed]",
      "text/plain": [
       "<matplotlib.figure.Figure at 0x1136d46a0>"
      ]
     },
     "metadata": {},
     "output_type": "display_data"
    }
   ],
   "source": [
    "ES_10days.plot(lw=2)\n",
    "# correct_bond_price_changes.plot()\n",
    "plt.vlines(correct_bond_price_changes.index, ymax=list(correct_bond_price_changes), ymin = 0, colors='b')\n",
    "\n",
    "plt.title('Bond Price Change vs Delta-normal Expected Shortfall')\n",
    "plt.legend(['10-days ES', '10-days bond price change'], loc=1)"
   ]
  },
  {
   "cell_type": "markdown",
   "metadata": {},
   "source": [
    "### Модельный метод"
   ]
  },
  {
   "cell_type": "code",
   "execution_count": 172,
   "metadata": {
    "collapsed": true
   },
   "outputs": [],
   "source": [
    "from sklearn.decomposition import PCA"
   ]
  },
  {
   "cell_type": "markdown",
   "metadata": {},
   "source": [
    "В PCA неправильно будет использовать интерполированные ставки, так как они линейно завсимы от других и созданы искусственно."
   ]
  },
  {
   "cell_type": "code",
   "execution_count": 175,
   "metadata": {},
   "outputs": [
    {
     "data": {
      "text/html": [
       "<div>\n",
       "<style scoped>\n",
       "    .dataframe tbody tr th:only-of-type {\n",
       "        vertical-align: middle;\n",
       "    }\n",
       "\n",
       "    .dataframe tbody tr th {\n",
       "        vertical-align: top;\n",
       "    }\n",
       "\n",
       "    .dataframe thead th {\n",
       "        text-align: right;\n",
       "    }\n",
       "</style>\n",
       "<table border=\"1\" class=\"dataframe\">\n",
       "  <thead>\n",
       "    <tr style=\"text-align: right;\">\n",
       "      <th></th>\n",
       "      <th>Date</th>\n",
       "      <th>0.25</th>\n",
       "      <th>0.50</th>\n",
       "      <th>0.75</th>\n",
       "      <th>1.00</th>\n",
       "      <th>2.00</th>\n",
       "      <th>3.00</th>\n",
       "      <th>5.00</th>\n",
       "      <th>7.00</th>\n",
       "      <th>10.00</th>\n",
       "      <th>15.00</th>\n",
       "    </tr>\n",
       "  </thead>\n",
       "  <tbody>\n",
       "    <tr>\n",
       "      <th>0</th>\n",
       "      <td>2009-07-01</td>\n",
       "      <td>8.13</td>\n",
       "      <td>9.18</td>\n",
       "      <td>9.97</td>\n",
       "      <td>10.56</td>\n",
       "      <td>11.71</td>\n",
       "      <td>11.92</td>\n",
       "      <td>11.77</td>\n",
       "      <td>11.65</td>\n",
       "      <td>11.63</td>\n",
       "      <td>11.62</td>\n",
       "    </tr>\n",
       "    <tr>\n",
       "      <th>1</th>\n",
       "      <td>2009-07-02</td>\n",
       "      <td>7.96</td>\n",
       "      <td>8.93</td>\n",
       "      <td>9.69</td>\n",
       "      <td>10.29</td>\n",
       "      <td>11.55</td>\n",
       "      <td>11.91</td>\n",
       "      <td>11.90</td>\n",
       "      <td>11.74</td>\n",
       "      <td>11.56</td>\n",
       "      <td>11.41</td>\n",
       "    </tr>\n",
       "    <tr>\n",
       "      <th>2</th>\n",
       "      <td>2009-07-03</td>\n",
       "      <td>7.92</td>\n",
       "      <td>8.91</td>\n",
       "      <td>9.70</td>\n",
       "      <td>10.33</td>\n",
       "      <td>11.68</td>\n",
       "      <td>12.01</td>\n",
       "      <td>11.86</td>\n",
       "      <td>11.62</td>\n",
       "      <td>11.46</td>\n",
       "      <td>11.39</td>\n",
       "    </tr>\n",
       "    <tr>\n",
       "      <th>3</th>\n",
       "      <td>2009-07-06</td>\n",
       "      <td>7.93</td>\n",
       "      <td>8.84</td>\n",
       "      <td>9.59</td>\n",
       "      <td>10.20</td>\n",
       "      <td>11.65</td>\n",
       "      <td>12.15</td>\n",
       "      <td>12.24</td>\n",
       "      <td>12.09</td>\n",
       "      <td>11.89</td>\n",
       "      <td>11.70</td>\n",
       "    </tr>\n",
       "    <tr>\n",
       "      <th>4</th>\n",
       "      <td>2009-07-07</td>\n",
       "      <td>8.07</td>\n",
       "      <td>9.09</td>\n",
       "      <td>9.86</td>\n",
       "      <td>10.45</td>\n",
       "      <td>11.62</td>\n",
       "      <td>11.91</td>\n",
       "      <td>11.86</td>\n",
       "      <td>11.76</td>\n",
       "      <td>11.67</td>\n",
       "      <td>11.59</td>\n",
       "    </tr>\n",
       "  </tbody>\n",
       "</table>\n",
       "</div>"
      ],
      "text/plain": [
       "        Date  0.25  0.50  0.75   1.00   2.00   3.00   5.00   7.00  10.00  \\\n",
       "0 2009-07-01  8.13  9.18  9.97  10.56  11.71  11.92  11.77  11.65  11.63   \n",
       "1 2009-07-02  7.96  8.93  9.69  10.29  11.55  11.91  11.90  11.74  11.56   \n",
       "2 2009-07-03  7.92  8.91  9.70  10.33  11.68  12.01  11.86  11.62  11.46   \n",
       "3 2009-07-06  7.93  8.84  9.59  10.20  11.65  12.15  12.24  12.09  11.89   \n",
       "4 2009-07-07  8.07  9.09  9.86  10.45  11.62  11.91  11.86  11.76  11.67   \n",
       "\n",
       "   15.00  \n",
       "0  11.62  \n",
       "1  11.41  \n",
       "2  11.39  \n",
       "3  11.70  \n",
       "4  11.59  "
      ]
     },
     "execution_count": 175,
     "metadata": {},
     "output_type": "execute_result"
    }
   ],
   "source": [
    "pca_rates = pd.read_csv('rates.csv', parse_dates=['Date'])\n",
    "pca_rates.head()"
   ]
  },
  {
   "cell_type": "code",
   "execution_count": 176,
   "metadata": {},
   "outputs": [],
   "source": [
    "pca_rates = pca_rates.sort_values(by=['Date']) # сортируем ставки по датам\n",
    "pca_rates = pca_rates.set_index('Date')"
   ]
  },
  {
   "cell_type": "code",
   "execution_count": 177,
   "metadata": {},
   "outputs": [
    {
     "data": {
      "text/html": [
       "<div>\n",
       "<style scoped>\n",
       "    .dataframe tbody tr th:only-of-type {\n",
       "        vertical-align: middle;\n",
       "    }\n",
       "\n",
       "    .dataframe tbody tr th {\n",
       "        vertical-align: top;\n",
       "    }\n",
       "\n",
       "    .dataframe thead th {\n",
       "        text-align: right;\n",
       "    }\n",
       "</style>\n",
       "<table border=\"1\" class=\"dataframe\">\n",
       "  <thead>\n",
       "    <tr style=\"text-align: right;\">\n",
       "      <th></th>\n",
       "      <th>0.25</th>\n",
       "      <th>0.50</th>\n",
       "      <th>0.75</th>\n",
       "      <th>1.00</th>\n",
       "      <th>2.00</th>\n",
       "      <th>3.00</th>\n",
       "      <th>5.00</th>\n",
       "      <th>7.00</th>\n",
       "      <th>10.00</th>\n",
       "      <th>15.00</th>\n",
       "    </tr>\n",
       "    <tr>\n",
       "      <th>Date</th>\n",
       "      <th></th>\n",
       "      <th></th>\n",
       "      <th></th>\n",
       "      <th></th>\n",
       "      <th></th>\n",
       "      <th></th>\n",
       "      <th></th>\n",
       "      <th></th>\n",
       "      <th></th>\n",
       "      <th></th>\n",
       "    </tr>\n",
       "  </thead>\n",
       "  <tbody>\n",
       "    <tr>\n",
       "      <th>2009-07-01</th>\n",
       "      <td>8.13</td>\n",
       "      <td>9.18</td>\n",
       "      <td>9.97</td>\n",
       "      <td>10.56</td>\n",
       "      <td>11.71</td>\n",
       "      <td>11.92</td>\n",
       "      <td>11.77</td>\n",
       "      <td>11.65</td>\n",
       "      <td>11.63</td>\n",
       "      <td>11.62</td>\n",
       "    </tr>\n",
       "    <tr>\n",
       "      <th>2009-07-02</th>\n",
       "      <td>7.96</td>\n",
       "      <td>8.93</td>\n",
       "      <td>9.69</td>\n",
       "      <td>10.29</td>\n",
       "      <td>11.55</td>\n",
       "      <td>11.91</td>\n",
       "      <td>11.90</td>\n",
       "      <td>11.74</td>\n",
       "      <td>11.56</td>\n",
       "      <td>11.41</td>\n",
       "    </tr>\n",
       "    <tr>\n",
       "      <th>2009-07-03</th>\n",
       "      <td>7.92</td>\n",
       "      <td>8.91</td>\n",
       "      <td>9.70</td>\n",
       "      <td>10.33</td>\n",
       "      <td>11.68</td>\n",
       "      <td>12.01</td>\n",
       "      <td>11.86</td>\n",
       "      <td>11.62</td>\n",
       "      <td>11.46</td>\n",
       "      <td>11.39</td>\n",
       "    </tr>\n",
       "    <tr>\n",
       "      <th>2009-07-06</th>\n",
       "      <td>7.93</td>\n",
       "      <td>8.84</td>\n",
       "      <td>9.59</td>\n",
       "      <td>10.20</td>\n",
       "      <td>11.65</td>\n",
       "      <td>12.15</td>\n",
       "      <td>12.24</td>\n",
       "      <td>12.09</td>\n",
       "      <td>11.89</td>\n",
       "      <td>11.70</td>\n",
       "    </tr>\n",
       "    <tr>\n",
       "      <th>2009-07-07</th>\n",
       "      <td>8.07</td>\n",
       "      <td>9.09</td>\n",
       "      <td>9.86</td>\n",
       "      <td>10.45</td>\n",
       "      <td>11.62</td>\n",
       "      <td>11.91</td>\n",
       "      <td>11.86</td>\n",
       "      <td>11.76</td>\n",
       "      <td>11.67</td>\n",
       "      <td>11.59</td>\n",
       "    </tr>\n",
       "  </tbody>\n",
       "</table>\n",
       "</div>"
      ],
      "text/plain": [
       "            0.25  0.50  0.75   1.00   2.00   3.00   5.00   7.00  10.00  15.00\n",
       "Date                                                                         \n",
       "2009-07-01  8.13  9.18  9.97  10.56  11.71  11.92  11.77  11.65  11.63  11.62\n",
       "2009-07-02  7.96  8.93  9.69  10.29  11.55  11.91  11.90  11.74  11.56  11.41\n",
       "2009-07-03  7.92  8.91  9.70  10.33  11.68  12.01  11.86  11.62  11.46  11.39\n",
       "2009-07-06  7.93  8.84  9.59  10.20  11.65  12.15  12.24  12.09  11.89  11.70\n",
       "2009-07-07  8.07  9.09  9.86  10.45  11.62  11.91  11.86  11.76  11.67  11.59"
      ]
     },
     "execution_count": 177,
     "metadata": {},
     "output_type": "execute_result"
    }
   ],
   "source": [
    "pca_rates.head()"
   ]
  },
  {
   "cell_type": "code",
   "execution_count": 178,
   "metadata": {},
   "outputs": [
    {
     "data": {
      "text/html": [
       "<div>\n",
       "<style scoped>\n",
       "    .dataframe tbody tr th:only-of-type {\n",
       "        vertical-align: middle;\n",
       "    }\n",
       "\n",
       "    .dataframe tbody tr th {\n",
       "        vertical-align: top;\n",
       "    }\n",
       "\n",
       "    .dataframe thead th {\n",
       "        text-align: right;\n",
       "    }\n",
       "</style>\n",
       "<table border=\"1\" class=\"dataframe\">\n",
       "  <thead>\n",
       "    <tr style=\"text-align: right;\">\n",
       "      <th></th>\n",
       "      <th>0.25</th>\n",
       "      <th>0.50</th>\n",
       "      <th>0.75</th>\n",
       "      <th>1.00</th>\n",
       "      <th>2.00</th>\n",
       "      <th>3.00</th>\n",
       "      <th>5.00</th>\n",
       "      <th>7.00</th>\n",
       "      <th>10.00</th>\n",
       "      <th>15.00</th>\n",
       "    </tr>\n",
       "    <tr>\n",
       "      <th>Date</th>\n",
       "      <th></th>\n",
       "      <th></th>\n",
       "      <th></th>\n",
       "      <th></th>\n",
       "      <th></th>\n",
       "      <th></th>\n",
       "      <th></th>\n",
       "      <th></th>\n",
       "      <th></th>\n",
       "      <th></th>\n",
       "    </tr>\n",
       "  </thead>\n",
       "  <tbody>\n",
       "    <tr>\n",
       "      <th>2009-07-01</th>\n",
       "      <td>8.13</td>\n",
       "      <td>9.18</td>\n",
       "      <td>9.97</td>\n",
       "      <td>10.56</td>\n",
       "      <td>11.71</td>\n",
       "      <td>11.92</td>\n",
       "      <td>11.77</td>\n",
       "      <td>11.65</td>\n",
       "      <td>11.63</td>\n",
       "      <td>11.62</td>\n",
       "    </tr>\n",
       "    <tr>\n",
       "      <th>2009-07-02</th>\n",
       "      <td>7.96</td>\n",
       "      <td>8.93</td>\n",
       "      <td>9.69</td>\n",
       "      <td>10.29</td>\n",
       "      <td>11.55</td>\n",
       "      <td>11.91</td>\n",
       "      <td>11.90</td>\n",
       "      <td>11.74</td>\n",
       "      <td>11.56</td>\n",
       "      <td>11.41</td>\n",
       "    </tr>\n",
       "    <tr>\n",
       "      <th>2009-07-03</th>\n",
       "      <td>7.92</td>\n",
       "      <td>8.91</td>\n",
       "      <td>9.70</td>\n",
       "      <td>10.33</td>\n",
       "      <td>11.68</td>\n",
       "      <td>12.01</td>\n",
       "      <td>11.86</td>\n",
       "      <td>11.62</td>\n",
       "      <td>11.46</td>\n",
       "      <td>11.39</td>\n",
       "    </tr>\n",
       "    <tr>\n",
       "      <th>2009-07-06</th>\n",
       "      <td>7.93</td>\n",
       "      <td>8.84</td>\n",
       "      <td>9.59</td>\n",
       "      <td>10.20</td>\n",
       "      <td>11.65</td>\n",
       "      <td>12.15</td>\n",
       "      <td>12.24</td>\n",
       "      <td>12.09</td>\n",
       "      <td>11.89</td>\n",
       "      <td>11.70</td>\n",
       "    </tr>\n",
       "    <tr>\n",
       "      <th>2009-07-07</th>\n",
       "      <td>8.07</td>\n",
       "      <td>9.09</td>\n",
       "      <td>9.86</td>\n",
       "      <td>10.45</td>\n",
       "      <td>11.62</td>\n",
       "      <td>11.91</td>\n",
       "      <td>11.86</td>\n",
       "      <td>11.76</td>\n",
       "      <td>11.67</td>\n",
       "      <td>11.59</td>\n",
       "    </tr>\n",
       "  </tbody>\n",
       "</table>\n",
       "</div>"
      ],
      "text/plain": [
       "            0.25  0.50  0.75   1.00   2.00   3.00   5.00   7.00  10.00  15.00\n",
       "Date                                                                         \n",
       "2009-07-01  8.13  9.18  9.97  10.56  11.71  11.92  11.77  11.65  11.63  11.62\n",
       "2009-07-02  7.96  8.93  9.69  10.29  11.55  11.91  11.90  11.74  11.56  11.41\n",
       "2009-07-03  7.92  8.91  9.70  10.33  11.68  12.01  11.86  11.62  11.46  11.39\n",
       "2009-07-06  7.93  8.84  9.59  10.20  11.65  12.15  12.24  12.09  11.89  11.70\n",
       "2009-07-07  8.07  9.09  9.86  10.45  11.62  11.91  11.86  11.76  11.67  11.59"
      ]
     },
     "execution_count": 178,
     "metadata": {},
     "output_type": "execute_result"
    }
   ],
   "source": [
    "pca_rates_history = pca_rates[pca_rates.index < today_date]\n",
    "pca_rates_history.head()"
   ]
  },
  {
   "cell_type": "code",
   "execution_count": 179,
   "metadata": {},
   "outputs": [
    {
     "data": {
      "text/html": [
       "<div>\n",
       "<style scoped>\n",
       "    .dataframe tbody tr th:only-of-type {\n",
       "        vertical-align: middle;\n",
       "    }\n",
       "\n",
       "    .dataframe tbody tr th {\n",
       "        vertical-align: top;\n",
       "    }\n",
       "\n",
       "    .dataframe thead th {\n",
       "        text-align: right;\n",
       "    }\n",
       "</style>\n",
       "<table border=\"1\" class=\"dataframe\">\n",
       "  <thead>\n",
       "    <tr style=\"text-align: right;\">\n",
       "      <th></th>\n",
       "      <th>0.25</th>\n",
       "      <th>0.50</th>\n",
       "      <th>0.75</th>\n",
       "      <th>1.00</th>\n",
       "      <th>2.00</th>\n",
       "      <th>3.00</th>\n",
       "      <th>5.00</th>\n",
       "      <th>7.00</th>\n",
       "      <th>10.00</th>\n",
       "      <th>15.00</th>\n",
       "    </tr>\n",
       "    <tr>\n",
       "      <th>Date</th>\n",
       "      <th></th>\n",
       "      <th></th>\n",
       "      <th></th>\n",
       "      <th></th>\n",
       "      <th></th>\n",
       "      <th></th>\n",
       "      <th></th>\n",
       "      <th></th>\n",
       "      <th></th>\n",
       "      <th></th>\n",
       "    </tr>\n",
       "  </thead>\n",
       "  <tbody>\n",
       "    <tr>\n",
       "      <th>2009-07-02</th>\n",
       "      <td>-0.17</td>\n",
       "      <td>-0.25</td>\n",
       "      <td>-0.28</td>\n",
       "      <td>-0.27</td>\n",
       "      <td>-0.16</td>\n",
       "      <td>-0.01</td>\n",
       "      <td>0.13</td>\n",
       "      <td>0.09</td>\n",
       "      <td>-0.07</td>\n",
       "      <td>-0.21</td>\n",
       "    </tr>\n",
       "    <tr>\n",
       "      <th>2009-07-03</th>\n",
       "      <td>-0.04</td>\n",
       "      <td>-0.02</td>\n",
       "      <td>0.01</td>\n",
       "      <td>0.04</td>\n",
       "      <td>0.13</td>\n",
       "      <td>0.10</td>\n",
       "      <td>-0.04</td>\n",
       "      <td>-0.12</td>\n",
       "      <td>-0.10</td>\n",
       "      <td>-0.02</td>\n",
       "    </tr>\n",
       "    <tr>\n",
       "      <th>2009-07-06</th>\n",
       "      <td>0.01</td>\n",
       "      <td>-0.07</td>\n",
       "      <td>-0.11</td>\n",
       "      <td>-0.13</td>\n",
       "      <td>-0.03</td>\n",
       "      <td>0.14</td>\n",
       "      <td>0.38</td>\n",
       "      <td>0.47</td>\n",
       "      <td>0.43</td>\n",
       "      <td>0.31</td>\n",
       "    </tr>\n",
       "    <tr>\n",
       "      <th>2009-07-07</th>\n",
       "      <td>0.14</td>\n",
       "      <td>0.25</td>\n",
       "      <td>0.27</td>\n",
       "      <td>0.25</td>\n",
       "      <td>-0.03</td>\n",
       "      <td>-0.24</td>\n",
       "      <td>-0.38</td>\n",
       "      <td>-0.33</td>\n",
       "      <td>-0.22</td>\n",
       "      <td>-0.11</td>\n",
       "    </tr>\n",
       "    <tr>\n",
       "      <th>2009-07-08</th>\n",
       "      <td>0.01</td>\n",
       "      <td>-0.05</td>\n",
       "      <td>-0.06</td>\n",
       "      <td>-0.07</td>\n",
       "      <td>-0.01</td>\n",
       "      <td>0.04</td>\n",
       "      <td>0.09</td>\n",
       "      <td>0.11</td>\n",
       "      <td>0.14</td>\n",
       "      <td>0.15</td>\n",
       "    </tr>\n",
       "  </tbody>\n",
       "</table>\n",
       "</div>"
      ],
      "text/plain": [
       "            0.25  0.50  0.75  1.00  2.00  3.00  5.00  7.00  10.00  15.00\n",
       "Date                                                                    \n",
       "2009-07-02 -0.17 -0.25 -0.28 -0.27 -0.16 -0.01  0.13  0.09  -0.07  -0.21\n",
       "2009-07-03 -0.04 -0.02  0.01  0.04  0.13  0.10 -0.04 -0.12  -0.10  -0.02\n",
       "2009-07-06  0.01 -0.07 -0.11 -0.13 -0.03  0.14  0.38  0.47   0.43   0.31\n",
       "2009-07-07  0.14  0.25  0.27  0.25 -0.03 -0.24 -0.38 -0.33  -0.22  -0.11\n",
       "2009-07-08  0.01 -0.05 -0.06 -0.07 -0.01  0.04  0.09  0.11   0.14   0.15"
      ]
     },
     "execution_count": 179,
     "metadata": {},
     "output_type": "execute_result"
    }
   ],
   "source": [
    "pca_diff_rates = pca_rates.diff()[1:]\n",
    "pca_diff_rates.head()"
   ]
  },
  {
   "cell_type": "code",
   "execution_count": 260,
   "metadata": {},
   "outputs": [
    {
     "data": {
      "text/plain": [
       "0.046112909785473215"
      ]
     },
     "execution_count": 260,
     "metadata": {},
     "output_type": "execute_result"
    }
   ],
   "source": [
    "pca_diff_rates_history = pca_diff_rates[pca_diff_rates.index <= today_date]\n",
    "\n",
    "pca_model = PCA()\n",
    "\n",
    "pca_model.fit_transform(pca_diff_rates_history)\n",
    "best_n_components = np.sum(np.cumsum(pca_model.explained_variance_ratio_) < 0.9)+1 \n",
    "# число компонент для дисперсии больше 0.9\n",
    "\n",
    "pca_model_best = PCA(n_components=best_n_components)\n",
    "pca_diff_rates_history_transformed = pca_model_best.fit_transform(pca_diff_rates_history)\n",
    "df_drates_tranformed_history = pd.DataFrame(pca_diff_rates_history_transformed,\n",
    "                                                      index=pca_diff_rates_history.index)\n",
    "\n",
    "n_sample = 1000\n",
    "norm_random_factors = np.zeros((1000, best_n_components))\n",
    "\n",
    "i = 0\n",
    "for col in df_drates_tranformed_history.columns:\n",
    "    norm_random_factors[:, i] = np.random.normal(df_drates_tranformed_history.mean()[i],\n",
    "                                    df_drates_tranformed_history.std()[i], n_sample)\n",
    "    i += 1\n",
    "\n",
    "full_transformed_increments = norm_random_factors@pca_model_best.components_  \n",
    "pca_max_incr = full_transformed_increments.max(1) # max increments for each date (axis=1)\n",
    "\n",
    "bond_portfolio_duration*(np.mean(pca_max_incr) + np.std(pca_max_incr)*z_crit)*np.sqrt(10)/100"
   ]
  },
  {
   "cell_type": "code",
   "execution_count": 181,
   "metadata": {
    "collapsed": true
   },
   "outputs": [],
   "source": [
    "pca_model = PCA()"
   ]
  },
  {
   "cell_type": "code",
   "execution_count": 182,
   "metadata": {},
   "outputs": [
    {
     "data": {
      "text/plain": [
       "(496, 10)"
      ]
     },
     "execution_count": 182,
     "metadata": {},
     "output_type": "execute_result"
    }
   ],
   "source": [
    "pca_model.fit_transform(pca_diff_rates_history).shape"
   ]
  },
  {
   "cell_type": "code",
   "execution_count": 257,
   "metadata": {},
   "outputs": [
    {
     "data": {
      "text/plain": [
       "3"
      ]
     },
     "execution_count": 257,
     "metadata": {},
     "output_type": "execute_result"
    }
   ],
   "source": [
    "np.sum(np.cumsum(pca_model.explained_variance_ratio_) < 0.9)+1 # число компонент для дисперсии больше 0.9"
   ]
  },
  {
   "cell_type": "code",
   "execution_count": 190,
   "metadata": {
    "collapsed": true
   },
   "outputs": [],
   "source": [
    "pca_model_best = PCA(n_components=3)"
   ]
  },
  {
   "cell_type": "code",
   "execution_count": 199,
   "metadata": {},
   "outputs": [
    {
     "data": {
      "text/plain": [
       "(496, 10)"
      ]
     },
     "execution_count": 199,
     "metadata": {},
     "output_type": "execute_result"
    }
   ],
   "source": [
    "pca_diff_rates_history.shape"
   ]
  },
  {
   "cell_type": "code",
   "execution_count": 240,
   "metadata": {},
   "outputs": [
    {
     "data": {
      "text/plain": [
       "array([[ 0.26781512,  0.28827863,  0.30023577,  0.30901582,  0.32789979,\n",
       "         0.33375188,  0.33720027,  0.33899807,  0.33584692,  0.31498055],\n",
       "       [-0.21165187, -0.28459114, -0.32404763, -0.33958721, -0.27029564,\n",
       "        -0.1242589 ,  0.16613377,  0.34857987,  0.4537905 ,  0.45864021],\n",
       "       [ 0.50173865,  0.33110732,  0.16536768,  0.0225128 , -0.35671539,\n",
       "        -0.46418778, -0.35225258, -0.13058054,  0.1317387 ,  0.33101142]])"
      ]
     },
     "execution_count": 240,
     "metadata": {},
     "output_type": "execute_result"
    }
   ],
   "source": [
    "pca_model_best.components_"
   ]
  },
  {
   "cell_type": "code",
   "execution_count": 198,
   "metadata": {},
   "outputs": [
    {
     "data": {
      "text/plain": [
       "(496, 3)"
      ]
     },
     "execution_count": 198,
     "metadata": {},
     "output_type": "execute_result"
    }
   ],
   "source": [
    "pca_model_best.fit_transform(pca_diff_rates_history).shape"
   ]
  },
  {
   "cell_type": "code",
   "execution_count": 211,
   "metadata": {},
   "outputs": [],
   "source": [
    "pca_diff_rates_history_transformed = pca_model_best.fit_transform(pca_diff_rates_history)"
   ]
  },
  {
   "cell_type": "code",
   "execution_count": 212,
   "metadata": {},
   "outputs": [
    {
     "data": {
      "text/plain": [
       "0.9798847389623375"
      ]
     },
     "execution_count": 212,
     "metadata": {},
     "output_type": "execute_result"
    }
   ],
   "source": [
    "np.sum(pca_model_best.explained_variance_ratio_)"
   ]
  },
  {
   "cell_type": "code",
   "execution_count": 217,
   "metadata": {},
   "outputs": [],
   "source": [
    "df_drates_tranformed_history = pd.DataFrame(pca_diff_rates_history_transformed,\n",
    "                                                        index=pca_diff_rates_history.index, columns=['factor1',\n",
    "                                                                                              'factor2',\n",
    "                                                                                             'factor3'])"
   ]
  },
  {
   "cell_type": "code",
   "execution_count": 224,
   "metadata": {},
   "outputs": [
    {
     "data": {
      "text/html": [
       "<div>\n",
       "<style scoped>\n",
       "    .dataframe tbody tr th:only-of-type {\n",
       "        vertical-align: middle;\n",
       "    }\n",
       "\n",
       "    .dataframe tbody tr th {\n",
       "        vertical-align: top;\n",
       "    }\n",
       "\n",
       "    .dataframe thead th {\n",
       "        text-align: right;\n",
       "    }\n",
       "</style>\n",
       "<table border=\"1\" class=\"dataframe\">\n",
       "  <thead>\n",
       "    <tr style=\"text-align: right;\">\n",
       "      <th></th>\n",
       "      <th>factor1</th>\n",
       "      <th>factor2</th>\n",
       "      <th>factor3</th>\n",
       "    </tr>\n",
       "  </thead>\n",
       "  <tbody>\n",
       "    <tr>\n",
       "      <th>count</th>\n",
       "      <td>4.960000e+02</td>\n",
       "      <td>4.960000e+02</td>\n",
       "      <td>4.960000e+02</td>\n",
       "    </tr>\n",
       "    <tr>\n",
       "      <th>mean</th>\n",
       "      <td>6.980863e-18</td>\n",
       "      <td>-7.274647e-19</td>\n",
       "      <td>3.357529e-18</td>\n",
       "    </tr>\n",
       "    <tr>\n",
       "      <th>std</th>\n",
       "      <td>3.145326e-01</td>\n",
       "      <td>1.913069e-01</td>\n",
       "      <td>1.222942e-01</td>\n",
       "    </tr>\n",
       "    <tr>\n",
       "      <th>min</th>\n",
       "      <td>-1.616259e+00</td>\n",
       "      <td>-8.025514e-01</td>\n",
       "      <td>-5.354361e-01</td>\n",
       "    </tr>\n",
       "    <tr>\n",
       "      <th>25%</th>\n",
       "      <td>-1.546152e-01</td>\n",
       "      <td>-1.014353e-01</td>\n",
       "      <td>-6.963230e-02</td>\n",
       "    </tr>\n",
       "    <tr>\n",
       "      <th>50%</th>\n",
       "      <td>9.157055e-03</td>\n",
       "      <td>-1.782758e-03</td>\n",
       "      <td>7.755554e-03</td>\n",
       "    </tr>\n",
       "    <tr>\n",
       "      <th>75%</th>\n",
       "      <td>1.691217e-01</td>\n",
       "      <td>9.634121e-02</td>\n",
       "      <td>6.206543e-02</td>\n",
       "    </tr>\n",
       "    <tr>\n",
       "      <th>max</th>\n",
       "      <td>2.306758e+00</td>\n",
       "      <td>9.098180e-01</td>\n",
       "      <td>5.835892e-01</td>\n",
       "    </tr>\n",
       "  </tbody>\n",
       "</table>\n",
       "</div>"
      ],
      "text/plain": [
       "            factor1       factor2       factor3\n",
       "count  4.960000e+02  4.960000e+02  4.960000e+02\n",
       "mean   6.980863e-18 -7.274647e-19  3.357529e-18\n",
       "std    3.145326e-01  1.913069e-01  1.222942e-01\n",
       "min   -1.616259e+00 -8.025514e-01 -5.354361e-01\n",
       "25%   -1.546152e-01 -1.014353e-01 -6.963230e-02\n",
       "50%    9.157055e-03 -1.782758e-03  7.755554e-03\n",
       "75%    1.691217e-01  9.634121e-02  6.206543e-02\n",
       "max    2.306758e+00  9.098180e-01  5.835892e-01"
      ]
     },
     "execution_count": 224,
     "metadata": {},
     "output_type": "execute_result"
    }
   ],
   "source": [
    "df_drates_tranformed_history.describe()"
   ]
  },
  {
   "cell_type": "code",
   "execution_count": 227,
   "metadata": {},
   "outputs": [],
   "source": [
    "factor1_mean = df_drates_tranformed_history.mean()[0]\n",
    "factor2_mean = df_drates_tranformed_history.mean()[1]\n",
    "factor3_mean = df_drates_tranformed_history.mean()[2]\n",
    "\n",
    "factor1_std = df_drates_tranformed_history.std()[0]\n",
    "factor2_std = df_drates_tranformed_history.std()[1]\n",
    "factor3_std = df_drates_tranformed_history.std()[2]"
   ]
  },
  {
   "cell_type": "markdown",
   "metadata": {},
   "source": [
    "Предполагаем, что факторы распределены нормально. Хотя бы один не должен быть нормально распределен."
   ]
  },
  {
   "cell_type": "code",
   "execution_count": 230,
   "metadata": {
    "collapsed": true
   },
   "outputs": [],
   "source": [
    "n_sample = 1000\n",
    "\n",
    "factor1_norm = np.random.normal(factor1_mean, factor1_std, n_sample)\n",
    "factor2_norm = np.random.normal(factor2_mean, factor2_std, n_sample)\n",
    "factor3_norm = np.random.normal(factor3_mean, factor3_std, n_sample)"
   ]
  },
  {
   "cell_type": "code",
   "execution_count": 232,
   "metadata": {},
   "outputs": [
    {
     "data": {
      "text/plain": [
       "array([-0.30062193,  0.02326518, -0.06287155])"
      ]
     },
     "execution_count": 232,
     "metadata": {},
     "output_type": "execute_result"
    }
   ],
   "source": [
    "factor1_norm[:3]"
   ]
  },
  {
   "cell_type": "code",
   "execution_count": 238,
   "metadata": {},
   "outputs": [],
   "source": [
    "norm_random_factors = np.matrix([factor1_norm, factor2_norm, factor3_norm]).T"
   ]
  },
  {
   "cell_type": "code",
   "execution_count": 239,
   "metadata": {},
   "outputs": [
    {
     "data": {
      "text/plain": [
       "(1000, 3)"
      ]
     },
     "execution_count": 239,
     "metadata": {},
     "output_type": "execute_result"
    }
   ],
   "source": [
    "norm_random_factors.shape"
   ]
  },
  {
   "cell_type": "code",
   "execution_count": 241,
   "metadata": {},
   "outputs": [
    {
     "data": {
      "text/plain": [
       "(3, 10)"
      ]
     },
     "execution_count": 241,
     "metadata": {},
     "output_type": "execute_result"
    }
   ],
   "source": [
    "pca_model_best.components_.shape"
   ]
  },
  {
   "cell_type": "code",
   "execution_count": 244,
   "metadata": {},
   "outputs": [],
   "source": [
    "full_transformed_increments = norm_random_factors@pca_model_best.components_"
   ]
  },
  {
   "cell_type": "code",
   "execution_count": 247,
   "metadata": {},
   "outputs": [],
   "source": [
    "pca_max_incr = full_transformed_increments.max(1)"
   ]
  },
  {
   "cell_type": "code",
   "execution_count": 253,
   "metadata": {},
   "outputs": [
    {
     "data": {
      "text/plain": [
       "0.04539780727396466"
      ]
     },
     "execution_count": 253,
     "metadata": {},
     "output_type": "execute_result"
    }
   ],
   "source": [
    "bond_portfolio_duration*(np.mean(pca_max_incr) + np.std(pca_max_incr)*z_crit)*np.sqrt(10)/100"
   ]
  },
  {
   "cell_type": "code",
   "execution_count": 1070,
   "metadata": {},
   "outputs": [
    {
     "data": {
      "text/plain": [
       "0.18156825059060305"
      ]
     },
     "execution_count": 1070,
     "metadata": {},
     "output_type": "execute_result"
    }
   ],
   "source": [
    "pca_model.explained_variance_ratio_[1]"
   ]
  },
  {
   "cell_type": "code",
   "execution_count": 1048,
   "metadata": {
    "collapsed": true
   },
   "outputs": [],
   "source": [
    "pca_components = np.arange(1, len(pca_model.explained_variance_ratio_)+1, 1)"
   ]
  },
  {
   "cell_type": "code",
   "execution_count": 1049,
   "metadata": {},
   "outputs": [
    {
     "data": {
      "text/plain": [
       "[]"
      ]
     },
     "execution_count": 1049,
     "metadata": {},
     "output_type": "execute_result"
    },
    {
     "data": {
      "image/png": "[encoded data removed]",
      "text/plain": [
       "<matplotlib.figure.Figure at 0x11d107a90>"
      ]
     },
     "metadata": {},
     "output_type": "display_data"
    }
   ],
   "source": [
    "plt.plot(x=pca_components, y=pca_model.explained_variance_ratio_)"
   ]
  },
  {
   "cell_type": "code",
   "execution_count": 1043,
   "metadata": {},
   "outputs": [
    {
     "data": {
      "text/plain": [
       "0.009019374179824832"
      ]
     },
     "execution_count": 1043,
     "metadata": {},
     "output_type": "execute_result"
    }
   ],
   "source": [
    "np.sum(pca_model.explained_variance_ratio_[])"
   ]
  },
  {
   "cell_type": "code",
   "execution_count": null,
   "metadata": {
    "collapsed": true
   },
   "outputs": [],
   "source": [
    ">>> print(pca.singular_values_)  \n",
    "[6.30061... 0.54980...]"
   ]
  },
  {
   "cell_type": "code",
   "execution_count": null,
   "metadata": {
    "collapsed": true
   },
   "outputs": [],
   "source": []
  },
  {
   "cell_type": "code",
   "execution_count": null,
   "metadata": {
    "collapsed": true
   },
   "outputs": [],
   "source": []
  },
  {
   "cell_type": "markdown",
   "metadata": {},
   "source": [
    "### Backtesting for bonds"
   ]
  },
  {
   "cell_type": "code",
   "execution_count": null,
   "metadata": {
    "collapsed": true
   },
   "outputs": [],
   "source": []
  }
 ],
 "metadata": {
  "kernelspec": {
   "display_name": "Python 3",
   "language": "python",
   "name": "python3"
  },
  "language_info": {
   "codemirror_mode": {
    "name": "ipython",
    "version": 3
   },
   "file_extension": ".py",
   "mimetype": "text/x-python",
   "name": "python",
   "nbconvert_exporter": "python",
   "pygments_lexer": "ipython3",
   "version": "3.6.1"
  }
 },
 "nbformat": 4,
 "nbformat_minor": 2
}
