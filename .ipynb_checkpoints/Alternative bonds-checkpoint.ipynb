{
 "cells": [
  {
   "cell_type": "code",
   "execution_count": null,
   "metadata": {},
   "outputs": [],
   "source": [
    "class Bond():\n",
    "    def __init__(s, receiveLeg, payLeg):\n",
    "        s.receiveLeg = receiveLeg\n",
    "        s.payLeg = payLeg\n",
    "\n",
    "    def getNpv(s, curve):\n",
    "        return - s.payLeg.getNpv(curve) + s.receiveLeg.getNpv(curve)\n",
    "\n",
    "    def __str__(s):\n",
    "        description = \"---SWAP---\\n\"+\"payLeg: \" + s.payLeg.__str__() + \"\\n\" + \"receiveLeg: \" + s.receiveLeg.__str__() + \"\\n----------\"\n",
    "        return description"
   ]
  }
 ],
 "metadata": {
  "kernelspec": {
   "display_name": "Python 3",
   "language": "python",
   "name": "python3"
  },
  "language_info": {
   "codemirror_mode": {
    "name": "ipython",
    "version": 3
   },
   "file_extension": ".py",
   "mimetype": "text/x-python",
   "name": "python",
   "nbconvert_exporter": "python",
   "pygments_lexer": "ipython3",
   "version": "3.6.6"
  }
 },
 "nbformat": 4,
 "nbformat_minor": 2
}
