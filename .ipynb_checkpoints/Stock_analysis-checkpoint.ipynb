{
 "cells": [
  {
   "cell_type": "code",
   "execution_count": 73,
   "metadata": {},
   "outputs": [],
   "source": [
    "import pandas as pd\n",
    "import numpy as np\n",
    "import matplotlib.pyplot as plt\n",
    "import datetime as dt\n",
    "%matplotlib inline\n",
    "\n",
    "plt.style.use('ggplot')\n",
    "import matplotlib\n",
    "matplotlib.rcParams.update({'font.size': 18})"
   ]
  },
  {
   "cell_type": "code",
   "execution_count": 15,
   "metadata": {},
   "outputs": [],
   "source": [
    "stock_prices = pd.read_csv('stock_prices.csv', index_col = 'Date')\n",
    "day_10_returns = pd.read_csv('10_days_returns.csv', index_col = 'Date')\n",
    "daily_log_returns = pd.read_csv('log_returns.csv', index_col = 'Date')"
   ]
  },
  {
   "cell_type": "markdown",
   "metadata": {},
   "source": [
    "# 1. Данные"
   ]
  },
  {
   "cell_type": "code",
   "execution_count": 150,
   "metadata": {},
   "outputs": [
    {
     "data": {
      "text/html": [
       "<div>\n",
       "<style scoped>\n",
       "    .dataframe tbody tr th:only-of-type {\n",
       "        vertical-align: middle;\n",
       "    }\n",
       "\n",
       "    .dataframe tbody tr th {\n",
       "        vertical-align: top;\n",
       "    }\n",
       "\n",
       "    .dataframe thead th {\n",
       "        text-align: right;\n",
       "    }\n",
       "</style>\n",
       "<table border=\"1\" class=\"dataframe\">\n",
       "  <thead>\n",
       "    <tr style=\"text-align: right;\">\n",
       "      <th></th>\n",
       "      <th>AAL.L</th>\n",
       "      <th>BARC.L</th>\n",
       "      <th>BP.L</th>\n",
       "      <th>HSBA.L</th>\n",
       "      <th>LLOY.L</th>\n",
       "      <th>RBS.L</th>\n",
       "      <th>RDSA.L</th>\n",
       "      <th>RIO.L</th>\n",
       "    </tr>\n",
       "    <tr>\n",
       "      <th>Date</th>\n",
       "      <th></th>\n",
       "      <th></th>\n",
       "      <th></th>\n",
       "      <th></th>\n",
       "      <th></th>\n",
       "      <th></th>\n",
       "      <th></th>\n",
       "      <th></th>\n",
       "    </tr>\n",
       "  </thead>\n",
       "  <tbody>\n",
       "    <tr>\n",
       "      <th>2009-07-14</th>\n",
       "      <td>-0.046112</td>\n",
       "      <td>0.033590</td>\n",
       "      <td>-0.033061</td>\n",
       "      <td>0.002551</td>\n",
       "      <td>-0.035911</td>\n",
       "      <td>-0.063063</td>\n",
       "      <td>-0.055305</td>\n",
       "      <td>-0.064180</td>\n",
       "    </tr>\n",
       "    <tr>\n",
       "      <th>2009-07-15</th>\n",
       "      <td>0.042874</td>\n",
       "      <td>0.084083</td>\n",
       "      <td>0.017569</td>\n",
       "      <td>0.061363</td>\n",
       "      <td>0.042934</td>\n",
       "      <td>0.011609</td>\n",
       "      <td>0.003324</td>\n",
       "      <td>0.034152</td>\n",
       "    </tr>\n",
       "    <tr>\n",
       "      <th>2009-07-16</th>\n",
       "      <td>0.026554</td>\n",
       "      <td>0.059934</td>\n",
       "      <td>0.025769</td>\n",
       "      <td>0.054224</td>\n",
       "      <td>0.036310</td>\n",
       "      <td>-0.016630</td>\n",
       "      <td>0.019411</td>\n",
       "      <td>0.026900</td>\n",
       "    </tr>\n",
       "    <tr>\n",
       "      <th>2009-07-17</th>\n",
       "      <td>0.109610</td>\n",
       "      <td>0.069516</td>\n",
       "      <td>0.059996</td>\n",
       "      <td>0.076118</td>\n",
       "      <td>0.021175</td>\n",
       "      <td>0.019244</td>\n",
       "      <td>0.049897</td>\n",
       "      <td>0.142706</td>\n",
       "    </tr>\n",
       "    <tr>\n",
       "      <th>2009-07-20</th>\n",
       "      <td>0.099232</td>\n",
       "      <td>0.057434</td>\n",
       "      <td>0.075673</td>\n",
       "      <td>0.111995</td>\n",
       "      <td>0.091039</td>\n",
       "      <td>0.085354</td>\n",
       "      <td>0.064516</td>\n",
       "      <td>0.163021</td>\n",
       "    </tr>\n",
       "  </tbody>\n",
       "</table>\n",
       "</div>"
      ],
      "text/plain": [
       "               AAL.L    BARC.L      BP.L    HSBA.L    LLOY.L     RBS.L  \\\n",
       "Date                                                                     \n",
       "2009-07-14 -0.046112  0.033590 -0.033061  0.002551 -0.035911 -0.063063   \n",
       "2009-07-15  0.042874  0.084083  0.017569  0.061363  0.042934  0.011609   \n",
       "2009-07-16  0.026554  0.059934  0.025769  0.054224  0.036310 -0.016630   \n",
       "2009-07-17  0.109610  0.069516  0.059996  0.076118  0.021175  0.019244   \n",
       "2009-07-20  0.099232  0.057434  0.075673  0.111995  0.091039  0.085354   \n",
       "\n",
       "              RDSA.L     RIO.L  \n",
       "Date                            \n",
       "2009-07-14 -0.055305 -0.064180  \n",
       "2009-07-15  0.003324  0.034152  \n",
       "2009-07-16  0.019411  0.026900  \n",
       "2009-07-17  0.049897  0.142706  \n",
       "2009-07-20  0.064516  0.163021  "
      ]
     },
     "execution_count": 150,
     "metadata": {},
     "output_type": "execute_result"
    }
   ],
   "source": [
    "day_10_returns.head()"
   ]
  },
  {
   "cell_type": "code",
   "execution_count": 151,
   "metadata": {},
   "outputs": [
    {
     "data": {
      "text/html": [
       "<div>\n",
       "<style scoped>\n",
       "    .dataframe tbody tr th:only-of-type {\n",
       "        vertical-align: middle;\n",
       "    }\n",
       "\n",
       "    .dataframe tbody tr th {\n",
       "        vertical-align: top;\n",
       "    }\n",
       "\n",
       "    .dataframe thead th {\n",
       "        text-align: right;\n",
       "    }\n",
       "</style>\n",
       "<table border=\"1\" class=\"dataframe\">\n",
       "  <thead>\n",
       "    <tr style=\"text-align: right;\">\n",
       "      <th></th>\n",
       "      <th>AAL.L</th>\n",
       "      <th>BARC.L</th>\n",
       "      <th>BP.L</th>\n",
       "      <th>HSBA.L</th>\n",
       "      <th>LLOY.L</th>\n",
       "      <th>RBS.L</th>\n",
       "      <th>RDSA.L</th>\n",
       "      <th>RIO.L</th>\n",
       "    </tr>\n",
       "    <tr>\n",
       "      <th>Date</th>\n",
       "      <th></th>\n",
       "      <th></th>\n",
       "      <th></th>\n",
       "      <th></th>\n",
       "      <th></th>\n",
       "      <th></th>\n",
       "      <th></th>\n",
       "      <th></th>\n",
       "    </tr>\n",
       "  </thead>\n",
       "  <tbody>\n",
       "    <tr>\n",
       "      <th>2009-07-02</th>\n",
       "      <td>-0.059875</td>\n",
       "      <td>-0.004317</td>\n",
       "      <td>-0.018642</td>\n",
       "      <td>-0.018222</td>\n",
       "      <td>-0.035043</td>\n",
       "      <td>-0.038942</td>\n",
       "      <td>-0.033347</td>\n",
       "      <td>-0.058686</td>\n",
       "    </tr>\n",
       "    <tr>\n",
       "      <th>2009-07-03</th>\n",
       "      <td>-0.007269</td>\n",
       "      <td>0.027306</td>\n",
       "      <td>-0.003541</td>\n",
       "      <td>0.017240</td>\n",
       "      <td>0.023980</td>\n",
       "      <td>0.023082</td>\n",
       "      <td>-0.006671</td>\n",
       "      <td>-0.004432</td>\n",
       "    </tr>\n",
       "    <tr>\n",
       "      <th>2009-07-06</th>\n",
       "      <td>-0.050879</td>\n",
       "      <td>-0.014413</td>\n",
       "      <td>-0.026536</td>\n",
       "      <td>-0.005022</td>\n",
       "      <td>-0.020954</td>\n",
       "      <td>-0.029037</td>\n",
       "      <td>-0.020968</td>\n",
       "      <td>-0.072136</td>\n",
       "    </tr>\n",
       "    <tr>\n",
       "      <th>2009-07-07</th>\n",
       "      <td>-0.000614</td>\n",
       "      <td>0.011040</td>\n",
       "      <td>0.002354</td>\n",
       "      <td>-0.007432</td>\n",
       "      <td>-0.001501</td>\n",
       "      <td>-0.009601</td>\n",
       "      <td>-0.004110</td>\n",
       "      <td>0.018397</td>\n",
       "    </tr>\n",
       "    <tr>\n",
       "      <th>2009-07-08</th>\n",
       "      <td>-0.040118</td>\n",
       "      <td>-0.030875</td>\n",
       "      <td>-0.006003</td>\n",
       "      <td>-0.019484</td>\n",
       "      <td>-0.035316</td>\n",
       "      <td>-0.045646</td>\n",
       "      <td>-0.008270</td>\n",
       "      <td>-0.012843</td>\n",
       "    </tr>\n",
       "  </tbody>\n",
       "</table>\n",
       "</div>"
      ],
      "text/plain": [
       "               AAL.L    BARC.L      BP.L    HSBA.L    LLOY.L     RBS.L  \\\n",
       "Date                                                                     \n",
       "2009-07-02 -0.059875 -0.004317 -0.018642 -0.018222 -0.035043 -0.038942   \n",
       "2009-07-03 -0.007269  0.027306 -0.003541  0.017240  0.023980  0.023082   \n",
       "2009-07-06 -0.050879 -0.014413 -0.026536 -0.005022 -0.020954 -0.029037   \n",
       "2009-07-07 -0.000614  0.011040  0.002354 -0.007432 -0.001501 -0.009601   \n",
       "2009-07-08 -0.040118 -0.030875 -0.006003 -0.019484 -0.035316 -0.045646   \n",
       "\n",
       "              RDSA.L     RIO.L  \n",
       "Date                            \n",
       "2009-07-02 -0.033347 -0.058686  \n",
       "2009-07-03 -0.006671 -0.004432  \n",
       "2009-07-06 -0.020968 -0.072136  \n",
       "2009-07-07 -0.004110  0.018397  \n",
       "2009-07-08 -0.008270 -0.012843  "
      ]
     },
     "execution_count": 151,
     "metadata": {},
     "output_type": "execute_result"
    }
   ],
   "source": [
    "daily_log_returns.head()"
   ]
  },
  {
   "cell_type": "markdown",
   "metadata": {},
   "source": [
    "# 2. Описание данных"
   ]
  },
  {
   "cell_type": "markdown",
   "metadata": {},
   "source": [
    "- Цены закрытия акций выружены с Yahoo Finance.\n",
    "- Ставки взяты с сайта ЦБ РФ.\n",
    "- Кросс-валютный курс выгружен с сайта stooq.com, который берет информацию с Google Finance."
   ]
  },
  {
   "cell_type": "markdown",
   "metadata": {},
   "source": [
    "Выведим описательные статистики, skew, kurtosis и автокорреляцию по первому лагу арифметических 10-дневных доходностей акций."
   ]
  },
  {
   "cell_type": "code",
   "execution_count": 152,
   "metadata": {},
   "outputs": [],
   "source": [
    "from scipy.stats import skew\n",
    "from scipy.stats import kurtosis"
   ]
  },
  {
   "cell_type": "code",
   "execution_count": 153,
   "metadata": {},
   "outputs": [],
   "source": [
    "description = day_10_returns.describe()\n",
    "\n",
    "colnames = list(day_10_returns.columns)\n",
    "autocorrelation = []\n",
    "\n",
    "for colname in colnames:\n",
    "    autocorrelation.append(day_10_returns[colname].autocorr(lag = 1))\n",
    "    \n",
    "autocorr = pd.DataFrame([autocorrelation], columns = colnames, index=['autocorr'])\n",
    "skews = pd.DataFrame([skew(day_10_returns, axis = 0).tolist()], columns = colnames, index=['skew'])\n",
    "kurt = pd.DataFrame([kurtosis(day_10_returns, axis = 0).tolist()], columns = colnames, index=['kurtosis'])\n",
    "\n",
    "description = description.append(autocorr)\n",
    "description = description.append(skews)\n",
    "description = description.append(kurt)"
   ]
  },
  {
   "cell_type": "code",
   "execution_count": 10,
   "metadata": {},
   "outputs": [
    {
     "data": {
      "text/html": [
       "<div>\n",
       "<style scoped>\n",
       "    .dataframe tbody tr th:only-of-type {\n",
       "        vertical-align: middle;\n",
       "    }\n",
       "\n",
       "    .dataframe tbody tr th {\n",
       "        vertical-align: top;\n",
       "    }\n",
       "\n",
       "    .dataframe thead th {\n",
       "        text-align: right;\n",
       "    }\n",
       "</style>\n",
       "<table border=\"1\" class=\"dataframe\">\n",
       "  <thead>\n",
       "    <tr style=\"text-align: right;\">\n",
       "      <th></th>\n",
       "      <th>HSBA.UK</th>\n",
       "      <th>BARC.UK</th>\n",
       "      <th>LLOY.UK</th>\n",
       "      <th>RBS.UK</th>\n",
       "      <th>BP.UK</th>\n",
       "      <th>RDSA.UK</th>\n",
       "      <th>RIO.UK</th>\n",
       "      <th>AAL.UK</th>\n",
       "    </tr>\n",
       "  </thead>\n",
       "  <tbody>\n",
       "    <tr>\n",
       "      <th>count</th>\n",
       "      <td>749.000000</td>\n",
       "      <td>749.000000</td>\n",
       "      <td>749.000000</td>\n",
       "      <td>749.000000</td>\n",
       "      <td>749.000000</td>\n",
       "      <td>749.000000</td>\n",
       "      <td>749.000000</td>\n",
       "      <td>749.000000</td>\n",
       "    </tr>\n",
       "    <tr>\n",
       "      <th>mean</th>\n",
       "      <td>0.001548</td>\n",
       "      <td>0.013534</td>\n",
       "      <td>-0.000657</td>\n",
       "      <td>0.004652</td>\n",
       "      <td>0.001007</td>\n",
       "      <td>0.004643</td>\n",
       "      <td>0.014518</td>\n",
       "      <td>0.009401</td>\n",
       "    </tr>\n",
       "    <tr>\n",
       "      <th>std</th>\n",
       "      <td>0.064685</td>\n",
       "      <td>0.150058</td>\n",
       "      <td>0.153627</td>\n",
       "      <td>0.147392</td>\n",
       "      <td>0.063216</td>\n",
       "      <td>0.046326</td>\n",
       "      <td>0.084188</td>\n",
       "      <td>0.079307</td>\n",
       "    </tr>\n",
       "    <tr>\n",
       "      <th>min</th>\n",
       "      <td>-0.290343</td>\n",
       "      <td>-0.722670</td>\n",
       "      <td>-0.649604</td>\n",
       "      <td>-0.789787</td>\n",
       "      <td>-0.298137</td>\n",
       "      <td>-0.195308</td>\n",
       "      <td>-0.233768</td>\n",
       "      <td>-0.316247</td>\n",
       "    </tr>\n",
       "    <tr>\n",
       "      <th>25%</th>\n",
       "      <td>-0.030701</td>\n",
       "      <td>-0.051445</td>\n",
       "      <td>-0.067942</td>\n",
       "      <td>-0.064734</td>\n",
       "      <td>-0.028745</td>\n",
       "      <td>-0.024213</td>\n",
       "      <td>-0.037974</td>\n",
       "      <td>-0.040067</td>\n",
       "    </tr>\n",
       "    <tr>\n",
       "      <th>50%</th>\n",
       "      <td>-0.002056</td>\n",
       "      <td>-0.003666</td>\n",
       "      <td>-0.010334</td>\n",
       "      <td>-0.007179</td>\n",
       "      <td>0.005585</td>\n",
       "      <td>0.007588</td>\n",
       "      <td>0.013533</td>\n",
       "      <td>0.009936</td>\n",
       "    </tr>\n",
       "    <tr>\n",
       "      <th>75%</th>\n",
       "      <td>0.030232</td>\n",
       "      <td>0.059088</td>\n",
       "      <td>0.051077</td>\n",
       "      <td>0.062105</td>\n",
       "      <td>0.036411</td>\n",
       "      <td>0.034025</td>\n",
       "      <td>0.066666</td>\n",
       "      <td>0.058990</td>\n",
       "    </tr>\n",
       "    <tr>\n",
       "      <th>max</th>\n",
       "      <td>0.298901</td>\n",
       "      <td>0.953121</td>\n",
       "      <td>1.040486</td>\n",
       "      <td>0.980523</td>\n",
       "      <td>0.314099</td>\n",
       "      <td>0.195335</td>\n",
       "      <td>0.317943</td>\n",
       "      <td>0.334882</td>\n",
       "    </tr>\n",
       "    <tr>\n",
       "      <th>autocorr</th>\n",
       "      <td>0.868376</td>\n",
       "      <td>0.899319</td>\n",
       "      <td>0.886610</td>\n",
       "      <td>0.864620</td>\n",
       "      <td>0.914782</td>\n",
       "      <td>0.887964</td>\n",
       "      <td>0.875743</td>\n",
       "      <td>0.861956</td>\n",
       "    </tr>\n",
       "    <tr>\n",
       "      <th>skew</th>\n",
       "      <td>0.227118</td>\n",
       "      <td>1.614231</td>\n",
       "      <td>1.135613</td>\n",
       "      <td>0.506285</td>\n",
       "      <td>-0.130752</td>\n",
       "      <td>-0.489483</td>\n",
       "      <td>0.150237</td>\n",
       "      <td>-0.149318</td>\n",
       "    </tr>\n",
       "    <tr>\n",
       "      <th>kurtosis</th>\n",
       "      <td>3.567590</td>\n",
       "      <td>10.934831</td>\n",
       "      <td>10.714613</td>\n",
       "      <td>11.508725</td>\n",
       "      <td>3.030405</td>\n",
       "      <td>1.333148</td>\n",
       "      <td>0.647967</td>\n",
       "      <td>1.586696</td>\n",
       "    </tr>\n",
       "  </tbody>\n",
       "</table>\n",
       "</div>"
      ],
      "text/plain": [
       "             HSBA.UK     BARC.UK     LLOY.UK      RBS.UK       BP.UK  \\\n",
       "count     749.000000  749.000000  749.000000  749.000000  749.000000   \n",
       "mean        0.001548    0.013534   -0.000657    0.004652    0.001007   \n",
       "std         0.064685    0.150058    0.153627    0.147392    0.063216   \n",
       "min        -0.290343   -0.722670   -0.649604   -0.789787   -0.298137   \n",
       "25%        -0.030701   -0.051445   -0.067942   -0.064734   -0.028745   \n",
       "50%        -0.002056   -0.003666   -0.010334   -0.007179    0.005585   \n",
       "75%         0.030232    0.059088    0.051077    0.062105    0.036411   \n",
       "max         0.298901    0.953121    1.040486    0.980523    0.314099   \n",
       "autocorr    0.868376    0.899319    0.886610    0.864620    0.914782   \n",
       "skew        0.227118    1.614231    1.135613    0.506285   -0.130752   \n",
       "kurtosis    3.567590   10.934831   10.714613   11.508725    3.030405   \n",
       "\n",
       "             RDSA.UK      RIO.UK      AAL.UK  \n",
       "count     749.000000  749.000000  749.000000  \n",
       "mean        0.004643    0.014518    0.009401  \n",
       "std         0.046326    0.084188    0.079307  \n",
       "min        -0.195308   -0.233768   -0.316247  \n",
       "25%        -0.024213   -0.037974   -0.040067  \n",
       "50%         0.007588    0.013533    0.009936  \n",
       "75%         0.034025    0.066666    0.058990  \n",
       "max         0.195335    0.317943    0.334882  \n",
       "autocorr    0.887964    0.875743    0.861956  \n",
       "skew       -0.489483    0.150237   -0.149318  \n",
       "kurtosis    1.333148    0.647967    1.586696  "
      ]
     },
     "execution_count": 10,
     "metadata": {},
     "output_type": "execute_result"
    }
   ],
   "source": [
    "description"
   ]
  },
  {
   "cell_type": "markdown",
   "metadata": {},
   "source": [
    "# 3. VaR и ES для акций"
   ]
  },
  {
   "cell_type": "markdown",
   "metadata": {},
   "source": [
    "## Дельта-нормальный метод"
   ]
  },
  {
   "cell_type": "markdown",
   "metadata": {},
   "source": [
    "Функция использует следующие формулы для подсчета VaR и ES:"
   ]
  },
  {
   "cell_type": "markdown",
   "metadata": {},
   "source": [
    "$$\n",
    "VaR_{\\alpha}(X) = - \\mu_p + \\sigma_p \\cdot \\Phi^{-1}(\\alpha)\n",
    "$$\n",
    "\n",
    "$$\n",
    "ES_{\\alpha}(X) = - \\mu_p + \\sigma_p \\cdot \\frac{\\phi(\\Phi^{-1}(\\alpha))}{\\alpha}\n",
    "$$"
   ]
  },
  {
   "cell_type": "code",
   "execution_count": 4,
   "metadata": {},
   "outputs": [],
   "source": [
    "import scipy.stats as st"
   ]
  },
  {
   "cell_type": "code",
   "execution_count": 64,
   "metadata": {},
   "outputs": [],
   "source": [
    "def delta_norm_stock_VaR_ES(start, end, p_weights, alpha, return_period, daily_log_returns = daily_log_returns):\n",
    "    cov = np.array(daily_log_returns[start:end].cov())\n",
    "    stdev_p = np.sqrt(p_weights@cov@p_weights)\n",
    "    mu_p = (daily_log_returns@p_weights.T).mean()\n",
    "    \n",
    "    VaR = - mu_p + stdev_p * st.norm.ppf(1 - alpha) * np.sqrt(return_period)\n",
    "    ES = - mu_p + stdev_p * st.norm.pdf(st.norm.ppf(1 - alpha))/alpha * np.sqrt(return_period)\n",
    "\n",
    "    return VaR, ES"
   ]
  },
  {
   "cell_type": "code",
   "execution_count": 65,
   "metadata": {},
   "outputs": [
    {
     "name": "stdout",
     "output_type": "stream",
     "text": [
      "VaR: C вероятностью 0.99 портфель не потеряет за 10-дневный срок больше чем 15.0% стоимости\n",
      "ES: Если портфель за 10 дней будет терять больше, чем 15.0% стоимости, то он в среднем потеряет 17.18%\n"
     ]
    }
   ],
   "source": [
    "start = daily_log_returns.index[0]\n",
    "end = daily_log_returns.index[-1]\n",
    "p_weights = np.array([0.1, 0.1, 0.1, 0.1, 0.175, 0.175, 0.125, 0.125])\n",
    "return_period = 10\n",
    "alpha = 0.01\n",
    "\n",
    "VaR_dela_norm_10, ES_dela_norm_10 = delta_norm_stock_VaR_ES(start = start, end = end, p_weights = p_weights, \n",
    "                                                              alpha = alpha, return_period = return_period)\n",
    "\n",
    "print(f'VaR: C вероятностью {1-alpha} портфель не потеряет за {return_period}-дневный срок больше чем {round(VaR_dela_norm_10 * 100, 2)}% стоимости')\n",
    "print(f'ES: Если портфель за {return_period} дней будет терять больше, чем {round(VaR_dela_norm_10 * 100, 2)}% стоимости, то он в среднем потеряет {round(ES_dela_norm_10*100, 2)}%')    "
   ]
  },
  {
   "cell_type": "markdown",
   "metadata": {},
   "source": [
    "## Исторический метод"
   ]
  },
  {
   "cell_type": "markdown",
   "metadata": {},
   "source": [
    "VaR и ES историческим методом считались так:"
   ]
  },
  {
   "cell_type": "markdown",
   "metadata": {},
   "source": [
    "$$\n",
    "VaR_\\alpha(X) = - inf{[x|P(X \\leq x) > \\alpha]}\n",
    "$$\n",
    "\n",
    "$$\n",
    "ES_\\alpha(X) = \\frac{\\Sigma [x|P(X \\leq x) > \\alpha]}{\\#x}\n",
    "$$"
   ]
  },
  {
   "cell_type": "code",
   "execution_count": 69,
   "metadata": {},
   "outputs": [],
   "source": [
    "def historical_stock_VaR_ES(start, end, p_weights, alpha, returns = day_10_returns):\n",
    "    \n",
    "    #Calculation\n",
    "    p_returns = returns@p_weights.T\n",
    "    p_returns = p_returns.sort_values()\n",
    "    \n",
    "    VaR_location = int(np.floor(p_returns.shape[0] * alpha))\n",
    "    VaR = - p_returns[VaR_location]\n",
    "    ES = - p_returns[:VaR_location].mean()\n",
    "    \n",
    "    #Plot\n",
    "    plt.figure(figsize=(15,7.5))\n",
    "    plt.tick_params(labelsize=14)\n",
    "    plt.title('Historical Simulation')\n",
    "    plt.legend(['Empirical PMF', 'VaR', 'ES'])  \n",
    "    \n",
    "    plt.scatter(p_returns, np.linspace(0, 1, p_returns.shape[0]), s = 20)\n",
    "    plt.scatter(p_returns[VaR_location], np.linspace(0, 1, p_returns.shape[0])[VaR_location], s = 300)\n",
    "    plt.scatter(p_returns[:VaR_location].mean(), np.linspace(0, 1, p_returns.shape[0])[:VaR_location].mean(), s = 300)\n",
    "    plt.xlabel('P\\L')\n",
    "    plt.legend(['Empirical PMF', 'VaR', 'ES'])\n",
    "    \n",
    "    return VaR, ES"
   ]
  },
  {
   "cell_type": "code",
   "execution_count": 74,
   "metadata": {},
   "outputs": [
    {
     "name": "stdout",
     "output_type": "stream",
     "text": [
      "VaR: C вероятностью 0.99 портфель не потеряет за 10-дневный срок больше чем 14.96% стоимости\n",
      "ES: Если портфель за 10 дней будет терять больше, чем 14.96% стоимости, то он в среднем потеряет 19.18%\n"
     ]
    },
    {
     "data": {
      "image/png": "[encoded data removed]",
      "text/plain": [
       "<Figure size 1080x540 with 1 Axes>"
      ]
     },
     "metadata": {},
     "output_type": "display_data"
    }
   ],
   "source": [
    "VaR_hist, ES_hist = historical_stock_VaR_ES(start, end, p_weights, alpha)\n",
    "\n",
    "print(f'VaR: C вероятностью {1-alpha} портфель не потеряет за 10-дневный срок больше чем {round(VaR_hist * 100, 2)}% стоимости')\n",
    "print(f'ES: Если портфель за 10 дней будет терять больше, чем {round(VaR_hist * 100, 2)}% стоимости, то он в среднем потеряет {round(ES_hist*100, 2)}%')"
   ]
  },
  {
   "cell_type": "code",
   "execution_count": null,
   "metadata": {},
   "outputs": [],
   "source": []
  }
 ],
 "metadata": {
  "kernelspec": {
   "display_name": "Python 3",
   "language": "python",
   "name": "python3"
  },
  "language_info": {
   "codemirror_mode": {
    "name": "ipython",
    "version": 3
   },
   "file_extension": ".py",
   "mimetype": "text/x-python",
   "name": "python",
   "nbconvert_exporter": "python",
   "pygments_lexer": "ipython3",
   "version": "3.6.6"
  }
 },
 "nbformat": 4,
 "nbformat_minor": 2
}
