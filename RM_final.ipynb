{
 "cells": [
  {
   "cell_type": "code",
   "execution_count": 1,
   "metadata": {},
   "outputs": [],
   "source": [
    "import pandas as pd\n",
    "import numpy as np\n",
    "import matplotlib.pyplot as plt\n",
    "import datetime as dt\n",
    "%matplotlib inline\n",
    "\n",
    "plt.style.use('ggplot')\n",
    "import matplotlib\n",
    "matplotlib.rcParams.update({'font.size': 18})"
   ]
  },
  {
   "cell_type": "code",
   "execution_count": 2,
   "metadata": {},
   "outputs": [],
   "source": [
    "stock_prices = pd.read_csv('stock_prices.csv', parse_dates=True, index_col='Date')\n",
    "day_1_returns = pd.read_csv('1_day_returns.csv', parse_dates=True, index_col='Date')\n",
    "day_10_returns = pd.read_csv('10_days_returns.csv', parse_dates=True, index_col='Date')\n",
    "daily_log_returns = pd.read_csv('log_returns.csv', parse_dates=True, index_col='Date')\n",
    "\n",
    "rates = pd.read_csv('rates_interpolated.csv', parse_dates=True, index_col='Date')\n",
    "rates.columns = rates.columns.astype(float)"
   ]
  },
  {
   "cell_type": "markdown",
   "metadata": {},
   "source": [
    "# 1. Данные"
   ]
  },
  {
   "cell_type": "code",
   "execution_count": 3,
   "metadata": {},
   "outputs": [
    {
     "data": {
      "text/html": [
       "<div>\n",
       "<style scoped>\n",
       "    .dataframe tbody tr th:only-of-type {\n",
       "        vertical-align: middle;\n",
       "    }\n",
       "\n",
       "    .dataframe tbody tr th {\n",
       "        vertical-align: top;\n",
       "    }\n",
       "\n",
       "    .dataframe thead th {\n",
       "        text-align: right;\n",
       "    }\n",
       "</style>\n",
       "<table border=\"1\" class=\"dataframe\">\n",
       "  <thead>\n",
       "    <tr style=\"text-align: right;\">\n",
       "      <th></th>\n",
       "      <th>AAL.L</th>\n",
       "      <th>BARC.L</th>\n",
       "      <th>BP.L</th>\n",
       "      <th>HSBA.L</th>\n",
       "      <th>LLOY.L</th>\n",
       "      <th>RBS.L</th>\n",
       "      <th>RDSA.L</th>\n",
       "      <th>RIO.L</th>\n",
       "    </tr>\n",
       "    <tr>\n",
       "      <th>Date</th>\n",
       "      <th></th>\n",
       "      <th></th>\n",
       "      <th></th>\n",
       "      <th></th>\n",
       "      <th></th>\n",
       "      <th></th>\n",
       "      <th></th>\n",
       "      <th></th>\n",
       "    </tr>\n",
       "  </thead>\n",
       "  <tbody>\n",
       "    <tr>\n",
       "      <th>2009-07-14</th>\n",
       "      <td>-0.046112</td>\n",
       "      <td>0.033590</td>\n",
       "      <td>-0.033061</td>\n",
       "      <td>0.002551</td>\n",
       "      <td>-0.035911</td>\n",
       "      <td>-0.063063</td>\n",
       "      <td>-0.055305</td>\n",
       "      <td>-0.064180</td>\n",
       "    </tr>\n",
       "    <tr>\n",
       "      <th>2009-07-15</th>\n",
       "      <td>0.042874</td>\n",
       "      <td>0.084083</td>\n",
       "      <td>0.017569</td>\n",
       "      <td>0.061363</td>\n",
       "      <td>0.042934</td>\n",
       "      <td>0.011609</td>\n",
       "      <td>0.003324</td>\n",
       "      <td>0.034152</td>\n",
       "    </tr>\n",
       "    <tr>\n",
       "      <th>2009-07-16</th>\n",
       "      <td>0.026554</td>\n",
       "      <td>0.059934</td>\n",
       "      <td>0.025769</td>\n",
       "      <td>0.054224</td>\n",
       "      <td>0.036310</td>\n",
       "      <td>-0.016630</td>\n",
       "      <td>0.019411</td>\n",
       "      <td>0.026900</td>\n",
       "    </tr>\n",
       "    <tr>\n",
       "      <th>2009-07-17</th>\n",
       "      <td>0.109610</td>\n",
       "      <td>0.069516</td>\n",
       "      <td>0.059996</td>\n",
       "      <td>0.076118</td>\n",
       "      <td>0.021175</td>\n",
       "      <td>0.019244</td>\n",
       "      <td>0.049897</td>\n",
       "      <td>0.142706</td>\n",
       "    </tr>\n",
       "    <tr>\n",
       "      <th>2009-07-20</th>\n",
       "      <td>0.099232</td>\n",
       "      <td>0.057434</td>\n",
       "      <td>0.075673</td>\n",
       "      <td>0.111995</td>\n",
       "      <td>0.091039</td>\n",
       "      <td>0.085354</td>\n",
       "      <td>0.064516</td>\n",
       "      <td>0.163021</td>\n",
       "    </tr>\n",
       "  </tbody>\n",
       "</table>\n",
       "</div>"
      ],
      "text/plain": [
       "               AAL.L    BARC.L      BP.L    HSBA.L    LLOY.L     RBS.L  \\\n",
       "Date                                                                     \n",
       "2009-07-14 -0.046112  0.033590 -0.033061  0.002551 -0.035911 -0.063063   \n",
       "2009-07-15  0.042874  0.084083  0.017569  0.061363  0.042934  0.011609   \n",
       "2009-07-16  0.026554  0.059934  0.025769  0.054224  0.036310 -0.016630   \n",
       "2009-07-17  0.109610  0.069516  0.059996  0.076118  0.021175  0.019244   \n",
       "2009-07-20  0.099232  0.057434  0.075673  0.111995  0.091039  0.085354   \n",
       "\n",
       "              RDSA.L     RIO.L  \n",
       "Date                            \n",
       "2009-07-14 -0.055305 -0.064180  \n",
       "2009-07-15  0.003324  0.034152  \n",
       "2009-07-16  0.019411  0.026900  \n",
       "2009-07-17  0.049897  0.142706  \n",
       "2009-07-20  0.064516  0.163021  "
      ]
     },
     "execution_count": 3,
     "metadata": {},
     "output_type": "execute_result"
    }
   ],
   "source": [
    "day_10_returns.head()"
   ]
  },
  {
   "cell_type": "code",
   "execution_count": 4,
   "metadata": {},
   "outputs": [
    {
     "data": {
      "text/html": [
       "<div>\n",
       "<style scoped>\n",
       "    .dataframe tbody tr th:only-of-type {\n",
       "        vertical-align: middle;\n",
       "    }\n",
       "\n",
       "    .dataframe tbody tr th {\n",
       "        vertical-align: top;\n",
       "    }\n",
       "\n",
       "    .dataframe thead th {\n",
       "        text-align: right;\n",
       "    }\n",
       "</style>\n",
       "<table border=\"1\" class=\"dataframe\">\n",
       "  <thead>\n",
       "    <tr style=\"text-align: right;\">\n",
       "      <th></th>\n",
       "      <th>AAL.L</th>\n",
       "      <th>BARC.L</th>\n",
       "      <th>BP.L</th>\n",
       "      <th>HSBA.L</th>\n",
       "      <th>LLOY.L</th>\n",
       "      <th>RBS.L</th>\n",
       "      <th>RDSA.L</th>\n",
       "      <th>RIO.L</th>\n",
       "    </tr>\n",
       "    <tr>\n",
       "      <th>Date</th>\n",
       "      <th></th>\n",
       "      <th></th>\n",
       "      <th></th>\n",
       "      <th></th>\n",
       "      <th></th>\n",
       "      <th></th>\n",
       "      <th></th>\n",
       "      <th></th>\n",
       "    </tr>\n",
       "  </thead>\n",
       "  <tbody>\n",
       "    <tr>\n",
       "      <th>2009-07-02</th>\n",
       "      <td>-0.059875</td>\n",
       "      <td>-0.004317</td>\n",
       "      <td>-0.018642</td>\n",
       "      <td>-0.018222</td>\n",
       "      <td>-0.035043</td>\n",
       "      <td>-0.038942</td>\n",
       "      <td>-0.033347</td>\n",
       "      <td>-0.058686</td>\n",
       "    </tr>\n",
       "    <tr>\n",
       "      <th>2009-07-03</th>\n",
       "      <td>-0.007269</td>\n",
       "      <td>0.027306</td>\n",
       "      <td>-0.003541</td>\n",
       "      <td>0.017240</td>\n",
       "      <td>0.023980</td>\n",
       "      <td>0.023082</td>\n",
       "      <td>-0.006671</td>\n",
       "      <td>-0.004432</td>\n",
       "    </tr>\n",
       "    <tr>\n",
       "      <th>2009-07-06</th>\n",
       "      <td>-0.050879</td>\n",
       "      <td>-0.014413</td>\n",
       "      <td>-0.026536</td>\n",
       "      <td>-0.005022</td>\n",
       "      <td>-0.020954</td>\n",
       "      <td>-0.029037</td>\n",
       "      <td>-0.020968</td>\n",
       "      <td>-0.072136</td>\n",
       "    </tr>\n",
       "    <tr>\n",
       "      <th>2009-07-07</th>\n",
       "      <td>-0.000614</td>\n",
       "      <td>0.011040</td>\n",
       "      <td>0.002354</td>\n",
       "      <td>-0.007432</td>\n",
       "      <td>-0.001501</td>\n",
       "      <td>-0.009601</td>\n",
       "      <td>-0.004110</td>\n",
       "      <td>0.018397</td>\n",
       "    </tr>\n",
       "    <tr>\n",
       "      <th>2009-07-08</th>\n",
       "      <td>-0.040118</td>\n",
       "      <td>-0.030875</td>\n",
       "      <td>-0.006003</td>\n",
       "      <td>-0.019484</td>\n",
       "      <td>-0.035316</td>\n",
       "      <td>-0.045646</td>\n",
       "      <td>-0.008270</td>\n",
       "      <td>-0.012843</td>\n",
       "    </tr>\n",
       "  </tbody>\n",
       "</table>\n",
       "</div>"
      ],
      "text/plain": [
       "               AAL.L    BARC.L      BP.L    HSBA.L    LLOY.L     RBS.L  \\\n",
       "Date                                                                     \n",
       "2009-07-02 -0.059875 -0.004317 -0.018642 -0.018222 -0.035043 -0.038942   \n",
       "2009-07-03 -0.007269  0.027306 -0.003541  0.017240  0.023980  0.023082   \n",
       "2009-07-06 -0.050879 -0.014413 -0.026536 -0.005022 -0.020954 -0.029037   \n",
       "2009-07-07 -0.000614  0.011040  0.002354 -0.007432 -0.001501 -0.009601   \n",
       "2009-07-08 -0.040118 -0.030875 -0.006003 -0.019484 -0.035316 -0.045646   \n",
       "\n",
       "              RDSA.L     RIO.L  \n",
       "Date                            \n",
       "2009-07-02 -0.033347 -0.058686  \n",
       "2009-07-03 -0.006671 -0.004432  \n",
       "2009-07-06 -0.020968 -0.072136  \n",
       "2009-07-07 -0.004110  0.018397  \n",
       "2009-07-08 -0.008270 -0.012843  "
      ]
     },
     "execution_count": 4,
     "metadata": {},
     "output_type": "execute_result"
    }
   ],
   "source": [
    "daily_log_returns.head()"
   ]
  },
  {
   "cell_type": "code",
   "execution_count": 5,
   "metadata": {},
   "outputs": [
    {
     "data": {
      "text/html": [
       "<div>\n",
       "<style scoped>\n",
       "    .dataframe tbody tr th:only-of-type {\n",
       "        vertical-align: middle;\n",
       "    }\n",
       "\n",
       "    .dataframe tbody tr th {\n",
       "        vertical-align: top;\n",
       "    }\n",
       "\n",
       "    .dataframe thead th {\n",
       "        text-align: right;\n",
       "    }\n",
       "</style>\n",
       "<table border=\"1\" class=\"dataframe\">\n",
       "  <thead>\n",
       "    <tr style=\"text-align: right;\">\n",
       "      <th></th>\n",
       "      <th>0.5</th>\n",
       "      <th>1.0</th>\n",
       "      <th>1.5</th>\n",
       "      <th>2.0</th>\n",
       "      <th>2.5</th>\n",
       "      <th>3.0</th>\n",
       "      <th>3.5</th>\n",
       "      <th>4.0</th>\n",
       "      <th>4.5</th>\n",
       "      <th>5.0</th>\n",
       "      <th>...</th>\n",
       "      <th>13.5</th>\n",
       "      <th>14.0</th>\n",
       "      <th>14.5</th>\n",
       "      <th>15.0</th>\n",
       "      <th>15.5</th>\n",
       "      <th>16.0</th>\n",
       "      <th>16.5</th>\n",
       "      <th>17.0</th>\n",
       "      <th>17.5</th>\n",
       "      <th>18.0</th>\n",
       "    </tr>\n",
       "    <tr>\n",
       "      <th>Date</th>\n",
       "      <th></th>\n",
       "      <th></th>\n",
       "      <th></th>\n",
       "      <th></th>\n",
       "      <th></th>\n",
       "      <th></th>\n",
       "      <th></th>\n",
       "      <th></th>\n",
       "      <th></th>\n",
       "      <th></th>\n",
       "      <th></th>\n",
       "      <th></th>\n",
       "      <th></th>\n",
       "      <th></th>\n",
       "      <th></th>\n",
       "      <th></th>\n",
       "      <th></th>\n",
       "      <th></th>\n",
       "      <th></th>\n",
       "      <th></th>\n",
       "      <th></th>\n",
       "    </tr>\n",
       "  </thead>\n",
       "  <tbody>\n",
       "    <tr>\n",
       "      <th>2009-07-01</th>\n",
       "      <td>9.18</td>\n",
       "      <td>10.56</td>\n",
       "      <td>11.135</td>\n",
       "      <td>11.71</td>\n",
       "      <td>11.815</td>\n",
       "      <td>11.92</td>\n",
       "      <td>11.8825</td>\n",
       "      <td>11.845</td>\n",
       "      <td>11.8075</td>\n",
       "      <td>11.77</td>\n",
       "      <td>...</td>\n",
       "      <td>11.623</td>\n",
       "      <td>11.622</td>\n",
       "      <td>11.621</td>\n",
       "      <td>11.62</td>\n",
       "      <td>11.62</td>\n",
       "      <td>11.62</td>\n",
       "      <td>11.62</td>\n",
       "      <td>11.62</td>\n",
       "      <td>11.62</td>\n",
       "      <td>11.62</td>\n",
       "    </tr>\n",
       "    <tr>\n",
       "      <th>2009-07-02</th>\n",
       "      <td>8.93</td>\n",
       "      <td>10.29</td>\n",
       "      <td>10.920</td>\n",
       "      <td>11.55</td>\n",
       "      <td>11.730</td>\n",
       "      <td>11.91</td>\n",
       "      <td>11.9075</td>\n",
       "      <td>11.905</td>\n",
       "      <td>11.9025</td>\n",
       "      <td>11.90</td>\n",
       "      <td>...</td>\n",
       "      <td>11.455</td>\n",
       "      <td>11.440</td>\n",
       "      <td>11.425</td>\n",
       "      <td>11.41</td>\n",
       "      <td>11.41</td>\n",
       "      <td>11.41</td>\n",
       "      <td>11.41</td>\n",
       "      <td>11.41</td>\n",
       "      <td>11.41</td>\n",
       "      <td>11.41</td>\n",
       "    </tr>\n",
       "    <tr>\n",
       "      <th>2009-07-03</th>\n",
       "      <td>8.91</td>\n",
       "      <td>10.33</td>\n",
       "      <td>11.005</td>\n",
       "      <td>11.68</td>\n",
       "      <td>11.845</td>\n",
       "      <td>12.01</td>\n",
       "      <td>11.9725</td>\n",
       "      <td>11.935</td>\n",
       "      <td>11.8975</td>\n",
       "      <td>11.86</td>\n",
       "      <td>...</td>\n",
       "      <td>11.411</td>\n",
       "      <td>11.404</td>\n",
       "      <td>11.397</td>\n",
       "      <td>11.39</td>\n",
       "      <td>11.39</td>\n",
       "      <td>11.39</td>\n",
       "      <td>11.39</td>\n",
       "      <td>11.39</td>\n",
       "      <td>11.39</td>\n",
       "      <td>11.39</td>\n",
       "    </tr>\n",
       "    <tr>\n",
       "      <th>2009-07-06</th>\n",
       "      <td>8.84</td>\n",
       "      <td>10.20</td>\n",
       "      <td>10.925</td>\n",
       "      <td>11.65</td>\n",
       "      <td>11.900</td>\n",
       "      <td>12.15</td>\n",
       "      <td>12.1725</td>\n",
       "      <td>12.195</td>\n",
       "      <td>12.2175</td>\n",
       "      <td>12.24</td>\n",
       "      <td>...</td>\n",
       "      <td>11.757</td>\n",
       "      <td>11.738</td>\n",
       "      <td>11.719</td>\n",
       "      <td>11.70</td>\n",
       "      <td>11.70</td>\n",
       "      <td>11.70</td>\n",
       "      <td>11.70</td>\n",
       "      <td>11.70</td>\n",
       "      <td>11.70</td>\n",
       "      <td>11.70</td>\n",
       "    </tr>\n",
       "    <tr>\n",
       "      <th>2009-07-07</th>\n",
       "      <td>9.09</td>\n",
       "      <td>10.45</td>\n",
       "      <td>11.035</td>\n",
       "      <td>11.62</td>\n",
       "      <td>11.765</td>\n",
       "      <td>11.91</td>\n",
       "      <td>11.8975</td>\n",
       "      <td>11.885</td>\n",
       "      <td>11.8725</td>\n",
       "      <td>11.86</td>\n",
       "      <td>...</td>\n",
       "      <td>11.614</td>\n",
       "      <td>11.606</td>\n",
       "      <td>11.598</td>\n",
       "      <td>11.59</td>\n",
       "      <td>11.59</td>\n",
       "      <td>11.59</td>\n",
       "      <td>11.59</td>\n",
       "      <td>11.59</td>\n",
       "      <td>11.59</td>\n",
       "      <td>11.59</td>\n",
       "    </tr>\n",
       "  </tbody>\n",
       "</table>\n",
       "<p>5 rows × 36 columns</p>\n",
       "</div>"
      ],
      "text/plain": [
       "            0.5    1.0     1.5    2.0     2.5    3.0      3.5     4.0   \\\n",
       "Date                                                                     \n",
       "2009-07-01  9.18  10.56  11.135  11.71  11.815  11.92  11.8825  11.845   \n",
       "2009-07-02  8.93  10.29  10.920  11.55  11.730  11.91  11.9075  11.905   \n",
       "2009-07-03  8.91  10.33  11.005  11.68  11.845  12.01  11.9725  11.935   \n",
       "2009-07-06  8.84  10.20  10.925  11.65  11.900  12.15  12.1725  12.195   \n",
       "2009-07-07  9.09  10.45  11.035  11.62  11.765  11.91  11.8975  11.885   \n",
       "\n",
       "               4.5    5.0   ...      13.5    14.0    14.5   15.0   15.5  \\\n",
       "Date                        ...                                           \n",
       "2009-07-01  11.8075  11.77  ...    11.623  11.622  11.621  11.62  11.62   \n",
       "2009-07-02  11.9025  11.90  ...    11.455  11.440  11.425  11.41  11.41   \n",
       "2009-07-03  11.8975  11.86  ...    11.411  11.404  11.397  11.39  11.39   \n",
       "2009-07-06  12.2175  12.24  ...    11.757  11.738  11.719  11.70  11.70   \n",
       "2009-07-07  11.8725  11.86  ...    11.614  11.606  11.598  11.59  11.59   \n",
       "\n",
       "             16.0   16.5   17.0   17.5   18.0  \n",
       "Date                                           \n",
       "2009-07-01  11.62  11.62  11.62  11.62  11.62  \n",
       "2009-07-02  11.41  11.41  11.41  11.41  11.41  \n",
       "2009-07-03  11.39  11.39  11.39  11.39  11.39  \n",
       "2009-07-06  11.70  11.70  11.70  11.70  11.70  \n",
       "2009-07-07  11.59  11.59  11.59  11.59  11.59  \n",
       "\n",
       "[5 rows x 36 columns]"
      ]
     },
     "execution_count": 5,
     "metadata": {},
     "output_type": "execute_result"
    }
   ],
   "source": [
    "rates.head()"
   ]
  },
  {
   "cell_type": "markdown",
   "metadata": {},
   "source": [
    "# 2. Описание данных"
   ]
  },
  {
   "cell_type": "markdown",
   "metadata": {},
   "source": [
    "- Цены закрытия акций выружены с Yahoo Finance.\n",
    "- Ставки взяты с сайта ЦБ РФ.\n",
    "- Кросс-валютный курс выгружен с сайта stooq.com, который берет информацию с Google Finance."
   ]
  },
  {
   "cell_type": "markdown",
   "metadata": {},
   "source": [
    "Выведим описательные статистики, skew, kurtosis и автокорреляцию по первому лагу арифметических 10-дневных доходностей акций."
   ]
  },
  {
   "cell_type": "code",
   "execution_count": 6,
   "metadata": {},
   "outputs": [],
   "source": [
    "from scipy.stats import skew\n",
    "from scipy.stats import kurtosis"
   ]
  },
  {
   "cell_type": "code",
   "execution_count": 7,
   "metadata": {},
   "outputs": [],
   "source": [
    "def describe(df):\n",
    "    \"\"\"\n",
    "    Print description of datafame with autocorrelation, skew and kurtosis\n",
    "    \"\"\"\n",
    "    description = df.describe()\n",
    "    \n",
    "    colnames = list(df.columns)\n",
    "    autocorrelation = []\n",
    "    \n",
    "    for colname in colnames:\n",
    "        autocorrelation.append(df[colname].autocorr(lag = 1))\n",
    "        \n",
    "    autocorr = pd.DataFrame([autocorrelation], columns = colnames, index=['autocorr'])\n",
    "    skews = pd.DataFrame([skew(df, axis = 0).tolist()], columns = colnames, index=['skew'])\n",
    "    kurt = pd.DataFrame([kurtosis(df, axis = 0).tolist()], columns = colnames, index=['kurtosis'])\n",
    "    \n",
    "    description = description.append(autocorr)\n",
    "    description = description.append(skews)\n",
    "    description = description.append(kurt)\n",
    "    \n",
    "    return description"
   ]
  },
  {
   "cell_type": "code",
   "execution_count": 8,
   "metadata": {},
   "outputs": [
    {
     "data": {
      "text/html": [
       "<div>\n",
       "<style scoped>\n",
       "    .dataframe tbody tr th:only-of-type {\n",
       "        vertical-align: middle;\n",
       "    }\n",
       "\n",
       "    .dataframe tbody tr th {\n",
       "        vertical-align: top;\n",
       "    }\n",
       "\n",
       "    .dataframe thead th {\n",
       "        text-align: right;\n",
       "    }\n",
       "</style>\n",
       "<table border=\"1\" class=\"dataframe\">\n",
       "  <thead>\n",
       "    <tr style=\"text-align: right;\">\n",
       "      <th></th>\n",
       "      <th>AAL.L</th>\n",
       "      <th>BARC.L</th>\n",
       "      <th>BP.L</th>\n",
       "      <th>HSBA.L</th>\n",
       "      <th>LLOY.L</th>\n",
       "      <th>RBS.L</th>\n",
       "      <th>RDSA.L</th>\n",
       "      <th>RIO.L</th>\n",
       "    </tr>\n",
       "  </thead>\n",
       "  <tbody>\n",
       "    <tr>\n",
       "      <th>count</th>\n",
       "      <td>756.000000</td>\n",
       "      <td>756.000000</td>\n",
       "      <td>756.000000</td>\n",
       "      <td>756.000000</td>\n",
       "      <td>756.000000</td>\n",
       "      <td>756.000000</td>\n",
       "      <td>756.000000</td>\n",
       "      <td>756.000000</td>\n",
       "    </tr>\n",
       "    <tr>\n",
       "      <th>mean</th>\n",
       "      <td>0.000173</td>\n",
       "      <td>-0.000764</td>\n",
       "      <td>-0.000198</td>\n",
       "      <td>0.000128</td>\n",
       "      <td>-0.000502</td>\n",
       "      <td>-0.000800</td>\n",
       "      <td>0.000427</td>\n",
       "      <td>0.000444</td>\n",
       "    </tr>\n",
       "    <tr>\n",
       "      <th>std</th>\n",
       "      <td>0.023887</td>\n",
       "      <td>0.030933</td>\n",
       "      <td>0.018482</td>\n",
       "      <td>0.016300</td>\n",
       "      <td>0.035221</td>\n",
       "      <td>0.033601</td>\n",
       "      <td>0.013476</td>\n",
       "      <td>0.024755</td>\n",
       "    </tr>\n",
       "    <tr>\n",
       "      <th>min</th>\n",
       "      <td>-0.076172</td>\n",
       "      <td>-0.168794</td>\n",
       "      <td>-0.140368</td>\n",
       "      <td>-0.061640</td>\n",
       "      <td>-0.283638</td>\n",
       "      <td>-0.195471</td>\n",
       "      <td>-0.053226</td>\n",
       "      <td>-0.114285</td>\n",
       "    </tr>\n",
       "    <tr>\n",
       "      <th>25%</th>\n",
       "      <td>-0.014169</td>\n",
       "      <td>-0.017052</td>\n",
       "      <td>-0.009557</td>\n",
       "      <td>-0.008810</td>\n",
       "      <td>-0.018900</td>\n",
       "      <td>-0.018744</td>\n",
       "      <td>-0.007538</td>\n",
       "      <td>-0.013972</td>\n",
       "    </tr>\n",
       "    <tr>\n",
       "      <th>50%</th>\n",
       "      <td>0.001184</td>\n",
       "      <td>-0.001252</td>\n",
       "      <td>-0.000051</td>\n",
       "      <td>-0.000159</td>\n",
       "      <td>-0.000306</td>\n",
       "      <td>-0.001931</td>\n",
       "      <td>0.000693</td>\n",
       "      <td>0.000828</td>\n",
       "    </tr>\n",
       "    <tr>\n",
       "      <th>75%</th>\n",
       "      <td>0.014911</td>\n",
       "      <td>0.016339</td>\n",
       "      <td>0.009352</td>\n",
       "      <td>0.009139</td>\n",
       "      <td>0.018373</td>\n",
       "      <td>0.018677</td>\n",
       "      <td>0.008970</td>\n",
       "      <td>0.015609</td>\n",
       "    </tr>\n",
       "    <tr>\n",
       "      <th>max</th>\n",
       "      <td>0.095437</td>\n",
       "      <td>0.161956</td>\n",
       "      <td>0.089487</td>\n",
       "      <td>0.064578</td>\n",
       "      <td>0.204678</td>\n",
       "      <td>0.120018</td>\n",
       "      <td>0.038298</td>\n",
       "      <td>0.076540</td>\n",
       "    </tr>\n",
       "    <tr>\n",
       "      <th>autocorr</th>\n",
       "      <td>0.003796</td>\n",
       "      <td>0.014173</td>\n",
       "      <td>0.030910</td>\n",
       "      <td>-0.026055</td>\n",
       "      <td>-0.023473</td>\n",
       "      <td>0.042604</td>\n",
       "      <td>0.056323</td>\n",
       "      <td>0.049168</td>\n",
       "    </tr>\n",
       "    <tr>\n",
       "      <th>skew</th>\n",
       "      <td>-0.111088</td>\n",
       "      <td>-0.028955</td>\n",
       "      <td>-0.561599</td>\n",
       "      <td>0.027504</td>\n",
       "      <td>-0.538963</td>\n",
       "      <td>-0.231325</td>\n",
       "      <td>-0.205137</td>\n",
       "      <td>-0.140894</td>\n",
       "    </tr>\n",
       "    <tr>\n",
       "      <th>kurtosis</th>\n",
       "      <td>0.504464</td>\n",
       "      <td>3.163102</td>\n",
       "      <td>6.592283</td>\n",
       "      <td>1.379727</td>\n",
       "      <td>8.716491</td>\n",
       "      <td>2.301204</td>\n",
       "      <td>0.703511</td>\n",
       "      <td>0.910341</td>\n",
       "    </tr>\n",
       "  </tbody>\n",
       "</table>\n",
       "</div>"
      ],
      "text/plain": [
       "               AAL.L      BARC.L        BP.L      HSBA.L      LLOY.L  \\\n",
       "count     756.000000  756.000000  756.000000  756.000000  756.000000   \n",
       "mean        0.000173   -0.000764   -0.000198    0.000128   -0.000502   \n",
       "std         0.023887    0.030933    0.018482    0.016300    0.035221   \n",
       "min        -0.076172   -0.168794   -0.140368   -0.061640   -0.283638   \n",
       "25%        -0.014169   -0.017052   -0.009557   -0.008810   -0.018900   \n",
       "50%         0.001184   -0.001252   -0.000051   -0.000159   -0.000306   \n",
       "75%         0.014911    0.016339    0.009352    0.009139    0.018373   \n",
       "max         0.095437    0.161956    0.089487    0.064578    0.204678   \n",
       "autocorr    0.003796    0.014173    0.030910   -0.026055   -0.023473   \n",
       "skew       -0.111088   -0.028955   -0.561599    0.027504   -0.538963   \n",
       "kurtosis    0.504464    3.163102    6.592283    1.379727    8.716491   \n",
       "\n",
       "               RBS.L      RDSA.L       RIO.L  \n",
       "count     756.000000  756.000000  756.000000  \n",
       "mean       -0.000800    0.000427    0.000444  \n",
       "std         0.033601    0.013476    0.024755  \n",
       "min        -0.195471   -0.053226   -0.114285  \n",
       "25%        -0.018744   -0.007538   -0.013972  \n",
       "50%        -0.001931    0.000693    0.000828  \n",
       "75%         0.018677    0.008970    0.015609  \n",
       "max         0.120018    0.038298    0.076540  \n",
       "autocorr    0.042604    0.056323    0.049168  \n",
       "skew       -0.231325   -0.205137   -0.140894  \n",
       "kurtosis    2.301204    0.703511    0.910341  "
      ]
     },
     "execution_count": 8,
     "metadata": {},
     "output_type": "execute_result"
    }
   ],
   "source": [
    "describe(daily_log_returns)"
   ]
  },
  {
   "cell_type": "markdown",
   "metadata": {},
   "source": [
    "# 3. VaR и ES для акций"
   ]
  },
  {
   "cell_type": "markdown",
   "metadata": {},
   "source": [
    "## Дельта-нормальный метод"
   ]
  },
  {
   "cell_type": "markdown",
   "metadata": {},
   "source": [
    "Функция использует следующие формулы для подсчета VaR и ES:"
   ]
  },
  {
   "cell_type": "markdown",
   "metadata": {},
   "source": [
    "$$\n",
    "VaR_{\\alpha}(X) = - \\mu_p + \\sigma_p \\cdot \\Phi^{-1}(\\alpha)\n",
    "$$\n",
    "\n",
    "$$\n",
    "ES_{\\alpha}(X) = - \\mu_p + \\sigma_p \\cdot \\frac{\\phi(\\Phi^{-1}(\\alpha))}{\\alpha}\n",
    "$$"
   ]
  },
  {
   "cell_type": "code",
   "execution_count": 9,
   "metadata": {},
   "outputs": [],
   "source": [
    "import scipy.stats as st"
   ]
  },
  {
   "cell_type": "code",
   "execution_count": 10,
   "metadata": {},
   "outputs": [],
   "source": [
    "def delta_norm_stock_VaR_ES(start, end, p_weights, alpha, return_period, daily_log_returns = daily_log_returns):\n",
    "    cov = np.array(daily_log_returns[start:end].cov())\n",
    "    stdev_p = np.sqrt(p_weights@cov@p_weights)\n",
    "    mu_p = (daily_log_returns@p_weights.T).mean()\n",
    "    \n",
    "    VaR = - mu_p + stdev_p * st.norm.ppf(1 - alpha) * np.sqrt(return_period)\n",
    "    ES = - mu_p + stdev_p * st.norm.pdf(st.norm.ppf(1 - alpha))/alpha * np.sqrt(return_period)\n",
    "    # check how return peroid is included in ES\n",
    "\n",
    "    return VaR, ES"
   ]
  },
  {
   "cell_type": "code",
   "execution_count": 11,
   "metadata": {},
   "outputs": [],
   "source": [
    "p_weights = np.array([0.1, 0.1, 0.1, 0.1, 0.175, 0.175, 0.125, 0.125])\n",
    "future_log_returns = daily_log_returns[daily_log_returns.index[-1] - dt.timedelta(days = 364):]@p_weights.T"
   ]
  },
  {
   "cell_type": "code",
   "execution_count": 26,
   "metadata": {},
   "outputs": [],
   "source": [
    "return_period = 10\n",
    "alpha = 0.01\n",
    "\n",
    "VaR_delta_norm_forecast = [ -delta_norm_stock_VaR_ES(daily_log_returns.index[i], \n",
    "                                                        daily_log_returns.index[i] + dt.timedelta(days = 728), \n",
    "                               p_weights, alpha, return_period = 1)[0] for i in range(future_log_returns.shape[0])];\n",
    "ES_delta_norm_forecast = [ -delta_norm_stock_VaR_ES(daily_log_returns.index[i], \n",
    "                                                        daily_log_returns.index[i] + dt.timedelta(days = 728), \n",
    "                               p_weights, alpha, return_period = 1)[1] for i in range(future_log_returns.shape[0])];\n",
    "\n",
    "VaR_delta_norm_forecast = pd.Series(VaR_delta_norm_forecast, pd.to_datetime(future_log_returns.index))\n",
    "ES_delta_norm_forecast = pd.Series(ES_delta_norm_forecast, pd.to_datetime(future_log_returns.index))"
   ]
  },
  {
   "cell_type": "code",
   "execution_count": 27,
   "metadata": {},
   "outputs": [
    {
     "data": {
      "image/png": "[encoded data removed]",
      "text/plain": [
       "<Figure size 1080x540 with 1 Axes>"
      ]
     },
     "metadata": {
      "needs_background": "light"
     },
     "output_type": "display_data"
    }
   ],
   "source": [
    "plt.figure(figsize=(15,7.5))\n",
    "\n",
    "plt.plot(VaR_delta_norm_forecast)\n",
    "plt.plot(ES_delta_norm_forecast)\n",
    "plt.vlines(future_log_returns.index, ymax=list(future_log_returns), ymin = 0, colors='b')\n",
    "plt.legend(['VaR_1y_forecast', 'ES_1y_forecast', 'Future 1-day returns'])\n",
    "plt.title('Delta-normal Forecast');"
   ]
  },
  {
   "cell_type": "markdown",
   "metadata": {},
   "source": [
    "## Historical simulation"
   ]
  },
  {
   "cell_type": "markdown",
   "metadata": {},
   "source": [
    "VaR и ES для Historical simulation считались так:"
   ]
  },
  {
   "cell_type": "markdown",
   "metadata": {},
   "source": [
    "$$\n",
    "VaR_\\alpha(X) = - inf{[x|P(X \\leq x) > \\alpha]}\n",
    "$$\n",
    "\n",
    "$$\n",
    "ES_\\alpha(X) = \\frac{\\Sigma [x|P(X \\leq x) > \\alpha]}{\\#x}\n",
    "$$"
   ]
  },
  {
   "cell_type": "code",
   "execution_count": 14,
   "metadata": {},
   "outputs": [],
   "source": [
    "def historical_stock_VaR_ES(start, end, p_weights, alpha, returns, plot=False):\n",
    "    \n",
    "    #Calculation\n",
    "    p_returns = returns[start:end]@p_weights.T\n",
    "    p_returns = p_returns.sort_values()\n",
    "    \n",
    "    VaR_location = int(np.floor(p_returns.shape[0] * alpha))\n",
    "    VaR = - p_returns[VaR_location]\n",
    "    ES = - p_returns[:VaR_location].mean()\n",
    "    \n",
    "    #Plot    \n",
    "    if plot == True:\n",
    "        plt.figure(figsize=(15,7.5))\n",
    "        plt.tick_params(labelsize=14)\n",
    "        plt.title('Historical Simulation')\n",
    "        plt.legend(['Empirical PMF', 'VaR', 'ES'])  \n",
    "        \n",
    "        plt.scatter(p_returns, np.linspace(0, 1, p_returns.shape[0]), s = 20)\n",
    "        plt.scatter(p_returns[VaR_location], np.linspace(0, 1, p_returns.shape[0])[VaR_location], s = 300)\n",
    "        plt.scatter(p_returns[:VaR_location].mean(), np.linspace(0, 1, p_returns.shape[0])[:VaR_location].mean(), s = 300)\n",
    "        plt.xlabel('P\\L')\n",
    "        plt.legend(['Empirical PMF', 'VaR', 'ES'])\n",
    "    \n",
    "    return VaR, ES"
   ]
  },
  {
   "cell_type": "code",
   "execution_count": 21,
   "metadata": {},
   "outputs": [],
   "source": [
    "future_stock_10_day_returns = day_10_returns[day_10_returns.index[-1] - dt.timedelta(days = 364):]@p_weights.T"
   ]
  },
  {
   "cell_type": "code",
   "execution_count": 47,
   "metadata": {},
   "outputs": [],
   "source": [
    "alpha = 0.01\n",
    "\n",
    "VaR_historical_forecast = [ -historical_stock_VaR_ES(day_10_returns.index[i], \n",
    "                                                        day_10_returns.index[i] + dt.timedelta(days = 716), \n",
    "                               p_weights, alpha, returns = day_10_returns)[0] \n",
    "                           for i in range(future_stock_10_day_returns.shape[0])]\n",
    "ES_historical_forecast = [ -historical_stock_VaR_ES(day_10_returns.index[i], \n",
    "                                                        day_10_returns.index[i] + dt.timedelta(days = 716), \n",
    "                               p_weights, alpha, returns = day_10_returns)[1] \n",
    "                          for i in range(future_stock_10_day_returns.shape[0])]\n",
    "\n",
    "VaR_historical_forecast = pd.Series(VaR_historical_forecast, pd.to_datetime(future_stock_10_day_returns.index))\n",
    "ES_historical_forecast = pd.Series(ES_historical_forecast, pd.to_datetime(future_stock_10_day_returns.index))"
   ]
  },
  {
   "cell_type": "code",
   "execution_count": 49,
   "metadata": {},
   "outputs": [
    {
     "data": {
      "image/png": "[encoded data removed]",
      "text/plain": [
       "<Figure size 1080x540 with 1 Axes>"
      ]
     },
     "metadata": {
      "needs_background": "light"
     },
     "output_type": "display_data"
    }
   ],
   "source": [
    "plt.figure(figsize=(15,7.5))\n",
    "\n",
    "plt.plot(VaR_historical_forecast)\n",
    "plt.plot(ES_historical_forecast)\n",
    "plt.vlines(future_stock_10_day_returns.index, ymax=list(future_stock_10_day_returns), ymin = 0, colors='b')\n",
    "plt.legend(['VaR_1y forecast', 'ES_1y forecast', 'Future 1-day returns'])\n",
    "plt.title('Historical Simulation Backtesting');"
   ]
  },
  {
   "cell_type": "code",
   "execution_count": 56,
   "metadata": {},
   "outputs": [
    {
     "name": "stdout",
     "output_type": "stream",
     "text": [
      "VaR: C вероятностью 0.99 портфель не потеряет за 10-дневный срок больше чем 11.24% стоимости\n",
      "ES: Если портфель за 10 дней будет терять больше, чем 11.24% стоимости, то он в среднем потеряет 12.72%\n"
     ]
    },
    {
     "data": {
      "image/png": "[encoded data removed]",
      "text/plain": [
       "<Figure size 1080x540 with 1 Axes>"
      ]
     },
     "metadata": {
      "needs_background": "light"
     },
     "output_type": "display_data"
    }
   ],
   "source": [
    "VaR_hist, ES_hist = historical_stock_VaR_ES(day_10_returns.index[0], \n",
    "                                            day_10_returns.index[0] + dt.timedelta(716),\n",
    "                                            p_weights, alpha, plot = True, returns = day_10_returns)\n",
    "\n",
    "print(f'VaR: C вероятностью {1-alpha} портфель не потеряет за 10-дневный срок больше чем {round(VaR_hist * 100, 2)}% стоимости')\n",
    "print(f'ES: Если портфель за 10 дней будет терять больше, чем {round(VaR_hist * 100, 2)}% стоимости, то он в среднем потеряет {round(ES_hist*100, 2)}%')"
   ]
  },
  {
   "cell_type": "markdown",
   "metadata": {},
   "source": [
    "# 4. VaR и ES для облигаций"
   ]
  },
  {
   "cell_type": "markdown",
   "metadata": {},
   "source": [
    "Найдем структуру купонных платежей."
   ]
  },
  {
   "cell_type": "code",
   "execution_count": 13,
   "metadata": {},
   "outputs": [],
   "source": [
    "class bond():\n",
    "    \"\"\"\n",
    "    Class Bond is used to get structure of payments of bonds with given parameter.\n",
    "    Bond can be defined in two ways:\n",
    "        1. Coupon, frequency, maturity, amortization.\n",
    "        2. Dates and payments.\n",
    "    \n",
    "    Properties are:\n",
    "        .dates - dates as np.array\n",
    "        .payments - payments as np.array\n",
    "        .structure - dict of dates as keys ans payments as items     \n",
    "    \"\"\"\n",
    "    def __init__(s, coupon = False, frequency = False, maturity = False, amortization = False, \n",
    "                 dates = None, payments = None):\n",
    "\n",
    "        if dates is not None and payments is not None:\n",
    "            s.dates = dates\n",
    "            s.payments = payments           \n",
    "        else:           \n",
    "            dates = np.linspace(0, maturity, frequency * maturity + 1)[1:]\n",
    "            s.dates = dates\n",
    "            \n",
    "            if amortization == True:\n",
    "                amortization = np.ones(maturity*frequency) * (100/(maturity*frequency))\n",
    "                s.amortization = amortization\n",
    "                payments = np.linspace(1, 0, maturity*frequency + 1)[:-1] * coupon/frequency + amortization\n",
    "                s.payments = payments\n",
    "            else:\n",
    "                principal = np.zeros(maturity*frequency)\n",
    "                principal[-1] = 100\n",
    "                payments = np.ones(frequency * maturity) * coupon/frequency + principal\n",
    "                s.payments = payments\n",
    "        \n",
    "        s.structure = {date: payment for (date, payment) in zip(dates, payments)}"
   ]
  },
  {
   "cell_type": "code",
   "execution_count": 14,
   "metadata": {},
   "outputs": [],
   "source": [
    "def bond_portfolio(*bonds):     \n",
    "    \"\"\"\n",
    "    A function to get the structure of payments of a portfolio of bonds from a number of bonds.\n",
    "    Output is a class bond object.\n",
    "    \"\"\"\n",
    "    portfolio = bonds[0].structure\n",
    "    \n",
    "    for Bond in bonds[1:]:\n",
    "        Bond = Bond.structure\n",
    "        portfolio = {k: portfolio.get(k, 0) + Bond.get(k, 0) for k in set(portfolio) | set(Bond)}   \n",
    "        \n",
    "    dates = np.array(list(rates.columns))\n",
    "    portfolio = {k: portfolio.get(k, 0) + 0 for k in set(portfolio) | set(dates)}\n",
    "    portfolio = {k: portfolio.get(k, 0) for k in sorted(portfolio)}\n",
    "    \n",
    "    payments = np.array(list(portfolio.values()))\n",
    "    structured_portfolio = bond(dates = dates, payments = payments)\n",
    "    \n",
    "    return structured_portfolio\n",
    "\n",
    "def dcf(bond_portfolio, rates):\n",
    "    \"\"\"\n",
    "    Get DCF of a bond portfolio.\n",
    "    Input: bond_portfolio as bond class object\n",
    "           rates as a dataframe of rates on a required period\n",
    "    Output: Dataframe of DCF\n",
    "    \n",
    "    \"\"\"\n",
    "    \n",
    "    dcf = np.ones([rates.shape[0], rates.shape[1]]) * portfolio.payments    \n",
    "    dcf = dcf * np.exp(-rates/100 * np.array(list(rates.columns)))\n",
    "    \n",
    "    return dcf\n",
    "\n",
    "def duration(bond_portfolio, rates):\n",
    "    \"\"\"\n",
    "    Get duration of a bond portfolio.\n",
    "    Input: bond_portfolio as bond class object\n",
    "           rates as a dataframe of rates on a required period\n",
    "    Output: Series of duration\n",
    "    \n",
    "    \"\"\"\n",
    "    DCF = dcf(bond_portfolio, rates)\n",
    "    dates = np.ones([DCF.shape[0], DCF.shape[1]]) * np.array(list(rates.columns))    \n",
    "    return (DCF * dates).sum(axis = 1) / DCF.sum(axis = 1)"
   ]
  },
  {
   "cell_type": "code",
   "execution_count": 15,
   "metadata": {},
   "outputs": [],
   "source": [
    "bond1 = bond(coupon = 4.84, frequency = 2, maturity = 2)\n",
    "bond2 = bond(coupon = 6.14, frequency = 2, maturity = 3)\n",
    "bond3 = bond(coupon = 5.7, frequency = 2, maturity = 6)\n",
    "bond4 = bond(coupon = 4.34, frequency = 2, maturity = 10, amortization = True)\n",
    "bond5 = bond(coupon = 2.28, frequency = 1, maturity = 13, amortization = True)\n",
    "bond6 = bond(coupon = 4.73, frequency = 1, maturity = 18, amortization = True)\n",
    "\n",
    "portfolio = bond_portfolio(bond1, bond2, bond3, bond4, bond5, bond6)"
   ]
  },
  {
   "cell_type": "code",
   "execution_count": 16,
   "metadata": {},
   "outputs": [],
   "source": [
    "DCF = dcf(portfolio, rates)"
   ]
  },
  {
   "cell_type": "code",
   "execution_count": 17,
   "metadata": {},
   "outputs": [
    {
     "data": {
      "text/plain": [
       "Date\n",
       "2009-07-01    3.947785\n",
       "2009-07-02    3.950506\n",
       "2009-07-03    3.960187\n",
       "2009-07-06    3.919638\n",
       "2009-07-07    3.942217\n",
       "dtype: float64"
      ]
     },
     "execution_count": 17,
     "metadata": {},
     "output_type": "execute_result"
    }
   ],
   "source": [
    "duration(portfolio, rates).head()"
   ]
  },
  {
   "cell_type": "markdown",
   "metadata": {},
   "source": [
    "## Дельта-нормальный метод"
   ]
  },
  {
   "cell_type": "code",
   "execution_count": null,
   "metadata": {},
   "outputs": [],
   "source": []
  },
  {
   "cell_type": "markdown",
   "metadata": {},
   "source": [
    "## PCA"
   ]
  },
  {
   "cell_type": "markdown",
   "metadata": {},
   "source": [
    "# 5. Учет валютного риска"
   ]
  },
  {
   "cell_type": "code",
   "execution_count": null,
   "metadata": {},
   "outputs": [],
   "source": []
  },
  {
   "cell_type": "markdown",
   "metadata": {},
   "source": [
    "# 6. Backtesting"
   ]
  },
  {
   "cell_type": "markdown",
   "metadata": {},
   "source": [
    "## Подпортфель акций"
   ]
  },
  {
   "cell_type": "markdown",
   "metadata": {},
   "source": [
    "Найдем доходности портфеля, на которых будем проводить бэктестинг."
   ]
  },
  {
   "cell_type": "code",
   "execution_count": 59,
   "metadata": {},
   "outputs": [],
   "source": [
    "p_weights = np.array([0.1, 0.1, 0.1, 0.1, 0.175, 0.175, 0.125, 0.125])\n",
    "historic_stock_log_returns = (daily_log_returns@p_weights.T)[daily_log_returns.index[252]:daily_log_returns.index[504]]"
   ]
  },
  {
   "cell_type": "markdown",
   "metadata": {},
   "source": [
    "### Дельта-нормальный метод"
   ]
  },
  {
   "cell_type": "code",
   "execution_count": 62,
   "metadata": {},
   "outputs": [],
   "source": [
    "p_weights = np.array([0.1, 0.1, 0.1, 0.1, 0.175, 0.175, 0.125, 0.125])\n",
    "return_period = 10\n",
    "alpha = 0.01\n",
    "\n",
    "VaR_delta_norm_backtesting = [ -delta_norm_stock_VaR_ES(daily_log_returns.index[i], \n",
    "                                                        daily_log_returns.index[i] + dt.timedelta(days = 363), \n",
    "                               p_weights, alpha, return_period = 1)[0] for i in range(historic_stock_log_returns.shape[0])]\n",
    "ES_delta_norm_backtesting = [ -delta_norm_stock_VaR_ES(daily_log_returns.index[i], \n",
    "                                                        daily_log_returns.index[i] + dt.timedelta(days = 363), \n",
    "                               p_weights, alpha, return_period = 1)[1] for i in range(historic_stock_log_returns.shape[0])];\n",
    "\n",
    "VaR_delta_norm_backtesting = pd.Series(VaR_delta_norm_backtesting, pd.to_datetime(historic_stock_log_returns.index))\n",
    "ES_delta_norm_backtesting = pd.Series(ES_delta_norm_backtesting, pd.to_datetime(historic_stock_log_returns.index))"
   ]
  },
  {
   "cell_type": "code",
   "execution_count": 66,
   "metadata": {},
   "outputs": [
    {
     "name": "stdout",
     "output_type": "stream",
     "text": [
      "Количество пробитий: 0\n"
     ]
    },
    {
     "data": {
      "image/png": "[encoded data removed]",
      "text/plain": [
       "<Figure size 1080x540 with 1 Axes>"
      ]
     },
     "metadata": {
      "needs_background": "light"
     },
     "output_type": "display_data"
    }
   ],
   "source": [
    "plt.figure(figsize=(15,7.5))\n",
    "\n",
    "plt.plot(VaR_delta_norm_backtesting);\n",
    "plt.plot(ES_delta_norm_backtesting);\n",
    "plt.vlines(historic_stock_log_returns.index, ymax=list(historic_stock_log_returns), ymin = 0, colors='b')\n",
    "plt.legend(['VaR_250d_history', 'ES_250d_history', '1-day returns'])\n",
    "plt.title('Delta-normal Backtesting');\n",
    "print(\"Количество пробитий:\", (historic_stock_log_returns < VaR_delta_norm_backtesting).sum())"
   ]
  },
  {
   "cell_type": "markdown",
   "metadata": {},
   "source": [
    "### Historical simulation"
   ]
  },
  {
   "cell_type": "code",
   "execution_count": 16,
   "metadata": {},
   "outputs": [],
   "source": [
    "historics_stock_1_day_returns = (day_1_returns@p_weights.T)[day_1_returns.index[252]:day_1_returns.index[504]]"
   ]
  },
  {
   "cell_type": "code",
   "execution_count": 17,
   "metadata": {},
   "outputs": [],
   "source": [
    "p_weights = np.array([0.1, 0.1, 0.1, 0.1, 0.175, 0.175, 0.125, 0.125])\n",
    "alpha = 0.01\n",
    "\n",
    "VaR_historical_backtesting = [ -historical_stock_VaR_ES(day_1_returns.index[i], \n",
    "                                                        day_1_returns.index[i] + dt.timedelta(days = 363), \n",
    "                               p_weights, alpha, returns = day_1_returns)[0] for i in range(historics_stock_1_day_returns.shape[0])]\n",
    "ES_historical_backtesting = [ -historical_stock_VaR_ES(day_1_returns.index[i], \n",
    "                                                        day_1_returns.index[i] + dt.timedelta(days = 363), \n",
    "                               p_weights, alpha, returns = day_1_returns)[1] for i in range(historics_stock_1_day_returns.shape[0])]\n",
    "\n",
    "VaR_historical_backtesting = pd.Series(VaR_historical_backtesting, pd.to_datetime(historics_stock_1_day_returns.index))\n",
    "ES_historical_backtesting = pd.Series(ES_historical_backtesting, pd.to_datetime(historics_stock_1_day_returns.index))"
   ]
  },
  {
   "cell_type": "code",
   "execution_count": 67,
   "metadata": {},
   "outputs": [
    {
     "name": "stdout",
     "output_type": "stream",
     "text": [
      "Количество пробитий: 0\n"
     ]
    },
    {
     "data": {
      "image/png": "[encoded data removed]",
      "text/plain": [
       "<Figure size 1080x540 with 1 Axes>"
      ]
     },
     "metadata": {
      "needs_background": "light"
     },
     "output_type": "display_data"
    }
   ],
   "source": [
    "plt.figure(figsize=(15,7.5))\n",
    "\n",
    "plt.plot(VaR_historical_backtesting)\n",
    "plt.plot(ES_historical_backtesting)\n",
    "plt.vlines(historics_stock_1_day_returns.index, ymax=list(historics_stock_1_day_returns), ymin = 0, colors='b')\n",
    "plt.legend(['VaR_250d_history', 'ES_250d_history', '1-day returns'])\n",
    "plt.title('Historical Simulation Backtesting');\n",
    "print(\"Количество пробитий:\", (historics_stock_1_day_returns < VaR_historical_backtesting).sum())"
   ]
  },
  {
   "cell_type": "markdown",
   "metadata": {},
   "source": [
    "## Подпортфель облигаций"
   ]
  },
  {
   "cell_type": "code",
   "execution_count": null,
   "metadata": {},
   "outputs": [],
   "source": []
  },
  {
   "cell_type": "markdown",
   "metadata": {},
   "source": [
    "## 7. Задача c лимитом"
   ]
  },
  {
   "cell_type": "markdown",
   "metadata": {},
   "source": [
    "Задача не еще решена."
   ]
  },
  {
   "cell_type": "markdown",
   "metadata": {},
   "source": [
    "Ниже просто пример нахождения оптимальных весов в портфеле акций."
   ]
  },
  {
   "cell_type": "code",
   "execution_count": 17,
   "metadata": {},
   "outputs": [],
   "source": [
    "from scipy.optimize import minimize"
   ]
  },
  {
   "cell_type": "code",
   "execution_count": 18,
   "metadata": {},
   "outputs": [],
   "source": [
    "w = p_weights"
   ]
  },
  {
   "cell_type": "code",
   "execution_count": 24,
   "metadata": {},
   "outputs": [
    {
     "name": "stdout",
     "output_type": "stream",
     "text": [
      "Optimization terminated successfully.\n",
      "         Current function value: 0.000000\n",
      "         Iterations: 46\n",
      "         Function evaluations: 540\n",
      "         Gradient evaluations: 54\n",
      "[-0.03062127  0.0200756  -0.00374186 -0.04916151 -0.00243804 -0.00052408\n",
      "  0.03078691  0.02613867]\n"
     ]
    }
   ],
   "source": [
    "def loss(w, returns = daily_log_returns):\n",
    "    cov = np.array(returns.cov())\n",
    "    return w@cov@w\n",
    "\n",
    "cons = ({'type': 'eq', 'fun' : lambda w: np.sum(w) - 1.0},\n",
    "        {'type': 'ineq', 'fun' : lambda w: w[0]},\n",
    "        {'type': 'ineq', 'fun' : lambda w: w[1]},\n",
    "        {'type': 'ineq', 'fun' : lambda w: w[2]},\n",
    "        {'type': 'ineq', 'fun' : lambda w: w[3]},\n",
    "        {'type': 'ineq', 'fun' : lambda w: w[4]},\n",
    "        {'type': 'ineq', 'fun' : lambda w: w[5]},\n",
    "        {'type': 'ineq', 'fun' : lambda w: w[6]},\n",
    "        {'type': 'ineq', 'fun' : lambda w: w[7]})\n",
    "\n",
    "w0 = np.random.rand(w.shape[0])\n",
    "res = minimize(loss, w0, method='BFGS', constraints=cons,\n",
    "               bounds=[(0, np.inf) for i in range(w.shape[0])], options={'disp': True},)\n",
    "\n",
    "print(res.x)"
   ]
  },
  {
   "cell_type": "code",
   "execution_count": null,
   "metadata": {},
   "outputs": [],
   "source": []
  }
 ],
 "metadata": {
  "kernelspec": {
   "display_name": "Python 3",
   "language": "python",
   "name": "python3"
  },
  "language_info": {
   "codemirror_mode": {
    "name": "ipython",
    "version": 3
   },
   "file_extension": ".py",
   "mimetype": "text/x-python",
   "name": "python",
   "nbconvert_exporter": "python",
   "pygments_lexer": "ipython3",
   "version": "3.6.6"
  }
 },
 "nbformat": 4,
 "nbformat_minor": 2
}
