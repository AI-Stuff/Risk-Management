{
 "cells": [
  {
   "cell_type": "code",
   "execution_count": 1,
   "metadata": {},
   "outputs": [],
   "source": [
    "import pandas as pd\n",
    "import numpy as np\n",
    "import matplotlib.pyplot as plt\n",
    "import datetime as dt\n",
    "%matplotlib inline\n",
    "\n",
    "plt.style.use('ggplot')\n",
    "import matplotlib\n",
    "matplotlib.rcParams.update({'font.size': 18})"
   ]
  },
  {
   "cell_type": "code",
   "execution_count": 2,
   "metadata": {},
   "outputs": [],
   "source": [
    "stock_prices = pd.read_csv('stock_prices.csv', parse_dates=True, index_col='Date')\n",
    "day_10_returns = pd.read_csv('10_days_returns.csv', parse_dates=True, index_col='Date')\n",
    "daily_log_returns = pd.read_csv('log_returns.csv', parse_dates=True, index_col='Date')"
   ]
  },
  {
   "cell_type": "markdown",
   "metadata": {},
   "source": [
    "# 1. Данные"
   ]
  },
  {
   "cell_type": "code",
   "execution_count": 3,
   "metadata": {},
   "outputs": [
    {
     "data": {
      "text/html": [
       "<div>\n",
       "<style scoped>\n",
       "    .dataframe tbody tr th:only-of-type {\n",
       "        vertical-align: middle;\n",
       "    }\n",
       "\n",
       "    .dataframe tbody tr th {\n",
       "        vertical-align: top;\n",
       "    }\n",
       "\n",
       "    .dataframe thead th {\n",
       "        text-align: right;\n",
       "    }\n",
       "</style>\n",
       "<table border=\"1\" class=\"dataframe\">\n",
       "  <thead>\n",
       "    <tr style=\"text-align: right;\">\n",
       "      <th></th>\n",
       "      <th>AAL.L</th>\n",
       "      <th>BARC.L</th>\n",
       "      <th>BP.L</th>\n",
       "      <th>HSBA.L</th>\n",
       "      <th>LLOY.L</th>\n",
       "      <th>RBS.L</th>\n",
       "      <th>RDSA.L</th>\n",
       "      <th>RIO.L</th>\n",
       "    </tr>\n",
       "    <tr>\n",
       "      <th>Date</th>\n",
       "      <th></th>\n",
       "      <th></th>\n",
       "      <th></th>\n",
       "      <th></th>\n",
       "      <th></th>\n",
       "      <th></th>\n",
       "      <th></th>\n",
       "      <th></th>\n",
       "    </tr>\n",
       "  </thead>\n",
       "  <tbody>\n",
       "    <tr>\n",
       "      <th>2009-07-14</th>\n",
       "      <td>-0.046112</td>\n",
       "      <td>0.033590</td>\n",
       "      <td>-0.033061</td>\n",
       "      <td>0.002551</td>\n",
       "      <td>-0.035911</td>\n",
       "      <td>-0.063063</td>\n",
       "      <td>-0.055305</td>\n",
       "      <td>-0.064180</td>\n",
       "    </tr>\n",
       "    <tr>\n",
       "      <th>2009-07-15</th>\n",
       "      <td>0.042874</td>\n",
       "      <td>0.084083</td>\n",
       "      <td>0.017569</td>\n",
       "      <td>0.061363</td>\n",
       "      <td>0.042934</td>\n",
       "      <td>0.011609</td>\n",
       "      <td>0.003324</td>\n",
       "      <td>0.034152</td>\n",
       "    </tr>\n",
       "    <tr>\n",
       "      <th>2009-07-16</th>\n",
       "      <td>0.026554</td>\n",
       "      <td>0.059934</td>\n",
       "      <td>0.025769</td>\n",
       "      <td>0.054224</td>\n",
       "      <td>0.036310</td>\n",
       "      <td>-0.016630</td>\n",
       "      <td>0.019411</td>\n",
       "      <td>0.026900</td>\n",
       "    </tr>\n",
       "    <tr>\n",
       "      <th>2009-07-17</th>\n",
       "      <td>0.109610</td>\n",
       "      <td>0.069516</td>\n",
       "      <td>0.059996</td>\n",
       "      <td>0.076118</td>\n",
       "      <td>0.021175</td>\n",
       "      <td>0.019244</td>\n",
       "      <td>0.049897</td>\n",
       "      <td>0.142706</td>\n",
       "    </tr>\n",
       "    <tr>\n",
       "      <th>2009-07-20</th>\n",
       "      <td>0.099232</td>\n",
       "      <td>0.057434</td>\n",
       "      <td>0.075673</td>\n",
       "      <td>0.111995</td>\n",
       "      <td>0.091039</td>\n",
       "      <td>0.085354</td>\n",
       "      <td>0.064516</td>\n",
       "      <td>0.163021</td>\n",
       "    </tr>\n",
       "  </tbody>\n",
       "</table>\n",
       "</div>"
      ],
      "text/plain": [
       "               AAL.L    BARC.L      BP.L    HSBA.L    LLOY.L     RBS.L  \\\n",
       "Date                                                                     \n",
       "2009-07-14 -0.046112  0.033590 -0.033061  0.002551 -0.035911 -0.063063   \n",
       "2009-07-15  0.042874  0.084083  0.017569  0.061363  0.042934  0.011609   \n",
       "2009-07-16  0.026554  0.059934  0.025769  0.054224  0.036310 -0.016630   \n",
       "2009-07-17  0.109610  0.069516  0.059996  0.076118  0.021175  0.019244   \n",
       "2009-07-20  0.099232  0.057434  0.075673  0.111995  0.091039  0.085354   \n",
       "\n",
       "              RDSA.L     RIO.L  \n",
       "Date                            \n",
       "2009-07-14 -0.055305 -0.064180  \n",
       "2009-07-15  0.003324  0.034152  \n",
       "2009-07-16  0.019411  0.026900  \n",
       "2009-07-17  0.049897  0.142706  \n",
       "2009-07-20  0.064516  0.163021  "
      ]
     },
     "execution_count": 3,
     "metadata": {},
     "output_type": "execute_result"
    }
   ],
   "source": [
    "day_10_returns.head()"
   ]
  },
  {
   "cell_type": "code",
   "execution_count": 4,
   "metadata": {},
   "outputs": [
    {
     "data": {
      "text/html": [
       "<div>\n",
       "<style scoped>\n",
       "    .dataframe tbody tr th:only-of-type {\n",
       "        vertical-align: middle;\n",
       "    }\n",
       "\n",
       "    .dataframe tbody tr th {\n",
       "        vertical-align: top;\n",
       "    }\n",
       "\n",
       "    .dataframe thead th {\n",
       "        text-align: right;\n",
       "    }\n",
       "</style>\n",
       "<table border=\"1\" class=\"dataframe\">\n",
       "  <thead>\n",
       "    <tr style=\"text-align: right;\">\n",
       "      <th></th>\n",
       "      <th>AAL.L</th>\n",
       "      <th>BARC.L</th>\n",
       "      <th>BP.L</th>\n",
       "      <th>HSBA.L</th>\n",
       "      <th>LLOY.L</th>\n",
       "      <th>RBS.L</th>\n",
       "      <th>RDSA.L</th>\n",
       "      <th>RIO.L</th>\n",
       "    </tr>\n",
       "    <tr>\n",
       "      <th>Date</th>\n",
       "      <th></th>\n",
       "      <th></th>\n",
       "      <th></th>\n",
       "      <th></th>\n",
       "      <th></th>\n",
       "      <th></th>\n",
       "      <th></th>\n",
       "      <th></th>\n",
       "    </tr>\n",
       "  </thead>\n",
       "  <tbody>\n",
       "    <tr>\n",
       "      <th>2009-07-02</th>\n",
       "      <td>-0.059875</td>\n",
       "      <td>-0.004317</td>\n",
       "      <td>-0.018642</td>\n",
       "      <td>-0.018222</td>\n",
       "      <td>-0.035043</td>\n",
       "      <td>-0.038942</td>\n",
       "      <td>-0.033347</td>\n",
       "      <td>-0.058686</td>\n",
       "    </tr>\n",
       "    <tr>\n",
       "      <th>2009-07-03</th>\n",
       "      <td>-0.007269</td>\n",
       "      <td>0.027306</td>\n",
       "      <td>-0.003541</td>\n",
       "      <td>0.017240</td>\n",
       "      <td>0.023980</td>\n",
       "      <td>0.023082</td>\n",
       "      <td>-0.006671</td>\n",
       "      <td>-0.004432</td>\n",
       "    </tr>\n",
       "    <tr>\n",
       "      <th>2009-07-06</th>\n",
       "      <td>-0.050879</td>\n",
       "      <td>-0.014413</td>\n",
       "      <td>-0.026536</td>\n",
       "      <td>-0.005022</td>\n",
       "      <td>-0.020954</td>\n",
       "      <td>-0.029037</td>\n",
       "      <td>-0.020968</td>\n",
       "      <td>-0.072136</td>\n",
       "    </tr>\n",
       "    <tr>\n",
       "      <th>2009-07-07</th>\n",
       "      <td>-0.000614</td>\n",
       "      <td>0.011040</td>\n",
       "      <td>0.002354</td>\n",
       "      <td>-0.007432</td>\n",
       "      <td>-0.001501</td>\n",
       "      <td>-0.009601</td>\n",
       "      <td>-0.004110</td>\n",
       "      <td>0.018397</td>\n",
       "    </tr>\n",
       "    <tr>\n",
       "      <th>2009-07-08</th>\n",
       "      <td>-0.040118</td>\n",
       "      <td>-0.030875</td>\n",
       "      <td>-0.006003</td>\n",
       "      <td>-0.019484</td>\n",
       "      <td>-0.035316</td>\n",
       "      <td>-0.045646</td>\n",
       "      <td>-0.008270</td>\n",
       "      <td>-0.012843</td>\n",
       "    </tr>\n",
       "  </tbody>\n",
       "</table>\n",
       "</div>"
      ],
      "text/plain": [
       "               AAL.L    BARC.L      BP.L    HSBA.L    LLOY.L     RBS.L  \\\n",
       "Date                                                                     \n",
       "2009-07-02 -0.059875 -0.004317 -0.018642 -0.018222 -0.035043 -0.038942   \n",
       "2009-07-03 -0.007269  0.027306 -0.003541  0.017240  0.023980  0.023082   \n",
       "2009-07-06 -0.050879 -0.014413 -0.026536 -0.005022 -0.020954 -0.029037   \n",
       "2009-07-07 -0.000614  0.011040  0.002354 -0.007432 -0.001501 -0.009601   \n",
       "2009-07-08 -0.040118 -0.030875 -0.006003 -0.019484 -0.035316 -0.045646   \n",
       "\n",
       "              RDSA.L     RIO.L  \n",
       "Date                            \n",
       "2009-07-02 -0.033347 -0.058686  \n",
       "2009-07-03 -0.006671 -0.004432  \n",
       "2009-07-06 -0.020968 -0.072136  \n",
       "2009-07-07 -0.004110  0.018397  \n",
       "2009-07-08 -0.008270 -0.012843  "
      ]
     },
     "execution_count": 4,
     "metadata": {},
     "output_type": "execute_result"
    }
   ],
   "source": [
    "daily_log_returns.head()"
   ]
  },
  {
   "cell_type": "markdown",
   "metadata": {},
   "source": [
    "# 2. Описание данных"
   ]
  },
  {
   "cell_type": "markdown",
   "metadata": {},
   "source": [
    "- Цены закрытия акций выружены с Yahoo Finance.\n",
    "- Ставки взяты с сайта ЦБ РФ.\n",
    "- Кросс-валютный курс выгружен с сайта stooq.com, который берет информацию с Google Finance."
   ]
  },
  {
   "cell_type": "markdown",
   "metadata": {},
   "source": [
    "Выведим описательные статистики, skew, kurtosis и автокорреляцию по первому лагу арифметических 10-дневных доходностей акций."
   ]
  },
  {
   "cell_type": "code",
   "execution_count": 5,
   "metadata": {},
   "outputs": [],
   "source": [
    "from scipy.stats import skew\n",
    "from scipy.stats import kurtosis"
   ]
  },
  {
   "cell_type": "code",
   "execution_count": 6,
   "metadata": {},
   "outputs": [],
   "source": [
    "description = day_10_returns.describe()\n",
    "\n",
    "colnames = list(day_10_returns.columns)\n",
    "autocorrelation = []\n",
    "\n",
    "for colname in colnames:\n",
    "    autocorrelation.append(day_10_returns[colname].autocorr(lag = 1))\n",
    "    \n",
    "autocorr = pd.DataFrame([autocorrelation], columns = colnames, index=['autocorr'])\n",
    "skews = pd.DataFrame([skew(day_10_returns, axis = 0).tolist()], columns = colnames, index=['skew'])\n",
    "kurt = pd.DataFrame([kurtosis(day_10_returns, axis = 0).tolist()], columns = colnames, index=['kurtosis'])\n",
    "\n",
    "description = description.append(autocorr)\n",
    "description = description.append(skews)\n",
    "description = description.append(kurt)"
   ]
  },
  {
   "cell_type": "code",
   "execution_count": 7,
   "metadata": {},
   "outputs": [
    {
     "data": {
      "text/html": [
       "<div>\n",
       "<style scoped>\n",
       "    .dataframe tbody tr th:only-of-type {\n",
       "        vertical-align: middle;\n",
       "    }\n",
       "\n",
       "    .dataframe tbody tr th {\n",
       "        vertical-align: top;\n",
       "    }\n",
       "\n",
       "    .dataframe thead th {\n",
       "        text-align: right;\n",
       "    }\n",
       "</style>\n",
       "<table border=\"1\" class=\"dataframe\">\n",
       "  <thead>\n",
       "    <tr style=\"text-align: right;\">\n",
       "      <th></th>\n",
       "      <th>AAL.L</th>\n",
       "      <th>BARC.L</th>\n",
       "      <th>BP.L</th>\n",
       "      <th>HSBA.L</th>\n",
       "      <th>LLOY.L</th>\n",
       "      <th>RBS.L</th>\n",
       "      <th>RDSA.L</th>\n",
       "      <th>RIO.L</th>\n",
       "    </tr>\n",
       "  </thead>\n",
       "  <tbody>\n",
       "    <tr>\n",
       "      <th>count</th>\n",
       "      <td>748.000000</td>\n",
       "      <td>748.000000</td>\n",
       "      <td>748.000000</td>\n",
       "      <td>748.000000</td>\n",
       "      <td>748.000000</td>\n",
       "      <td>748.000000</td>\n",
       "      <td>748.000000</td>\n",
       "      <td>748.000000</td>\n",
       "    </tr>\n",
       "    <tr>\n",
       "      <th>mean</th>\n",
       "      <td>0.004717</td>\n",
       "      <td>-0.001808</td>\n",
       "      <td>0.000201</td>\n",
       "      <td>0.002425</td>\n",
       "      <td>0.000081</td>\n",
       "      <td>-0.000907</td>\n",
       "      <td>0.005217</td>\n",
       "      <td>0.007601</td>\n",
       "    </tr>\n",
       "    <tr>\n",
       "      <th>std</th>\n",
       "      <td>0.064450</td>\n",
       "      <td>0.081176</td>\n",
       "      <td>0.059591</td>\n",
       "      <td>0.046345</td>\n",
       "      <td>0.091890</td>\n",
       "      <td>0.097494</td>\n",
       "      <td>0.040665</td>\n",
       "      <td>0.072307</td>\n",
       "    </tr>\n",
       "    <tr>\n",
       "      <th>min</th>\n",
       "      <td>-0.228152</td>\n",
       "      <td>-0.281701</td>\n",
       "      <td>-0.298195</td>\n",
       "      <td>-0.149308</td>\n",
       "      <td>-0.314556</td>\n",
       "      <td>-0.330485</td>\n",
       "      <td>-0.177725</td>\n",
       "      <td>-0.233771</td>\n",
       "    </tr>\n",
       "    <tr>\n",
       "      <th>25%</th>\n",
       "      <td>-0.042986</td>\n",
       "      <td>-0.047156</td>\n",
       "      <td>-0.027855</td>\n",
       "      <td>-0.026621</td>\n",
       "      <td>-0.061887</td>\n",
       "      <td>-0.063318</td>\n",
       "      <td>-0.021043</td>\n",
       "      <td>-0.036917</td>\n",
       "    </tr>\n",
       "    <tr>\n",
       "      <th>50%</th>\n",
       "      <td>0.006720</td>\n",
       "      <td>-0.006437</td>\n",
       "      <td>0.003462</td>\n",
       "      <td>0.001396</td>\n",
       "      <td>-0.006290</td>\n",
       "      <td>-0.009131</td>\n",
       "      <td>0.006537</td>\n",
       "      <td>0.008988</td>\n",
       "    </tr>\n",
       "    <tr>\n",
       "      <th>75%</th>\n",
       "      <td>0.050684</td>\n",
       "      <td>0.046234</td>\n",
       "      <td>0.032516</td>\n",
       "      <td>0.028929</td>\n",
       "      <td>0.052058</td>\n",
       "      <td>0.051909</td>\n",
       "      <td>0.032123</td>\n",
       "      <td>0.054774</td>\n",
       "    </tr>\n",
       "    <tr>\n",
       "      <th>max</th>\n",
       "      <td>0.225345</td>\n",
       "      <td>0.271128</td>\n",
       "      <td>0.317101</td>\n",
       "      <td>0.178855</td>\n",
       "      <td>0.342493</td>\n",
       "      <td>0.367215</td>\n",
       "      <td>0.136635</td>\n",
       "      <td>0.267420</td>\n",
       "    </tr>\n",
       "    <tr>\n",
       "      <th>autocorr</th>\n",
       "      <td>0.865155</td>\n",
       "      <td>0.868703</td>\n",
       "      <td>0.914018</td>\n",
       "      <td>0.872992</td>\n",
       "      <td>0.856603</td>\n",
       "      <td>0.885510</td>\n",
       "      <td>0.886401</td>\n",
       "      <td>0.886922</td>\n",
       "    </tr>\n",
       "    <tr>\n",
       "      <th>skew</th>\n",
       "      <td>-0.170624</td>\n",
       "      <td>0.173611</td>\n",
       "      <td>-0.128350</td>\n",
       "      <td>0.338080</td>\n",
       "      <td>0.161482</td>\n",
       "      <td>0.387749</td>\n",
       "      <td>-0.442400</td>\n",
       "      <td>-0.119858</td>\n",
       "    </tr>\n",
       "    <tr>\n",
       "      <th>kurtosis</th>\n",
       "      <td>0.218173</td>\n",
       "      <td>0.502982</td>\n",
       "      <td>3.990790</td>\n",
       "      <td>0.781360</td>\n",
       "      <td>0.501214</td>\n",
       "      <td>0.743332</td>\n",
       "      <td>1.198593</td>\n",
       "      <td>0.533087</td>\n",
       "    </tr>\n",
       "  </tbody>\n",
       "</table>\n",
       "</div>"
      ],
      "text/plain": [
       "               AAL.L      BARC.L        BP.L      HSBA.L      LLOY.L  \\\n",
       "count     748.000000  748.000000  748.000000  748.000000  748.000000   \n",
       "mean        0.004717   -0.001808    0.000201    0.002425    0.000081   \n",
       "std         0.064450    0.081176    0.059591    0.046345    0.091890   \n",
       "min        -0.228152   -0.281701   -0.298195   -0.149308   -0.314556   \n",
       "25%        -0.042986   -0.047156   -0.027855   -0.026621   -0.061887   \n",
       "50%         0.006720   -0.006437    0.003462    0.001396   -0.006290   \n",
       "75%         0.050684    0.046234    0.032516    0.028929    0.052058   \n",
       "max         0.225345    0.271128    0.317101    0.178855    0.342493   \n",
       "autocorr    0.865155    0.868703    0.914018    0.872992    0.856603   \n",
       "skew       -0.170624    0.173611   -0.128350    0.338080    0.161482   \n",
       "kurtosis    0.218173    0.502982    3.990790    0.781360    0.501214   \n",
       "\n",
       "               RBS.L      RDSA.L       RIO.L  \n",
       "count     748.000000  748.000000  748.000000  \n",
       "mean       -0.000907    0.005217    0.007601  \n",
       "std         0.097494    0.040665    0.072307  \n",
       "min        -0.330485   -0.177725   -0.233771  \n",
       "25%        -0.063318   -0.021043   -0.036917  \n",
       "50%        -0.009131    0.006537    0.008988  \n",
       "75%         0.051909    0.032123    0.054774  \n",
       "max         0.367215    0.136635    0.267420  \n",
       "autocorr    0.885510    0.886401    0.886922  \n",
       "skew        0.387749   -0.442400   -0.119858  \n",
       "kurtosis    0.743332    1.198593    0.533087  "
      ]
     },
     "execution_count": 7,
     "metadata": {},
     "output_type": "execute_result"
    }
   ],
   "source": [
    "description"
   ]
  },
  {
   "cell_type": "markdown",
   "metadata": {},
   "source": [
    "# 3. VaR и ES для акций"
   ]
  },
  {
   "cell_type": "markdown",
   "metadata": {},
   "source": [
    "## Дельта-нормальный метод"
   ]
  },
  {
   "cell_type": "markdown",
   "metadata": {},
   "source": [
    "Функция использует следующие формулы для подсчета VaR и ES:"
   ]
  },
  {
   "cell_type": "markdown",
   "metadata": {},
   "source": [
    "$$\n",
    "VaR_{\\alpha}(X) = - \\mu_p + \\sigma_p \\cdot \\Phi^{-1}(\\alpha)\n",
    "$$\n",
    "\n",
    "$$\n",
    "ES_{\\alpha}(X) = - \\mu_p + \\sigma_p \\cdot \\frac{\\phi(\\Phi^{-1}(\\alpha))}{\\alpha}\n",
    "$$"
   ]
  },
  {
   "cell_type": "code",
   "execution_count": 8,
   "metadata": {},
   "outputs": [],
   "source": [
    "import scipy.stats as st"
   ]
  },
  {
   "cell_type": "code",
   "execution_count": 9,
   "metadata": {},
   "outputs": [],
   "source": [
    "def delta_norm_stock_VaR_ES(start, end, p_weights, alpha, return_period, daily_log_returns = daily_log_returns):\n",
    "    cov = np.array(daily_log_returns[start:end].cov())\n",
    "    stdev_p = np.sqrt(p_weights@cov@p_weights)\n",
    "    mu_p = (daily_log_returns@p_weights.T).mean()\n",
    "    \n",
    "    VaR = - mu_p + stdev_p * st.norm.ppf(1 - alpha) * np.sqrt(return_period)\n",
    "    ES = - mu_p + stdev_p * st.norm.pdf(st.norm.ppf(1 - alpha))/alpha * np.sqrt(return_period)\n",
    "\n",
    "    return VaR, ES"
   ]
  },
  {
   "cell_type": "code",
   "execution_count": 10,
   "metadata": {},
   "outputs": [
    {
     "name": "stdout",
     "output_type": "stream",
     "text": [
      "VaR: C вероятностью 0.99 портфель не потеряет за 10-дневный срок больше чем 15.0% стоимости\n",
      "ES: Если портфель за 10 дней будет терять больше, чем 15.0% стоимости, то он в среднем потеряет 17.18%\n"
     ]
    }
   ],
   "source": [
    "start = daily_log_returns.index[0]\n",
    "end = daily_log_returns.index[-1]\n",
    "p_weights = np.array([0.1, 0.1, 0.1, 0.1, 0.175, 0.175, 0.125, 0.125])\n",
    "return_period = 10\n",
    "alpha = 0.01\n",
    "\n",
    "VaR_dela_norm_10, ES_dela_norm_10 = delta_norm_stock_VaR_ES(start = start, end = end, p_weights = p_weights, \n",
    "                                                              alpha = alpha, return_period = return_period)\n",
    "\n",
    "print(f'VaR: C вероятностью {1-alpha} портфель не потеряет за {return_period}-дневный срок больше чем {round(VaR_dela_norm_10 * 100, 2)}% стоимости')\n",
    "print(f'ES: Если портфель за {return_period} дней будет терять больше, чем {round(VaR_dela_norm_10 * 100, 2)}% стоимости, то он в среднем потеряет {round(ES_dela_norm_10*100, 2)}%')    "
   ]
  },
  {
   "cell_type": "markdown",
   "metadata": {},
   "source": [
    "## Historical simulation"
   ]
  },
  {
   "cell_type": "markdown",
   "metadata": {},
   "source": [
    "VaR и ES для Historical simulation считались так:"
   ]
  },
  {
   "cell_type": "markdown",
   "metadata": {},
   "source": [
    "$$\n",
    "VaR_\\alpha(X) = - inf{[x|P(X \\leq x) > \\alpha]}\n",
    "$$\n",
    "\n",
    "$$\n",
    "ES_\\alpha(X) = \\frac{\\Sigma [x|P(X \\leq x) > \\alpha]}{\\#x}\n",
    "$$"
   ]
  },
  {
   "cell_type": "code",
   "execution_count": 114,
   "metadata": {},
   "outputs": [],
   "source": [
    "def historical_stock_VaR_ES(start, end, p_weights, alpha, returns = day_10_returns, plot=False):\n",
    "    \n",
    "    #Calculation\n",
    "    p_returns = returns[start:end]@p_weights.T\n",
    "    p_returns = p_returns.sort_values()\n",
    "    \n",
    "    VaR_location = int(np.floor(p_returns.shape[0] * alpha))\n",
    "    VaR = - p_returns[VaR_location]\n",
    "    ES = - p_returns[:VaR_location].mean()\n",
    "    \n",
    "    #Plot    \n",
    "    if plot == True:\n",
    "        plt.figure(figsize=(15,7.5))\n",
    "        plt.tick_params(labelsize=14)\n",
    "        plt.title('Historical Simulation')\n",
    "        plt.legend(['Empirical PMF', 'VaR', 'ES'])  \n",
    "        \n",
    "        plt.scatter(p_returns, np.linspace(0, 1, p_returns.shape[0]), s = 20)\n",
    "        plt.scatter(p_returns[VaR_location], np.linspace(0, 1, p_returns.shape[0])[VaR_location], s = 300)\n",
    "        plt.scatter(p_returns[:VaR_location].mean(), np.linspace(0, 1, p_returns.shape[0])[:VaR_location].mean(), s = 300)\n",
    "        plt.xlabel('P\\L')\n",
    "        plt.legend(['Empirical PMF', 'VaR', 'ES'])\n",
    "    \n",
    "    return VaR, ES"
   ]
  },
  {
   "cell_type": "code",
   "execution_count": 115,
   "metadata": {},
   "outputs": [
    {
     "name": "stdout",
     "output_type": "stream",
     "text": [
      "VaR: C вероятностью 0.99 портфель не потеряет за 10-дневный срок больше чем 14.96% стоимости\n",
      "ES: Если портфель за 10 дней будет терять больше, чем 14.96% стоимости, то он в среднем потеряет 19.18%\n"
     ]
    },
    {
     "data": {
      "image/png": "[encoded data removed]",
      "text/plain": [
       "<Figure size 1080x540 with 1 Axes>"
      ]
     },
     "metadata": {
      "needs_background": "light"
     },
     "output_type": "display_data"
    }
   ],
   "source": [
    "VaR_hist, ES_hist = historical_stock_VaR_ES(start, end, p_weights, alpha, plot = True)\n",
    "\n",
    "print(f'VaR: C вероятностью {1-alpha} портфель не потеряет за 10-дневный срок больше чем {round(VaR_hist * 100, 2)}% стоимости')\n",
    "print(f'ES: Если портфель за 10 дней будет терять больше, чем {round(VaR_hist * 100, 2)}% стоимости, то он в среднем потеряет {round(ES_hist*100, 2)}%')"
   ]
  },
  {
   "cell_type": "markdown",
   "metadata": {},
   "source": [
    "# 4. VaR и ES для облигаций"
   ]
  },
  {
   "cell_type": "code",
   "execution_count": null,
   "metadata": {},
   "outputs": [],
   "source": []
  },
  {
   "cell_type": "markdown",
   "metadata": {},
   "source": [
    "# 5. Учет валютного риска"
   ]
  },
  {
   "cell_type": "code",
   "execution_count": null,
   "metadata": {},
   "outputs": [],
   "source": []
  },
  {
   "cell_type": "markdown",
   "metadata": {},
   "source": [
    "# 6. Backtesting"
   ]
  },
  {
   "cell_type": "markdown",
   "metadata": {},
   "source": [
    "## Подпортфель акций"
   ]
  },
  {
   "cell_type": "markdown",
   "metadata": {},
   "source": [
    "Найдем доходности портфеля, на которых будем проводить бэктестинг."
   ]
  },
  {
   "cell_type": "code",
   "execution_count": 13,
   "metadata": {},
   "outputs": [],
   "source": [
    "last_250_p_returns = (daily_log_returns@p_weights.T)[-251:]"
   ]
  },
  {
   "cell_type": "code",
   "execution_count": 100,
   "metadata": {},
   "outputs": [
    {
     "data": {
      "text/plain": [
       "Date\n",
       "2011-07-01    0.019177\n",
       "2011-07-04   -0.004745\n",
       "2011-07-05   -0.004574\n",
       "2011-07-06   -0.011256\n",
       "2011-07-07    0.007289\n",
       "dtype: float64"
      ]
     },
     "execution_count": 100,
     "metadata": {},
     "output_type": "execute_result"
    }
   ],
   "source": [
    "last_250_p_returns.head()"
   ]
  },
  {
   "cell_type": "markdown",
   "metadata": {},
   "source": [
    "### Дельта-нормальный метод"
   ]
  },
  {
   "cell_type": "code",
   "execution_count": 104,
   "metadata": {},
   "outputs": [],
   "source": [
    "p_weights = np.array([0.1, 0.1, 0.1, 0.1, 0.175, 0.175, 0.125, 0.125])\n",
    "return_period = 10\n",
    "alpha = 0.01\n",
    "\n",
    "VaR_delta_norm_backtesting = [ -delta_norm_stock_VaR_ES(daily_log_returns.index[i], daily_log_returns.index[504 + i], \n",
    "                               p_weights, alpha, return_period = 10)[0] for i in range(251)];\n",
    "\n",
    "VaR_delta_norm_backtesting = pd.Series(VaR_delta_norm_backtesting, pd.to_datetime(last_250_p_returns.index))"
   ]
  },
  {
   "cell_type": "code",
   "execution_count": 105,
   "metadata": {},
   "outputs": [
    {
     "data": {
      "image/png": "[encoded data removed]",
      "text/plain": [
       "<Figure size 1080x540 with 1 Axes>"
      ]
     },
     "metadata": {
      "needs_background": "light"
     },
     "output_type": "display_data"
    }
   ],
   "source": [
    "plt.figure(figsize=(15,7.5))\n",
    "\n",
    "plt.plot(VaR_delta_norm_backtesting);\n",
    "plt.vlines(last_250_p_returns.index, ymax=list(last_250_p_returns), ymin = 0, colors='b')\n",
    "plt.legend(['VaR_2y_history', '10-day returns'])\n",
    "plt.title('Delta-normal Backtesting');"
   ]
  },
  {
   "cell_type": "code",
   "execution_count": null,
   "metadata": {},
   "outputs": [],
   "source": [
    "plt.figure(figsize=(15,7.5))\n",
    "\n",
    "plt.plot(VaR_delta_norm_backtesting);\n",
    "plt.vlines(last_250_p_returns.index, ymax=list(last_250_p_returns), ymin = 0, colors='b')\n",
    "plt.legend(['VaR_2y_history', '10-day returns'])\n",
    "plt.title('Delta-normal Backtesting');"
   ]
  },
  {
   "cell_type": "markdown",
   "metadata": {},
   "source": [
    "### Historical simulation"
   ]
  },
  {
   "cell_type": "code",
   "execution_count": 116,
   "metadata": {},
   "outputs": [],
   "source": [
    "p_weights = np.array([0.1, 0.1, 0.1, 0.1, 0.175, 0.175, 0.125, 0.125])\n",
    "alpha = 0.01\n",
    "\n",
    "VaR_historical_backtesting = [ -historical_stock_VaR_ES(day_10_returns.index[i], day_10_returns.index[496 + i], \n",
    "                               p_weights, alpha)[0] for i in range(251)];\n",
    "\n",
    "VaR_historical_backtesting = pd.Series(VaR_historical_backtesting, pd.to_datetime(last_250_p_returns.index))"
   ]
  },
  {
   "cell_type": "code",
   "execution_count": 119,
   "metadata": {},
   "outputs": [
    {
     "data": {
      "image/png": "[encoded data removed]",
      "text/plain": [
       "<Figure size 1080x540 with 1 Axes>"
      ]
     },
     "metadata": {
      "needs_background": "light"
     },
     "output_type": "display_data"
    }
   ],
   "source": [
    "plt.figure(figsize=(15,7.5))\n",
    "\n",
    "plt.plot(VaR_historical_backtesting);\n",
    "plt.vlines(last_250_p_returns.index, ymax=list(last_250_p_returns), ymin = 0, colors='b')\n",
    "plt.legend(['VaR_2y_history', '10-day returns'])\n",
    "plt.title('Historical Backtesting');"
   ]
  },
  {
   "cell_type": "markdown",
   "metadata": {},
   "source": [
    "## 7. Задача c лимитом"
   ]
  },
  {
   "cell_type": "markdown",
   "metadata": {},
   "source": [
    "Задача не еще решена."
   ]
  },
  {
   "cell_type": "markdown",
   "metadata": {},
   "source": [
    "Ниже просто пример нахождения оптимальных весов в портфеле акций."
   ]
  },
  {
   "cell_type": "code",
   "execution_count": 126,
   "metadata": {},
   "outputs": [],
   "source": [
    "from scipy.optimize import minimize"
   ]
  },
  {
   "cell_type": "code",
   "execution_count": 124,
   "metadata": {},
   "outputs": [],
   "source": [
    "w = p_weights"
   ]
  },
  {
   "cell_type": "code",
   "execution_count": 210,
   "metadata": {},
   "outputs": [
    {
     "name": "stdout",
     "output_type": "stream",
     "text": [
      "Optimization terminated successfully.\n",
      "         Current function value: 0.000000\n",
      "         Iterations: 47\n",
      "         Function evaluations: 540\n",
      "         Gradient evaluations: 54\n",
      "[ 0.02601272 -0.0015419   0.01767541  0.00036154 -0.00626559  0.00848308\n",
      " -0.01748644 -0.02708989]\n"
     ]
    }
   ],
   "source": [
    "def loss(w, returns = daily_log_returns):\n",
    "    cov = np.array(returns.cov())\n",
    "    return w@cov@w\n",
    "\n",
    "cons = ({'type': 'eq', 'fun' : lambda w: np.sum(w) - 1.0},\n",
    "        {'type': 'ineq', 'fun' : lambda w: w[0]},\n",
    "        {'type': 'ineq', 'fun' : lambda w: w[1]},\n",
    "        {'type': 'ineq', 'fun' : lambda w: w[2]},\n",
    "        {'type': 'ineq', 'fun' : lambda w: w[3]},\n",
    "        {'type': 'ineq', 'fun' : lambda w: w[4]},\n",
    "        {'type': 'ineq', 'fun' : lambda w: w[5]},\n",
    "        {'type': 'ineq', 'fun' : lambda w: w[6]},\n",
    "        {'type': 'ineq', 'fun' : lambda w: w[7]})\n",
    "\n",
    "w0 = np.random.rand(w.shape[0])\n",
    "res = minimize(loss, w0, method='BFGS', constraints=cons,\n",
    "               bounds=[(0, np.inf) for i in range(w.shape[0])], options={'disp': True},)\n",
    "\n",
    "print(res.x)"
   ]
  }
 ],
 "metadata": {
  "kernelspec": {
   "display_name": "Python 3",
   "language": "python",
   "name": "python3"
  },
  "language_info": {
   "codemirror_mode": {
    "name": "ipython",
    "version": 3
   },
   "file_extension": ".py",
   "mimetype": "text/x-python",
   "name": "python",
   "nbconvert_exporter": "python",
   "pygments_lexer": "ipython3",
   "version": "3.6.6"
  }
 },
 "nbformat": 4,
 "nbformat_minor": 2
}
