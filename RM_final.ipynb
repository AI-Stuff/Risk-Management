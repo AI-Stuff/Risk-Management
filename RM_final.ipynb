{
 "cells": [
  {
   "cell_type": "code",
   "execution_count": 87,
   "metadata": {
    "collapsed": true
   },
   "outputs": [],
   "source": [
    "import pandas as pd\n",
    "import numpy as np\n",
    "import matplotlib.pyplot as plt\n",
    "import datetime as dt\n",
    "%matplotlib inline\n",
    "\n",
    "plt.style.use('ggplot')\n",
    "import matplotlib\n",
    "matplotlib.rcParams['font.size'] = 12\n",
    "matplotlib.rcParams['legend.fontsize'] = 'medium'\n",
    "matplotlib.rcParams['figure.titlesize'] = 'large'\n",
    "plt.rcParams['figure.figsize'] = (15.0, 8.0)"
   ]
  },
  {
   "cell_type": "code",
   "execution_count": 81,
   "metadata": {
    "collapsed": true
   },
   "outputs": [],
   "source": [
    "stock_prices = pd.read_csv('stock_prices.csv', parse_dates=True, index_col='Date')\n",
    "day_1_returns = pd.read_csv('1_day_returns.csv', parse_dates=True, index_col='Date')\n",
    "day_10_returns = pd.read_csv('10_days_returns.csv', parse_dates=True, index_col='Date')\n",
    "daily_log_returns = pd.read_csv('log_returns.csv', parse_dates=True, index_col='Date')\n",
    "log_10_day_returns = pd.read_csv('log_10_day_returns.csv', parse_dates=True, index_col='Date')\n",
    "\n",
    "rates = pd.read_csv('rates_interpolated.csv', parse_dates=True, index_col='Date')\n",
    "rates.columns = rates.columns.astype(float)\n",
    "\n",
    "vanila_rates = pd.read_csv('rates.csv', parse_dates=True, index_col='Date')\n",
    "vanila_rates.columns = vanila_rates.columns.astype(float)"
   ]
  },
  {
   "cell_type": "markdown",
   "metadata": {},
   "source": [
    "# 1. Данные"
   ]
  },
  {
   "cell_type": "code",
   "execution_count": 3,
   "metadata": {},
   "outputs": [
    {
     "data": {
      "text/html": [
       "<div>\n",
       "<style scoped>\n",
       "    .dataframe tbody tr th:only-of-type {\n",
       "        vertical-align: middle;\n",
       "    }\n",
       "\n",
       "    .dataframe tbody tr th {\n",
       "        vertical-align: top;\n",
       "    }\n",
       "\n",
       "    .dataframe thead th {\n",
       "        text-align: right;\n",
       "    }\n",
       "</style>\n",
       "<table border=\"1\" class=\"dataframe\">\n",
       "  <thead>\n",
       "    <tr style=\"text-align: right;\">\n",
       "      <th></th>\n",
       "      <th>AAL.L</th>\n",
       "      <th>BARC.L</th>\n",
       "      <th>BP.L</th>\n",
       "      <th>HSBA.L</th>\n",
       "      <th>LLOY.L</th>\n",
       "      <th>RBS.L</th>\n",
       "      <th>RDSA.L</th>\n",
       "      <th>RIO.L</th>\n",
       "    </tr>\n",
       "    <tr>\n",
       "      <th>Date</th>\n",
       "      <th></th>\n",
       "      <th></th>\n",
       "      <th></th>\n",
       "      <th></th>\n",
       "      <th></th>\n",
       "      <th></th>\n",
       "      <th></th>\n",
       "      <th></th>\n",
       "    </tr>\n",
       "  </thead>\n",
       "  <tbody>\n",
       "    <tr>\n",
       "      <th>2009-07-14</th>\n",
       "      <td>-0.046112</td>\n",
       "      <td>0.033590</td>\n",
       "      <td>-0.033061</td>\n",
       "      <td>0.002551</td>\n",
       "      <td>-0.035911</td>\n",
       "      <td>-0.063063</td>\n",
       "      <td>-0.055305</td>\n",
       "      <td>-0.064180</td>\n",
       "    </tr>\n",
       "    <tr>\n",
       "      <th>2009-07-15</th>\n",
       "      <td>0.042874</td>\n",
       "      <td>0.084083</td>\n",
       "      <td>0.017569</td>\n",
       "      <td>0.061363</td>\n",
       "      <td>0.042934</td>\n",
       "      <td>0.011609</td>\n",
       "      <td>0.003324</td>\n",
       "      <td>0.034152</td>\n",
       "    </tr>\n",
       "    <tr>\n",
       "      <th>2009-07-16</th>\n",
       "      <td>0.026554</td>\n",
       "      <td>0.059934</td>\n",
       "      <td>0.025769</td>\n",
       "      <td>0.054224</td>\n",
       "      <td>0.036310</td>\n",
       "      <td>-0.016630</td>\n",
       "      <td>0.019411</td>\n",
       "      <td>0.026900</td>\n",
       "    </tr>\n",
       "    <tr>\n",
       "      <th>2009-07-17</th>\n",
       "      <td>0.109610</td>\n",
       "      <td>0.069516</td>\n",
       "      <td>0.059996</td>\n",
       "      <td>0.076118</td>\n",
       "      <td>0.021175</td>\n",
       "      <td>0.019244</td>\n",
       "      <td>0.049897</td>\n",
       "      <td>0.142706</td>\n",
       "    </tr>\n",
       "    <tr>\n",
       "      <th>2009-07-20</th>\n",
       "      <td>0.099232</td>\n",
       "      <td>0.057434</td>\n",
       "      <td>0.075673</td>\n",
       "      <td>0.111995</td>\n",
       "      <td>0.091039</td>\n",
       "      <td>0.085354</td>\n",
       "      <td>0.064516</td>\n",
       "      <td>0.163021</td>\n",
       "    </tr>\n",
       "  </tbody>\n",
       "</table>\n",
       "</div>"
      ],
      "text/plain": [
       "               AAL.L    BARC.L      BP.L    HSBA.L    LLOY.L     RBS.L  \\\n",
       "Date                                                                     \n",
       "2009-07-14 -0.046112  0.033590 -0.033061  0.002551 -0.035911 -0.063063   \n",
       "2009-07-15  0.042874  0.084083  0.017569  0.061363  0.042934  0.011609   \n",
       "2009-07-16  0.026554  0.059934  0.025769  0.054224  0.036310 -0.016630   \n",
       "2009-07-17  0.109610  0.069516  0.059996  0.076118  0.021175  0.019244   \n",
       "2009-07-20  0.099232  0.057434  0.075673  0.111995  0.091039  0.085354   \n",
       "\n",
       "              RDSA.L     RIO.L  \n",
       "Date                            \n",
       "2009-07-14 -0.055305 -0.064180  \n",
       "2009-07-15  0.003324  0.034152  \n",
       "2009-07-16  0.019411  0.026900  \n",
       "2009-07-17  0.049897  0.142706  \n",
       "2009-07-20  0.064516  0.163021  "
      ]
     },
     "execution_count": 3,
     "metadata": {},
     "output_type": "execute_result"
    }
   ],
   "source": [
    "day_10_returns.head()"
   ]
  },
  {
   "cell_type": "code",
   "execution_count": 4,
   "metadata": {},
   "outputs": [
    {
     "data": {
      "text/html": [
       "<div>\n",
       "<style scoped>\n",
       "    .dataframe tbody tr th:only-of-type {\n",
       "        vertical-align: middle;\n",
       "    }\n",
       "\n",
       "    .dataframe tbody tr th {\n",
       "        vertical-align: top;\n",
       "    }\n",
       "\n",
       "    .dataframe thead th {\n",
       "        text-align: right;\n",
       "    }\n",
       "</style>\n",
       "<table border=\"1\" class=\"dataframe\">\n",
       "  <thead>\n",
       "    <tr style=\"text-align: right;\">\n",
       "      <th></th>\n",
       "      <th>AAL.L</th>\n",
       "      <th>BARC.L</th>\n",
       "      <th>BP.L</th>\n",
       "      <th>HSBA.L</th>\n",
       "      <th>LLOY.L</th>\n",
       "      <th>RBS.L</th>\n",
       "      <th>RDSA.L</th>\n",
       "      <th>RIO.L</th>\n",
       "    </tr>\n",
       "    <tr>\n",
       "      <th>Date</th>\n",
       "      <th></th>\n",
       "      <th></th>\n",
       "      <th></th>\n",
       "      <th></th>\n",
       "      <th></th>\n",
       "      <th></th>\n",
       "      <th></th>\n",
       "      <th></th>\n",
       "    </tr>\n",
       "  </thead>\n",
       "  <tbody>\n",
       "    <tr>\n",
       "      <th>2009-07-02</th>\n",
       "      <td>-0.059875</td>\n",
       "      <td>-0.004317</td>\n",
       "      <td>-0.018642</td>\n",
       "      <td>-0.018222</td>\n",
       "      <td>-0.035043</td>\n",
       "      <td>-0.038942</td>\n",
       "      <td>-0.033347</td>\n",
       "      <td>-0.058686</td>\n",
       "    </tr>\n",
       "    <tr>\n",
       "      <th>2009-07-03</th>\n",
       "      <td>-0.007269</td>\n",
       "      <td>0.027306</td>\n",
       "      <td>-0.003541</td>\n",
       "      <td>0.017240</td>\n",
       "      <td>0.023980</td>\n",
       "      <td>0.023082</td>\n",
       "      <td>-0.006671</td>\n",
       "      <td>-0.004432</td>\n",
       "    </tr>\n",
       "    <tr>\n",
       "      <th>2009-07-06</th>\n",
       "      <td>-0.050879</td>\n",
       "      <td>-0.014413</td>\n",
       "      <td>-0.026536</td>\n",
       "      <td>-0.005022</td>\n",
       "      <td>-0.020954</td>\n",
       "      <td>-0.029037</td>\n",
       "      <td>-0.020968</td>\n",
       "      <td>-0.072136</td>\n",
       "    </tr>\n",
       "    <tr>\n",
       "      <th>2009-07-07</th>\n",
       "      <td>-0.000614</td>\n",
       "      <td>0.011040</td>\n",
       "      <td>0.002354</td>\n",
       "      <td>-0.007432</td>\n",
       "      <td>-0.001501</td>\n",
       "      <td>-0.009601</td>\n",
       "      <td>-0.004110</td>\n",
       "      <td>0.018397</td>\n",
       "    </tr>\n",
       "    <tr>\n",
       "      <th>2009-07-08</th>\n",
       "      <td>-0.040118</td>\n",
       "      <td>-0.030875</td>\n",
       "      <td>-0.006003</td>\n",
       "      <td>-0.019484</td>\n",
       "      <td>-0.035316</td>\n",
       "      <td>-0.045646</td>\n",
       "      <td>-0.008270</td>\n",
       "      <td>-0.012843</td>\n",
       "    </tr>\n",
       "  </tbody>\n",
       "</table>\n",
       "</div>"
      ],
      "text/plain": [
       "               AAL.L    BARC.L      BP.L    HSBA.L    LLOY.L     RBS.L  \\\n",
       "Date                                                                     \n",
       "2009-07-02 -0.059875 -0.004317 -0.018642 -0.018222 -0.035043 -0.038942   \n",
       "2009-07-03 -0.007269  0.027306 -0.003541  0.017240  0.023980  0.023082   \n",
       "2009-07-06 -0.050879 -0.014413 -0.026536 -0.005022 -0.020954 -0.029037   \n",
       "2009-07-07 -0.000614  0.011040  0.002354 -0.007432 -0.001501 -0.009601   \n",
       "2009-07-08 -0.040118 -0.030875 -0.006003 -0.019484 -0.035316 -0.045646   \n",
       "\n",
       "              RDSA.L     RIO.L  \n",
       "Date                            \n",
       "2009-07-02 -0.033347 -0.058686  \n",
       "2009-07-03 -0.006671 -0.004432  \n",
       "2009-07-06 -0.020968 -0.072136  \n",
       "2009-07-07 -0.004110  0.018397  \n",
       "2009-07-08 -0.008270 -0.012843  "
      ]
     },
     "execution_count": 4,
     "metadata": {},
     "output_type": "execute_result"
    }
   ],
   "source": [
    "daily_log_returns.head()"
   ]
  },
  {
   "cell_type": "code",
   "execution_count": 5,
   "metadata": {},
   "outputs": [
    {
     "data": {
      "text/html": [
       "<div>\n",
       "<style scoped>\n",
       "    .dataframe tbody tr th:only-of-type {\n",
       "        vertical-align: middle;\n",
       "    }\n",
       "\n",
       "    .dataframe tbody tr th {\n",
       "        vertical-align: top;\n",
       "    }\n",
       "\n",
       "    .dataframe thead th {\n",
       "        text-align: right;\n",
       "    }\n",
       "</style>\n",
       "<table border=\"1\" class=\"dataframe\">\n",
       "  <thead>\n",
       "    <tr style=\"text-align: right;\">\n",
       "      <th></th>\n",
       "      <th>0.5</th>\n",
       "      <th>1.0</th>\n",
       "      <th>1.5</th>\n",
       "      <th>2.0</th>\n",
       "      <th>2.5</th>\n",
       "      <th>3.0</th>\n",
       "      <th>3.5</th>\n",
       "      <th>4.0</th>\n",
       "      <th>4.5</th>\n",
       "      <th>5.0</th>\n",
       "      <th>...</th>\n",
       "      <th>13.5</th>\n",
       "      <th>14.0</th>\n",
       "      <th>14.5</th>\n",
       "      <th>15.0</th>\n",
       "      <th>15.5</th>\n",
       "      <th>16.0</th>\n",
       "      <th>16.5</th>\n",
       "      <th>17.0</th>\n",
       "      <th>17.5</th>\n",
       "      <th>18.0</th>\n",
       "    </tr>\n",
       "    <tr>\n",
       "      <th>Date</th>\n",
       "      <th></th>\n",
       "      <th></th>\n",
       "      <th></th>\n",
       "      <th></th>\n",
       "      <th></th>\n",
       "      <th></th>\n",
       "      <th></th>\n",
       "      <th></th>\n",
       "      <th></th>\n",
       "      <th></th>\n",
       "      <th></th>\n",
       "      <th></th>\n",
       "      <th></th>\n",
       "      <th></th>\n",
       "      <th></th>\n",
       "      <th></th>\n",
       "      <th></th>\n",
       "      <th></th>\n",
       "      <th></th>\n",
       "      <th></th>\n",
       "      <th></th>\n",
       "    </tr>\n",
       "  </thead>\n",
       "  <tbody>\n",
       "    <tr>\n",
       "      <th>2009-07-01</th>\n",
       "      <td>9.18</td>\n",
       "      <td>10.56</td>\n",
       "      <td>11.135</td>\n",
       "      <td>11.71</td>\n",
       "      <td>11.815</td>\n",
       "      <td>11.92</td>\n",
       "      <td>11.8825</td>\n",
       "      <td>11.845</td>\n",
       "      <td>11.8075</td>\n",
       "      <td>11.77</td>\n",
       "      <td>...</td>\n",
       "      <td>11.623</td>\n",
       "      <td>11.622</td>\n",
       "      <td>11.621</td>\n",
       "      <td>11.62</td>\n",
       "      <td>11.62</td>\n",
       "      <td>11.62</td>\n",
       "      <td>11.62</td>\n",
       "      <td>11.62</td>\n",
       "      <td>11.62</td>\n",
       "      <td>11.62</td>\n",
       "    </tr>\n",
       "    <tr>\n",
       "      <th>2009-07-02</th>\n",
       "      <td>8.93</td>\n",
       "      <td>10.29</td>\n",
       "      <td>10.920</td>\n",
       "      <td>11.55</td>\n",
       "      <td>11.730</td>\n",
       "      <td>11.91</td>\n",
       "      <td>11.9075</td>\n",
       "      <td>11.905</td>\n",
       "      <td>11.9025</td>\n",
       "      <td>11.90</td>\n",
       "      <td>...</td>\n",
       "      <td>11.455</td>\n",
       "      <td>11.440</td>\n",
       "      <td>11.425</td>\n",
       "      <td>11.41</td>\n",
       "      <td>11.41</td>\n",
       "      <td>11.41</td>\n",
       "      <td>11.41</td>\n",
       "      <td>11.41</td>\n",
       "      <td>11.41</td>\n",
       "      <td>11.41</td>\n",
       "    </tr>\n",
       "    <tr>\n",
       "      <th>2009-07-03</th>\n",
       "      <td>8.91</td>\n",
       "      <td>10.33</td>\n",
       "      <td>11.005</td>\n",
       "      <td>11.68</td>\n",
       "      <td>11.845</td>\n",
       "      <td>12.01</td>\n",
       "      <td>11.9725</td>\n",
       "      <td>11.935</td>\n",
       "      <td>11.8975</td>\n",
       "      <td>11.86</td>\n",
       "      <td>...</td>\n",
       "      <td>11.411</td>\n",
       "      <td>11.404</td>\n",
       "      <td>11.397</td>\n",
       "      <td>11.39</td>\n",
       "      <td>11.39</td>\n",
       "      <td>11.39</td>\n",
       "      <td>11.39</td>\n",
       "      <td>11.39</td>\n",
       "      <td>11.39</td>\n",
       "      <td>11.39</td>\n",
       "    </tr>\n",
       "    <tr>\n",
       "      <th>2009-07-06</th>\n",
       "      <td>8.84</td>\n",
       "      <td>10.20</td>\n",
       "      <td>10.925</td>\n",
       "      <td>11.65</td>\n",
       "      <td>11.900</td>\n",
       "      <td>12.15</td>\n",
       "      <td>12.1725</td>\n",
       "      <td>12.195</td>\n",
       "      <td>12.2175</td>\n",
       "      <td>12.24</td>\n",
       "      <td>...</td>\n",
       "      <td>11.757</td>\n",
       "      <td>11.738</td>\n",
       "      <td>11.719</td>\n",
       "      <td>11.70</td>\n",
       "      <td>11.70</td>\n",
       "      <td>11.70</td>\n",
       "      <td>11.70</td>\n",
       "      <td>11.70</td>\n",
       "      <td>11.70</td>\n",
       "      <td>11.70</td>\n",
       "    </tr>\n",
       "    <tr>\n",
       "      <th>2009-07-07</th>\n",
       "      <td>9.09</td>\n",
       "      <td>10.45</td>\n",
       "      <td>11.035</td>\n",
       "      <td>11.62</td>\n",
       "      <td>11.765</td>\n",
       "      <td>11.91</td>\n",
       "      <td>11.8975</td>\n",
       "      <td>11.885</td>\n",
       "      <td>11.8725</td>\n",
       "      <td>11.86</td>\n",
       "      <td>...</td>\n",
       "      <td>11.614</td>\n",
       "      <td>11.606</td>\n",
       "      <td>11.598</td>\n",
       "      <td>11.59</td>\n",
       "      <td>11.59</td>\n",
       "      <td>11.59</td>\n",
       "      <td>11.59</td>\n",
       "      <td>11.59</td>\n",
       "      <td>11.59</td>\n",
       "      <td>11.59</td>\n",
       "    </tr>\n",
       "  </tbody>\n",
       "</table>\n",
       "<p>5 rows × 36 columns</p>\n",
       "</div>"
      ],
      "text/plain": [
       "            0.5    1.0     1.5    2.0     2.5    3.0      3.5     4.0   \\\n",
       "Date                                                                     \n",
       "2009-07-01  9.18  10.56  11.135  11.71  11.815  11.92  11.8825  11.845   \n",
       "2009-07-02  8.93  10.29  10.920  11.55  11.730  11.91  11.9075  11.905   \n",
       "2009-07-03  8.91  10.33  11.005  11.68  11.845  12.01  11.9725  11.935   \n",
       "2009-07-06  8.84  10.20  10.925  11.65  11.900  12.15  12.1725  12.195   \n",
       "2009-07-07  9.09  10.45  11.035  11.62  11.765  11.91  11.8975  11.885   \n",
       "\n",
       "               4.5    5.0   ...      13.5    14.0    14.5   15.0   15.5  \\\n",
       "Date                        ...                                           \n",
       "2009-07-01  11.8075  11.77  ...    11.623  11.622  11.621  11.62  11.62   \n",
       "2009-07-02  11.9025  11.90  ...    11.455  11.440  11.425  11.41  11.41   \n",
       "2009-07-03  11.8975  11.86  ...    11.411  11.404  11.397  11.39  11.39   \n",
       "2009-07-06  12.2175  12.24  ...    11.757  11.738  11.719  11.70  11.70   \n",
       "2009-07-07  11.8725  11.86  ...    11.614  11.606  11.598  11.59  11.59   \n",
       "\n",
       "             16.0   16.5   17.0   17.5   18.0  \n",
       "Date                                           \n",
       "2009-07-01  11.62  11.62  11.62  11.62  11.62  \n",
       "2009-07-02  11.41  11.41  11.41  11.41  11.41  \n",
       "2009-07-03  11.39  11.39  11.39  11.39  11.39  \n",
       "2009-07-06  11.70  11.70  11.70  11.70  11.70  \n",
       "2009-07-07  11.59  11.59  11.59  11.59  11.59  \n",
       "\n",
       "[5 rows x 36 columns]"
      ]
     },
     "execution_count": 5,
     "metadata": {},
     "output_type": "execute_result"
    }
   ],
   "source": [
    "rates.head()"
   ]
  },
  {
   "cell_type": "markdown",
   "metadata": {},
   "source": [
    "# 2. Описание данных"
   ]
  },
  {
   "cell_type": "markdown",
   "metadata": {},
   "source": [
    "- Цены закрытия акций выружены с Yahoo Finance.\n",
    "- Ставки взяты с сайта ЦБ РФ.\n",
    "- Кросс-валютный курс выгружен с сайта stooq.com, который берет информацию с Google Finance."
   ]
  },
  {
   "cell_type": "markdown",
   "metadata": {},
   "source": [
    "Выведим описательные статистики, skew, kurtosis и автокорреляцию по первому лагу арифметических 10-дневных доходностей акций."
   ]
  },
  {
   "cell_type": "code",
   "execution_count": 6,
   "metadata": {
    "collapsed": true
   },
   "outputs": [],
   "source": [
    "from scipy.stats import skew\n",
    "from scipy.stats import kurtosis"
   ]
  },
  {
   "cell_type": "code",
   "execution_count": 7,
   "metadata": {
    "collapsed": true
   },
   "outputs": [],
   "source": [
    "def describe(df):\n",
    "    \"\"\"\n",
    "    Print description of datafame with autocorrelation, skew and kurtosis\n",
    "    \"\"\"\n",
    "    description = df.describe()\n",
    "    \n",
    "    colnames = list(df.columns)\n",
    "    autocorrelation = []\n",
    "    \n",
    "    for colname in colnames:\n",
    "        autocorrelation.append(df[colname].autocorr(lag = 1))\n",
    "        \n",
    "    autocorr = pd.DataFrame([autocorrelation], columns = colnames, index=['autocorr'])\n",
    "    skews = pd.DataFrame([skew(df, axis = 0).tolist()], columns = colnames, index=['skew'])\n",
    "    kurt = pd.DataFrame([kurtosis(df, axis = 0).tolist()], columns = colnames, index=['kurtosis'])\n",
    "    \n",
    "    description = description.append(autocorr)\n",
    "    description = description.append(skews)\n",
    "    description = description.append(kurt)\n",
    "    \n",
    "    return description"
   ]
  },
  {
   "cell_type": "code",
   "execution_count": 8,
   "metadata": {},
   "outputs": [
    {
     "data": {
      "text/html": [
       "<div>\n",
       "<style scoped>\n",
       "    .dataframe tbody tr th:only-of-type {\n",
       "        vertical-align: middle;\n",
       "    }\n",
       "\n",
       "    .dataframe tbody tr th {\n",
       "        vertical-align: top;\n",
       "    }\n",
       "\n",
       "    .dataframe thead th {\n",
       "        text-align: right;\n",
       "    }\n",
       "</style>\n",
       "<table border=\"1\" class=\"dataframe\">\n",
       "  <thead>\n",
       "    <tr style=\"text-align: right;\">\n",
       "      <th></th>\n",
       "      <th>AAL.L</th>\n",
       "      <th>BARC.L</th>\n",
       "      <th>BP.L</th>\n",
       "      <th>HSBA.L</th>\n",
       "      <th>LLOY.L</th>\n",
       "      <th>RBS.L</th>\n",
       "      <th>RDSA.L</th>\n",
       "      <th>RIO.L</th>\n",
       "    </tr>\n",
       "  </thead>\n",
       "  <tbody>\n",
       "    <tr>\n",
       "      <th>count</th>\n",
       "      <td>756.000000</td>\n",
       "      <td>756.000000</td>\n",
       "      <td>756.000000</td>\n",
       "      <td>756.000000</td>\n",
       "      <td>756.000000</td>\n",
       "      <td>756.000000</td>\n",
       "      <td>756.000000</td>\n",
       "      <td>756.000000</td>\n",
       "    </tr>\n",
       "    <tr>\n",
       "      <th>mean</th>\n",
       "      <td>0.000173</td>\n",
       "      <td>-0.000764</td>\n",
       "      <td>-0.000198</td>\n",
       "      <td>0.000128</td>\n",
       "      <td>-0.000502</td>\n",
       "      <td>-0.000800</td>\n",
       "      <td>0.000427</td>\n",
       "      <td>0.000444</td>\n",
       "    </tr>\n",
       "    <tr>\n",
       "      <th>std</th>\n",
       "      <td>0.023887</td>\n",
       "      <td>0.030933</td>\n",
       "      <td>0.018482</td>\n",
       "      <td>0.016300</td>\n",
       "      <td>0.035221</td>\n",
       "      <td>0.033601</td>\n",
       "      <td>0.013476</td>\n",
       "      <td>0.024755</td>\n",
       "    </tr>\n",
       "    <tr>\n",
       "      <th>min</th>\n",
       "      <td>-0.076172</td>\n",
       "      <td>-0.168794</td>\n",
       "      <td>-0.140368</td>\n",
       "      <td>-0.061640</td>\n",
       "      <td>-0.283638</td>\n",
       "      <td>-0.195471</td>\n",
       "      <td>-0.053226</td>\n",
       "      <td>-0.114285</td>\n",
       "    </tr>\n",
       "    <tr>\n",
       "      <th>25%</th>\n",
       "      <td>-0.014169</td>\n",
       "      <td>-0.017052</td>\n",
       "      <td>-0.009557</td>\n",
       "      <td>-0.008810</td>\n",
       "      <td>-0.018900</td>\n",
       "      <td>-0.018744</td>\n",
       "      <td>-0.007538</td>\n",
       "      <td>-0.013972</td>\n",
       "    </tr>\n",
       "    <tr>\n",
       "      <th>50%</th>\n",
       "      <td>0.001184</td>\n",
       "      <td>-0.001252</td>\n",
       "      <td>-0.000051</td>\n",
       "      <td>-0.000159</td>\n",
       "      <td>-0.000306</td>\n",
       "      <td>-0.001931</td>\n",
       "      <td>0.000693</td>\n",
       "      <td>0.000828</td>\n",
       "    </tr>\n",
       "    <tr>\n",
       "      <th>75%</th>\n",
       "      <td>0.014911</td>\n",
       "      <td>0.016339</td>\n",
       "      <td>0.009352</td>\n",
       "      <td>0.009139</td>\n",
       "      <td>0.018373</td>\n",
       "      <td>0.018677</td>\n",
       "      <td>0.008970</td>\n",
       "      <td>0.015609</td>\n",
       "    </tr>\n",
       "    <tr>\n",
       "      <th>max</th>\n",
       "      <td>0.095437</td>\n",
       "      <td>0.161956</td>\n",
       "      <td>0.089487</td>\n",
       "      <td>0.064578</td>\n",
       "      <td>0.204678</td>\n",
       "      <td>0.120018</td>\n",
       "      <td>0.038298</td>\n",
       "      <td>0.076540</td>\n",
       "    </tr>\n",
       "    <tr>\n",
       "      <th>autocorr</th>\n",
       "      <td>0.003796</td>\n",
       "      <td>0.014173</td>\n",
       "      <td>0.030910</td>\n",
       "      <td>-0.026055</td>\n",
       "      <td>-0.023473</td>\n",
       "      <td>0.042604</td>\n",
       "      <td>0.056323</td>\n",
       "      <td>0.049168</td>\n",
       "    </tr>\n",
       "    <tr>\n",
       "      <th>skew</th>\n",
       "      <td>-0.111088</td>\n",
       "      <td>-0.028955</td>\n",
       "      <td>-0.561599</td>\n",
       "      <td>0.027504</td>\n",
       "      <td>-0.538963</td>\n",
       "      <td>-0.231325</td>\n",
       "      <td>-0.205137</td>\n",
       "      <td>-0.140894</td>\n",
       "    </tr>\n",
       "    <tr>\n",
       "      <th>kurtosis</th>\n",
       "      <td>0.504464</td>\n",
       "      <td>3.163102</td>\n",
       "      <td>6.592283</td>\n",
       "      <td>1.379727</td>\n",
       "      <td>8.716491</td>\n",
       "      <td>2.301204</td>\n",
       "      <td>0.703511</td>\n",
       "      <td>0.910341</td>\n",
       "    </tr>\n",
       "  </tbody>\n",
       "</table>\n",
       "</div>"
      ],
      "text/plain": [
       "               AAL.L      BARC.L        BP.L      HSBA.L      LLOY.L  \\\n",
       "count     756.000000  756.000000  756.000000  756.000000  756.000000   \n",
       "mean        0.000173   -0.000764   -0.000198    0.000128   -0.000502   \n",
       "std         0.023887    0.030933    0.018482    0.016300    0.035221   \n",
       "min        -0.076172   -0.168794   -0.140368   -0.061640   -0.283638   \n",
       "25%        -0.014169   -0.017052   -0.009557   -0.008810   -0.018900   \n",
       "50%         0.001184   -0.001252   -0.000051   -0.000159   -0.000306   \n",
       "75%         0.014911    0.016339    0.009352    0.009139    0.018373   \n",
       "max         0.095437    0.161956    0.089487    0.064578    0.204678   \n",
       "autocorr    0.003796    0.014173    0.030910   -0.026055   -0.023473   \n",
       "skew       -0.111088   -0.028955   -0.561599    0.027504   -0.538963   \n",
       "kurtosis    0.504464    3.163102    6.592283    1.379727    8.716491   \n",
       "\n",
       "               RBS.L      RDSA.L       RIO.L  \n",
       "count     756.000000  756.000000  756.000000  \n",
       "mean       -0.000800    0.000427    0.000444  \n",
       "std         0.033601    0.013476    0.024755  \n",
       "min        -0.195471   -0.053226   -0.114285  \n",
       "25%        -0.018744   -0.007538   -0.013972  \n",
       "50%        -0.001931    0.000693    0.000828  \n",
       "75%         0.018677    0.008970    0.015609  \n",
       "max         0.120018    0.038298    0.076540  \n",
       "autocorr    0.042604    0.056323    0.049168  \n",
       "skew       -0.231325   -0.205137   -0.140894  \n",
       "kurtosis    2.301204    0.703511    0.910341  "
      ]
     },
     "execution_count": 8,
     "metadata": {},
     "output_type": "execute_result"
    }
   ],
   "source": [
    "describe(daily_log_returns)"
   ]
  },
  {
   "cell_type": "code",
   "execution_count": 82,
   "metadata": {},
   "outputs": [
    {
     "data": {
      "text/html": [
       "<div>\n",
       "<style scoped>\n",
       "    .dataframe tbody tr th:only-of-type {\n",
       "        vertical-align: middle;\n",
       "    }\n",
       "\n",
       "    .dataframe tbody tr th {\n",
       "        vertical-align: top;\n",
       "    }\n",
       "\n",
       "    .dataframe thead th {\n",
       "        text-align: right;\n",
       "    }\n",
       "</style>\n",
       "<table border=\"1\" class=\"dataframe\">\n",
       "  <thead>\n",
       "    <tr style=\"text-align: right;\">\n",
       "      <th></th>\n",
       "      <th>0.25</th>\n",
       "      <th>0.5</th>\n",
       "      <th>0.75</th>\n",
       "      <th>1.0</th>\n",
       "      <th>2.0</th>\n",
       "      <th>3.0</th>\n",
       "      <th>5.0</th>\n",
       "      <th>7.0</th>\n",
       "      <th>10.0</th>\n",
       "      <th>15.0</th>\n",
       "    </tr>\n",
       "  </thead>\n",
       "  <tbody>\n",
       "    <tr>\n",
       "      <th>count</th>\n",
       "      <td>788.000000</td>\n",
       "      <td>788.000000</td>\n",
       "      <td>788.000000</td>\n",
       "      <td>788.000000</td>\n",
       "      <td>788.000000</td>\n",
       "      <td>788.000000</td>\n",
       "      <td>788.000000</td>\n",
       "      <td>788.000000</td>\n",
       "      <td>788.000000</td>\n",
       "      <td>788.000000</td>\n",
       "    </tr>\n",
       "    <tr>\n",
       "      <th>mean</th>\n",
       "      <td>5.096688</td>\n",
       "      <td>5.474746</td>\n",
       "      <td>5.806954</td>\n",
       "      <td>6.099099</td>\n",
       "      <td>6.964226</td>\n",
       "      <td>7.506485</td>\n",
       "      <td>8.079683</td>\n",
       "      <td>8.333617</td>\n",
       "      <td>8.494708</td>\n",
       "      <td>8.581954</td>\n",
       "    </tr>\n",
       "    <tr>\n",
       "      <th>std</th>\n",
       "      <td>1.531540</td>\n",
       "      <td>1.509381</td>\n",
       "      <td>1.499777</td>\n",
       "      <td>1.494949</td>\n",
       "      <td>1.476348</td>\n",
       "      <td>1.435242</td>\n",
       "      <td>1.334353</td>\n",
       "      <td>1.249837</td>\n",
       "      <td>1.159669</td>\n",
       "      <td>1.071605</td>\n",
       "    </tr>\n",
       "    <tr>\n",
       "      <th>min</th>\n",
       "      <td>2.860000</td>\n",
       "      <td>3.390000</td>\n",
       "      <td>3.830000</td>\n",
       "      <td>4.200000</td>\n",
       "      <td>5.440000</td>\n",
       "      <td>6.000000</td>\n",
       "      <td>6.560000</td>\n",
       "      <td>6.880000</td>\n",
       "      <td>7.140000</td>\n",
       "      <td>7.310000</td>\n",
       "    </tr>\n",
       "    <tr>\n",
       "      <th>25%</th>\n",
       "      <td>3.740000</td>\n",
       "      <td>4.170000</td>\n",
       "      <td>4.570000</td>\n",
       "      <td>4.917500</td>\n",
       "      <td>5.977500</td>\n",
       "      <td>6.640000</td>\n",
       "      <td>7.410000</td>\n",
       "      <td>7.710000</td>\n",
       "      <td>7.890000</td>\n",
       "      <td>8.020000</td>\n",
       "    </tr>\n",
       "    <tr>\n",
       "      <th>50%</th>\n",
       "      <td>4.840000</td>\n",
       "      <td>5.335000</td>\n",
       "      <td>5.770000</td>\n",
       "      <td>6.090000</td>\n",
       "      <td>6.690000</td>\n",
       "      <td>7.050000</td>\n",
       "      <td>7.620000</td>\n",
       "      <td>7.940000</td>\n",
       "      <td>8.170000</td>\n",
       "      <td>8.290000</td>\n",
       "    </tr>\n",
       "    <tr>\n",
       "      <th>75%</th>\n",
       "      <td>6.120000</td>\n",
       "      <td>6.232500</td>\n",
       "      <td>6.350000</td>\n",
       "      <td>6.535000</td>\n",
       "      <td>7.300000</td>\n",
       "      <td>7.740000</td>\n",
       "      <td>8.252500</td>\n",
       "      <td>8.482500</td>\n",
       "      <td>8.620000</td>\n",
       "      <td>8.662500</td>\n",
       "    </tr>\n",
       "    <tr>\n",
       "      <th>max</th>\n",
       "      <td>8.740000</td>\n",
       "      <td>9.340000</td>\n",
       "      <td>9.970000</td>\n",
       "      <td>10.560000</td>\n",
       "      <td>11.710000</td>\n",
       "      <td>12.160000</td>\n",
       "      <td>12.430000</td>\n",
       "      <td>12.420000</td>\n",
       "      <td>12.230000</td>\n",
       "      <td>12.010000</td>\n",
       "    </tr>\n",
       "    <tr>\n",
       "      <th>autocorr</th>\n",
       "      <td>0.997385</td>\n",
       "      <td>0.997438</td>\n",
       "      <td>0.997304</td>\n",
       "      <td>0.997109</td>\n",
       "      <td>0.996775</td>\n",
       "      <td>0.996916</td>\n",
       "      <td>0.996711</td>\n",
       "      <td>0.995841</td>\n",
       "      <td>0.994423</td>\n",
       "      <td>0.993101</td>\n",
       "    </tr>\n",
       "    <tr>\n",
       "      <th>skew</th>\n",
       "      <td>0.599426</td>\n",
       "      <td>0.864714</td>\n",
       "      <td>1.121669</td>\n",
       "      <td>1.350469</td>\n",
       "      <td>1.925105</td>\n",
       "      <td>2.148619</td>\n",
       "      <td>2.241309</td>\n",
       "      <td>2.199967</td>\n",
       "      <td>2.112796</td>\n",
       "      <td>2.013835</td>\n",
       "    </tr>\n",
       "    <tr>\n",
       "      <th>kurtosis</th>\n",
       "      <td>-0.604079</td>\n",
       "      <td>0.042969</td>\n",
       "      <td>0.727963</td>\n",
       "      <td>1.378767</td>\n",
       "      <td>3.139438</td>\n",
       "      <td>3.854065</td>\n",
       "      <td>4.156805</td>\n",
       "      <td>4.043147</td>\n",
       "      <td>3.786662</td>\n",
       "      <td>3.488642</td>\n",
       "    </tr>\n",
       "  </tbody>\n",
       "</table>\n",
       "</div>"
      ],
      "text/plain": [
       "               0.25        0.50        0.75        1.00        2.00   \\\n",
       "count     788.000000  788.000000  788.000000  788.000000  788.000000   \n",
       "mean        5.096688    5.474746    5.806954    6.099099    6.964226   \n",
       "std         1.531540    1.509381    1.499777    1.494949    1.476348   \n",
       "min         2.860000    3.390000    3.830000    4.200000    5.440000   \n",
       "25%         3.740000    4.170000    4.570000    4.917500    5.977500   \n",
       "50%         4.840000    5.335000    5.770000    6.090000    6.690000   \n",
       "75%         6.120000    6.232500    6.350000    6.535000    7.300000   \n",
       "max         8.740000    9.340000    9.970000   10.560000   11.710000   \n",
       "autocorr    0.997385    0.997438    0.997304    0.997109    0.996775   \n",
       "skew        0.599426    0.864714    1.121669    1.350469    1.925105   \n",
       "kurtosis   -0.604079    0.042969    0.727963    1.378767    3.139438   \n",
       "\n",
       "               3.00        5.00        7.00        10.00       15.00  \n",
       "count     788.000000  788.000000  788.000000  788.000000  788.000000  \n",
       "mean        7.506485    8.079683    8.333617    8.494708    8.581954  \n",
       "std         1.435242    1.334353    1.249837    1.159669    1.071605  \n",
       "min         6.000000    6.560000    6.880000    7.140000    7.310000  \n",
       "25%         6.640000    7.410000    7.710000    7.890000    8.020000  \n",
       "50%         7.050000    7.620000    7.940000    8.170000    8.290000  \n",
       "75%         7.740000    8.252500    8.482500    8.620000    8.662500  \n",
       "max        12.160000   12.430000   12.420000   12.230000   12.010000  \n",
       "autocorr    0.996916    0.996711    0.995841    0.994423    0.993101  \n",
       "skew        2.148619    2.241309    2.199967    2.112796    2.013835  \n",
       "kurtosis    3.854065    4.156805    4.043147    3.786662    3.488642  "
      ]
     },
     "execution_count": 82,
     "metadata": {},
     "output_type": "execute_result"
    }
   ],
   "source": [
    "describe(vanila_rates)"
   ]
  },
  {
   "cell_type": "markdown",
   "metadata": {},
   "source": [
    "# 3. VaR и ES для акций"
   ]
  },
  {
   "cell_type": "markdown",
   "metadata": {},
   "source": [
    "## Дельта-нормальный метод"
   ]
  },
  {
   "cell_type": "markdown",
   "metadata": {},
   "source": [
    "Функция использует следующие формулы для подсчета VaR и ES:"
   ]
  },
  {
   "cell_type": "markdown",
   "metadata": {},
   "source": [
    "$$\n",
    "VaR_{\\alpha}(X) = - \\mu_p + \\sigma_p \\cdot \\Phi^{-1}(\\alpha)\n",
    "$$\n",
    "\n",
    "$$\n",
    "ES_{\\alpha}(X) = - \\mu_p + \\sigma_p \\cdot \\frac{\\phi(\\Phi^{-1}(\\alpha))}{\\alpha}\n",
    "$$"
   ]
  },
  {
   "cell_type": "code",
   "execution_count": 9,
   "metadata": {
    "collapsed": true
   },
   "outputs": [],
   "source": [
    "import scipy.stats as st"
   ]
  },
  {
   "cell_type": "code",
   "execution_count": 10,
   "metadata": {
    "collapsed": true
   },
   "outputs": [],
   "source": [
    "def delta_norm_stock_VaR_ES(start, end, p_weights, alpha, return_period, daily_log_returns = daily_log_returns):\n",
    "    cov = np.array(daily_log_returns[start:end].cov())\n",
    "    stdev_p = np.sqrt(p_weights@cov@p_weights)\n",
    "    mu_p = (daily_log_returns@p_weights.T).mean()\n",
    "    \n",
    "    VaR = - mu_p + stdev_p * st.norm.ppf(1 - alpha) * np.sqrt(return_period)\n",
    "    ES = - mu_p + stdev_p * st.norm.pdf(st.norm.ppf(1 - alpha))/alpha * np.sqrt(return_period)\n",
    "    # check how return peroid is included in ES\n",
    "\n",
    "    return VaR, ES"
   ]
  },
  {
   "cell_type": "code",
   "execution_count": 11,
   "metadata": {
    "collapsed": true
   },
   "outputs": [],
   "source": [
    "p_weights = np.array([0.1, 0.1, 0.1, 0.1, 0.175, 0.175, 0.125, 0.125])\n",
    "future_log_returns = log_10_day_returns[log_10_day_returns.index[-1] - dt.timedelta(days = 364):]@p_weights.T"
   ]
  },
  {
   "cell_type": "code",
   "execution_count": 12,
   "metadata": {
    "collapsed": true
   },
   "outputs": [],
   "source": [
    "alpha = 0.01\n",
    "\n",
    "VaR_delta_norm_forecast = [ -delta_norm_stock_VaR_ES(daily_log_returns.index[i], \n",
    "                                                        daily_log_returns.index[i] + dt.timedelta(days = 728), \n",
    "                               p_weights, alpha, return_period = 10)[0] for i in range(future_log_returns.shape[0])];\n",
    "ES_delta_norm_forecast = [ -delta_norm_stock_VaR_ES(daily_log_returns.index[i], \n",
    "                                                        daily_log_returns.index[i] + dt.timedelta(days = 728), \n",
    "                               p_weights, alpha, return_period = 10)[1] for i in range(future_log_returns.shape[0])];\n",
    "\n",
    "VaR_delta_norm_forecast = pd.Series(VaR_delta_norm_forecast, pd.to_datetime(future_log_returns.index))\n",
    "ES_delta_norm_forecast = pd.Series(ES_delta_norm_forecast, pd.to_datetime(future_log_returns.index))"
   ]
  },
  {
   "cell_type": "code",
   "execution_count": 88,
   "metadata": {},
   "outputs": [
    {
     "data": {
      "image/png": "[encoded data removed]",
      "text/plain": [
       "<Figure size 1080x576 with 1 Axes>"
      ]
     },
     "metadata": {},
     "output_type": "display_data"
    }
   ],
   "source": [
    "plt.plot(VaR_delta_norm_forecast)\n",
    "plt.plot(ES_delta_norm_forecast)\n",
    "plt.vlines(future_log_returns.index, ymax=list(future_log_returns), ymin = 0, colors='b')\n",
    "plt.legend(['VaR_1y_forecast', 'ES_1y_forecast', 'Future 10-day returns'])\n",
    "plt.title('Delta-normal Forecast');"
   ]
  },
  {
   "cell_type": "markdown",
   "metadata": {},
   "source": [
    "## Historical simulation"
   ]
  },
  {
   "cell_type": "markdown",
   "metadata": {},
   "source": [
    "VaR и ES для Historical simulation считались так:"
   ]
  },
  {
   "cell_type": "markdown",
   "metadata": {},
   "source": [
    "$$\n",
    "VaR_\\alpha(X) = - inf{[x|P(X \\leq x) > \\alpha]}\n",
    "$$\n",
    "\n",
    "$$\n",
    "ES_\\alpha(X) = \\frac{\\Sigma [x|P(X \\leq x) > \\alpha]}{\\#x}\n",
    "$$"
   ]
  },
  {
   "cell_type": "code",
   "execution_count": 14,
   "metadata": {
    "collapsed": true
   },
   "outputs": [],
   "source": [
    "def historical_stock_VaR_ES(start, end, p_weights, alpha, returns, plot=False):\n",
    "    \n",
    "    #Calculation\n",
    "    p_returns = returns[start:end]@p_weights.T\n",
    "    p_returns = p_returns.sort_values()\n",
    "    \n",
    "    VaR_location = int(np.floor(p_returns.shape[0] * alpha))\n",
    "    VaR = - p_returns[VaR_location]\n",
    "    ES = - p_returns[:VaR_location].mean()\n",
    "    \n",
    "    #Plot    \n",
    "    if plot == True:\n",
    "        plt.figure(figsize=(15,7.5))\n",
    "        plt.tick_params(labelsize=14)\n",
    "        plt.title('Historical Simulation')\n",
    "        plt.legend(['Empirical PMF', 'VaR', 'ES'])  \n",
    "        \n",
    "        plt.scatter(p_returns, np.linspace(0, 1, p_returns.shape[0]), s = 20)\n",
    "        plt.scatter(p_returns[VaR_location], np.linspace(0, 1, p_returns.shape[0])[VaR_location], s = 300)\n",
    "        plt.scatter(p_returns[:VaR_location].mean(), np.linspace(0, 1, p_returns.shape[0])[:VaR_location].mean(), s = 300)\n",
    "        plt.xlabel('P\\L')\n",
    "        plt.legend(['Empirical PMF', 'VaR', 'ES'])\n",
    "    \n",
    "    return VaR, ES"
   ]
  },
  {
   "cell_type": "code",
   "execution_count": 15,
   "metadata": {
    "collapsed": true
   },
   "outputs": [],
   "source": [
    "future_stock_10_day_returns = day_10_returns[day_10_returns.index[-1] - dt.timedelta(days = 364):]@p_weights.T"
   ]
  },
  {
   "cell_type": "code",
   "execution_count": 86,
   "metadata": {
    "collapsed": true
   },
   "outputs": [],
   "source": [
    "alpha = 0.01\n",
    "\n",
    "VaR_historical_forecast = [ -historical_stock_VaR_ES(day_10_returns.index[i], \n",
    "                                                        day_10_returns.index[i] + dt.timedelta(days = 716), \n",
    "                               p_weights, alpha, returns = day_10_returns)[0] \n",
    "                           for i in range(future_stock_10_day_returns.shape[0])]\n",
    "ES_historical_forecast = [ -historical_stock_VaR_ES(day_10_returns.index[i], \n",
    "                                                        day_10_returns.index[i] + dt.timedelta(days = 716), \n",
    "                               p_weights, alpha, returns = day_10_returns)[1] \n",
    "                          for i in range(future_stock_10_day_returns.shape[0])]\n",
    "\n",
    "VaR_historical_forecast = pd.Series(VaR_historical_forecast, pd.to_datetime(future_stock_10_day_returns.index))\n",
    "ES_historical_forecast = pd.Series(ES_historical_forecast, pd.to_datetime(future_stock_10_day_returns.index))"
   ]
  },
  {
   "cell_type": "code",
   "execution_count": 89,
   "metadata": {},
   "outputs": [
    {
     "data": {
      "image/png": "[encoded data removed]",
      "text/plain": [
       "<Figure size 1080x576 with 1 Axes>"
      ]
     },
     "metadata": {},
     "output_type": "display_data"
    }
   ],
   "source": [
    "plt.plot(VaR_historical_forecast)\n",
    "plt.plot(ES_historical_forecast)\n",
    "plt.vlines(future_stock_10_day_returns.index, ymax=list(future_stock_10_day_returns), ymin = 0, colors='b')\n",
    "plt.legend(['VaR_1y forecast', 'ES_1y forecast', 'Future 10-day returns'])\n",
    "plt.title('Historical Simulation Forecast');"
   ]
  },
  {
   "cell_type": "code",
   "execution_count": 18,
   "metadata": {},
   "outputs": [
    {
     "name": "stdout",
     "output_type": "stream",
     "text": [
      "VaR: C вероятностью 0.99 портфель не потеряет за 10-дневный срок больше чем 11.24% стоимости\n",
      "ES: Если портфель за 10 дней будет терять больше, чем 11.24% стоимости, то он в среднем потеряет 12.72%\n"
     ]
    },
    {
     "data": {
      "image/png": "[encoded data removed]",
      "text/plain": [
       "<Figure size 1080x540 with 1 Axes>"
      ]
     },
     "metadata": {
      "needs_background": "light"
     },
     "output_type": "display_data"
    }
   ],
   "source": [
    "VaR_hist, ES_hist = historical_stock_VaR_ES(day_10_returns.index[0], \n",
    "                                            day_10_returns.index[0] + dt.timedelta(716),\n",
    "                                            p_weights, alpha, plot = True, returns = day_10_returns)\n",
    "\n",
    "print(f'VaR: C вероятностью {1-alpha} портфель не потеряет за 10-дневный срок больше чем {round(VaR_hist * 100, 2)}% стоимости')\n",
    "print(f'ES: Если портфель за 10 дней будет терять больше, чем {round(VaR_hist * 100, 2)}% стоимости, то он в среднем потеряет {round(ES_hist*100, 2)}%')"
   ]
  },
  {
   "cell_type": "markdown",
   "metadata": {},
   "source": [
    "# 4. VaR и ES для облигаций"
   ]
  },
  {
   "cell_type": "markdown",
   "metadata": {},
   "source": [
    "$$\n",
    "VaR(\\alpha=1\\%) = \\dfrac{dP}{P}(\\alpha=1\\%)\n",
    "$$\n",
    "$$\n",
    "VaR(\\alpha=1\\%) = q_{\\Delta r}(\\alpha=1\\%)*Duration,\n",
    "$$\n",
    "$$\n",
    "Duration = \\dfrac{dP}{dr}/P = \\dfrac{dP}{Pdr} \n",
    "$$\n",
    "Где $P$ - цена облигации, $\\Delta r$ - приращение ставки дисконтирования, $q_{\\Delta r}(\\alpha=1\\%)$ - $1\\%$-квантиль распределения приращения ставки дисконтирования."
   ]
  },
  {
   "cell_type": "markdown",
   "metadata": {},
   "source": [
    "Найдем структуру купонных платежей."
   ]
  },
  {
   "cell_type": "code",
   "execution_count": 19,
   "metadata": {
    "collapsed": true
   },
   "outputs": [],
   "source": [
    "class bond():\n",
    "    \"\"\"\n",
    "    Class Bond is used to get structure of payments of bonds with given parameter.\n",
    "    Bond can be defined in two ways:\n",
    "        1. Coupon, frequency, maturity, amortization.\n",
    "        2. Dates and payments.\n",
    "    \n",
    "    Properties are:\n",
    "        .dates - dates as np.array\n",
    "        .payments - payments as np.array\n",
    "        .structure - dict of dates as keys ans payments as items     \n",
    "    \"\"\"\n",
    "    def __init__(s, coupon = False, frequency = False, maturity = False, amortization = False, \n",
    "                 dates = None, payments = None):\n",
    "\n",
    "        if dates is not None and payments is not None:\n",
    "            s.dates = dates\n",
    "            s.payments = payments           \n",
    "        else:           \n",
    "            dates = np.linspace(0, maturity, frequency * maturity + 1)[1:]\n",
    "            s.dates = dates\n",
    "            \n",
    "            if amortization == True:\n",
    "                amortization = np.ones(maturity*frequency) * (100/(maturity*frequency))\n",
    "                s.amortization = amortization\n",
    "                payments = np.linspace(1, 0, maturity*frequency + 1)[:-1] * coupon/frequency + amortization\n",
    "                s.payments = payments\n",
    "            else:\n",
    "                principal = np.zeros(maturity*frequency)\n",
    "                principal[-1] = 100\n",
    "                payments = np.ones(frequency * maturity) * coupon/frequency + principal\n",
    "                s.payments = payments\n",
    "        \n",
    "        s.structure = {date: payment for (date, payment) in zip(dates, payments)}"
   ]
  },
  {
   "cell_type": "code",
   "execution_count": 20,
   "metadata": {
    "collapsed": true
   },
   "outputs": [],
   "source": [
    "def bond_portfolio(*bonds):     \n",
    "    \"\"\"\n",
    "    A function to get the structure of payments of a portfolio of bonds from a number of bonds.\n",
    "    Output is a class bond object.\n",
    "    \"\"\"\n",
    "    portfolio = bonds[0].structure\n",
    "    \n",
    "    for Bond in bonds[1:]:\n",
    "        Bond = Bond.structure\n",
    "        portfolio = {k: portfolio.get(k, 0) + Bond.get(k, 0) for k in set(portfolio) | set(Bond)}   \n",
    "        \n",
    "    dates = np.array(list(rates.columns))\n",
    "    portfolio = {k: portfolio.get(k, 0) + 0 for k in set(portfolio) | set(dates)}\n",
    "    portfolio = {k: portfolio.get(k, 0) for k in sorted(portfolio)}\n",
    "    \n",
    "    payments = np.array(list(portfolio.values()))\n",
    "    structured_portfolio = bond(dates = dates, payments = payments)\n",
    "    \n",
    "    return structured_portfolio\n",
    "\n",
    "def dcf(bond_portfolio, rates):\n",
    "    \"\"\"\n",
    "    Get DCF of a bond portfolio.\n",
    "    Input: bond_portfolio as bond class object\n",
    "           rates as a dataframe of rates on a required period\n",
    "    Output: Dataframe of DCF\n",
    "    \n",
    "    \"\"\"\n",
    "    \n",
    "    dcf = np.ones([rates.shape[0], rates.shape[1]]) * portfolio.payments    \n",
    "    dcf = dcf * np.exp(-rates/100 * np.array(list(rates.columns)))\n",
    "    \n",
    "    return dcf\n",
    "\n",
    "def duration(bond_portfolio, rates):\n",
    "    \"\"\"\n",
    "    Get duration of a bond portfolio.\n",
    "    Input: bond_portfolio as bond class object\n",
    "           rates as a dataframe of rates on a required period\n",
    "    Output: Series of duration\n",
    "    \n",
    "    \"\"\"\n",
    "    DCF = dcf(bond_portfolio, rates)\n",
    "    dates = np.ones([DCF.shape[0], DCF.shape[1]]) * np.array(list(rates.columns))    \n",
    "    return (DCF * dates).sum(axis = 1) / DCF.sum(axis = 1)"
   ]
  },
  {
   "cell_type": "code",
   "execution_count": 21,
   "metadata": {
    "collapsed": true
   },
   "outputs": [],
   "source": [
    "bond1 = bond(coupon = 4.84, frequency = 2, maturity = 2)\n",
    "bond2 = bond(coupon = 6.14, frequency = 2, maturity = 3)\n",
    "bond3 = bond(coupon = 5.7, frequency = 2, maturity = 6)\n",
    "bond4 = bond(coupon = 4.34, frequency = 2, maturity = 10, amortization = True)\n",
    "bond5 = bond(coupon = 2.28, frequency = 1, maturity = 13, amortization = True)\n",
    "bond6 = bond(coupon = 4.73, frequency = 1, maturity = 18, amortization = True)\n",
    "\n",
    "portfolio = bond_portfolio(bond1, bond2, bond3, bond4, bond5, bond6)"
   ]
  },
  {
   "cell_type": "code",
   "execution_count": 22,
   "metadata": {
    "collapsed": true
   },
   "outputs": [],
   "source": [
    "DCF = dcf(portfolio, rates)"
   ]
  },
  {
   "cell_type": "code",
   "execution_count": 23,
   "metadata": {},
   "outputs": [
    {
     "data": {
      "text/plain": [
       "Date\n",
       "2009-07-01    3.947785\n",
       "2009-07-02    3.950506\n",
       "2009-07-03    3.960187\n",
       "2009-07-06    3.919638\n",
       "2009-07-07    3.942217\n",
       "dtype: float64"
      ]
     },
     "execution_count": 23,
     "metadata": {},
     "output_type": "execute_result"
    }
   ],
   "source": [
    "duration(portfolio, rates).head()"
   ]
  },
  {
   "cell_type": "code",
   "execution_count": 24,
   "metadata": {
    "scrolled": true
   },
   "outputs": [
    {
     "data": {
      "image/png": "[encoded data removed]",
      "text/plain": [
       "<Figure size 432x288 with 1 Axes>"
      ]
     },
     "metadata": {
      "needs_background": "light"
     },
     "output_type": "display_data"
    }
   ],
   "source": [
    "plt.vlines(portfolio.dates, ymax = portfolio.payments, ymin =0);"
   ]
  },
  {
   "cell_type": "code",
   "execution_count": 25,
   "metadata": {
    "collapsed": true
   },
   "outputs": [],
   "source": [
    "DCF = dcf(portfolio, rates)"
   ]
  },
  {
   "cell_type": "markdown",
   "metadata": {},
   "source": [
    "## Дельта-нормальный метод"
   ]
  },
  {
   "cell_type": "code",
   "execution_count": 26,
   "metadata": {
    "collapsed": true
   },
   "outputs": [],
   "source": [
    "today_date = '2011-07-01'"
   ]
  },
  {
   "cell_type": "code",
   "execution_count": 83,
   "metadata": {},
   "outputs": [
    {
     "data": {
      "image/png": "[encoded data removed]",
      "text/plain": [
       "<Figure size 864x360 with 1 Axes>"
      ]
     },
     "metadata": {
      "needs_background": "light"
     },
     "output_type": "display_data"
    }
   ],
   "source": [
    "plt.figure(figsize=(12, 5))\n",
    "\n",
    "plt.plot(rates.T[today_date])\n",
    "plt.ylabel('Yield, %', fontsize=14)\n",
    "plt.xlabel('Duration, years', fontsize=14)\n",
    "plt.title('Yield Curve (interpolated) for ' + str(today_date), fontsize=16);"
   ]
  },
  {
   "cell_type": "code",
   "execution_count": 28,
   "metadata": {
    "collapsed": true
   },
   "outputs": [],
   "source": [
    "diff_rates = rates.diff()[1:]\n",
    "diff_rates_history_today = diff_rates[diff_rates.index <= today_date]\n",
    "\n",
    "max_increments = diff_rates.max(axis=1)\n",
    "max_increments_history_today = diff_rates_history_today.max(axis=1)"
   ]
  },
  {
   "cell_type": "code",
   "execution_count": 29,
   "metadata": {},
   "outputs": [
    {
     "data": {
      "image/png": "[encoded data removed]",
      "text/plain": [
       "<Figure size 1008x432 with 1 Axes>"
      ]
     },
     "metadata": {
      "needs_background": "light"
     },
     "output_type": "display_data"
    }
   ],
   "source": [
    "plt.figure(figsize=(14, 6))\n",
    "max_increments_history_today.plot()\n",
    "plt.title('Maximum Increment Dynamics', fontsize=16)\n",
    "plt.xlabel('Date', fontsize=14)\n",
    "plt.ylabel('Increment', fontsize=14);"
   ]
  },
  {
   "cell_type": "markdown",
   "metadata": {},
   "source": [
    "Давайте проверим максимальные приращения доходностей на нормальность."
   ]
  },
  {
   "cell_type": "code",
   "execution_count": 30,
   "metadata": {},
   "outputs": [
    {
     "name": "stdout",
     "output_type": "stream",
     "text": [
      "Null hypothesis of normality is rejected.\n"
     ]
    }
   ],
   "source": [
    "import scipy.stats as stats\n",
    "\n",
    "p_value = stats.shapiro(max_increments_history_today)[1]\n",
    "if p_value <= 0.01:\n",
    "    print(\"Null hypothesis of normality is rejected.\")\n",
    "else:\n",
    "    print(\"Null hypothesis of normality is accepted.\")"
   ]
  },
  {
   "cell_type": "code",
   "execution_count": 31,
   "metadata": {
    "collapsed": true
   },
   "outputs": [],
   "source": [
    "alpha = 0.01\n",
    "z_crit = stats.norm.ppf(1-alpha)"
   ]
  },
  {
   "cell_type": "code",
   "execution_count": 32,
   "metadata": {
    "collapsed": true
   },
   "outputs": [],
   "source": [
    "min_obs = len(max_increments[max_increments.index <= today_date])\n",
    "\n",
    "max_increment_today_future_means = max_increments.expanding(min_obs).mean().dropna()[:-1]\n",
    "max_increment_today_future_means.index = rates[rates.index > today_date].index # дата - дата прогнозирования бонда\n",
    "\n",
    "max_increment_today_future_stds = max_increments.expanding(min_obs).std().dropna()[:-1]\n",
    "max_increment_today_future_stds.index = rates[rates.index > today_date].index\n",
    "\n",
    "quantiles_today_future = max_increment_today_future_means + max_increment_today_future_stds*z_crit\n",
    "\n",
    "durations_today_future = duration(portfolio, rates)[duration(portfolio, rates).index >=\\\n",
    "                                                    quantiles_today_future.index[0]]\n",
    "\n",
    "n_days = 10\n",
    "VaRs_10days = -(durations_today_future*quantiles_today_future/100)*np.sqrt(n_days)\n",
    "# Date - дата построения прогноза!\n",
    "\n",
    "bond_prices = np.sum(DCF, axis=1)\n",
    "\n",
    "bond_prices_today_future = bond_prices[bond_prices.index >= today_date]\n",
    "bond_prices_tf_pct_change = bond_prices_today_future.pct_change(periods=10).dropna()\n",
    "\n",
    "VaRs_10days = VaRs_10days[:-(VaRs_10days.shape[0] - bond_prices_tf_pct_change.shape[0])]\n",
    "\n",
    "VaRs_10days.index = bond_prices_tf_pct_change.index\n",
    "\n",
    "ES_10days = -durations_today_future *(quantiles_today_future \\\n",
    "* stats.norm.pdf(stats.norm.ppf(1 - alpha))/alpha*np.sqrt(n_days))/100"
   ]
  },
  {
   "cell_type": "code",
   "execution_count": 33,
   "metadata": {},
   "outputs": [
    {
     "data": {
      "image/png": "[encoded data removed]",
      "text/plain": [
       "<Figure size 1080x504 with 1 Axes>"
      ]
     },
     "metadata": {
      "needs_background": "light"
     },
     "output_type": "display_data"
    }
   ],
   "source": [
    "plt.figure(figsize=(15, 7))\n",
    "VaRs_10days.plot(lw=2)\n",
    "ES_10days.plot(lw=2)\n",
    "plt.vlines(bond_prices_tf_pct_change.index, ymax=list(bond_prices_tf_pct_change), ymin = 0, colors='b')\n",
    "\n",
    "plt.title('Delta-normal Model')\n",
    "plt.legend(['10-days VaR', '10-days ES', '10-days bond price change'], loc=1, fontsize=10);"
   ]
  },
  {
   "cell_type": "markdown",
   "metadata": {},
   "source": [
    "## PCA"
   ]
  },
  {
   "cell_type": "code",
   "execution_count": 34,
   "metadata": {
    "collapsed": true
   },
   "outputs": [],
   "source": [
    "from sklearn.decomposition import PCA"
   ]
  },
  {
   "cell_type": "code",
   "execution_count": 35,
   "metadata": {
    "collapsed": true
   },
   "outputs": [],
   "source": [
    "def interpolate_df_rates(dataframe):\n",
    "    \n",
    "    \"\"\"\n",
    "    Function for interpolation of rates. It works only for the current task.\n",
    "    \n",
    "    \"\"\"\n",
    "    \n",
    "    seq_1 = np.arange(1.5, 18.5, 1)\n",
    "    seq_2 = np.arange(4, 5, 1)\n",
    "    seq_3 = np.arange(6, 7, 1)\n",
    "    seq_4 = np.arange(8, 10, 1)\n",
    "    seq_5 = np.arange(11, 15, 1)\n",
    "    seq_6 = np.arange(16, 19, 1)\n",
    "\n",
    "    new_cols_float = sorted(np.concatenate([seq_1, seq_2, seq_3, seq_4, seq_5, seq_6], axis=0))\n",
    "\n",
    "    new_cols_str = ['{:.2f}'.format(x) for x in new_cols_float]\n",
    "\n",
    "    new_vals = [np.nan]*len(new_cols_str)\n",
    "\n",
    "    dataframe = dataframe.reindex(columns=dataframe.columns.tolist() + new_cols_str)   # add empty cols\n",
    "    dataframe[new_cols_str] = new_vals  # multi-column assignment works for existing cols\n",
    "\n",
    "    dataframe = dataframe.reindex(['{:.2f}'.format(x) for x in sorted(dataframe.columns.astype('float'))], \n",
    "                                            axis=1)\n",
    "\n",
    "    dataframe_interpolated = dataframe.interpolate(method = 'linear',\n",
    "                                             axis = 1)\n",
    "    \n",
    "    return(dataframe_interpolated)"
   ]
  },
  {
   "cell_type": "code",
   "execution_count": 36,
   "metadata": {
    "collapsed": true
   },
   "outputs": [],
   "source": [
    "def PCA_transformation(historic_data, needed_variance=0.95, n_monte_carlo = 1000, rand_state=26):\n",
    "    np.random.seed(rand_state)\n",
    "\n",
    "    pca_model = PCA(random_state=rand_state)\n",
    "    \n",
    "    historic_data_centr = historic_data - historic_data.mean(axis=0)\n",
    "\n",
    "    pca_model.fit_transform(historic_data_centr)\n",
    "    best_n_components = np.sum(np.cumsum(pca_model.explained_variance_ratio_) < needed_variance)+1 \n",
    "    # число компонент для дисперсии больше 0.95\n",
    "\n",
    "    pca_model_best = PCA(n_components=best_n_components)\n",
    "    historic_data_transformed = pca_model_best.fit_transform(historic_data_centr)\n",
    "    historic_data_transformed = pd.DataFrame(historic_data_transformed,\n",
    "                                                      index=historic_data.index)\n",
    "\n",
    "    n_sample = n_monte_carlo\n",
    "    norm_random_factors = np.zeros((1000, best_n_components))\n",
    "\n",
    "    i = 0\n",
    "    for col in historic_data_transformed.columns:\n",
    "        norm_random_factors[:, i] = np.random.normal(historic_data_transformed.mean()[i],\n",
    "                                    historic_data_transformed.std()[i], n_sample)\n",
    "        i += 1\n",
    "\n",
    "    historic_mean_data_matrix = np.ones([n_monte_carlo, historic_data.shape[1]]).T@historic_data.mean(axis=0)\n",
    "    full_transformed_increments = pd.DataFrame(norm_random_factors@pca_model_best.components_) + np.ones([n_monte_carlo, historic_data.shape[1]]) * np.array(historic_data.mean())\n",
    "    full_transformed_increments.columns=list(historic_data.columns)\n",
    "    \n",
    "    return full_transformed_increments, best_n_components # обратно к доходностям!"
   ]
  },
  {
   "cell_type": "code",
   "execution_count": 37,
   "metadata": {
    "collapsed": true
   },
   "outputs": [],
   "source": [
    "def bond_pca_VaRs(rates, transformed_increments, n_days, rates_names, bond_payments, percentile=0.01,\n",
    "                 include_ES = False):\n",
    "    \n",
    "    VaRs = []\n",
    "    \n",
    "    if include_ES:\n",
    "        ESs = []\n",
    "\n",
    "    for i in range(rates.shape[0]-n_days):\n",
    "\n",
    "        # цена бонда на сегодня\n",
    "        today_price = float((np.exp(-(np.array(rates.iloc[i])/100)*np.array(list(rates_names))))\\\n",
    "                                                                @ bond_payments)\n",
    "\n",
    "        # сценарии ставок на следующий день\n",
    "        rates_scenario = np.tile(rates.iloc[i],\n",
    "                                 (transformed_increments.shape[0],1))\\\n",
    "        + transformed_increments \n",
    "\n",
    "        scenario_bond_prices = np.exp(-(np.array(rates_scenario)/100)*np.array(list(rates_names)))\\\n",
    "                                                                                @ bond_payments\n",
    "\n",
    "        quantile_price = sorted(scenario_bond_prices)[int(len(scenario_bond_prices)*percentile - 1)] \n",
    "        quantile_loss = (quantile_price - today_price)/today_price\n",
    "        VaRs.append(quantile_loss)\n",
    "        \n",
    "        if include_ES:\n",
    "            quantile_expected_price = np.mean(sorted(scenario_bond_prices)[:int(1000*0.01)])\n",
    "            quantile_expected_loss = (quantile_expected_price - today_price)/today_price\n",
    "            ESs.append(quantile_expected_loss)\n",
    "    \n",
    "    if include_ES:\n",
    "        return VaRs, ESs\n",
    "\n",
    "    else:\n",
    "        return VaRs"
   ]
  },
  {
   "cell_type": "code",
   "execution_count": 38,
   "metadata": {},
   "outputs": [
    {
     "data": {
      "text/html": [
       "<div>\n",
       "<style scoped>\n",
       "    .dataframe tbody tr th:only-of-type {\n",
       "        vertical-align: middle;\n",
       "    }\n",
       "\n",
       "    .dataframe tbody tr th {\n",
       "        vertical-align: top;\n",
       "    }\n",
       "\n",
       "    .dataframe thead th {\n",
       "        text-align: right;\n",
       "    }\n",
       "</style>\n",
       "<table border=\"1\" class=\"dataframe\">\n",
       "  <thead>\n",
       "    <tr style=\"text-align: right;\">\n",
       "      <th></th>\n",
       "      <th>0.50</th>\n",
       "      <th>1.00</th>\n",
       "      <th>2.00</th>\n",
       "      <th>3.00</th>\n",
       "      <th>5.00</th>\n",
       "      <th>7.00</th>\n",
       "      <th>10.00</th>\n",
       "      <th>15.00</th>\n",
       "    </tr>\n",
       "    <tr>\n",
       "      <th>Date</th>\n",
       "      <th></th>\n",
       "      <th></th>\n",
       "      <th></th>\n",
       "      <th></th>\n",
       "      <th></th>\n",
       "      <th></th>\n",
       "      <th></th>\n",
       "      <th></th>\n",
       "    </tr>\n",
       "  </thead>\n",
       "  <tbody>\n",
       "    <tr>\n",
       "      <th>2009-07-01</th>\n",
       "      <td>9.18</td>\n",
       "      <td>10.56</td>\n",
       "      <td>11.71</td>\n",
       "      <td>11.92</td>\n",
       "      <td>11.77</td>\n",
       "      <td>11.65</td>\n",
       "      <td>11.63</td>\n",
       "      <td>11.62</td>\n",
       "    </tr>\n",
       "    <tr>\n",
       "      <th>2009-07-02</th>\n",
       "      <td>8.93</td>\n",
       "      <td>10.29</td>\n",
       "      <td>11.55</td>\n",
       "      <td>11.91</td>\n",
       "      <td>11.90</td>\n",
       "      <td>11.74</td>\n",
       "      <td>11.56</td>\n",
       "      <td>11.41</td>\n",
       "    </tr>\n",
       "    <tr>\n",
       "      <th>2009-07-03</th>\n",
       "      <td>8.91</td>\n",
       "      <td>10.33</td>\n",
       "      <td>11.68</td>\n",
       "      <td>12.01</td>\n",
       "      <td>11.86</td>\n",
       "      <td>11.62</td>\n",
       "      <td>11.46</td>\n",
       "      <td>11.39</td>\n",
       "    </tr>\n",
       "    <tr>\n",
       "      <th>2009-07-06</th>\n",
       "      <td>8.84</td>\n",
       "      <td>10.20</td>\n",
       "      <td>11.65</td>\n",
       "      <td>12.15</td>\n",
       "      <td>12.24</td>\n",
       "      <td>12.09</td>\n",
       "      <td>11.89</td>\n",
       "      <td>11.70</td>\n",
       "    </tr>\n",
       "    <tr>\n",
       "      <th>2009-07-07</th>\n",
       "      <td>9.09</td>\n",
       "      <td>10.45</td>\n",
       "      <td>11.62</td>\n",
       "      <td>11.91</td>\n",
       "      <td>11.86</td>\n",
       "      <td>11.76</td>\n",
       "      <td>11.67</td>\n",
       "      <td>11.59</td>\n",
       "    </tr>\n",
       "  </tbody>\n",
       "</table>\n",
       "</div>"
      ],
      "text/plain": [
       "            0.50   1.00   2.00   3.00   5.00   7.00  10.00  15.00\n",
       "Date                                                             \n",
       "2009-07-01  9.18  10.56  11.71  11.92  11.77  11.65  11.63  11.62\n",
       "2009-07-02  8.93  10.29  11.55  11.91  11.90  11.74  11.56  11.41\n",
       "2009-07-03  8.91  10.33  11.68  12.01  11.86  11.62  11.46  11.39\n",
       "2009-07-06  8.84  10.20  11.65  12.15  12.24  12.09  11.89  11.70\n",
       "2009-07-07  9.09  10.45  11.62  11.91  11.86  11.76  11.67  11.59"
      ]
     },
     "execution_count": 38,
     "metadata": {},
     "output_type": "execute_result"
    }
   ],
   "source": [
    "pca_rates = pd.read_csv('rates.csv', parse_dates=['Date'], index_col='Date').drop(['0.25', '0.75'], axis=1)\n",
    "pca_rates.head()"
   ]
  },
  {
   "cell_type": "code",
   "execution_count": 39,
   "metadata": {
    "collapsed": true
   },
   "outputs": [],
   "source": [
    "pca_rates_history_today = pca_rates[pca_rates.index <= today_date]\n",
    "pca_rates_today_future = pca_rates[pca_rates.index >= today_date]\n",
    "\n",
    "pca_diff_rates = pca_rates.diff(periods=10).dropna()\n",
    "pca_diff_rates_history_today = pca_diff_rates[pca_diff_rates.index <= today_date]"
   ]
  },
  {
   "cell_type": "code",
   "execution_count": 41,
   "metadata": {
    "collapsed": true
   },
   "outputs": [],
   "source": [
    "full_transformed_increments = PCA_transformation(pca_diff_rates_history_today)[0]\n",
    "\n",
    "full_interp_transformed_increments = interpolate_df_rates(pd.DataFrame(full_transformed_increments))\n",
    "# это матрица сценариев инкрементов на 10 дней, \n",
    "#которую применяем ко всем ставкам\n",
    "\n",
    "pca_rates_today_future_interpolated = interpolate_df_rates(pca_rates_today_future)\n",
    "\n",
    "pca_VaRs = bond_pca_VaRs(pca_rates_today_future_interpolated, full_interp_transformed_increments, n_days=10, \n",
    "              rates_names=rates.columns, bond_payments=portfolio.payments, percentile=0.01,\n",
    "             include_ES=True)[0]\n",
    "\n",
    "pca_ESs = bond_pca_VaRs(pca_rates_today_future_interpolated, full_interp_transformed_increments, n_days=10, \n",
    "              rates_names=rates.columns, bond_payments=portfolio.payments, percentile=0.01,\n",
    "             include_ES=True)[1]\n",
    "\n",
    "pca_VaRs = pd.Series(pca_VaRs)\n",
    "pca_VaRs.index = bond_prices_tf_pct_change.index\n",
    "\n",
    "pca_ESs = pd.Series(pca_ESs)\n",
    "pca_ESs.index = bond_prices_tf_pct_change.index"
   ]
  },
  {
   "cell_type": "code",
   "execution_count": 42,
   "metadata": {},
   "outputs": [
    {
     "data": {
      "image/png": "[encoded data removed]",
      "text/plain": [
       "<Figure size 1080x540 with 1 Axes>"
      ]
     },
     "metadata": {
      "needs_background": "light"
     },
     "output_type": "display_data"
    }
   ],
   "source": [
    "plt.figure(figsize=(15,7.5))\n",
    "pca_VaRs.plot(lw=2)\n",
    "pca_ESs.plot(lw=2)\n",
    "plt.vlines(bond_prices_tf_pct_change.index, ymax=list(bond_prices_tf_pct_change), ymin = 0, colors='b')\n",
    "\n",
    "plt.title('Model Method (PCA)')\n",
    "plt.legend(['10-days VaR', '10-days ES', '10-days bond price change'], loc=1, fontsize=10);"
   ]
  },
  {
   "cell_type": "markdown",
   "metadata": {},
   "source": [
    "# 5. Учет валютного риска"
   ]
  },
  {
   "cell_type": "code",
   "execution_count": 43,
   "metadata": {},
   "outputs": [
    {
     "data": {
      "text/html": [
       "<div>\n",
       "<style scoped>\n",
       "    .dataframe tbody tr th:only-of-type {\n",
       "        vertical-align: middle;\n",
       "    }\n",
       "\n",
       "    .dataframe tbody tr th {\n",
       "        vertical-align: top;\n",
       "    }\n",
       "\n",
       "    .dataframe thead th {\n",
       "        text-align: right;\n",
       "    }\n",
       "</style>\n",
       "<table border=\"1\" class=\"dataframe\">\n",
       "  <thead>\n",
       "    <tr style=\"text-align: right;\">\n",
       "      <th></th>\n",
       "      <th>RUBGBP</th>\n",
       "    </tr>\n",
       "    <tr>\n",
       "      <th>Date</th>\n",
       "      <th></th>\n",
       "    </tr>\n",
       "  </thead>\n",
       "  <tbody>\n",
       "    <tr>\n",
       "      <th>2009-07-01</th>\n",
       "      <td>1.9526</td>\n",
       "    </tr>\n",
       "    <tr>\n",
       "      <th>2009-07-02</th>\n",
       "      <td>1.9635</td>\n",
       "    </tr>\n",
       "    <tr>\n",
       "      <th>2009-07-03</th>\n",
       "      <td>1.9543</td>\n",
       "    </tr>\n",
       "    <tr>\n",
       "      <th>2009-07-06</th>\n",
       "      <td>1.9701</td>\n",
       "    </tr>\n",
       "    <tr>\n",
       "      <th>2009-07-07</th>\n",
       "      <td>1.9598</td>\n",
       "    </tr>\n",
       "  </tbody>\n",
       "</table>\n",
       "</div>"
      ],
      "text/plain": [
       "            RUBGBP\n",
       "Date              \n",
       "2009-07-01  1.9526\n",
       "2009-07-02  1.9635\n",
       "2009-07-03  1.9543\n",
       "2009-07-06  1.9701\n",
       "2009-07-07  1.9598"
      ]
     },
     "execution_count": 43,
     "metadata": {},
     "output_type": "execute_result"
    }
   ],
   "source": [
    "exchange = pd.read_csv('rubgbp.csv', parse_dates=['Date'], index_col='Date')\n",
    "exchange.columns = ['RUBGBP']\n",
    "exchange.head() # фунтов за 100 рублей"
   ]
  },
  {
   "cell_type": "code",
   "execution_count": 45,
   "metadata": {
    "collapsed": true
   },
   "outputs": [],
   "source": [
    "exchange_today_future = exchange[exchange.index.isin(pca_rates_today_future_interpolated.index)]\n",
    "# только совпадающие даты в будущем\n",
    "\n",
    "pca_exchange_rates = pd.concat([exchange, rates], axis=1).fillna(method='ffill') # заполним пропуски предыд. знач.\n",
    "\n",
    "pca_exchange_rates_history_today = pca_exchange_rates[pca_exchange_rates.index <= today_date]\n",
    "pca_exchange_rates_today_future = pca_exchange_rates[pca_exchange_rates.index >= today_date]\n",
    "\n",
    "pca_exchange_today_future = exchange[exchange.index >= today_date]\n",
    "\n",
    "exchange_log_returns = np.log(exchange/exchange.shift(n_days))[n_days:]\n",
    "\n",
    "pca_diff_exchange_rates = pd.concat([exchange_log_returns, pca_diff_rates],\n",
    "                                    axis=1).fillna(method='ffill') # заполним пропуски предыд. знач.\n",
    "\n",
    "pca_diff_exchange_rates_history_today = pca_diff_exchange_rates[pca_diff_exchange_rates.index <= today_date]\n",
    "pca_diff_exchange_rates_today_future = pca_diff_exchange_rates[pca_diff_exchange_rates.index >= today_date]\n",
    "\n",
    "full_transformed_increments_exchange = PCA_transformation(pca_diff_exchange_rates_history_today)[0]\n",
    "\n",
    "RUBGBP_transformed = full_transformed_increments_exchange['RUBGBP']\n",
    "\n",
    "full_interp_transformed_increments_only_rates = interpolate_df_rates(\n",
    "    pd.DataFrame(full_transformed_increments_exchange).drop('RUBGBP', axis=1))\n",
    "\n",
    "full_interp_transformed_increments_exchange = \\\n",
    "pd.concat([RUBGBP_transformed, full_interp_transformed_increments_only_rates], axis=1)\n",
    "# это матрица сценариев инкрементов на 10 дней, \n",
    "#которую применяем ко всем ставкам\n",
    "\n",
    "# берем только совпадающие даты\n",
    "pca_rates_tf_interp_forex = pca_rates_today_future_interpolated[pca_rates_today_future_interpolated.index.isin(\n",
    "    exchange_today_future.index)]\n",
    "\n",
    "bond_prices_tf_pct_change_forex = bond_prices_tf_pct_change[bond_prices_tf_pct_change.index.isin(\n",
    "    exchange_today_future.index)]"
   ]
  },
  {
   "cell_type": "code",
   "execution_count": 52,
   "metadata": {
    "collapsed": true
   },
   "outputs": [],
   "source": [
    "pca_cur_VaRs = []\n",
    "pca_cur_ESs = []\n",
    "\n",
    "for i in range(pca_rates_tf_interp_forex.shape[0]-n_days):\n",
    "    \n",
    "    # сценарии валютного курса через 10 дней\n",
    "    \n",
    "    exchange_scenario = ((np.exp(np.array(RUBGBP_transformed)) * np.array(exchange_today_future.iloc[i]))/100)\n",
    "    \n",
    "    # цена бонда на сегодня\n",
    "    today_price = float((np.exp(-(np.array(pca_rates_tf_interp_forex.iloc[i])/100)\\\n",
    "                                                            *np.array(list(rates.columns))))\\\n",
    "                                                            @ portfolio.payments\\\n",
    "                                                            * np.array(exchange_today_future.iloc[i])/100)\n",
    "\n",
    "    # сценарии ставок через 10 дней\n",
    "    rates_scenario = np.tile(pca_rates_tf_interp_forex.iloc[i],\n",
    "                             (full_interp_transformed_increments_only_rates.shape[0],1))\\\n",
    "    + full_interp_transformed_increments_only_rates \n",
    "    \n",
    "    scenario_bond_prices = np.exp(-(np.array(rates_scenario)/100)*np.array(list(rates.columns)))\\\n",
    "                                                                            @ portfolio.payments\n",
    "    \n",
    "    scenario_bond_cur_prices = scenario_bond_prices * exchange_scenario\n",
    "    \n",
    "    quantile_price = float(sorted(scenario_bond_cur_prices)[int(1000*0.01 - 1)])\n",
    "    quantile_expected_price = float(np.mean(sorted(scenario_bond_cur_prices)[:int(1000*0.01)]))\n",
    "    \n",
    "    quantile_loss = (quantile_price - today_price)/today_price\n",
    "    pca_cur_VaRs.append(quantile_loss) # получаем VaR\n",
    "    \n",
    "    quantile_expected_loss = (quantile_expected_price - today_price)/today_price\n",
    "    pca_cur_ESs.append(quantile_expected_loss) # получаем ES\n",
    "\n",
    "pca_cur_VaRs = pd.Series(pca_cur_VaRs)\n",
    "pca_cur_VaRs.index = bond_prices_tf_pct_change_forex.index\n",
    "\n",
    "pca_cur_ESs = pd.Series(pca_cur_ESs)\n",
    "pca_cur_ESs.index = bond_prices_tf_pct_change_forex.index"
   ]
  },
  {
   "cell_type": "code",
   "execution_count": 54,
   "metadata": {},
   "outputs": [
    {
     "data": {
      "image/png": "[encoded data removed]",
      "text/plain": [
       "<Figure size 1080x540 with 1 Axes>"
      ]
     },
     "metadata": {
      "needs_background": "light"
     },
     "output_type": "display_data"
    }
   ],
   "source": [
    "plt.figure(figsize=(15,7.5))\n",
    "pca_cur_VaRs.plot(lw=2)\n",
    "pca_cur_ESs.plot(lw=2)\n",
    "plt.vlines(bond_prices_tf_pct_change_forex.index, ymax=list(bond_prices_tf_pct_change_forex), ymin = 0, colors='b')\n",
    "\n",
    "plt.title('Model Method (PCA) with Currency Risk')\n",
    "plt.legend(['10-days VaR', '10-days ES', '10-days bond price change'], loc=1, fontsize=10);"
   ]
  },
  {
   "cell_type": "markdown",
   "metadata": {},
   "source": [
    "# 6. Backtesting"
   ]
  },
  {
   "cell_type": "markdown",
   "metadata": {},
   "source": [
    "## Подпортфель акций"
   ]
  },
  {
   "cell_type": "markdown",
   "metadata": {},
   "source": [
    "Найдем доходности портфеля, на которых будем проводить бэктестинг."
   ]
  },
  {
   "cell_type": "code",
   "execution_count": 55,
   "metadata": {
    "collapsed": true
   },
   "outputs": [],
   "source": [
    "p_weights = np.array([0.1, 0.1, 0.1, 0.1, 0.175, 0.175, 0.125, 0.125])\n",
    "historic_stock_log_returns = (daily_log_returns@p_weights.T)[daily_log_returns.index[252]:daily_log_returns.index[504]]"
   ]
  },
  {
   "cell_type": "markdown",
   "metadata": {},
   "source": [
    "### Дельта-нормальный метод"
   ]
  },
  {
   "cell_type": "code",
   "execution_count": 56,
   "metadata": {
    "collapsed": true
   },
   "outputs": [],
   "source": [
    "p_weights = np.array([0.1, 0.1, 0.1, 0.1, 0.175, 0.175, 0.125, 0.125])\n",
    "return_period = 10\n",
    "alpha = 0.01\n",
    "\n",
    "VaR_delta_norm_backtesting = [ -delta_norm_stock_VaR_ES(daily_log_returns.index[i], \n",
    "                                                        daily_log_returns.index[i] + dt.timedelta(days = 363), \n",
    "                               p_weights, alpha, return_period = 1)[0] for i in range(historic_stock_log_returns.shape[0])]\n",
    "ES_delta_norm_backtesting = [ -delta_norm_stock_VaR_ES(daily_log_returns.index[i], \n",
    "                                                        daily_log_returns.index[i] + dt.timedelta(days = 363), \n",
    "                               p_weights, alpha, return_period = 1)[1] for i in range(historic_stock_log_returns.shape[0])];\n",
    "\n",
    "VaR_delta_norm_backtesting = pd.Series(VaR_delta_norm_backtesting, pd.to_datetime(historic_stock_log_returns.index))\n",
    "ES_delta_norm_backtesting = pd.Series(ES_delta_norm_backtesting, pd.to_datetime(historic_stock_log_returns.index))"
   ]
  },
  {
   "cell_type": "code",
   "execution_count": 57,
   "metadata": {},
   "outputs": [
    {
     "name": "stdout",
     "output_type": "stream",
     "text": [
      "Количество пробитий: 0\n"
     ]
    },
    {
     "data": {
      "image/png": "[encoded data removed]",
      "text/plain": [
       "<Figure size 1080x540 with 1 Axes>"
      ]
     },
     "metadata": {
      "needs_background": "light"
     },
     "output_type": "display_data"
    }
   ],
   "source": [
    "plt.figure(figsize=(15,7.5))\n",
    "\n",
    "plt.plot(VaR_delta_norm_backtesting);\n",
    "plt.plot(ES_delta_norm_backtesting);\n",
    "plt.vlines(historic_stock_log_returns.index, ymax=list(historic_stock_log_returns), ymin = 0, colors='b')\n",
    "plt.legend(['VaR_250d_history', 'ES_250d_history', '1-day returns'])\n",
    "plt.title('Delta-normal Backtesting');\n",
    "print(\"Количество пробитий:\", (historic_stock_log_returns < VaR_delta_norm_backtesting).sum())"
   ]
  },
  {
   "cell_type": "markdown",
   "metadata": {},
   "source": [
    "### Historical simulation"
   ]
  },
  {
   "cell_type": "code",
   "execution_count": 58,
   "metadata": {
    "collapsed": true
   },
   "outputs": [],
   "source": [
    "historics_stock_1_day_returns = (day_1_returns@p_weights.T)[day_1_returns.index[252]:day_1_returns.index[504]]"
   ]
  },
  {
   "cell_type": "code",
   "execution_count": 59,
   "metadata": {
    "collapsed": true
   },
   "outputs": [],
   "source": [
    "p_weights = np.array([0.1, 0.1, 0.1, 0.1, 0.175, 0.175, 0.125, 0.125])\n",
    "alpha = 0.01\n",
    "\n",
    "VaR_historical_backtesting = [ -historical_stock_VaR_ES(day_1_returns.index[i], \n",
    "                                                        day_1_returns.index[i] + dt.timedelta(days = 363), \n",
    "                               p_weights, alpha, returns = day_1_returns)[0] for i in range(historics_stock_1_day_returns.shape[0])]\n",
    "ES_historical_backtesting = [ -historical_stock_VaR_ES(day_1_returns.index[i], \n",
    "                                                        day_1_returns.index[i] + dt.timedelta(days = 363), \n",
    "                               p_weights, alpha, returns = day_1_returns)[1] for i in range(historics_stock_1_day_returns.shape[0])]\n",
    "\n",
    "VaR_historical_backtesting = pd.Series(VaR_historical_backtesting, pd.to_datetime(historics_stock_1_day_returns.index))\n",
    "ES_historical_backtesting = pd.Series(ES_historical_backtesting, pd.to_datetime(historics_stock_1_day_returns.index))"
   ]
  },
  {
   "cell_type": "code",
   "execution_count": 60,
   "metadata": {},
   "outputs": [
    {
     "name": "stdout",
     "output_type": "stream",
     "text": [
      "Количество пробитий: 0\n"
     ]
    },
    {
     "data": {
      "image/png": "[encoded data removed]",
      "text/plain": [
       "<Figure size 1080x540 with 1 Axes>"
      ]
     },
     "metadata": {
      "needs_background": "light"
     },
     "output_type": "display_data"
    }
   ],
   "source": [
    "plt.figure(figsize=(15,7.5))\n",
    "\n",
    "plt.plot(VaR_historical_backtesting)\n",
    "plt.plot(ES_historical_backtesting)\n",
    "plt.vlines(historics_stock_1_day_returns.index, ymax=list(historics_stock_1_day_returns), ymin = 0, colors='b')\n",
    "plt.legend(['VaR_250d_history', 'ES_250d_history', '1-day returns'])\n",
    "plt.title('Historical Simulation Backtesting');\n",
    "print(\"Количество пробитий:\", (historics_stock_1_day_returns < VaR_historical_backtesting).sum())"
   ]
  },
  {
   "cell_type": "markdown",
   "metadata": {},
   "source": [
    "## Подпортфель облигаций"
   ]
  },
  {
   "cell_type": "markdown",
   "metadata": {},
   "source": [
    "### Дельта-нормальный метод"
   ]
  },
  {
   "cell_type": "code",
   "execution_count": 61,
   "metadata": {
    "collapsed": true
   },
   "outputs": [],
   "source": [
    "new_today_date = '2010-07-01'"
   ]
  },
  {
   "cell_type": "code",
   "execution_count": 62,
   "metadata": {
    "collapsed": true
   },
   "outputs": [],
   "source": [
    "diff_rates = rates.diff()[1:]\n",
    "historic_diff_rates = diff_rates[diff_rates.index <= new_today_date]\n",
    "\n",
    "max_increments = diff_rates.max(axis=1)\n",
    "historic_max_increments = historic_diff_rates.max(axis=1)"
   ]
  },
  {
   "cell_type": "code",
   "execution_count": 63,
   "metadata": {},
   "outputs": [
    {
     "name": "stdout",
     "output_type": "stream",
     "text": [
      "Null hypothesis of normality is rejected.\n"
     ]
    }
   ],
   "source": [
    "p_value = stats.shapiro(max_increments_history_today)[1]\n",
    "if p_value <= 0.01:\n",
    "    print(\"Null hypothesis of normality is rejected.\")\n",
    "else:\n",
    "    print(\"Null hypothesis of normality is accepted.\")"
   ]
  },
  {
   "cell_type": "code",
   "execution_count": 64,
   "metadata": {
    "collapsed": true
   },
   "outputs": [],
   "source": [
    "min_obs_backtest = len(max_increments[max_increments.index <= new_today_date])\n",
    "\n",
    "backtest_max_increment_means = max_increments[max_increments.index < today_date\n",
    "                                             ].expanding(min_obs_backtest).mean().dropna()[:-1]\n",
    "backtest_max_increment_means.index = rates[(rates.index > new_today_date)&\n",
    "                                           (rates.index < today_date)].index # дата - дата прогнозирования бонда\n",
    "\n",
    "backtest_max_increment_stds = max_increments[max_increments.index < today_date].expanding(min_obs_backtest).std().dropna()[:-1]\n",
    "backtest_max_increment_stds.index = rates[(rates.index > new_today_date) & (rates.index < today_date)].index\n",
    "\n",
    "backtest_quantiles = backtest_max_increment_means + backtest_max_increment_stds*z_crit\n",
    "\n",
    "backtest_durations = duration(portfolio, rates)[(duration(portfolio, rates).index >=backtest_quantiles.index[0])\n",
    "                                               & (duration(portfolio, rates).index < today_date)]\n",
    "\n",
    "VaRs_1day_backtest = -(backtest_durations*backtest_quantiles/100)\n",
    "# Date - дата построения прогноза!\n",
    "\n",
    "bond_prices = np.sum(DCF, axis=1)\n",
    "\n",
    "backtest_bond_prices = bond_prices[(bond_prices.index >= new_today_date) & (bond_prices.index < today_date)]\n",
    "backtest_bond_prices_pct_change = backtest_bond_prices.pct_change(periods=1).dropna()"
   ]
  },
  {
   "cell_type": "code",
   "execution_count": 65,
   "metadata": {},
   "outputs": [
    {
     "data": {
      "image/png": "[encoded data removed]",
      "text/plain": [
       "<Figure size 1080x504 with 1 Axes>"
      ]
     },
     "metadata": {
      "needs_background": "light"
     },
     "output_type": "display_data"
    }
   ],
   "source": [
    "plt.figure(figsize=(15, 7))\n",
    "VaRs_1day_backtest.plot(lw=2)\n",
    "plt.vlines(backtest_bond_prices_pct_change.index, ymax=list(backtest_bond_prices_pct_change), ymin = 0, colors='b')\n",
    "\n",
    "plt.title('Delta-normal Backtesting')\n",
    "plt.legend(['1-day VaR', '1-day bond price change'], loc=1);"
   ]
  },
  {
   "cell_type": "markdown",
   "metadata": {},
   "source": [
    "### Модельный VaR"
   ]
  },
  {
   "cell_type": "code",
   "execution_count": 66,
   "metadata": {
    "collapsed": true
   },
   "outputs": [],
   "source": [
    "historic_pca_rates = pca_rates[pca_rates.index <= new_today_date]\n",
    "backtest_pca_rates = pca_rates[(pca_rates.index >= new_today_date) & (pca_rates.index < today_date)]\n",
    "\n",
    "pca_diff_rates_1d = pca_rates.diff(periods=1).dropna()\n",
    "historic_pca_diff_rates = pca_diff_rates_1d[pca_diff_rates_1d.index <= new_today_date]"
   ]
  },
  {
   "cell_type": "code",
   "execution_count": 67,
   "metadata": {},
   "outputs": [
    {
     "data": {
      "text/plain": [
       "0.50    -0.164255\n",
       "1.00    -0.173570\n",
       "2.00    -0.160601\n",
       "3.00    -0.147097\n",
       "5.00    -0.122729\n",
       "7.00    -0.107174\n",
       "10.00   -0.099407\n",
       "15.00   -0.096216\n",
       "dtype: float64"
      ]
     },
     "execution_count": 67,
     "metadata": {},
     "output_type": "execute_result"
    }
   ],
   "source": [
    "historic_pca_diff_rates.mean()/historic_pca_diff_rates.std()"
   ]
  },
  {
   "cell_type": "code",
   "execution_count": 68,
   "metadata": {
    "collapsed": true,
    "scrolled": true
   },
   "outputs": [],
   "source": [
    "full_transformed_increments_backtest = PCA_transformation(historic_pca_diff_rates)[0]"
   ]
  },
  {
   "cell_type": "code",
   "execution_count": 69,
   "metadata": {
    "collapsed": true
   },
   "outputs": [],
   "source": [
    "backtest_interp_transformed_increments = interpolate_df_rates(pd.DataFrame(full_transformed_increments_backtest))\n",
    "# это матрица сценариев инкрементов на 10 дней, \n",
    "#которую применяем ко всем ставкам"
   ]
  },
  {
   "cell_type": "code",
   "execution_count": 70,
   "metadata": {
    "collapsed": true
   },
   "outputs": [],
   "source": [
    "backtest_pca_rates_interpolated = interpolate_df_rates(backtest_pca_rates)"
   ]
  },
  {
   "cell_type": "code",
   "execution_count": 71,
   "metadata": {
    "collapsed": true
   },
   "outputs": [],
   "source": [
    "pca_VaRs_backtest = bond_pca_VaRs(backtest_pca_rates_interpolated, backtest_interp_transformed_increments,\n",
    "                                    n_days=1, rates_names=rates.columns, bond_payments=portfolio.payments)"
   ]
  },
  {
   "cell_type": "code",
   "execution_count": 72,
   "metadata": {
    "collapsed": true
   },
   "outputs": [],
   "source": [
    "pca_VaRs_backtest = pd.Series(pca_VaRs_backtest)\n",
    "pca_VaRs_backtest.index = backtest_bond_prices_pct_change.index"
   ]
  },
  {
   "cell_type": "code",
   "execution_count": 73,
   "metadata": {},
   "outputs": [
    {
     "data": {
      "image/png": "[encoded data removed]",
      "text/plain": [
       "<Figure size 1080x504 with 1 Axes>"
      ]
     },
     "metadata": {
      "needs_background": "light"
     },
     "output_type": "display_data"
    }
   ],
   "source": [
    "plt.figure(figsize=(15, 7))\n",
    "pca_VaRs_backtest.plot(lw=2)\n",
    "plt.vlines(backtest_bond_prices_pct_change.index, ymax=list(backtest_bond_prices_pct_change), ymin = 0, colors='b')\n",
    "\n",
    "plt.title('Model VaR (PCA) Backtesting')\n",
    "plt.legend(['1-day VaR', '1-day bond price change'], loc=1);"
   ]
  },
  {
   "cell_type": "markdown",
   "metadata": {},
   "source": [
    "## Портфель"
   ]
  },
  {
   "cell_type": "code",
   "execution_count": 74,
   "metadata": {},
   "outputs": [],
   "source": [
    "portfolio_VaR = pd.concat([VaR_historical_backtesting, pca_VaRs_backtest], axis=1)\n",
    "portfolio_VaR = portfolio_VaR.interpolate(axis = 0)\n",
    "portfolio_VaR = portfolio_VaR[1:]\n",
    "\n",
    "portfolio_returns = pd.concat([backtest_bond_prices_pct_change, historics_stock_1_day_returns], axis=1)\n",
    "portfolio_returns = portfolio_returns.interpolate(axis = 0)\n",
    "portfolio_returns = portfolio_returns[1:]"
   ]
  },
  {
   "cell_type": "code",
   "execution_count": 75,
   "metadata": {},
   "outputs": [
    {
     "data": {
      "image/png": "[encoded data removed]",
      "text/plain": [
       "<Figure size 1080x540 with 1 Axes>"
      ]
     },
     "metadata": {
      "needs_background": "light"
     },
     "output_type": "display_data"
    }
   ],
   "source": [
    "plt.figure(figsize=(15,7.5))\n",
    "plt.vlines(portfolio_returns.index, ymax=list(portfolio_returns@np.array([0.4, 0.6])), ymin = 0, colors='b')\n",
    "plt.plot(portfolio_VaR@np.array([0.4, 0.6]));"
   ]
  },
  {
   "cell_type": "markdown",
   "metadata": {},
   "source": [
    "# 7. Задача c лимитом"
   ]
  },
  {
   "cell_type": "markdown",
   "metadata": {},
   "source": [
    "Задача не еще решена."
   ]
  },
  {
   "cell_type": "markdown",
   "metadata": {},
   "source": [
    "Ниже просто пример нахождения оптимальных весов в портфеле акций."
   ]
  },
  {
   "cell_type": "code",
   "execution_count": 76,
   "metadata": {
    "collapsed": true
   },
   "outputs": [],
   "source": [
    "from scipy.optimize import minimize"
   ]
  },
  {
   "cell_type": "code",
   "execution_count": 77,
   "metadata": {
    "collapsed": true
   },
   "outputs": [],
   "source": [
    "w = p_weights"
   ]
  },
  {
   "cell_type": "code",
   "execution_count": 78,
   "metadata": {},
   "outputs": [
    {
     "name": "stdout",
     "output_type": "stream",
     "text": [
      "Optimization terminated successfully.\n",
      "         Current function value: 0.000000\n",
      "         Iterations: 42\n",
      "         Function evaluations: 510\n",
      "         Gradient evaluations: 51\n",
      "[-0.01564455  0.01271126 -0.00095754 -0.02195348 -0.00106601  0.00099739\n",
      "  0.0057966   0.00974052]\n"
     ]
    },
    {
     "name": "stderr",
     "output_type": "stream",
     "text": [
      "/Users/andrey_lukyanov/anaconda3/lib/python3.6/site-packages/scipy/optimize/_minimize.py:518: RuntimeWarning: Method BFGS cannot handle constraints nor bounds.\n",
      "  RuntimeWarning)\n"
     ]
    }
   ],
   "source": [
    "def loss(w, returns = daily_log_returns):\n",
    "    cov = np.array(returns.cov())\n",
    "    return w@cov@w\n",
    "\n",
    "cons = ({'type': 'eq', 'fun' : lambda w: np.sum(w) - 1.0},\n",
    "        {'type': 'ineq', 'fun' : lambda w: w[0]},\n",
    "        {'type': 'ineq', 'fun' : lambda w: w[1]},\n",
    "        {'type': 'ineq', 'fun' : lambda w: w[2]},\n",
    "        {'type': 'ineq', 'fun' : lambda w: w[3]},\n",
    "        {'type': 'ineq', 'fun' : lambda w: w[4]},\n",
    "        {'type': 'ineq', 'fun' : lambda w: w[5]},\n",
    "        {'type': 'ineq', 'fun' : lambda w: w[6]},\n",
    "        {'type': 'ineq', 'fun' : lambda w: w[7]})\n",
    "\n",
    "w0 = np.random.rand(w.shape[0])\n",
    "res = minimize(loss, w0, method='BFGS', constraints=cons,\n",
    "               bounds=[(0, np.inf) for i in range(w.shape[0])], options={'disp': True},)\n",
    "\n",
    "print(res.x)"
   ]
  },
  {
   "cell_type": "code",
   "execution_count": null,
   "metadata": {
    "collapsed": true
   },
   "outputs": [],
   "source": []
  }
 ],
 "metadata": {
  "kernelspec": {
   "display_name": "Python 3",
   "language": "python",
   "name": "python3"
  },
  "language_info": {
   "codemirror_mode": {
    "name": "ipython",
    "version": 3
   },
   "file_extension": ".py",
   "mimetype": "text/x-python",
   "name": "python",
   "nbconvert_exporter": "python",
   "pygments_lexer": "ipython3",
   "version": "3.6.6"
  }
 },
 "nbformat": 4,
 "nbformat_minor": 2
}
