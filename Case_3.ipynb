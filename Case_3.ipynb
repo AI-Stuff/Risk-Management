{
 "cells": [
  {
   "cell_type": "code",
   "execution_count": 1,
   "metadata": {
    "collapsed": true
   },
   "outputs": [],
   "source": [
    "from rm_case_3 import * # for data transformation\n",
    "%matplotlib inline"
   ]
  },
  {
   "cell_type": "code",
   "execution_count": 2,
   "metadata": {},
   "outputs": [
    {
     "data": {
      "text/html": [
       "<div>\n",
       "<style scoped>\n",
       "    .dataframe tbody tr th:only-of-type {\n",
       "        vertical-align: middle;\n",
       "    }\n",
       "\n",
       "    .dataframe tbody tr th {\n",
       "        vertical-align: top;\n",
       "    }\n",
       "\n",
       "    .dataframe thead th {\n",
       "        text-align: right;\n",
       "    }\n",
       "</style>\n",
       "<table border=\"1\" class=\"dataframe\">\n",
       "  <thead>\n",
       "    <tr style=\"text-align: right;\">\n",
       "      <th></th>\n",
       "      <th>object</th>\n",
       "      <th>date</th>\n",
       "      <th>rating</th>\n",
       "      <th>type</th>\n",
       "    </tr>\n",
       "  </thead>\n",
       "  <tbody>\n",
       "    <tr>\n",
       "      <th>0</th>\n",
       "      <td>1</td>\n",
       "      <td>2012-07-01</td>\n",
       "      <td>E1</td>\n",
       "      <td>0</td>\n",
       "    </tr>\n",
       "    <tr>\n",
       "      <th>1</th>\n",
       "      <td>2</td>\n",
       "      <td>2012-07-01</td>\n",
       "      <td>E1</td>\n",
       "      <td>0</td>\n",
       "    </tr>\n",
       "    <tr>\n",
       "      <th>2</th>\n",
       "      <td>3</td>\n",
       "      <td>2012-07-01</td>\n",
       "      <td>E1</td>\n",
       "      <td>0</td>\n",
       "    </tr>\n",
       "    <tr>\n",
       "      <th>3</th>\n",
       "      <td>4</td>\n",
       "      <td>2012-07-01</td>\n",
       "      <td>E1</td>\n",
       "      <td>0</td>\n",
       "    </tr>\n",
       "    <tr>\n",
       "      <th>4</th>\n",
       "      <td>5</td>\n",
       "      <td>2012-07-01</td>\n",
       "      <td>E1</td>\n",
       "      <td>0</td>\n",
       "    </tr>\n",
       "  </tbody>\n",
       "</table>\n",
       "</div>"
      ],
      "text/plain": [
       "   object       date rating  type\n",
       "0       1 2012-07-01     E1     0\n",
       "1       2 2012-07-01     E1     0\n",
       "2       3 2012-07-01     E1     0\n",
       "3       4 2012-07-01     E1     0\n",
       "4       5 2012-07-01     E1     0"
      ]
     },
     "execution_count": 2,
     "metadata": {},
     "output_type": "execute_result"
    }
   ],
   "source": [
    "data.head()"
   ]
  },
  {
   "cell_type": "markdown",
   "metadata": {},
   "source": [
    "# 1. Введение"
   ]
  },
  {
   "cell_type": "code",
   "execution_count": 3,
   "metadata": {},
   "outputs": [
    {
     "data": {
      "text/plain": [
       "array([0, 1, 2, 3, 4])"
      ]
     },
     "execution_count": 3,
     "metadata": {},
     "output_type": "execute_result"
    }
   ],
   "source": [
    "data['type'].unique()"
   ]
  },
  {
   "cell_type": "markdown",
   "metadata": {},
   "source": [
    "Types:    \n",
    "1) contract expiration   \n",
    "2) client broke the contract    \n",
    "3) debt maturity    \n",
    "4) M&A/liquidation    "
   ]
  },
  {
   "cell_type": "markdown",
   "metadata": {},
   "source": [
    "## Определение события прекращения рейтингования      \n",
    "Мы используем следующий подход к отзыву рейтингов:     \n",
    "1. Если у объекта закончился контракт с рейтинговым агенством, либо он сам его разорвал, и если рейтингование продолжилось до конца окна исследования, такое наблюдение можно считать непрерванным и учесть как результат \"эксперимента\".    \n",
    "2. Если же у объекта истек срок долга или же он был поглощен другой компанией, новый рейтинг агента нельзя считать рейтингом старого объекта, так как объект теперь совершенно новый. Такой объект мы не рассматриваем в рамках окна.   "
   ]
  },
  {
   "cell_type": "markdown",
   "metadata": {},
   "source": [
    "# 2. ROC and CAP"
   ]
  },
  {
   "cell_type": "code",
   "execution_count": 4,
   "metadata": {
    "collapsed": true
   },
   "outputs": [],
   "source": [
    "year_1_starts, year_1_migration_matrix = build_migration_matrix(start_date = dt.datetime(day = 1, month = 7, year = 2012),\n",
    "                                                                end_date = dt.datetime(day = 1, month = 7, year = 2013))\n",
    "\n",
    "year_2_starts, year_2_migration_matrix = build_migration_matrix(start_date = dt.datetime(day = 1, month = 7, year = 2013),\n",
    "                                                                end_date = dt.datetime(day = 1, month = 7, year = 2014))\n",
    "\n",
    "year_3_starts, year_3_migration_matrix = build_migration_matrix(start_date = dt.datetime(day = 1, month = 7, year = 2014),\n",
    "                                                                end_date = dt.datetime(day = 1, month = 7, year = 2015))\n",
    "\n",
    "year_4_starts, year_4_migration_matrix = build_migration_matrix(start_date = dt.datetime(day = 1, month = 7, year = 2015),\n",
    "                                                                end_date = dt.datetime(day = 1, month = 7, year = 2016))\n",
    "\n",
    "year_5_starts, year_5_migration_matrix = build_migration_matrix(start_date = dt.datetime(day = 30, month = 6, year = 2016),\n",
    "                                                                end_date = dt.datetime(day = 30, month = 6, year = 2017))"
   ]
  },
  {
   "cell_type": "code",
   "execution_count": 5,
   "metadata": {},
   "outputs": [
    {
     "data": {
      "text/html": [
       "<div>\n",
       "<style scoped>\n",
       "    .dataframe tbody tr th:only-of-type {\n",
       "        vertical-align: middle;\n",
       "    }\n",
       "\n",
       "    .dataframe tbody tr th {\n",
       "        vertical-align: top;\n",
       "    }\n",
       "\n",
       "    .dataframe thead th {\n",
       "        text-align: right;\n",
       "    }\n",
       "</style>\n",
       "<table border=\"1\" class=\"dataframe\">\n",
       "  <thead>\n",
       "    <tr style=\"text-align: right;\">\n",
       "      <th></th>\n",
       "      <th>E1</th>\n",
       "      <th>E2</th>\n",
       "      <th>E3</th>\n",
       "      <th>E4</th>\n",
       "      <th>E5</th>\n",
       "      <th>E6</th>\n",
       "      <th>E7</th>\n",
       "      <th>E8</th>\n",
       "      <th>D</th>\n",
       "    </tr>\n",
       "  </thead>\n",
       "  <tbody>\n",
       "    <tr>\n",
       "      <th>E1</th>\n",
       "      <td>59.0</td>\n",
       "      <td>1.0</td>\n",
       "      <td>0.0</td>\n",
       "      <td>0.0</td>\n",
       "      <td>0.0</td>\n",
       "      <td>0.0</td>\n",
       "      <td>0.0</td>\n",
       "      <td>0.0</td>\n",
       "      <td>0.0</td>\n",
       "    </tr>\n",
       "    <tr>\n",
       "      <th>E2</th>\n",
       "      <td>0.0</td>\n",
       "      <td>84.0</td>\n",
       "      <td>1.0</td>\n",
       "      <td>1.0</td>\n",
       "      <td>0.0</td>\n",
       "      <td>0.0</td>\n",
       "      <td>0.0</td>\n",
       "      <td>0.0</td>\n",
       "      <td>2.0</td>\n",
       "    </tr>\n",
       "    <tr>\n",
       "      <th>E3</th>\n",
       "      <td>3.0</td>\n",
       "      <td>4.0</td>\n",
       "      <td>106.0</td>\n",
       "      <td>3.0</td>\n",
       "      <td>6.0</td>\n",
       "      <td>1.0</td>\n",
       "      <td>0.0</td>\n",
       "      <td>0.0</td>\n",
       "      <td>5.0</td>\n",
       "    </tr>\n",
       "    <tr>\n",
       "      <th>E4</th>\n",
       "      <td>2.0</td>\n",
       "      <td>5.0</td>\n",
       "      <td>5.0</td>\n",
       "      <td>132.0</td>\n",
       "      <td>2.0</td>\n",
       "      <td>2.0</td>\n",
       "      <td>1.0</td>\n",
       "      <td>1.0</td>\n",
       "      <td>10.0</td>\n",
       "    </tr>\n",
       "    <tr>\n",
       "      <th>E5</th>\n",
       "      <td>0.0</td>\n",
       "      <td>0.0</td>\n",
       "      <td>1.0</td>\n",
       "      <td>4.0</td>\n",
       "      <td>63.0</td>\n",
       "      <td>5.0</td>\n",
       "      <td>5.0</td>\n",
       "      <td>0.0</td>\n",
       "      <td>9.0</td>\n",
       "    </tr>\n",
       "    <tr>\n",
       "      <th>E6</th>\n",
       "      <td>0.0</td>\n",
       "      <td>0.0</td>\n",
       "      <td>2.0</td>\n",
       "      <td>1.0</td>\n",
       "      <td>5.0</td>\n",
       "      <td>49.0</td>\n",
       "      <td>7.0</td>\n",
       "      <td>5.0</td>\n",
       "      <td>9.0</td>\n",
       "    </tr>\n",
       "    <tr>\n",
       "      <th>E7</th>\n",
       "      <td>0.0</td>\n",
       "      <td>1.0</td>\n",
       "      <td>0.0</td>\n",
       "      <td>0.0</td>\n",
       "      <td>3.0</td>\n",
       "      <td>4.0</td>\n",
       "      <td>40.0</td>\n",
       "      <td>9.0</td>\n",
       "      <td>12.0</td>\n",
       "    </tr>\n",
       "    <tr>\n",
       "      <th>E8</th>\n",
       "      <td>0.0</td>\n",
       "      <td>0.0</td>\n",
       "      <td>0.0</td>\n",
       "      <td>0.0</td>\n",
       "      <td>0.0</td>\n",
       "      <td>0.0</td>\n",
       "      <td>1.0</td>\n",
       "      <td>27.0</td>\n",
       "      <td>22.0</td>\n",
       "    </tr>\n",
       "    <tr>\n",
       "      <th>D</th>\n",
       "      <td>0.0</td>\n",
       "      <td>0.0</td>\n",
       "      <td>0.0</td>\n",
       "      <td>0.0</td>\n",
       "      <td>0.0</td>\n",
       "      <td>0.0</td>\n",
       "      <td>0.0</td>\n",
       "      <td>0.0</td>\n",
       "      <td>0.0</td>\n",
       "    </tr>\n",
       "  </tbody>\n",
       "</table>\n",
       "</div>"
      ],
      "text/plain": [
       "      E1    E2     E3     E4    E5    E6    E7    E8     D\n",
       "E1  59.0   1.0    0.0    0.0   0.0   0.0   0.0   0.0   0.0\n",
       "E2   0.0  84.0    1.0    1.0   0.0   0.0   0.0   0.0   2.0\n",
       "E3   3.0   4.0  106.0    3.0   6.0   1.0   0.0   0.0   5.0\n",
       "E4   2.0   5.0    5.0  132.0   2.0   2.0   1.0   1.0  10.0\n",
       "E5   0.0   0.0    1.0    4.0  63.0   5.0   5.0   0.0   9.0\n",
       "E6   0.0   0.0    2.0    1.0   5.0  49.0   7.0   5.0   9.0\n",
       "E7   0.0   1.0    0.0    0.0   3.0   4.0  40.0   9.0  12.0\n",
       "E8   0.0   0.0    0.0    0.0   0.0   0.0   1.0  27.0  22.0\n",
       "D    0.0   0.0    0.0    0.0   0.0   0.0   0.0   0.0   0.0"
      ]
     },
     "execution_count": 5,
     "metadata": {},
     "output_type": "execute_result"
    }
   ],
   "source": [
    "year_1_migration_matrix"
   ]
  },
  {
   "cell_type": "markdown",
   "metadata": {},
   "source": [
    "### CAP Curve"
   ]
  },
  {
   "cell_type": "code",
   "execution_count": 6,
   "metadata": {
    "collapsed": true
   },
   "outputs": [],
   "source": [
    "class CAP_curve:\n",
    "    \n",
    "    def __init__(self, migration_matrix):\n",
    "        self.migration_matrix = migration_matrix\n",
    "        self.default_rates = migration_matrix['D'][::-1].cumsum()/migration_matrix['D'].sum()\n",
    "        self.observation_rates = migration_matrix.sum(axis=1)[::-1].cumsum()/migration_matrix.sum(axis=1).sum()\n",
    "        \n",
    "    def AUC(self):\n",
    "        sums_of_bases = np.array(self.default_rates)[:-1] + np.array(self.default_rates)[1:]\n",
    "        heights = np.diff(np.array(cap_curve_1.observation_rates))\n",
    "        return ((sums_of_bases / 2) * heights).sum()\n",
    "    \n",
    "    def __str__(self):\n",
    "        return 'AUC-CAP: %s' % np.round(self.AUC(), 3)\n",
    "    \n",
    "    def ideal_AUC(self):\n",
    "        return (1 - self.migration_matrix['D'].sum()/self.migration_matrix.sum().sum() + 1)/2 \n",
    "        \n",
    "def plot_CAP(CAP_curve):\n",
    "    \n",
    "    import matplotlib.patches as mpatches\n",
    "    \n",
    "    f = plt.figure(figsize=(10, 5))\n",
    "    plt.title('CAP Curve')\n",
    "    plt.xlabel('Observation Ratio') \n",
    "    plt.ylabel('Defaulters Ratio') \n",
    "    \n",
    "    random_x = np.linspace(0,1,2)\n",
    "    random_y = np.linspace(0,1,2)\n",
    "\n",
    "    ideal_x = np.array([0, CAP_curve.migration_matrix['D'].sum()/CAP_curve.migration_matrix.sum().sum(), 1])\n",
    "    ideal_y = np.array([0, 1, 1])\n",
    "    \n",
    "    plt.plot(random_x, random_y, color='b')\n",
    "    plt.plot(ideal_x, ideal_y, color='r')\n",
    "    plt.plot(CAP_curve.observation_rates, CAP_curve.default_rates, color='g')\n",
    "           \n",
    "    blue_patch = mpatches.Patch(color='blue', label='random model')\n",
    "    red_patch = mpatches.Patch(color='red', label='best model')\n",
    "    green_patch = mpatches.Patch(color='green', label='our model')\n",
    "    \n",
    "    plt.legend(handles=[red_patch, green_patch, blue_patch])\n",
    "    \n",
    "    plt.annotate(str(np.round(CAP_curve.migration_matrix['D'].sum()/CAP_curve.migration_matrix.sum().sum(), 3)), \n",
    "                 (CAP_curve.migration_matrix['D'].sum()/CAP_curve.migration_matrix.sum().sum(), 1),\n",
    "                (CAP_curve.migration_matrix['D'].sum()/CAP_curve.migration_matrix.sum().sum()+0.05, 0.92), size=15);\n",
    "    print(CAP_curve)\n",
    "    print('Ideal AUC-CAP: %s' % np.round(CAP_curve.ideal_AUC(), 3))"
   ]
  },
  {
   "cell_type": "code",
   "execution_count": 7,
   "metadata": {},
   "outputs": [
    {
     "name": "stdout",
     "output_type": "stream",
     "text": [
      "AUC-CAP: 0.747\n",
      "Ideal AUC-CAP: 0.952\n"
     ]
    },
    {
     "data": {
      "image/png": "[encoded data removed]",
      "text/plain": [
       "<Figure size 720x360 with 1 Axes>"
      ]
     },
     "metadata": {
      "needs_background": "light"
     },
     "output_type": "display_data"
    }
   ],
   "source": [
    "cap_curve_1 = CAP_curve(migration_matrix = year_1_migration_matrix)\n",
    "plot_CAP(cap_curve_1)"
   ]
  },
  {
   "cell_type": "code",
   "execution_count": 8,
   "metadata": {},
   "outputs": [
    {
     "name": "stdout",
     "output_type": "stream",
     "text": [
      "AUC-CAP: 0.731\n",
      "Ideal AUC-CAP: 0.942\n"
     ]
    },
    {
     "data": {
      "image/png": "[encoded data removed]",
      "text/plain": [
       "<Figure size 720x360 with 1 Axes>"
      ]
     },
     "metadata": {
      "needs_background": "light"
     },
     "output_type": "display_data"
    }
   ],
   "source": [
    "cap_curve_2 = CAP_curve(migration_matrix = year_2_migration_matrix)\n",
    "plot_CAP(cap_curve_2)"
   ]
  },
  {
   "cell_type": "code",
   "execution_count": 9,
   "metadata": {},
   "outputs": [
    {
     "name": "stdout",
     "output_type": "stream",
     "text": [
      "AUC-CAP: 0.69\n",
      "Ideal AUC-CAP: 0.961\n"
     ]
    },
    {
     "data": {
      "image/png": "[encoded data removed]",
      "text/plain": [
       "<Figure size 720x360 with 1 Axes>"
      ]
     },
     "metadata": {
      "needs_background": "light"
     },
     "output_type": "display_data"
    }
   ],
   "source": [
    "cap_curve_3 = CAP_curve(migration_matrix = year_3_migration_matrix)\n",
    "plot_CAP(cap_curve_3)"
   ]
  },
  {
   "cell_type": "code",
   "execution_count": 10,
   "metadata": {},
   "outputs": [
    {
     "name": "stdout",
     "output_type": "stream",
     "text": [
      "AUC-CAP: 0.792\n",
      "Ideal AUC-CAP: 0.968\n"
     ]
    },
    {
     "data": {
      "image/png": "[encoded data removed]",
      "text/plain": [
       "<Figure size 720x360 with 1 Axes>"
      ]
     },
     "metadata": {
      "needs_background": "light"
     },
     "output_type": "display_data"
    }
   ],
   "source": [
    "cap_curve_4 = CAP_curve(migration_matrix = year_4_migration_matrix)\n",
    "plot_CAP(cap_curve_4)"
   ]
  },
  {
   "cell_type": "code",
   "execution_count": 11,
   "metadata": {},
   "outputs": [
    {
     "name": "stdout",
     "output_type": "stream",
     "text": [
      "AUC-CAP: 0.794\n",
      "Ideal AUC-CAP: 0.986\n"
     ]
    },
    {
     "data": {
      "image/png": "[encoded data removed]",
      "text/plain": [
       "<Figure size 720x360 with 1 Axes>"
      ]
     },
     "metadata": {
      "needs_background": "light"
     },
     "output_type": "display_data"
    }
   ],
   "source": [
    "cap_curve_5 = CAP_curve(migration_matrix = year_5_migration_matrix)\n",
    "plot_CAP(cap_curve_5)"
   ]
  },
  {
   "cell_type": "markdown",
   "metadata": {},
   "source": [
    "### ROC Curve"
   ]
  },
  {
   "cell_type": "code",
   "execution_count": 12,
   "metadata": {
    "collapsed": true
   },
   "outputs": [],
   "source": [
    "class ROC_curve:\n",
    "    \n",
    "    def __init__(self, migration_matrix):\n",
    "        \n",
    "        self.migration_matrix = migration_matrix\n",
    "        \n",
    "        self.defaults = migration_matrix['D'][:-1]\n",
    "        self.survived = migration_matrix.sum(axis=1)[:-1] - migration_matrix['D'][:-1]\n",
    "        \n",
    "        self.TP = np.array(self.survived.cumsum())\n",
    "        self.FN = self.survived.sum() - self.TP\n",
    "        self.TPR = np.append(0, self.TP / (self.TP + self.FN))\n",
    "    \n",
    "        self.FP = self.defaults.cumsum()\n",
    "        self.TN = self.defaults.sum() - self.FP\n",
    "        self.FPR = np.append(0, self.FP / (self.FP + self.TN)) \n",
    "        \n",
    "    def AUC(self):\n",
    "        sums_of_bases = np.array(self.TPR)[:-1] + np.array(self.TPR)[1:]\n",
    "        heights = np.diff(np.array(self.FPR))\n",
    "        return ((sums_of_bases / 2) * heights).sum()\n",
    "    \n",
    "    def __str__(self):\n",
    "        return 'AUC-ROC: %s' % np.round(self.AUC(), 3)\n",
    "        \n",
    "def plot_ROC(ROC_curve):\n",
    "    \n",
    "    import matplotlib.patches as mpatches\n",
    "    \n",
    "    f = plt.figure(figsize=(10, 5))\n",
    "    plt.title('ROC Curve')\n",
    "    plt.xlabel('FPR') \n",
    "    plt.ylabel('TPR') \n",
    "    \n",
    "    random_x = np.linspace(0,1,10)\n",
    "    random_y = np.linspace(0,1,10)\n",
    "    \n",
    "    ideal_x = np.array([0, 0, 1])\n",
    "    ideal_y = np.array([0, 1, 1])\n",
    "    \n",
    "    plt.plot(random_x, random_y, color='b')\n",
    "    plt.plot(ideal_x, ideal_y, color='r')\n",
    "    plt.plot(ROC_curve.FPR, ROC_curve.TPR, color='g')\n",
    "           \n",
    "    blue_patch = mpatches.Patch(color='blue', label='random model')\n",
    "    red_patch = mpatches.Patch(color='red', label='ideal model')\n",
    "    green_patch = mpatches.Patch(color='green', label='our model')\n",
    "    \n",
    "    plt.legend(handles=[red_patch, green_patch, blue_patch]);\n",
    "    print(ROC_curve)"
   ]
  },
  {
   "cell_type": "code",
   "execution_count": 13,
   "metadata": {},
   "outputs": [
    {
     "name": "stdout",
     "output_type": "stream",
     "text": [
      "AUC-ROC: 0.773\n"
     ]
    },
    {
     "data": {
      "image/png": "[encoded data removed]",
      "text/plain": [
       "<Figure size 720x360 with 1 Axes>"
      ]
     },
     "metadata": {
      "needs_background": "light"
     },
     "output_type": "display_data"
    }
   ],
   "source": [
    "ROC_1 = ROC_curve(year_1_migration_matrix)\n",
    "plot_ROC(ROC_1)"
   ]
  },
  {
   "cell_type": "code",
   "execution_count": 14,
   "metadata": {},
   "outputs": [
    {
     "name": "stdout",
     "output_type": "stream",
     "text": [
      "AUC-ROC: 0.789\n"
     ]
    },
    {
     "data": {
      "image/png": "[encoded data removed]",
      "text/plain": [
       "<Figure size 720x360 with 1 Axes>"
      ]
     },
     "metadata": {
      "needs_background": "light"
     },
     "output_type": "display_data"
    }
   ],
   "source": [
    "ROC_2 = ROC_curve(year_2_migration_matrix)\n",
    "plot_ROC(ROC_2)"
   ]
  },
  {
   "cell_type": "code",
   "execution_count": 15,
   "metadata": {},
   "outputs": [
    {
     "name": "stdout",
     "output_type": "stream",
     "text": [
      "AUC-ROC: 0.766\n"
     ]
    },
    {
     "data": {
      "image/png": "[encoded data removed]",
      "text/plain": [
       "<Figure size 720x360 with 1 Axes>"
      ]
     },
     "metadata": {
      "needs_background": "light"
     },
     "output_type": "display_data"
    }
   ],
   "source": [
    "ROC_3 = ROC_curve(year_3_migration_matrix)\n",
    "plot_ROC(ROC_3)"
   ]
  },
  {
   "cell_type": "code",
   "execution_count": 16,
   "metadata": {},
   "outputs": [
    {
     "name": "stdout",
     "output_type": "stream",
     "text": [
      "AUC-ROC: 0.858\n"
     ]
    },
    {
     "data": {
      "image/png": "[encoded data removed]",
      "text/plain": [
       "<Figure size 720x360 with 1 Axes>"
      ]
     },
     "metadata": {
      "needs_background": "light"
     },
     "output_type": "display_data"
    }
   ],
   "source": [
    "ROC_4 = ROC_curve(year_4_migration_matrix)\n",
    "plot_ROC(ROC_4)"
   ]
  },
  {
   "cell_type": "code",
   "execution_count": 17,
   "metadata": {},
   "outputs": [
    {
     "name": "stdout",
     "output_type": "stream",
     "text": [
      "AUC-ROC: 0.891\n"
     ]
    },
    {
     "data": {
      "image/png": "[encoded data removed]",
      "text/plain": [
       "<Figure size 720x360 with 1 Axes>"
      ]
     },
     "metadata": {
      "needs_background": "light"
     },
     "output_type": "display_data"
    }
   ],
   "source": [
    "ROC_5 = ROC_curve(year_5_migration_matrix)\n",
    "plot_ROC(ROC_5)"
   ]
  },
  {
   "cell_type": "markdown",
   "metadata": {},
   "source": [
    "### Комментарии \n",
    "Рейтинговая система в целом показывает хорошую разделяющую способность как на дефолтеров, так и на надежных заемщиков. Площади под CAP и ROC кривой относительно близки к идеальным сценариям, при этом наилучшее качество достигается в последнем году. Рейтинговая система безусловно лучше случайного угадывания о качестве заемщика."
   ]
  },
  {
   "cell_type": "markdown",
   "metadata": {},
   "source": [
    "# 3. Матрицы миграций и матрицы переходных вероятностей"
   ]
  },
  {
   "cell_type": "markdown",
   "metadata": {},
   "source": [
    "## Cohort method"
   ]
  },
  {
   "cell_type": "code",
   "execution_count": 18,
   "metadata": {},
   "outputs": [
    {
     "name": "stderr",
     "output_type": "stream",
     "text": [
      "/Users/andrey_lukyanov/Google_Drive/Studies/Year_4/Риск-менеджмент/Кейс 2/Risk-Management/rm_case_3.py:63: RuntimeWarning: invalid value encountered in true_divide\n",
      "  matrix = (np.matrix(migration_matrix).T / np.array(start_vector)).T\n"
     ]
    }
   ],
   "source": [
    "year_1_probability_matrix = build_transition_probability_matrix(migration_matrix = year_1_migration_matrix, \n",
    "                                                                 start_vector = year_1_starts)\n",
    "\n",
    "year_2_probability_matrix = build_transition_probability_matrix(migration_matrix = year_2_migration_matrix, \n",
    "                                                                 start_vector = year_2_starts)\n",
    "\n",
    "year_3_probability_matrix = build_transition_probability_matrix(migration_matrix = year_3_migration_matrix, \n",
    "                                                                 start_vector = year_3_starts)\n",
    "\n",
    "year_4_probability_matrix = build_transition_probability_matrix(migration_matrix = year_4_migration_matrix, \n",
    "                                                                 start_vector = year_4_starts)\n",
    "\n",
    "year_5_probability_matrix = build_transition_probability_matrix(migration_matrix = year_5_migration_matrix, \n",
    "                                                                 start_vector = year_5_starts)"
   ]
  },
  {
   "cell_type": "code",
   "execution_count": 19,
   "metadata": {},
   "outputs": [],
   "source": [
    "year3_1_starts, year3_1_migration_matrix = build_migration_matrix(start_date = dt.datetime(day = 1, month = 7, year = 2012), \n",
    "                                                                  end_date = dt.datetime(day = 1, month = 7, year = 2015))\n",
    "\n",
    "year3_2_starts, year3_2_migration_matrix = build_migration_matrix(start_date = dt.datetime(day = 1, month = 7, year = 2013), \n",
    "                                                                  end_date = dt.datetime(day = 1, month = 7, year = 2016))\n",
    "\n",
    "year3_3_starts, year3_3_migration_matrix = build_migration_matrix(start_date = dt.datetime(day = 1, month = 7, year = 2014), \n",
    "                                                                  end_date = dt.datetime(day = 1, month = 7, year = 2017))"
   ]
  },
  {
   "cell_type": "code",
   "execution_count": 20,
   "metadata": {},
   "outputs": [],
   "source": [
    "year3_1_probability_matrix = build_transition_probability_matrix(migration_matrix = year3_1_migration_matrix, \n",
    "                                                                 start_vector = year3_1_starts)\n",
    "\n",
    "year3_2_probability_matrix = build_transition_probability_matrix(migration_matrix = year3_2_migration_matrix, \n",
    "                                                                 start_vector = year3_2_starts)\n",
    "\n",
    "year3_3_probability_matrix = build_transition_probability_matrix(migration_matrix = year3_3_migration_matrix, \n",
    "                                                                 start_vector = year3_3_starts)"
   ]
  },
  {
   "cell_type": "code",
   "execution_count": 21,
   "metadata": {},
   "outputs": [
    {
     "data": {
      "text/html": [
       "<div>\n",
       "<style scoped>\n",
       "    .dataframe tbody tr th:only-of-type {\n",
       "        vertical-align: middle;\n",
       "    }\n",
       "\n",
       "    .dataframe tbody tr th {\n",
       "        vertical-align: top;\n",
       "    }\n",
       "\n",
       "    .dataframe thead th {\n",
       "        text-align: right;\n",
       "    }\n",
       "</style>\n",
       "<table border=\"1\" class=\"dataframe\">\n",
       "  <thead>\n",
       "    <tr style=\"text-align: right;\">\n",
       "      <th></th>\n",
       "      <th>E1</th>\n",
       "      <th>E2</th>\n",
       "      <th>E3</th>\n",
       "      <th>E4</th>\n",
       "      <th>E5</th>\n",
       "      <th>E6</th>\n",
       "      <th>E7</th>\n",
       "      <th>E8</th>\n",
       "      <th>D</th>\n",
       "    </tr>\n",
       "  </thead>\n",
       "  <tbody>\n",
       "    <tr>\n",
       "      <th>E1</th>\n",
       "      <td>0.861538</td>\n",
       "      <td>0.076923</td>\n",
       "      <td>0.000000</td>\n",
       "      <td>0.000000</td>\n",
       "      <td>0.000000</td>\n",
       "      <td>0.000000</td>\n",
       "      <td>0.000000</td>\n",
       "      <td>0.000000</td>\n",
       "      <td>0.061538</td>\n",
       "    </tr>\n",
       "    <tr>\n",
       "      <th>E2</th>\n",
       "      <td>0.074468</td>\n",
       "      <td>0.755319</td>\n",
       "      <td>0.085106</td>\n",
       "      <td>0.021277</td>\n",
       "      <td>0.000000</td>\n",
       "      <td>0.000000</td>\n",
       "      <td>0.000000</td>\n",
       "      <td>0.000000</td>\n",
       "      <td>0.063830</td>\n",
       "    </tr>\n",
       "    <tr>\n",
       "      <th>E3</th>\n",
       "      <td>0.032787</td>\n",
       "      <td>0.040984</td>\n",
       "      <td>0.778689</td>\n",
       "      <td>0.081967</td>\n",
       "      <td>0.016393</td>\n",
       "      <td>0.000000</td>\n",
       "      <td>0.000000</td>\n",
       "      <td>0.000000</td>\n",
       "      <td>0.049180</td>\n",
       "    </tr>\n",
       "    <tr>\n",
       "      <th>E4</th>\n",
       "      <td>0.007576</td>\n",
       "      <td>0.075758</td>\n",
       "      <td>0.083333</td>\n",
       "      <td>0.515152</td>\n",
       "      <td>0.045455</td>\n",
       "      <td>0.007576</td>\n",
       "      <td>0.015152</td>\n",
       "      <td>0.022727</td>\n",
       "      <td>0.227273</td>\n",
       "    </tr>\n",
       "    <tr>\n",
       "      <th>E5</th>\n",
       "      <td>0.000000</td>\n",
       "      <td>0.000000</td>\n",
       "      <td>0.054795</td>\n",
       "      <td>0.109589</td>\n",
       "      <td>0.328767</td>\n",
       "      <td>0.150685</td>\n",
       "      <td>0.013699</td>\n",
       "      <td>0.054795</td>\n",
       "      <td>0.287671</td>\n",
       "    </tr>\n",
       "    <tr>\n",
       "      <th>E6</th>\n",
       "      <td>0.000000</td>\n",
       "      <td>0.000000</td>\n",
       "      <td>0.000000</td>\n",
       "      <td>0.052632</td>\n",
       "      <td>0.052632</td>\n",
       "      <td>0.333333</td>\n",
       "      <td>0.140351</td>\n",
       "      <td>0.052632</td>\n",
       "      <td>0.368421</td>\n",
       "    </tr>\n",
       "    <tr>\n",
       "      <th>E7</th>\n",
       "      <td>0.000000</td>\n",
       "      <td>0.000000</td>\n",
       "      <td>0.000000</td>\n",
       "      <td>0.019231</td>\n",
       "      <td>0.000000</td>\n",
       "      <td>0.019231</td>\n",
       "      <td>0.076923</td>\n",
       "      <td>0.096154</td>\n",
       "      <td>0.788462</td>\n",
       "    </tr>\n",
       "    <tr>\n",
       "      <th>E8</th>\n",
       "      <td>0.000000</td>\n",
       "      <td>0.000000</td>\n",
       "      <td>0.000000</td>\n",
       "      <td>0.000000</td>\n",
       "      <td>0.000000</td>\n",
       "      <td>0.097561</td>\n",
       "      <td>0.048780</td>\n",
       "      <td>0.170732</td>\n",
       "      <td>0.682927</td>\n",
       "    </tr>\n",
       "    <tr>\n",
       "      <th>D</th>\n",
       "      <td>0.000000</td>\n",
       "      <td>0.000000</td>\n",
       "      <td>0.000000</td>\n",
       "      <td>0.000000</td>\n",
       "      <td>0.000000</td>\n",
       "      <td>0.000000</td>\n",
       "      <td>0.000000</td>\n",
       "      <td>0.000000</td>\n",
       "      <td>0.000000</td>\n",
       "    </tr>\n",
       "  </tbody>\n",
       "</table>\n",
       "</div>"
      ],
      "text/plain": [
       "          E1        E2        E3        E4        E5        E6        E7  \\\n",
       "E1  0.861538  0.076923  0.000000  0.000000  0.000000  0.000000  0.000000   \n",
       "E2  0.074468  0.755319  0.085106  0.021277  0.000000  0.000000  0.000000   \n",
       "E3  0.032787  0.040984  0.778689  0.081967  0.016393  0.000000  0.000000   \n",
       "E4  0.007576  0.075758  0.083333  0.515152  0.045455  0.007576  0.015152   \n",
       "E5  0.000000  0.000000  0.054795  0.109589  0.328767  0.150685  0.013699   \n",
       "E6  0.000000  0.000000  0.000000  0.052632  0.052632  0.333333  0.140351   \n",
       "E7  0.000000  0.000000  0.000000  0.019231  0.000000  0.019231  0.076923   \n",
       "E8  0.000000  0.000000  0.000000  0.000000  0.000000  0.097561  0.048780   \n",
       "D   0.000000  0.000000  0.000000  0.000000  0.000000  0.000000  0.000000   \n",
       "\n",
       "          E8         D  \n",
       "E1  0.000000  0.061538  \n",
       "E2  0.000000  0.063830  \n",
       "E3  0.000000  0.049180  \n",
       "E4  0.022727  0.227273  \n",
       "E5  0.054795  0.287671  \n",
       "E6  0.052632  0.368421  \n",
       "E7  0.096154  0.788462  \n",
       "E8  0.170732  0.682927  \n",
       "D   0.000000  0.000000  "
      ]
     },
     "execution_count": 21,
     "metadata": {},
     "output_type": "execute_result"
    }
   ],
   "source": [
    "year3_2_probability_matrix"
   ]
  },
  {
   "cell_type": "code",
   "execution_count": 22,
   "metadata": {},
   "outputs": [
    {
     "data": {
      "text/html": [
       "<div>\n",
       "<style scoped>\n",
       "    .dataframe tbody tr th:only-of-type {\n",
       "        vertical-align: middle;\n",
       "    }\n",
       "\n",
       "    .dataframe tbody tr th {\n",
       "        vertical-align: top;\n",
       "    }\n",
       "\n",
       "    .dataframe thead th {\n",
       "        text-align: right;\n",
       "    }\n",
       "</style>\n",
       "<table border=\"1\" class=\"dataframe\">\n",
       "  <thead>\n",
       "    <tr style=\"text-align: right;\">\n",
       "      <th></th>\n",
       "      <th>E1</th>\n",
       "      <th>E2</th>\n",
       "      <th>E3</th>\n",
       "      <th>E4</th>\n",
       "      <th>E5</th>\n",
       "      <th>E6</th>\n",
       "      <th>E7</th>\n",
       "      <th>E8</th>\n",
       "      <th>D</th>\n",
       "    </tr>\n",
       "  </thead>\n",
       "  <tbody>\n",
       "    <tr>\n",
       "      <th>E1</th>\n",
       "      <td>0.847553</td>\n",
       "      <td>0.091189</td>\n",
       "      <td>0.002454</td>\n",
       "      <td>0.000032</td>\n",
       "      <td>0.000019</td>\n",
       "      <td>0.000000</td>\n",
       "      <td>0.000000</td>\n",
       "      <td>0.000000</td>\n",
       "      <td>0.013769</td>\n",
       "    </tr>\n",
       "    <tr>\n",
       "      <th>E2</th>\n",
       "      <td>0.060743</td>\n",
       "      <td>0.764384</td>\n",
       "      <td>0.083182</td>\n",
       "      <td>0.018118</td>\n",
       "      <td>0.002571</td>\n",
       "      <td>0.000128</td>\n",
       "      <td>0.000157</td>\n",
       "      <td>0.000415</td>\n",
       "      <td>0.010297</td>\n",
       "    </tr>\n",
       "    <tr>\n",
       "      <th>E3</th>\n",
       "      <td>0.041460</td>\n",
       "      <td>0.048703</td>\n",
       "      <td>0.750822</td>\n",
       "      <td>0.066283</td>\n",
       "      <td>0.028260</td>\n",
       "      <td>0.001185</td>\n",
       "      <td>0.000367</td>\n",
       "      <td>0.003961</td>\n",
       "      <td>0.013433</td>\n",
       "    </tr>\n",
       "    <tr>\n",
       "      <th>E4</th>\n",
       "      <td>0.015591</td>\n",
       "      <td>0.049857</td>\n",
       "      <td>0.094110</td>\n",
       "      <td>0.548697</td>\n",
       "      <td>0.043641</td>\n",
       "      <td>0.014909</td>\n",
       "      <td>0.010167</td>\n",
       "      <td>0.018359</td>\n",
       "      <td>0.048063</td>\n",
       "    </tr>\n",
       "    <tr>\n",
       "      <th>E5</th>\n",
       "      <td>0.002965</td>\n",
       "      <td>0.013820</td>\n",
       "      <td>0.054491</td>\n",
       "      <td>0.098691</td>\n",
       "      <td>0.339241</td>\n",
       "      <td>0.126189</td>\n",
       "      <td>0.032911</td>\n",
       "      <td>0.069161</td>\n",
       "      <td>0.086449</td>\n",
       "    </tr>\n",
       "    <tr>\n",
       "      <th>E6</th>\n",
       "      <td>0.000121</td>\n",
       "      <td>0.001075</td>\n",
       "      <td>0.001998</td>\n",
       "      <td>0.028876</td>\n",
       "      <td>0.067538</td>\n",
       "      <td>0.355158</td>\n",
       "      <td>0.087434</td>\n",
       "      <td>0.070597</td>\n",
       "      <td>0.071512</td>\n",
       "    </tr>\n",
       "    <tr>\n",
       "      <th>E7</th>\n",
       "      <td>0.000330</td>\n",
       "      <td>0.000909</td>\n",
       "      <td>0.001190</td>\n",
       "      <td>0.016598</td>\n",
       "      <td>0.019790</td>\n",
       "      <td>0.041398</td>\n",
       "      <td>0.133175</td>\n",
       "      <td>0.116944</td>\n",
       "      <td>0.146167</td>\n",
       "    </tr>\n",
       "    <tr>\n",
       "      <th>E8</th>\n",
       "      <td>0.000000</td>\n",
       "      <td>0.000000</td>\n",
       "      <td>0.000000</td>\n",
       "      <td>0.002923</td>\n",
       "      <td>0.004661</td>\n",
       "      <td>0.059240</td>\n",
       "      <td>0.031438</td>\n",
       "      <td>0.118938</td>\n",
       "      <td>0.154348</td>\n",
       "    </tr>\n",
       "    <tr>\n",
       "      <th>D</th>\n",
       "      <td>0.000000</td>\n",
       "      <td>0.000000</td>\n",
       "      <td>0.000000</td>\n",
       "      <td>0.000000</td>\n",
       "      <td>0.000000</td>\n",
       "      <td>0.000000</td>\n",
       "      <td>0.000000</td>\n",
       "      <td>0.000000</td>\n",
       "      <td>0.000000</td>\n",
       "    </tr>\n",
       "  </tbody>\n",
       "</table>\n",
       "</div>"
      ],
      "text/plain": [
       "          E1        E2        E3        E4        E5        E6        E7  \\\n",
       "E1  0.847553  0.091189  0.002454  0.000032  0.000019  0.000000  0.000000   \n",
       "E2  0.060743  0.764384  0.083182  0.018118  0.002571  0.000128  0.000157   \n",
       "E3  0.041460  0.048703  0.750822  0.066283  0.028260  0.001185  0.000367   \n",
       "E4  0.015591  0.049857  0.094110  0.548697  0.043641  0.014909  0.010167   \n",
       "E5  0.002965  0.013820  0.054491  0.098691  0.339241  0.126189  0.032911   \n",
       "E6  0.000121  0.001075  0.001998  0.028876  0.067538  0.355158  0.087434   \n",
       "E7  0.000330  0.000909  0.001190  0.016598  0.019790  0.041398  0.133175   \n",
       "E8  0.000000  0.000000  0.000000  0.002923  0.004661  0.059240  0.031438   \n",
       "D   0.000000  0.000000  0.000000  0.000000  0.000000  0.000000  0.000000   \n",
       "\n",
       "          E8         D  \n",
       "E1  0.000000  0.013769  \n",
       "E2  0.000415  0.010297  \n",
       "E3  0.003961  0.013433  \n",
       "E4  0.018359  0.048063  \n",
       "E5  0.069161  0.086449  \n",
       "E6  0.070597  0.071512  \n",
       "E7  0.116944  0.146167  \n",
       "E8  0.118938  0.154348  \n",
       "D   0.000000  0.000000  "
      ]
     },
     "execution_count": 22,
     "metadata": {},
     "output_type": "execute_result"
    }
   ],
   "source": [
    "year_2_probability_matrix @ year_3_probability_matrix @ year_4_probability_matrix"
   ]
  },
  {
   "cell_type": "code",
   "execution_count": 23,
   "metadata": {},
   "outputs": [
    {
     "data": {
      "text/html": [
       "<div>\n",
       "<style scoped>\n",
       "    .dataframe tbody tr th:only-of-type {\n",
       "        vertical-align: middle;\n",
       "    }\n",
       "\n",
       "    .dataframe tbody tr th {\n",
       "        vertical-align: top;\n",
       "    }\n",
       "\n",
       "    .dataframe thead th {\n",
       "        text-align: right;\n",
       "    }\n",
       "</style>\n",
       "<table border=\"1\" class=\"dataframe\">\n",
       "  <thead>\n",
       "    <tr style=\"text-align: right;\">\n",
       "      <th></th>\n",
       "      <th>E1</th>\n",
       "      <th>E2</th>\n",
       "      <th>E3</th>\n",
       "      <th>E4</th>\n",
       "      <th>E5</th>\n",
       "      <th>E6</th>\n",
       "      <th>E7</th>\n",
       "      <th>E8</th>\n",
       "      <th>D</th>\n",
       "    </tr>\n",
       "  </thead>\n",
       "  <tbody>\n",
       "    <tr>\n",
       "      <th>E1</th>\n",
       "      <td>0.013986</td>\n",
       "      <td>0.014266</td>\n",
       "      <td>0.002454</td>\n",
       "      <td>0.000032</td>\n",
       "      <td>0.000019</td>\n",
       "      <td>0.000000</td>\n",
       "      <td>0.000000</td>\n",
       "      <td>0.000000</td>\n",
       "      <td>0.047770</td>\n",
       "    </tr>\n",
       "    <tr>\n",
       "      <th>E2</th>\n",
       "      <td>0.013725</td>\n",
       "      <td>0.009065</td>\n",
       "      <td>0.001924</td>\n",
       "      <td>0.003159</td>\n",
       "      <td>0.002571</td>\n",
       "      <td>0.000128</td>\n",
       "      <td>0.000157</td>\n",
       "      <td>0.000415</td>\n",
       "      <td>0.053533</td>\n",
       "    </tr>\n",
       "    <tr>\n",
       "      <th>E3</th>\n",
       "      <td>0.008673</td>\n",
       "      <td>0.007719</td>\n",
       "      <td>0.027867</td>\n",
       "      <td>0.015684</td>\n",
       "      <td>0.011866</td>\n",
       "      <td>0.001185</td>\n",
       "      <td>0.000367</td>\n",
       "      <td>0.003961</td>\n",
       "      <td>0.035747</td>\n",
       "    </tr>\n",
       "    <tr>\n",
       "      <th>E4</th>\n",
       "      <td>0.008015</td>\n",
       "      <td>0.025900</td>\n",
       "      <td>0.010777</td>\n",
       "      <td>0.033545</td>\n",
       "      <td>0.001814</td>\n",
       "      <td>0.007333</td>\n",
       "      <td>0.004984</td>\n",
       "      <td>0.004368</td>\n",
       "      <td>0.179210</td>\n",
       "    </tr>\n",
       "    <tr>\n",
       "      <th>E5</th>\n",
       "      <td>0.002965</td>\n",
       "      <td>0.013820</td>\n",
       "      <td>0.000304</td>\n",
       "      <td>0.010898</td>\n",
       "      <td>0.010474</td>\n",
       "      <td>0.024496</td>\n",
       "      <td>0.019213</td>\n",
       "      <td>0.014367</td>\n",
       "      <td>0.201223</td>\n",
       "    </tr>\n",
       "    <tr>\n",
       "      <th>E6</th>\n",
       "      <td>0.000121</td>\n",
       "      <td>0.001075</td>\n",
       "      <td>0.001998</td>\n",
       "      <td>0.023756</td>\n",
       "      <td>0.014906</td>\n",
       "      <td>0.021824</td>\n",
       "      <td>0.052917</td>\n",
       "      <td>0.017965</td>\n",
       "      <td>0.296909</td>\n",
       "    </tr>\n",
       "    <tr>\n",
       "      <th>E7</th>\n",
       "      <td>0.000330</td>\n",
       "      <td>0.000909</td>\n",
       "      <td>0.001190</td>\n",
       "      <td>0.002632</td>\n",
       "      <td>0.019790</td>\n",
       "      <td>0.022167</td>\n",
       "      <td>0.056252</td>\n",
       "      <td>0.020790</td>\n",
       "      <td>0.642294</td>\n",
       "    </tr>\n",
       "    <tr>\n",
       "      <th>E8</th>\n",
       "      <td>0.000000</td>\n",
       "      <td>0.000000</td>\n",
       "      <td>0.000000</td>\n",
       "      <td>0.002923</td>\n",
       "      <td>0.004661</td>\n",
       "      <td>0.038321</td>\n",
       "      <td>0.017343</td>\n",
       "      <td>0.051794</td>\n",
       "      <td>0.528579</td>\n",
       "    </tr>\n",
       "    <tr>\n",
       "      <th>D</th>\n",
       "      <td>0.000000</td>\n",
       "      <td>0.000000</td>\n",
       "      <td>0.000000</td>\n",
       "      <td>0.000000</td>\n",
       "      <td>0.000000</td>\n",
       "      <td>0.000000</td>\n",
       "      <td>0.000000</td>\n",
       "      <td>0.000000</td>\n",
       "      <td>0.000000</td>\n",
       "    </tr>\n",
       "  </tbody>\n",
       "</table>\n",
       "</div>"
      ],
      "text/plain": [
       "          E1        E2        E3        E4        E5        E6        E7  \\\n",
       "E1  0.013986  0.014266  0.002454  0.000032  0.000019  0.000000  0.000000   \n",
       "E2  0.013725  0.009065  0.001924  0.003159  0.002571  0.000128  0.000157   \n",
       "E3  0.008673  0.007719  0.027867  0.015684  0.011866  0.001185  0.000367   \n",
       "E4  0.008015  0.025900  0.010777  0.033545  0.001814  0.007333  0.004984   \n",
       "E5  0.002965  0.013820  0.000304  0.010898  0.010474  0.024496  0.019213   \n",
       "E6  0.000121  0.001075  0.001998  0.023756  0.014906  0.021824  0.052917   \n",
       "E7  0.000330  0.000909  0.001190  0.002632  0.019790  0.022167  0.056252   \n",
       "E8  0.000000  0.000000  0.000000  0.002923  0.004661  0.038321  0.017343   \n",
       "D   0.000000  0.000000  0.000000  0.000000  0.000000  0.000000  0.000000   \n",
       "\n",
       "          E8         D  \n",
       "E1  0.000000  0.047770  \n",
       "E2  0.000415  0.053533  \n",
       "E3  0.003961  0.035747  \n",
       "E4  0.004368  0.179210  \n",
       "E5  0.014367  0.201223  \n",
       "E6  0.017965  0.296909  \n",
       "E7  0.020790  0.642294  \n",
       "E8  0.051794  0.528579  \n",
       "D   0.000000  0.000000  "
      ]
     },
     "execution_count": 23,
     "metadata": {},
     "output_type": "execute_result"
    }
   ],
   "source": [
    "abs(year3_2_probability_matrix - year_2_probability_matrix @ year_3_probability_matrix @ year_4_probability_matrix)"
   ]
  },
  {
   "cell_type": "markdown",
   "metadata": {},
   "source": [
    "Оценки отличаются, потому что построены на разном множестве наблюдений. Оценка, построенная по большему множеству наблюдений, должна быть точнее, поэтому из двух матриц лучше пользоваться той, которая получается перемножением. С другой стороны, у этой матрицы вероятности дефолта существенно ниже, чем у трехлетней матрицы, что настораживает."
   ]
  },
  {
   "cell_type": "markdown",
   "metadata": {},
   "source": [
    "Можно также заметить, что оценки вероятностей переходов, полученные когортным методов, содержат нулевые элементы, что не соответствует реальности."
   ]
  },
  {
   "cell_type": "markdown",
   "metadata": {},
   "source": [
    "## Duration method"
   ]
  },
  {
   "cell_type": "code",
   "execution_count": 24,
   "metadata": {},
   "outputs": [],
   "source": [
    "year_1_duration_migration = build_duration_migration_matrix(start_date = dt.datetime(day = 1, month = 7, year = 2012),\n",
    "                                                            end_date = dt.datetime(day = 1, month = 7, year = 2013))\n",
    "year_2_duration_migration = build_duration_migration_matrix(start_date = dt.datetime(day = 1, month = 7, year = 2013),\n",
    "                                                            end_date = dt.datetime(day = 1, month = 7, year = 2014))\n",
    "year_3_duration_migration = build_duration_migration_matrix(start_date = dt.datetime(day = 1, month = 7, year = 2014),\n",
    "                                                            end_date = dt.datetime(day = 1, month = 7, year = 2015))\n",
    "year_4_duration_migration = build_duration_migration_matrix(start_date = dt.datetime(day = 1, month = 7, year = 2015),\n",
    "                                                            end_date = dt.datetime(day = 1, month = 7, year = 2016))\n",
    "year_5_duration_migration = build_duration_migration_matrix(start_date = dt.datetime(day = 30, month = 6, year = 2016),\n",
    "                                                            end_date = dt.datetime(day = 1, month = 7, year = 2017))\n",
    "\n",
    "year3_1_duration_migration = build_duration_migration_matrix(start_date = dt.datetime(day = 1, month = 7, year = 2012),\n",
    "                                                             end_date = dt.datetime(day = 1, month = 7, year = 2015))\n",
    "year3_2_duration_migration = build_duration_migration_matrix(start_date = dt.datetime(day = 1, month = 7, year = 2013),\n",
    "                                                             end_date = dt.datetime(day = 1, month = 7, year = 2016))\n",
    "year3_3_duration_migration = build_duration_migration_matrix(start_date = dt.datetime(day = 1, month = 7, year = 2014),\n",
    "                                                             end_date = dt.datetime(day = 1, month = 7, year = 2017))"
   ]
  },
  {
   "cell_type": "code",
   "execution_count": 25,
   "metadata": {},
   "outputs": [],
   "source": [
    "year_1_generator = build_generator_matrix(year_1_duration_migration)\n",
    "year_2_generator = build_generator_matrix(year_2_duration_migration)\n",
    "year_3_generator = build_generator_matrix(year_3_duration_migration)\n",
    "year_4_generator = build_generator_matrix(year_4_duration_migration)\n",
    "year_5_generator = build_generator_matrix(year_5_duration_migration)\n",
    "\n",
    "year3_1_generator = build_generator_matrix(year3_1_duration_migration)\n",
    "year3_2_generator = build_generator_matrix(year3_2_duration_migration)\n",
    "year3_3_generator = build_generator_matrix(year3_3_duration_migration)"
   ]
  },
  {
   "cell_type": "code",
   "execution_count": 26,
   "metadata": {},
   "outputs": [],
   "source": [
    "year_1_exponential = build_matrix_exponential(year_1_generator)\n",
    "year_2_exponential = build_matrix_exponential(year_2_generator)\n",
    "year_3_exponential = build_matrix_exponential(year_3_generator)\n",
    "year_4_exponential = build_matrix_exponential(year_4_generator)\n",
    "year_5_exponential = build_matrix_exponential(year_5_generator)\n",
    "\n",
    "year3_1_exponential = build_matrix_exponential(year3_1_generator)\n",
    "year3_2_exponential = build_matrix_exponential(year3_2_generator)\n",
    "year3_3_exponential = build_matrix_exponential(year3_3_generator)"
   ]
  },
  {
   "cell_type": "code",
   "execution_count": 30,
   "metadata": {},
   "outputs": [
    {
     "data": {
      "text/html": [
       "<div>\n",
       "<style scoped>\n",
       "    .dataframe tbody tr th:only-of-type {\n",
       "        vertical-align: middle;\n",
       "    }\n",
       "\n",
       "    .dataframe tbody tr th {\n",
       "        vertical-align: top;\n",
       "    }\n",
       "\n",
       "    .dataframe thead th {\n",
       "        text-align: right;\n",
       "    }\n",
       "</style>\n",
       "<table border=\"1\" class=\"dataframe\">\n",
       "  <thead>\n",
       "    <tr style=\"text-align: right;\">\n",
       "      <th></th>\n",
       "      <th>E1</th>\n",
       "      <th>E2</th>\n",
       "      <th>E3</th>\n",
       "      <th>E4</th>\n",
       "      <th>E5</th>\n",
       "      <th>E6</th>\n",
       "      <th>E7</th>\n",
       "      <th>E8</th>\n",
       "      <th>D</th>\n",
       "    </tr>\n",
       "  </thead>\n",
       "  <tbody>\n",
       "    <tr>\n",
       "      <th>E1</th>\n",
       "      <td>0.854248</td>\n",
       "      <td>0.082978</td>\n",
       "      <td>0.004238</td>\n",
       "      <td>0.000807</td>\n",
       "      <td>0.000088</td>\n",
       "      <td>0.000013</td>\n",
       "      <td>0.000006</td>\n",
       "      <td>0.000012</td>\n",
       "      <td>0.057611</td>\n",
       "    </tr>\n",
       "    <tr>\n",
       "      <th>E2</th>\n",
       "      <td>0.055611</td>\n",
       "      <td>0.772815</td>\n",
       "      <td>0.080046</td>\n",
       "      <td>0.015590</td>\n",
       "      <td>0.002369</td>\n",
       "      <td>0.000415</td>\n",
       "      <td>0.000176</td>\n",
       "      <td>0.000349</td>\n",
       "      <td>0.072630</td>\n",
       "    </tr>\n",
       "    <tr>\n",
       "      <th>E3</th>\n",
       "      <td>0.036639</td>\n",
       "      <td>0.048076</td>\n",
       "      <td>0.753121</td>\n",
       "      <td>0.058729</td>\n",
       "      <td>0.032536</td>\n",
       "      <td>0.004850</td>\n",
       "      <td>0.001966</td>\n",
       "      <td>0.002795</td>\n",
       "      <td>0.061289</td>\n",
       "    </tr>\n",
       "    <tr>\n",
       "      <th>E4</th>\n",
       "      <td>0.015706</td>\n",
       "      <td>0.048864</td>\n",
       "      <td>0.097798</td>\n",
       "      <td>0.556755</td>\n",
       "      <td>0.045326</td>\n",
       "      <td>0.022727</td>\n",
       "      <td>0.009304</td>\n",
       "      <td>0.020869</td>\n",
       "      <td>0.182650</td>\n",
       "    </tr>\n",
       "    <tr>\n",
       "      <th>E5</th>\n",
       "      <td>0.002946</td>\n",
       "      <td>0.021515</td>\n",
       "      <td>0.056449</td>\n",
       "      <td>0.080249</td>\n",
       "      <td>0.360288</td>\n",
       "      <td>0.104580</td>\n",
       "      <td>0.039563</td>\n",
       "      <td>0.048676</td>\n",
       "      <td>0.285733</td>\n",
       "    </tr>\n",
       "    <tr>\n",
       "      <th>E6</th>\n",
       "      <td>0.000366</td>\n",
       "      <td>0.002122</td>\n",
       "      <td>0.005247</td>\n",
       "      <td>0.023738</td>\n",
       "      <td>0.057270</td>\n",
       "      <td>0.358976</td>\n",
       "      <td>0.076090</td>\n",
       "      <td>0.076248</td>\n",
       "      <td>0.399942</td>\n",
       "    </tr>\n",
       "    <tr>\n",
       "      <th>E7</th>\n",
       "      <td>0.000109</td>\n",
       "      <td>0.000989</td>\n",
       "      <td>0.002660</td>\n",
       "      <td>0.005319</td>\n",
       "      <td>0.033898</td>\n",
       "      <td>0.059943</td>\n",
       "      <td>0.120164</td>\n",
       "      <td>0.149564</td>\n",
       "      <td>0.627354</td>\n",
       "    </tr>\n",
       "    <tr>\n",
       "      <th>E8</th>\n",
       "      <td>0.000015</td>\n",
       "      <td>0.000107</td>\n",
       "      <td>0.000274</td>\n",
       "      <td>0.001424</td>\n",
       "      <td>0.004639</td>\n",
       "      <td>0.039546</td>\n",
       "      <td>0.015588</td>\n",
       "      <td>0.131509</td>\n",
       "      <td>0.806897</td>\n",
       "    </tr>\n",
       "    <tr>\n",
       "      <th>D</th>\n",
       "      <td>0.000000</td>\n",
       "      <td>0.000000</td>\n",
       "      <td>0.000000</td>\n",
       "      <td>0.000000</td>\n",
       "      <td>0.000000</td>\n",
       "      <td>0.000000</td>\n",
       "      <td>0.000000</td>\n",
       "      <td>0.000000</td>\n",
       "      <td>0.000000</td>\n",
       "    </tr>\n",
       "  </tbody>\n",
       "</table>\n",
       "</div>"
      ],
      "text/plain": [
       "          E1        E2        E3        E4        E5        E6        E7  \\\n",
       "E1  0.854248  0.082978  0.004238  0.000807  0.000088  0.000013  0.000006   \n",
       "E2  0.055611  0.772815  0.080046  0.015590  0.002369  0.000415  0.000176   \n",
       "E3  0.036639  0.048076  0.753121  0.058729  0.032536  0.004850  0.001966   \n",
       "E4  0.015706  0.048864  0.097798  0.556755  0.045326  0.022727  0.009304   \n",
       "E5  0.002946  0.021515  0.056449  0.080249  0.360288  0.104580  0.039563   \n",
       "E6  0.000366  0.002122  0.005247  0.023738  0.057270  0.358976  0.076090   \n",
       "E7  0.000109  0.000989  0.002660  0.005319  0.033898  0.059943  0.120164   \n",
       "E8  0.000015  0.000107  0.000274  0.001424  0.004639  0.039546  0.015588   \n",
       "D   0.000000  0.000000  0.000000  0.000000  0.000000  0.000000  0.000000   \n",
       "\n",
       "          E8         D  \n",
       "E1  0.000012  0.057611  \n",
       "E2  0.000349  0.072630  \n",
       "E3  0.002795  0.061289  \n",
       "E4  0.020869  0.182650  \n",
       "E5  0.048676  0.285733  \n",
       "E6  0.076248  0.399942  \n",
       "E7  0.149564  0.627354  \n",
       "E8  0.131509  0.806897  \n",
       "D   0.000000  0.000000  "
      ]
     },
     "execution_count": 30,
     "metadata": {},
     "output_type": "execute_result"
    }
   ],
   "source": [
    "year3_2_exponential"
   ]
  },
  {
   "cell_type": "markdown",
   "metadata": {},
   "source": [
    "Подобная оценка выглядит куда приятнее, чем когортным методом."
   ]
  },
  {
   "cell_type": "code",
   "execution_count": 29,
   "metadata": {},
   "outputs": [
    {
     "data": {
      "text/html": [
       "<div>\n",
       "<style scoped>\n",
       "    .dataframe tbody tr th:only-of-type {\n",
       "        vertical-align: middle;\n",
       "    }\n",
       "\n",
       "    .dataframe tbody tr th {\n",
       "        vertical-align: top;\n",
       "    }\n",
       "\n",
       "    .dataframe thead th {\n",
       "        text-align: right;\n",
       "    }\n",
       "</style>\n",
       "<table border=\"1\" class=\"dataframe\">\n",
       "  <thead>\n",
       "    <tr style=\"text-align: right;\">\n",
       "      <th></th>\n",
       "      <th>E1</th>\n",
       "      <th>E2</th>\n",
       "      <th>E3</th>\n",
       "      <th>E4</th>\n",
       "      <th>E5</th>\n",
       "      <th>E6</th>\n",
       "      <th>E7</th>\n",
       "      <th>E8</th>\n",
       "      <th>D</th>\n",
       "    </tr>\n",
       "  </thead>\n",
       "  <tbody>\n",
       "    <tr>\n",
       "      <th>E1</th>\n",
       "      <td>0.006695</td>\n",
       "      <td>0.008212</td>\n",
       "      <td>0.001784</td>\n",
       "      <td>0.000775</td>\n",
       "      <td>0.000069</td>\n",
       "      <td>0.000013</td>\n",
       "      <td>0.000006</td>\n",
       "      <td>0.000012</td>\n",
       "      <td>0.043842</td>\n",
       "    </tr>\n",
       "    <tr>\n",
       "      <th>E2</th>\n",
       "      <td>0.005133</td>\n",
       "      <td>0.008431</td>\n",
       "      <td>0.003136</td>\n",
       "      <td>0.002528</td>\n",
       "      <td>0.000202</td>\n",
       "      <td>0.000286</td>\n",
       "      <td>0.000019</td>\n",
       "      <td>0.000067</td>\n",
       "      <td>0.062333</td>\n",
       "    </tr>\n",
       "    <tr>\n",
       "      <th>E3</th>\n",
       "      <td>0.004821</td>\n",
       "      <td>0.000627</td>\n",
       "      <td>0.002299</td>\n",
       "      <td>0.007554</td>\n",
       "      <td>0.004276</td>\n",
       "      <td>0.003664</td>\n",
       "      <td>0.001599</td>\n",
       "      <td>0.001167</td>\n",
       "      <td>0.047856</td>\n",
       "    </tr>\n",
       "    <tr>\n",
       "      <th>E4</th>\n",
       "      <td>0.000116</td>\n",
       "      <td>0.000993</td>\n",
       "      <td>0.003687</td>\n",
       "      <td>0.008059</td>\n",
       "      <td>0.001686</td>\n",
       "      <td>0.007818</td>\n",
       "      <td>0.000863</td>\n",
       "      <td>0.002510</td>\n",
       "      <td>0.134588</td>\n",
       "    </tr>\n",
       "    <tr>\n",
       "      <th>E5</th>\n",
       "      <td>0.000019</td>\n",
       "      <td>0.007695</td>\n",
       "      <td>0.001958</td>\n",
       "      <td>0.018442</td>\n",
       "      <td>0.021047</td>\n",
       "      <td>0.021609</td>\n",
       "      <td>0.006652</td>\n",
       "      <td>0.020485</td>\n",
       "      <td>0.199285</td>\n",
       "    </tr>\n",
       "    <tr>\n",
       "      <th>E6</th>\n",
       "      <td>0.000245</td>\n",
       "      <td>0.001047</td>\n",
       "      <td>0.003249</td>\n",
       "      <td>0.005137</td>\n",
       "      <td>0.010268</td>\n",
       "      <td>0.003819</td>\n",
       "      <td>0.011343</td>\n",
       "      <td>0.005651</td>\n",
       "      <td>0.328430</td>\n",
       "    </tr>\n",
       "    <tr>\n",
       "      <th>E7</th>\n",
       "      <td>0.000221</td>\n",
       "      <td>0.000080</td>\n",
       "      <td>0.001470</td>\n",
       "      <td>0.011279</td>\n",
       "      <td>0.014107</td>\n",
       "      <td>0.018545</td>\n",
       "      <td>0.013011</td>\n",
       "      <td>0.032619</td>\n",
       "      <td>0.481187</td>\n",
       "    </tr>\n",
       "    <tr>\n",
       "      <th>E8</th>\n",
       "      <td>0.000015</td>\n",
       "      <td>0.000107</td>\n",
       "      <td>0.000274</td>\n",
       "      <td>0.001499</td>\n",
       "      <td>0.000021</td>\n",
       "      <td>0.019694</td>\n",
       "      <td>0.015850</td>\n",
       "      <td>0.012571</td>\n",
       "      <td>0.652549</td>\n",
       "    </tr>\n",
       "    <tr>\n",
       "      <th>D</th>\n",
       "      <td>0.000000</td>\n",
       "      <td>0.000000</td>\n",
       "      <td>0.000000</td>\n",
       "      <td>0.000000</td>\n",
       "      <td>0.000000</td>\n",
       "      <td>0.000000</td>\n",
       "      <td>0.000000</td>\n",
       "      <td>0.000000</td>\n",
       "      <td>0.000000</td>\n",
       "    </tr>\n",
       "  </tbody>\n",
       "</table>\n",
       "</div>"
      ],
      "text/plain": [
       "          E1        E2        E3        E4        E5        E6        E7  \\\n",
       "E1  0.006695  0.008212  0.001784  0.000775  0.000069  0.000013  0.000006   \n",
       "E2  0.005133  0.008431  0.003136  0.002528  0.000202  0.000286  0.000019   \n",
       "E3  0.004821  0.000627  0.002299  0.007554  0.004276  0.003664  0.001599   \n",
       "E4  0.000116  0.000993  0.003687  0.008059  0.001686  0.007818  0.000863   \n",
       "E5  0.000019  0.007695  0.001958  0.018442  0.021047  0.021609  0.006652   \n",
       "E6  0.000245  0.001047  0.003249  0.005137  0.010268  0.003819  0.011343   \n",
       "E7  0.000221  0.000080  0.001470  0.011279  0.014107  0.018545  0.013011   \n",
       "E8  0.000015  0.000107  0.000274  0.001499  0.000021  0.019694  0.015850   \n",
       "D   0.000000  0.000000  0.000000  0.000000  0.000000  0.000000  0.000000   \n",
       "\n",
       "          E8         D  \n",
       "E1  0.000012  0.043842  \n",
       "E2  0.000067  0.062333  \n",
       "E3  0.001167  0.047856  \n",
       "E4  0.002510  0.134588  \n",
       "E5  0.020485  0.199285  \n",
       "E6  0.005651  0.328430  \n",
       "E7  0.032619  0.481187  \n",
       "E8  0.012571  0.652549  \n",
       "D   0.000000  0.000000  "
      ]
     },
     "execution_count": 29,
     "metadata": {},
     "output_type": "execute_result"
    }
   ],
   "source": [
    "abs(year3_2_exponential - year_2_probability_matrix @ year_3_probability_matrix @ year_4_probability_matrix)"
   ]
  },
  {
   "cell_type": "markdown",
   "metadata": {},
   "source": [
    "# Excel Export"
   ]
  },
  {
   "cell_type": "code",
   "execution_count": 39,
   "metadata": {},
   "outputs": [],
   "source": [
    "starts = [year_1_starts, year_2_starts, year_3_starts, year_4_starts, year_5_starts]\n",
    "\n",
    "migrations = [year_1_migration_matrix, year_2_migration_matrix, year_3_migration_matrix, year_4_migration_matrix, year_5_migration_matrix]\n",
    "\n",
    "probabilities = [year_1_probability_matrix, year_2_probability_matrix, year_3_probability_matrix, year_4_probability_matrix, year_5_probability_matrix]\n",
    "\n",
    "i = 0\n",
    "\n",
    "starts_writer = pd.ExcelWriter('Starts_in_categories.xlsx', engine = 'openpyxl')\n",
    "matrix_writer = pd.ExcelWriter('Transition_matricies.xlsx', engine = 'openpyxl')\n",
    "probability_writer = pd.ExcelWriter('Probability_cohort_matricies.xlsx', engine = 'openpyxl')\n",
    "\n",
    "for start, matrix, probability in zip(starts, migrations, probabilities):\n",
    "    i += 1\n",
    "    start.to_excel(starts_writer, sheet_name='Year ' + str(i))\n",
    "    matrix.to_excel(matrix_writer, sheet_name='Year ' + str(i))\n",
    "    probability.to_excel(probability_writer, sheet_name='Year '  + str(i))\n",
    "    \n",
    "starts_writer.save()\n",
    "matrix_writer.save()\n",
    "probability_writer.save()"
   ]
  }
 ],
 "metadata": {
  "kernelspec": {
   "display_name": "Python 3",
   "language": "python",
   "name": "python3"
  },
  "language_info": {
   "codemirror_mode": {
    "name": "ipython",
    "version": 3
   },
   "file_extension": ".py",
   "mimetype": "text/x-python",
   "name": "python",
   "nbconvert_exporter": "python",
   "pygments_lexer": "ipython3",
   "version": "3.6.6"
  }
 },
 "nbformat": 4,
 "nbformat_minor": 2
}
