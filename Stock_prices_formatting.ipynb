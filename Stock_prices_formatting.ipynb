{
 "cells": [
  {
   "cell_type": "code",
   "execution_count": 1,
   "metadata": {},
   "outputs": [],
   "source": [
    "import pandas as pd\n",
    "import numpy as np\n",
    "import matplotlib.pyplot as plt\n",
    "import datetime as dt\n",
    "%matplotlib inline"
   ]
  },
  {
   "cell_type": "code",
   "execution_count": 2,
   "metadata": {},
   "outputs": [],
   "source": [
    "prices = pd.DataFrame()\n",
    "\n",
    "tickers = ['HSBA.UK', 'BARC.UK', 'LLOY.UK', 'RBS.UK', 'BP.UK', 'RIO.UK', 'AAL.UK']\n",
    "\n",
    "df_list = []\n",
    "\n",
    "for ticker in tickers:\n",
    "    df = pd.read_csv(ticker + '.csv')\n",
    "    df.Date = pd.to_datetime(df.Date)\n",
    "    df = df.set_index('Date')\n",
    "    df_list.append(df)"
   ]
  },
  {
   "cell_type": "code",
   "execution_count": 3,
   "metadata": {},
   "outputs": [],
   "source": [
    "RDSA = pd.read_csv('RDSA.UK.csv', sep = ';')\n",
    "\n",
    "RDSA.Close = RDSA.Close.apply(lambda x: x.replace(',','.'))\n",
    "RDSA.Close = RDSA.Close.astype('float64')\n",
    "RDSA.Date = pd.to_datetime(RDSA.Date, format='%d/%m/%Y')\n",
    "\n",
    "RDSA = RDSA.set_index('Date')\n",
    "\n",
    "df_list.append(RDSA)\n",
    "tickers.append('RDSA.UK')"
   ]
  },
  {
   "cell_type": "code",
   "execution_count": 4,
   "metadata": {},
   "outputs": [],
   "source": [
    "prices = pd.concat(df_list, axis=1, join='outer')\n",
    "prices.columns = tickers\n",
    "prices = prices.sort_index()"
   ]
  },
  {
   "cell_type": "code",
   "execution_count": 5,
   "metadata": {},
   "outputs": [
    {
     "data": {
      "text/html": [
       "<div>\n",
       "<style scoped>\n",
       "    .dataframe tbody tr th:only-of-type {\n",
       "        vertical-align: middle;\n",
       "    }\n",
       "\n",
       "    .dataframe tbody tr th {\n",
       "        vertical-align: top;\n",
       "    }\n",
       "\n",
       "    .dataframe thead th {\n",
       "        text-align: right;\n",
       "    }\n",
       "</style>\n",
       "<table border=\"1\" class=\"dataframe\">\n",
       "  <thead>\n",
       "    <tr style=\"text-align: right;\">\n",
       "      <th></th>\n",
       "      <th>HSBA.UK</th>\n",
       "      <th>BARC.UK</th>\n",
       "      <th>LLOY.UK</th>\n",
       "      <th>RBS.UK</th>\n",
       "      <th>BP.UK</th>\n",
       "      <th>RIO.UK</th>\n",
       "      <th>AAL.UK</th>\n",
       "      <th>RDSA.UK</th>\n",
       "    </tr>\n",
       "    <tr>\n",
       "      <th>Date</th>\n",
       "      <th></th>\n",
       "      <th></th>\n",
       "      <th></th>\n",
       "      <th></th>\n",
       "      <th></th>\n",
       "      <th></th>\n",
       "      <th></th>\n",
       "      <th></th>\n",
       "    </tr>\n",
       "  </thead>\n",
       "  <tbody>\n",
       "    <tr>\n",
       "      <th>2009-01-07</th>\n",
       "      <td>427.80</td>\n",
       "      <td>144.11</td>\n",
       "      <td>73.682</td>\n",
       "      <td>486.03</td>\n",
       "      <td>409.64</td>\n",
       "      <td>1148.67</td>\n",
       "      <td>1521.30</td>\n",
       "      <td>18.05</td>\n",
       "    </tr>\n",
       "    <tr>\n",
       "      <th>2009-01-08</th>\n",
       "      <td>425.98</td>\n",
       "      <td>150.20</td>\n",
       "      <td>76.360</td>\n",
       "      <td>501.90</td>\n",
       "      <td>416.09</td>\n",
       "      <td>1096.69</td>\n",
       "      <td>1431.35</td>\n",
       "      <td>18.41</td>\n",
       "    </tr>\n",
       "    <tr>\n",
       "      <th>2009-01-09</th>\n",
       "      <td>418.16</td>\n",
       "      <td>151.91</td>\n",
       "      <td>78.201</td>\n",
       "      <td>526.70</td>\n",
       "      <td>405.93</td>\n",
       "      <td>1033.30</td>\n",
       "      <td>1314.05</td>\n",
       "      <td>17.88</td>\n",
       "    </tr>\n",
       "    <tr>\n",
       "      <th>2009-01-12</th>\n",
       "      <td>424.96</td>\n",
       "      <td>156.68</td>\n",
       "      <td>83.674</td>\n",
       "      <td>545.54</td>\n",
       "      <td>398.11</td>\n",
       "      <td>1018.74</td>\n",
       "      <td>1279.65</td>\n",
       "      <td>17.73</td>\n",
       "    </tr>\n",
       "    <tr>\n",
       "      <th>2009-01-13</th>\n",
       "      <td>425.79</td>\n",
       "      <td>140.79</td>\n",
       "      <td>79.094</td>\n",
       "      <td>506.86</td>\n",
       "      <td>403.18</td>\n",
       "      <td>985.76</td>\n",
       "      <td>1260.24</td>\n",
       "      <td>18.02</td>\n",
       "    </tr>\n",
       "  </tbody>\n",
       "</table>\n",
       "</div>"
      ],
      "text/plain": [
       "            HSBA.UK  BARC.UK  LLOY.UK  RBS.UK   BP.UK   RIO.UK   AAL.UK  \\\n",
       "Date                                                                      \n",
       "2009-01-07   427.80   144.11   73.682  486.03  409.64  1148.67  1521.30   \n",
       "2009-01-08   425.98   150.20   76.360  501.90  416.09  1096.69  1431.35   \n",
       "2009-01-09   418.16   151.91   78.201  526.70  405.93  1033.30  1314.05   \n",
       "2009-01-12   424.96   156.68   83.674  545.54  398.11  1018.74  1279.65   \n",
       "2009-01-13   425.79   140.79   79.094  506.86  403.18   985.76  1260.24   \n",
       "\n",
       "            RDSA.UK  \n",
       "Date                 \n",
       "2009-01-07    18.05  \n",
       "2009-01-08    18.41  \n",
       "2009-01-09    17.88  \n",
       "2009-01-12    17.73  \n",
       "2009-01-13    18.02  "
      ]
     },
     "execution_count": 5,
     "metadata": {},
     "output_type": "execute_result"
    }
   ],
   "source": [
    "prices.head()"
   ]
  },
  {
   "cell_type": "code",
   "execution_count": 6,
   "metadata": {},
   "outputs": [
    {
     "data": {
      "text/plain": [
       "DatetimeIndex(['2009-01-07', '2009-01-08', '2009-01-09', '2009-01-12',\n",
       "               '2009-01-13', '2009-01-14', '2009-01-15', '2009-01-16',\n",
       "               '2009-01-19', '2009-01-20',\n",
       "               ...\n",
       "               '2011-12-21', '2011-12-22', '2011-12-23', '2011-12-28',\n",
       "               '2011-12-29', '2011-12-30', '2012-01-03', '2012-01-04',\n",
       "               '2012-01-05', '2012-01-06'],\n",
       "              dtype='datetime64[ns]', name='Date', length=758, freq=None)"
      ]
     },
     "execution_count": 6,
     "metadata": {},
     "output_type": "execute_result"
    }
   ],
   "source": [
    "prices.index"
   ]
  },
  {
   "cell_type": "code",
   "execution_count": 7,
   "metadata": {},
   "outputs": [
    {
     "data": {
      "text/plain": [
       "HSBA.UK    float64\n",
       "BARC.UK    float64\n",
       "LLOY.UK    float64\n",
       "RBS.UK     float64\n",
       "BP.UK      float64\n",
       "RIO.UK     float64\n",
       "AAL.UK     float64\n",
       "RDSA.UK    float64\n",
       "dtype: object"
      ]
     },
     "execution_count": 7,
     "metadata": {},
     "output_type": "execute_result"
    }
   ],
   "source": [
    "prices.dtypes"
   ]
  },
  {
   "cell_type": "markdown",
   "metadata": {},
   "source": [
    "Датафрейм собран, все в нужном формате. Идем дальше."
   ]
  },
  {
   "cell_type": "markdown",
   "metadata": {},
   "source": [
    "## Пропуски"
   ]
  },
  {
   "cell_type": "code",
   "execution_count": 8,
   "metadata": {},
   "outputs": [
    {
     "data": {
      "text/plain": [
       "HSBA.UK    8\n",
       "BARC.UK    1\n",
       "LLOY.UK    1\n",
       "RBS.UK     0\n",
       "BP.UK      9\n",
       "RIO.UK     5\n",
       "AAL.UK     0\n",
       "RDSA.UK    0\n",
       "dtype: int64"
      ]
     },
     "execution_count": 8,
     "metadata": {},
     "output_type": "execute_result"
    }
   ],
   "source": [
    "prices.isna().sum()"
   ]
  },
  {
   "cell_type": "markdown",
   "metadata": {},
   "source": [
    "Заменим пропуски интерполяцией."
   ]
  },
  {
   "cell_type": "code",
   "execution_count": 9,
   "metadata": {},
   "outputs": [],
   "source": [
    "prices = prices.interpolate(method = 'time', axis = 0)"
   ]
  },
  {
   "cell_type": "code",
   "execution_count": 10,
   "metadata": {},
   "outputs": [
    {
     "data": {
      "text/plain": [
       "HSBA.UK    0\n",
       "BARC.UK    0\n",
       "LLOY.UK    0\n",
       "RBS.UK     0\n",
       "BP.UK      0\n",
       "RIO.UK     0\n",
       "AAL.UK     0\n",
       "RDSA.UK    0\n",
       "dtype: int64"
      ]
     },
     "execution_count": 10,
     "metadata": {},
     "output_type": "execute_result"
    }
   ],
   "source": [
    "prices.isna().sum()"
   ]
  },
  {
   "cell_type": "markdown",
   "metadata": {},
   "source": [
    "## Получим доходности"
   ]
  },
  {
   "cell_type": "code",
   "execution_count": 11,
   "metadata": {},
   "outputs": [],
   "source": [
    "prices = prices.pct_change()"
   ]
  },
  {
   "cell_type": "code",
   "execution_count": 12,
   "metadata": {},
   "outputs": [
    {
     "data": {
      "text/html": [
       "<div>\n",
       "<style scoped>\n",
       "    .dataframe tbody tr th:only-of-type {\n",
       "        vertical-align: middle;\n",
       "    }\n",
       "\n",
       "    .dataframe tbody tr th {\n",
       "        vertical-align: top;\n",
       "    }\n",
       "\n",
       "    .dataframe thead th {\n",
       "        text-align: right;\n",
       "    }\n",
       "</style>\n",
       "<table border=\"1\" class=\"dataframe\">\n",
       "  <thead>\n",
       "    <tr style=\"text-align: right;\">\n",
       "      <th></th>\n",
       "      <th>HSBA.UK</th>\n",
       "      <th>BARC.UK</th>\n",
       "      <th>LLOY.UK</th>\n",
       "      <th>RBS.UK</th>\n",
       "      <th>BP.UK</th>\n",
       "      <th>RIO.UK</th>\n",
       "      <th>AAL.UK</th>\n",
       "      <th>RDSA.UK</th>\n",
       "    </tr>\n",
       "    <tr>\n",
       "      <th>Date</th>\n",
       "      <th></th>\n",
       "      <th></th>\n",
       "      <th></th>\n",
       "      <th></th>\n",
       "      <th></th>\n",
       "      <th></th>\n",
       "      <th></th>\n",
       "      <th></th>\n",
       "    </tr>\n",
       "  </thead>\n",
       "  <tbody>\n",
       "    <tr>\n",
       "      <th>2009-01-07</th>\n",
       "      <td>NaN</td>\n",
       "      <td>NaN</td>\n",
       "      <td>NaN</td>\n",
       "      <td>NaN</td>\n",
       "      <td>NaN</td>\n",
       "      <td>NaN</td>\n",
       "      <td>NaN</td>\n",
       "      <td>NaN</td>\n",
       "    </tr>\n",
       "    <tr>\n",
       "      <th>2009-01-08</th>\n",
       "      <td>-0.004254</td>\n",
       "      <td>0.042259</td>\n",
       "      <td>0.036345</td>\n",
       "      <td>0.032652</td>\n",
       "      <td>0.015746</td>\n",
       "      <td>-0.045252</td>\n",
       "      <td>-0.059127</td>\n",
       "      <td>0.019945</td>\n",
       "    </tr>\n",
       "    <tr>\n",
       "      <th>2009-01-09</th>\n",
       "      <td>-0.018358</td>\n",
       "      <td>0.011385</td>\n",
       "      <td>0.024109</td>\n",
       "      <td>0.049412</td>\n",
       "      <td>-0.024418</td>\n",
       "      <td>-0.057801</td>\n",
       "      <td>-0.081951</td>\n",
       "      <td>-0.028789</td>\n",
       "    </tr>\n",
       "    <tr>\n",
       "      <th>2009-01-12</th>\n",
       "      <td>0.016262</td>\n",
       "      <td>0.031400</td>\n",
       "      <td>0.069986</td>\n",
       "      <td>0.035770</td>\n",
       "      <td>-0.019264</td>\n",
       "      <td>-0.014091</td>\n",
       "      <td>-0.026179</td>\n",
       "      <td>-0.008389</td>\n",
       "    </tr>\n",
       "    <tr>\n",
       "      <th>2009-01-13</th>\n",
       "      <td>0.001953</td>\n",
       "      <td>-0.101417</td>\n",
       "      <td>-0.054736</td>\n",
       "      <td>-0.070902</td>\n",
       "      <td>0.012735</td>\n",
       "      <td>-0.032373</td>\n",
       "      <td>-0.015168</td>\n",
       "      <td>0.016356</td>\n",
       "    </tr>\n",
       "  </tbody>\n",
       "</table>\n",
       "</div>"
      ],
      "text/plain": [
       "             HSBA.UK   BARC.UK   LLOY.UK    RBS.UK     BP.UK    RIO.UK  \\\n",
       "Date                                                                     \n",
       "2009-01-07       NaN       NaN       NaN       NaN       NaN       NaN   \n",
       "2009-01-08 -0.004254  0.042259  0.036345  0.032652  0.015746 -0.045252   \n",
       "2009-01-09 -0.018358  0.011385  0.024109  0.049412 -0.024418 -0.057801   \n",
       "2009-01-12  0.016262  0.031400  0.069986  0.035770 -0.019264 -0.014091   \n",
       "2009-01-13  0.001953 -0.101417 -0.054736 -0.070902  0.012735 -0.032373   \n",
       "\n",
       "              AAL.UK   RDSA.UK  \n",
       "Date                            \n",
       "2009-01-07       NaN       NaN  \n",
       "2009-01-08 -0.059127  0.019945  \n",
       "2009-01-09 -0.081951 -0.028789  \n",
       "2009-01-12 -0.026179 -0.008389  \n",
       "2009-01-13 -0.015168  0.016356  "
      ]
     },
     "execution_count": 12,
     "metadata": {},
     "output_type": "execute_result"
    }
   ],
   "source": [
    "prices.head()"
   ]
  },
  {
   "cell_type": "code",
   "execution_count": 13,
   "metadata": {},
   "outputs": [],
   "source": [
    "prices = prices[1:]"
   ]
  },
  {
   "cell_type": "code",
   "execution_count": 14,
   "metadata": {},
   "outputs": [
    {
     "data": {
      "text/html": [
       "<div>\n",
       "<style scoped>\n",
       "    .dataframe tbody tr th:only-of-type {\n",
       "        vertical-align: middle;\n",
       "    }\n",
       "\n",
       "    .dataframe tbody tr th {\n",
       "        vertical-align: top;\n",
       "    }\n",
       "\n",
       "    .dataframe thead th {\n",
       "        text-align: right;\n",
       "    }\n",
       "</style>\n",
       "<table border=\"1\" class=\"dataframe\">\n",
       "  <thead>\n",
       "    <tr style=\"text-align: right;\">\n",
       "      <th></th>\n",
       "      <th>HSBA.UK</th>\n",
       "      <th>BARC.UK</th>\n",
       "      <th>LLOY.UK</th>\n",
       "      <th>RBS.UK</th>\n",
       "      <th>BP.UK</th>\n",
       "      <th>RIO.UK</th>\n",
       "      <th>AAL.UK</th>\n",
       "      <th>RDSA.UK</th>\n",
       "    </tr>\n",
       "    <tr>\n",
       "      <th>Date</th>\n",
       "      <th></th>\n",
       "      <th></th>\n",
       "      <th></th>\n",
       "      <th></th>\n",
       "      <th></th>\n",
       "      <th></th>\n",
       "      <th></th>\n",
       "      <th></th>\n",
       "    </tr>\n",
       "  </thead>\n",
       "  <tbody>\n",
       "    <tr>\n",
       "      <th>2009-01-08</th>\n",
       "      <td>-0.004254</td>\n",
       "      <td>0.042259</td>\n",
       "      <td>0.036345</td>\n",
       "      <td>0.032652</td>\n",
       "      <td>0.015746</td>\n",
       "      <td>-0.045252</td>\n",
       "      <td>-0.059127</td>\n",
       "      <td>0.019945</td>\n",
       "    </tr>\n",
       "    <tr>\n",
       "      <th>2009-01-09</th>\n",
       "      <td>-0.018358</td>\n",
       "      <td>0.011385</td>\n",
       "      <td>0.024109</td>\n",
       "      <td>0.049412</td>\n",
       "      <td>-0.024418</td>\n",
       "      <td>-0.057801</td>\n",
       "      <td>-0.081951</td>\n",
       "      <td>-0.028789</td>\n",
       "    </tr>\n",
       "    <tr>\n",
       "      <th>2009-01-12</th>\n",
       "      <td>0.016262</td>\n",
       "      <td>0.031400</td>\n",
       "      <td>0.069986</td>\n",
       "      <td>0.035770</td>\n",
       "      <td>-0.019264</td>\n",
       "      <td>-0.014091</td>\n",
       "      <td>-0.026179</td>\n",
       "      <td>-0.008389</td>\n",
       "    </tr>\n",
       "    <tr>\n",
       "      <th>2009-01-13</th>\n",
       "      <td>0.001953</td>\n",
       "      <td>-0.101417</td>\n",
       "      <td>-0.054736</td>\n",
       "      <td>-0.070902</td>\n",
       "      <td>0.012735</td>\n",
       "      <td>-0.032373</td>\n",
       "      <td>-0.015168</td>\n",
       "      <td>0.016356</td>\n",
       "    </tr>\n",
       "    <tr>\n",
       "      <th>2009-01-14</th>\n",
       "      <td>-0.080039</td>\n",
       "      <td>-0.143405</td>\n",
       "      <td>-0.118770</td>\n",
       "      <td>-0.183956</td>\n",
       "      <td>-0.051887</td>\n",
       "      <td>-0.112553</td>\n",
       "      <td>-0.095164</td>\n",
       "      <td>-0.051054</td>\n",
       "    </tr>\n",
       "  </tbody>\n",
       "</table>\n",
       "</div>"
      ],
      "text/plain": [
       "             HSBA.UK   BARC.UK   LLOY.UK    RBS.UK     BP.UK    RIO.UK  \\\n",
       "Date                                                                     \n",
       "2009-01-08 -0.004254  0.042259  0.036345  0.032652  0.015746 -0.045252   \n",
       "2009-01-09 -0.018358  0.011385  0.024109  0.049412 -0.024418 -0.057801   \n",
       "2009-01-12  0.016262  0.031400  0.069986  0.035770 -0.019264 -0.014091   \n",
       "2009-01-13  0.001953 -0.101417 -0.054736 -0.070902  0.012735 -0.032373   \n",
       "2009-01-14 -0.080039 -0.143405 -0.118770 -0.183956 -0.051887 -0.112553   \n",
       "\n",
       "              AAL.UK   RDSA.UK  \n",
       "Date                            \n",
       "2009-01-08 -0.059127  0.019945  \n",
       "2009-01-09 -0.081951 -0.028789  \n",
       "2009-01-12 -0.026179 -0.008389  \n",
       "2009-01-13 -0.015168  0.016356  \n",
       "2009-01-14 -0.095164 -0.051054  "
      ]
     },
     "execution_count": 14,
     "metadata": {},
     "output_type": "execute_result"
    }
   ],
   "source": [
    "prices.head()"
   ]
  },
  {
   "cell_type": "markdown",
   "metadata": {},
   "source": [
    "Поставим колонки по секторам. Сначала - банковский, затем - нефтегаз, в конце - металлургия."
   ]
  },
  {
   "cell_type": "code",
   "execution_count": 17,
   "metadata": {},
   "outputs": [
    {
     "data": {
      "text/html": [
       "<div>\n",
       "<style scoped>\n",
       "    .dataframe tbody tr th:only-of-type {\n",
       "        vertical-align: middle;\n",
       "    }\n",
       "\n",
       "    .dataframe tbody tr th {\n",
       "        vertical-align: top;\n",
       "    }\n",
       "\n",
       "    .dataframe thead th {\n",
       "        text-align: right;\n",
       "    }\n",
       "</style>\n",
       "<table border=\"1\" class=\"dataframe\">\n",
       "  <thead>\n",
       "    <tr style=\"text-align: right;\">\n",
       "      <th></th>\n",
       "      <th>HSBA.UK</th>\n",
       "      <th>BARC.UK</th>\n",
       "      <th>LLOY.UK</th>\n",
       "      <th>RBS.UK</th>\n",
       "      <th>BP.UK</th>\n",
       "      <th>RDSA.UK</th>\n",
       "      <th>RIO.UK</th>\n",
       "      <th>AAL.UK</th>\n",
       "    </tr>\n",
       "    <tr>\n",
       "      <th>Date</th>\n",
       "      <th></th>\n",
       "      <th></th>\n",
       "      <th></th>\n",
       "      <th></th>\n",
       "      <th></th>\n",
       "      <th></th>\n",
       "      <th></th>\n",
       "      <th></th>\n",
       "    </tr>\n",
       "  </thead>\n",
       "  <tbody>\n",
       "    <tr>\n",
       "      <th>2009-01-08</th>\n",
       "      <td>-0.004254</td>\n",
       "      <td>0.042259</td>\n",
       "      <td>0.036345</td>\n",
       "      <td>0.032652</td>\n",
       "      <td>0.015746</td>\n",
       "      <td>0.019945</td>\n",
       "      <td>-0.045252</td>\n",
       "      <td>-0.059127</td>\n",
       "    </tr>\n",
       "    <tr>\n",
       "      <th>2009-01-09</th>\n",
       "      <td>-0.018358</td>\n",
       "      <td>0.011385</td>\n",
       "      <td>0.024109</td>\n",
       "      <td>0.049412</td>\n",
       "      <td>-0.024418</td>\n",
       "      <td>-0.028789</td>\n",
       "      <td>-0.057801</td>\n",
       "      <td>-0.081951</td>\n",
       "    </tr>\n",
       "    <tr>\n",
       "      <th>2009-01-12</th>\n",
       "      <td>0.016262</td>\n",
       "      <td>0.031400</td>\n",
       "      <td>0.069986</td>\n",
       "      <td>0.035770</td>\n",
       "      <td>-0.019264</td>\n",
       "      <td>-0.008389</td>\n",
       "      <td>-0.014091</td>\n",
       "      <td>-0.026179</td>\n",
       "    </tr>\n",
       "    <tr>\n",
       "      <th>2009-01-13</th>\n",
       "      <td>0.001953</td>\n",
       "      <td>-0.101417</td>\n",
       "      <td>-0.054736</td>\n",
       "      <td>-0.070902</td>\n",
       "      <td>0.012735</td>\n",
       "      <td>0.016356</td>\n",
       "      <td>-0.032373</td>\n",
       "      <td>-0.015168</td>\n",
       "    </tr>\n",
       "    <tr>\n",
       "      <th>2009-01-14</th>\n",
       "      <td>-0.080039</td>\n",
       "      <td>-0.143405</td>\n",
       "      <td>-0.118770</td>\n",
       "      <td>-0.183956</td>\n",
       "      <td>-0.051887</td>\n",
       "      <td>-0.051054</td>\n",
       "      <td>-0.112553</td>\n",
       "      <td>-0.095164</td>\n",
       "    </tr>\n",
       "  </tbody>\n",
       "</table>\n",
       "</div>"
      ],
      "text/plain": [
       "             HSBA.UK   BARC.UK   LLOY.UK    RBS.UK     BP.UK   RDSA.UK  \\\n",
       "Date                                                                     \n",
       "2009-01-08 -0.004254  0.042259  0.036345  0.032652  0.015746  0.019945   \n",
       "2009-01-09 -0.018358  0.011385  0.024109  0.049412 -0.024418 -0.028789   \n",
       "2009-01-12  0.016262  0.031400  0.069986  0.035770 -0.019264 -0.008389   \n",
       "2009-01-13  0.001953 -0.101417 -0.054736 -0.070902  0.012735  0.016356   \n",
       "2009-01-14 -0.080039 -0.143405 -0.118770 -0.183956 -0.051887 -0.051054   \n",
       "\n",
       "              RIO.UK    AAL.UK  \n",
       "Date                            \n",
       "2009-01-08 -0.045252 -0.059127  \n",
       "2009-01-09 -0.057801 -0.081951  \n",
       "2009-01-12 -0.014091 -0.026179  \n",
       "2009-01-13 -0.032373 -0.015168  \n",
       "2009-01-14 -0.112553 -0.095164  "
      ]
     },
     "execution_count": 17,
     "metadata": {},
     "output_type": "execute_result"
    }
   ],
   "source": [
    "new_order = ['HSBA.UK', 'BARC.UK', 'LLOY.UK', 'RBS.UK', 'BP.UK', 'RDSA.UK', 'RIO.UK', 'AAL.UK']\n",
    "\n",
    "prices = prices[new_order]\n",
    "prices.head()"
   ]
  },
  {
   "cell_type": "code",
   "execution_count": 18,
   "metadata": {},
   "outputs": [],
   "source": [
    "prices.to_csv('stock_prices.csv')"
   ]
  }
 ],
 "metadata": {
  "kernelspec": {
   "display_name": "Python 3",
   "language": "python",
   "name": "python3"
  },
  "language_info": {
   "codemirror_mode": {
    "name": "ipython",
    "version": 3
   },
   "file_extension": ".py",
   "mimetype": "text/x-python",
   "name": "python",
   "nbconvert_exporter": "python",
   "pygments_lexer": "ipython3",
   "version": "3.6.5"
  }
 },
 "nbformat": 4,
 "nbformat_minor": 2
}
